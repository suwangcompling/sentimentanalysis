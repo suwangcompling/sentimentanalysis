{
 "cells": [
  {
   "cell_type": "markdown",
   "metadata": {},
   "source": [
    "# GENSIM WORD2VEC EXPERIMENT"
   ]
  },
  {
   "cell_type": "markdown",
   "metadata": {},
   "source": [
    "## TRAINING DATA: BROWN CORPUS\n",
    "**NB: FOR PREPARATION, DO NOT RUN THIS SECTION FIRST**"
   ]
  },
  {
   "cell_type": "code",
   "execution_count": 59,
   "metadata": {
    "collapsed": true
   },
   "outputs": [],
   "source": [
    "from nltk.corpus import brown, stopwords\n",
    "from nltk.stem.porter import PorterStemmer"
   ]
  },
  {
   "cell_type": "code",
   "execution_count": 60,
   "metadata": {
    "collapsed": false
   },
   "outputs": [
    {
     "name": "stdout",
     "output_type": "stream",
     "text": [
      "CPU times: user 11.9 s, sys: 187 ms, total: 12.1 s\n",
      "Wall time: 12.2 s\n"
     ]
    }
   ],
   "source": [
    "%%time\n",
    "words, sents = list(brown.words()), list(brown.sents())"
   ]
  },
  {
   "cell_type": "code",
   "execution_count": 62,
   "metadata": {
    "collapsed": false
   },
   "outputs": [],
   "source": [
    "stop = stopwords.words('english')"
   ]
  },
  {
   "cell_type": "code",
   "execution_count": 63,
   "metadata": {
    "collapsed": true
   },
   "outputs": [],
   "source": [
    "def brown_clean(sents):\n",
    "    sents = [[str(word.lower()) for word in sent] for sent in sents] # unicode->string, lowercasing.\n",
    "    sents = [[word for word in sent if word not in stop] for sent in sents] # removing stopwords.\n",
    "    sents = [[PorterStemmer().stem(word) for word in sent] for sent in sents] # lemmatizing.\n",
    "    return sents\n",
    "def brown_vocab_build(words):\n",
    "    return list(set([PorterStemmer().stem(str(word.lower())) for word in words if str(word.lower()) not in stop]))"
   ]
  },
  {
   "cell_type": "code",
   "execution_count": 65,
   "metadata": {
    "collapsed": false
   },
   "outputs": [
    {
     "name": "stdout",
     "output_type": "stream",
     "text": [
      "CPU times: user 23 s, sys: 204 ms, total: 23.2 s\n",
      "Wall time: 23.2 s\n"
     ]
    }
   ],
   "source": [
    "%%time\n",
    "words = brown_vocab_build(words)\n",
    "words = [str(word) for word in words] # somehow unicode->string needs to be performed again."
   ]
  },
  {
   "cell_type": "code",
   "execution_count": 66,
   "metadata": {
    "collapsed": false
   },
   "outputs": [
    {
     "name": "stdout",
     "output_type": "stream",
     "text": [
      "CPU times: user 22.3 s, sys: 197 ms, total: 22.5 s\n",
      "Wall time: 22.5 s\n"
     ]
    }
   ],
   "source": [
    "%%time\n",
    "sents = brown_clean(sents)"
   ]
  },
  {
   "cell_type": "code",
   "execution_count": 67,
   "metadata": {
    "collapsed": false
   },
   "outputs": [
    {
     "name": "stdout",
     "output_type": "stream",
     "text": [
      "[u'fulton', u'counti', u'grand', u'juri', u'said', u'friday', u'investig', u\"atlanta'\", u'recent', u'primari', u'elect', u'produc', u'``', u'evid', u\"''\", u'irregular', u'took', u'place', u'.']\n",
      "fawn\n"
     ]
    }
   ],
   "source": [
    "print sents[0]\n",
    "print words[0]"
   ]
  },
  {
   "cell_type": "code",
   "execution_count": 74,
   "metadata": {
    "collapsed": false
   },
   "outputs": [],
   "source": []
  },
  {
   "cell_type": "markdown",
   "metadata": {},
   "source": [
    "## GENSIM WORD2VEC MODEL"
   ]
  },
  {
   "cell_type": "code",
   "execution_count": 206,
   "metadata": {
    "collapsed": true
   },
   "outputs": [],
   "source": [
    "from gensim.models import Word2Vec\n",
    "    # Word2Vec params:\n",
    "    #  - size: dimensionality of feature vectors.\n",
    "    #  - window: the maximum distance between the current and predicted word within a sentence.\n",
    "    #  - alpha: initial learning rate.\n",
    "    #  - seed: seed for random number generator.\n",
    "    #  - min_count: ignore all words with total frequency lower than this.\n",
    "    #  - max_vocab_size: limit RAM during vocab building.\n",
    "    #  - sample: threshold for configuring which higher-frequency words are randomly downsampled\n",
    "    #      default=1e-3, useful range is (0, 1e-5).\n",
    "    #  - workers: use this many worker threads to train the model (i.e. faster with multicore machines)\n",
    "    #  - iter: number of iterations over corpus.\n",
    "    #  ... for the rest see https://radimrehurek.com/gensim/models/word2vec.html."
   ]
  },
  {
   "cell_type": "code",
   "execution_count": 283,
   "metadata": {
    "collapsed": true
   },
   "outputs": [],
   "source": [
    "import nltk\n",
    "import numpy as np\n",
    "import pandas as pd\n",
    "import matplotlib.pyplot as plt\n",
    "from functools import partial\n",
    "from keras.utils.np_utils import to_categorical\n",
    "%matplotlib inline"
   ]
  },
  {
   "cell_type": "code",
   "execution_count": 284,
   "metadata": {
    "collapsed": true
   },
   "outputs": [],
   "source": [
    "import os\n",
    "os.chdir('/Users/jacobsw/Desktop/IMPLEMENTATION_CAMP/CODE/OJO/SPAM_INTEREST_TASKS/DATA')"
   ]
  },
  {
   "cell_type": "code",
   "execution_count": 324,
   "metadata": {
    "collapsed": false
   },
   "outputs": [
    {
     "data": {
      "text/html": [
       "<div>\n",
       "<table border=\"1\" class=\"dataframe\">\n",
       "  <thead>\n",
       "    <tr style=\"text-align: right;\">\n",
       "      <th></th>\n",
       "      <th>0</th>\n",
       "      <th>1</th>\n",
       "    </tr>\n",
       "  </thead>\n",
       "  <tbody>\n",
       "    <tr>\n",
       "      <th>0</th>\n",
       "      <td>She has indeed contacted me I have n't contact...</td>\n",
       "      <td>1</td>\n",
       "    </tr>\n",
       "    <tr>\n",
       "      <th>1</th>\n",
       "      <td>The round of interviews went very well . Still...</td>\n",
       "      <td>2</td>\n",
       "    </tr>\n",
       "    <tr>\n",
       "      <th>2</th>\n",
       "      <td>It looks like my first reply might not have go...</td>\n",
       "      <td>2</td>\n",
       "    </tr>\n",
       "    <tr>\n",
       "      <th>3</th>\n",
       "      <td>We will be in Austin May NUMBER for the next r...</td>\n",
       "      <td>2</td>\n",
       "    </tr>\n",
       "    <tr>\n",
       "      <th>4</th>\n",
       "      <td>- MLS # NUMBER is by far my top choice because...</td>\n",
       "      <td>2</td>\n",
       "    </tr>\n",
       "  </tbody>\n",
       "</table>\n",
       "</div>"
      ],
      "text/plain": [
       "                                                   0  1\n",
       "0  She has indeed contacted me I have n't contact...  1\n",
       "1  The round of interviews went very well . Still...  2\n",
       "2  It looks like my first reply might not have go...  2\n",
       "3  We will be in Austin May NUMBER for the next r...  2\n",
       "4  - MLS # NUMBER is by far my top choice because...  2"
      ]
     },
     "execution_count": 324,
     "metadata": {},
     "output_type": "execute_result"
    }
   ],
   "source": [
    "joshdata = pd.read_excel('sentiment_josh.xlsx')\n",
    "joshdata.head()"
   ]
  },
  {
   "cell_type": "code",
   "execution_count": 325,
   "metadata": {
    "collapsed": true
   },
   "outputs": [],
   "source": [
    "cristinadata = pd.read_excel('sentiment_cristina.xlsx')\n",
    "jacobdata = pd.read_excel('sentiment_jacob.xlsx')"
   ]
  },
  {
   "cell_type": "code",
   "execution_count": 342,
   "metadata": {
    "collapsed": false
   },
   "outputs": [
    {
     "data": {
      "text/plain": [
       "array([[1, 2, 3],\n",
       "       [4, 5, 6],\n",
       "       [1, 1, 1],\n",
       "       [1, 1, 1],\n",
       "       [0, 0, 0],\n",
       "       [0, 0, 0]])"
      ]
     },
     "execution_count": 342,
     "metadata": {},
     "output_type": "execute_result"
    }
   ],
   "source": [
    "t1 = np.array([1,2,3,4,5,6]).reshape(2,3)\n",
    "t2 = np.array([1,1,1,1,1,1]).reshape(2,3)\n",
    "t3 = np.array([0,0,0,0,0,0]).reshape(2,3)\n",
    "np.concatenate((t1,t2,t3))"
   ]
  },
  {
   "cell_type": "code",
   "execution_count": 331,
   "metadata": {
    "collapsed": false
   },
   "outputs": [
    {
     "data": {
      "text/plain": [
       "array([ u\"She has indeed contacted me I have n't contacted her back because I 'm waiting to hear more about my husband 's job opportunity . He will be flying to Austin the day after Easter to continue the interviews and after that we should know more . If you could tell her that I will gladly contact her after that set of interviews that would be great\",\n",
       "       u'The round of interviews went very well . Still processing everything . I will let you know when we will be in town for the next round ... .',\n",
       "       u\"It looks like my first reply might not have gone through so if this is a repeat ... ..oops . The interview went very well and we 've decided to continue in the process . We should know more in the next week or so . The ball is in their court not so we 'll just have to wait and see . In the meantime , if there are more homes that meet our criteria , feel free to send them my way . Also , could you add 'pool ' to the search criteria . It 's not a must but we 've grown quite used to one living here in Vegas : ) PERSON On Tue , Apr NUMBER at NUMBER PM , wrote :\",\n",
       "       u\"We will be in Austin May NUMBER for the next round of interviews . I 'm not sure how much of my time will be required for these interviews so I may have a lot of time to look at real estate or very little time . I will keep you posted as the time approaches . PERSON On PERSON , Apr NUMBER at NUMBER AM , PERSON Hopler wrote :\",\n",
       "       u'- MLS # NUMBER is by far my top choice because of the kitchen ! MLS # NUMBER is another top choice due to the fantastic backyard . We love to entertain and each of these houses would allow that : ) On Tue , Apr NUMBER at NUMBER PM , wrote :',\n",
       "       u'Hey PERSON The HR director called us in total shock on Tuesday - they are not offering me the job . It actually had nothing to do with us , rather they realized that they got ahead of themselves and were not ready to offer a job - so they are pulling the position all together . We really like you and will keep you in our prayers . If we find another position in Austin you will be our agent ! ! ! ! thanks PERSON On Wed , May NUMBER at NUMBER AM , PERSON Pavanelli wrote :',\n",
       "       u'Hey PERSON i have unsubscribed at least NUMBER times - since we are not blesses to go to Austin , could you please remove us ? thanks PERSON On Thu , Jun NUMBER at NUMBER PM , PERSON Pavanelli wrote :',\n",
       "       u\"I 'll give you a call On Nov NUMBER AM , `` PERSON Harris '' wrote :\",\n",
       "       u\"Mr Harris please give me a call this is tarrant . On Jan NUMBER PM , `` PERSON Harris '' wrote :\",\n",
       "       u\"An inquiry has been made for property MLS # NUMBER . Inquiry Type : Property Showing View Listing Details : URL/ The following information was collected from the user : Mkeyword : homes for sales +austin +tx Mcity : Austin Msource : PPC Viewed Listings : NUMBER Name : R J Phone : NUMBER Email : EMAIL ( Verified ) Subscribed To Campaigns : No Comments : I 'd like to request a showing of NUMBER Zeller Ln , Austin , TX , NUMBER ( MLS # NUMBER ) . Thank you ! Status : Pending Forms : IDX Registration Subscribed To Searches : Yes Referer : Google PPC Last Email : Sent on December 11th , NUMBER at NUMBER:02pm . Number Of Emails : NUMBER Number Of Visits : NUMBER Number Of Pages : NUMBER Number Of Listings : NUMBER Join Date : December 11th , NUMBER at NUMBER:01pm Last Active : December 11th , NUMBER at NUMBER:03pm Lead Summary : URL\",\n",
       "       u\"Hi PERSON , I have n't had time ; I will try to look at it sometime this week . thanks , PERSON On Tuesday , December NUMBER PM , PERSON Stapleton wrote : Were you able to open up this search and take a look ? Please see link below . PERSON Stapleton NUMBER\",\n",
       "       u\"Hi PERSON , I am going through a difficult situation right now and will need to hold off on looking for now . PERSON On Monday , January NUMBER AM , PERSON Stapleton wrote : Hi PERSON , I am hoping to connect with you again soon regarding an update on your home search . I have taken time to set you up a search based on our conversation of exactly what you are looking for . I have noticed that you have not been saving homes or commenting on the homes that I sent you . I have worked with many satisfied clients that have found that we have the most efficient and effective business model in the industry . Our web site is one of the most current . By saving homes and rating them with comments , we have been able to find our clients their dream home in a very short amount of time . This leads to less time , less stress , no surprises , and savings ! I hope to do the same for you ! ! If you could take just a moment and update me on your status , I can better understand how to address your needs . I appreciate the opportunity to earn your business , and just like my other clients , Im sure you will find that I am very attentive to your wishes and desires ! I 'm here to help : ) PERSON Stapleton NUMBER\",\n",
       "       u\"Hey Gang , This is all about Agenda21 and Codex Alimentarius . Via the FDA pretending to protect the health of US citizens , they Are hell bent on killing as many people worldwide as they can . Here is Codex Alimentarius web site , URL/ . Do PERSON't be duped into believing they are interested in World Food Safety . Just the Opposite . The Global Elite want you dead . ( Rothschild , Rockefeller , Bush , DuPont , Bilderberg , CRF , Trilateral Commission , and others ) The obvious question , Why ? Because they believe NUMBER to NUMBER percent of the global population is useless eaters and using up Earth 's resources needlessly . They want you and me dead . GMO is just another tool to accomplish that goal . URL & v=rAL_AMdMXqY # ! Try Start PERSON instead of Google it will not record your IP or where you are surfing\",\n",
       "       u\"Hey Gang , A few days ago , I emailed out a piece concerning Dr . PERSON Sherman , Polio , and Cancer . This piece is primarily from a bunch of electronic engineers I tag along with via a group email . It was a departure from the normal subject matter and fits nicely as well as time appropriately with the Dr . PERSON article . There are three pieces I would like to present for you to consider . The first is a simple cure from PERSON Gray within the engineers group . The second is a submitted piece that adds to the discussion by revealing the money interests of the Rockefeller , and Carnegie Foundations , financial grants to the Medical Schools , with the condition they cooperate with them . Rockefeller and Carnegie also requested they insert some of their people into the Medical Schools , Board of Directors . This opened the door to the Pharmaceuticals and thus was born the drug industry via the American Medical Association , AMA . It is becoming obvious to me at least that the biggest lie concerning cancer is the genetic link . I am well aware that there is testing to determine if a person has the cancer gene , which supposedly predisposes an individual to cancer . What the heck does that mean ! ! ! From a government statistics point of view , you can take statistics and twist them into telling whatever narrative you want . So what is this cancer gene story , how is it determined , and how is it different from tortured statistics . The third piece is a short pdf file about Dr . PERSON Heinrich Warburg , that supports the first two . My hope is that you will find some value in this . If you do then please share it . If not , then feel free to beat the crap out of me for daring to speak out against the medical establishment . I am not a doctor or nor do I have any medical training . That does not mean I am medically ignorant . I do not regard doctors as living gods whose word can not be questioned . Just the opposite . My thoughts to the medical community are , Sit Down ! You sold out years ago when you bought into the French chemist , PERSON Pasteur 's Germ Theory as the cause of disease , and discarded Antoinne Bechamp 's discovery that micro organisms are part of the basic structure of cells . It is through this cell structure , and a fermentation process , that results in the formation of germs . Furthermore , Bechamp argues that , `` Germs cleanse the human system and free it from accumulations of pathogenic and mucoid matter . '' So without further adieu : Cancer Cure URL & feature=youtu.be Cancer Cure details featuring the `` One Disease '' , toxemia of the blood stream ; and one of its many symptoms , cancer . I could write for hours on this topic but the idea of this video is to show how to cure cancer in the briefest possible manner . As for the `` One disease '' , well there is only one degenerative disease and this is called `` Toxemia of The Bloodstream '' . This one disease has about NUMBER symptoms . The NUMBER medically catalogued diseases are only symptoms , which are easily removed by curing the one disease . Cancer , AIDS , Heart disease , Asthma , Diabetes , Lupus , Arthritis , Osteoporosis etc . , are only symptoms . Apart from genetic causes and prescription drugs , all cases of degenerative disease , sickness and disease , are self inflicted -- -yes -- -well how is that possible you might ask -- -what is it that I do that makes me sick you might ask -- -what is it that we all do that causes disease ? To put it very bluntly -- -it 's the food that we eat -- -yes , the food that we eat , that 's what makes us sick -- -that 's what causes us to suffer disease . Well , what 's wrong with the food then ? Well ! To begin with , it 's unnatural -- -it 's dead -- -it 's cooked , devitalized , denatured , and the worst part about it all , is , it is acid forming in the body . As long as we continue to eat these types of harmful acid forming foods , which change the chemistry of our bloodstream , from alkaline to acid , we will continue to suffer sickness and disease . Now for us to be in good health our blood must always be alkaline , with a Ph reading between NUMBER and NUMBER , and any deviation either above or below this range means disease . So , what is the reading ? Our blood must always be alkaline and the Ph reading must be between NUMBER and NUMBER -- -- if it 's above that -- -or below that -- -the body is ill at ease -- -it is diseased . Eating raw fruit and raw vegetables will keep us in perfect health with the correct Ph levels in our body and bloodstream . Cancer can not live in a healthy body Cancer : The Hidden Truth & Suppressed Cures - S.A.I.N URL This short educational film explores the hidden truths of the history , politics and science behind the cancer industry . For over NUMBER years , doctors , nurses , scientists , academics , researchers , film makers , authors and members of the general public alike have provided or exposed the cures for many forms of cancer , some were labeled `` quacks '' even in the face of strong evidence , whilst the `` mainstream '' medical establishment failed to find any non surgical or nontoxic therapy over the same period . Some of these pioneers went to prison ... . not for providing false cures ... . but for not having a license or some other `` trading '' violation . In almost every case , no proper and unbiased government study was ever completed on these therapies . This presentation is only a snapshot of the vast amount of information available on this subject , and provides you with a starting point for you to do further research of your own . You will find links to all the source material that helped make this presentation possible in the final credits . We have provided this information free of any charge , please make copies and pass around the people you care about if you find the information helpful . This film makes no medical claims and its purpose is purely informative . The authors do not promote any particular cure nor do they suggest that patients should eventually abandon their on going therapies in favor of any other . S.A.I.N -- Promoting Freedom and Free Thinking around the World Dr . PERSON Heinrich Warburg , NUMBER Nobel Prize Winner - The Root Cause of Cancer URL -prize winner the root cause of cancer Dr . PERSON Warburg discovered the root cause of cancer in NUMBER and he received the Nobel Prize for doing so in NUMBER . Dr. Warburg was director of the Kaiser Wilhelm Institute ( now Max Planck Institute ) for cell physiology at Berlin . He investigated the metabolism of tumors and the respiration of cells , particularly cancer cells . Below are some direct quotes by Dr. Warburg during medical lectures where he was the keynote speaker : '' Cancerous tissues are acidic , whereas healthy tissues are alkaline . Water splits into H+ and OH ions , if there is an excess of H+ , it is acidic ; if there is an excess of OH ions , then it is alkaline . '' You have a Choice , You have a Free Will , Start walking away from War , Debt , and MSM !\",\n",
       "       u'Thank you PERSON On NUMBER AM , PERSON Hoffman wrote :',\n",
       "       u\"Thank you PERSON For now I have found a realtor . If things PERSON't work out I will surely be in touch with you..thank you again PERSON\",\n",
       "       u'We are still renting . Have not sold house in Ca as yet and have not found anything in Lakeway that meets our needs either . Dr PERSON Atnip On Mon , Nov NUMBER at NUMBER PM , PERSON Ledbetter wrote :',\n",
       "       u'Ok On Mon , Nov NUMBER at NUMBER PM , PERSON Ledbetter wrote :',\n",
       "       u\"An email from Zoosk , The Romantic Social Network Hi PERSON Atnip sent you an invite on Zoosk . View Invite This message was sent by a Zoosk user who entered your email address . If you 'd prefer not to receive emails when other people send you emails through Zoosk , click here You have received this message at the email address : EMAIL Copyright NUMBER Zoosk , NUMBER Market St , San Francisco , CA NUMBER USA . Privacy Policy\",\n",
       "       u\"An email from Zoosk , The Romantic Social Network Hi PERSON Atnip sent you an invite on Zoosk . View Invite This message was sent by a Zoosk user who entered your email address . If you 'd prefer not to receive emails when other people send you emails through Zoosk , click here You have received this message at the email address : EMAIL Copyright NUMBER Zoosk , NUMBER Market St , San Francisco , CA NUMBER USA . Privacy Policy\",\n",
       "       u\"LinkedIn -- -- -- -- -- -- PERSON , I 'd like to add you to my professional network on LinkedIn . - PERSON Atnip -- United States Confirm that you know PERSON Atnip : URL -- You are receiving Invitation to Connect emails . Click to unsubscribe : URL ( c ) NUMBER LinkedIn Corporation . NUMBER Stierlin Ct , Mountain View , CA NUMBER , USA .\",\n",
       "       u'Thank you for the email but what came up was blank . On Fri , Nov NUMBER at NUMBER PM , PERSON Ledbetter wrote :',\n",
       "       u\"Google On Nov NUMBER AM , `` PERSON Ledbetter '' wrote :\",\n",
       "       u\"PERSON , Would you please call PERSON Palmquist and schedule a time to look at his house at NUMBER Orchard Drive . He has amended his schedules and is not claiming the house as exempt so it is available to sell . He still owes in excess of $ NUMBER K. His phone # 's are NUMBER . You might give him a day or two for his lawyer to contact him and let him know you will be calling . You 'll have to buy me lunch after the holidays with all that money you are making . Thanks , PERSON A. Weisbart The Law Offices of PERSON A. Weisbart NUMBER Coit Road , Suite NUMBER Dallas , Texas NUMBER ( NUMBER ) NUMBER phone ( NUMBER ) NUMBER fax EMAIL\",\n",
       "       u\"I was under the weather and did n't call but if you have any more problems let me know . Thx . PERSON A. Weisbart The Law Offices of PERSON A. Weisbart NUMBER Coit Road , Suite NUMBER Dallas , Texas NUMBER ( NUMBER ) NUMBER phone ( NUMBER ) NUMBER fax EMAIL\",\n",
       "       u\"PERSON , Thanks for taking the time to look at this . Sorry also that it was n't a keeper . I 'll catch up with you later . Thanks , PERSON A. Weisbart The Law Offices of PERSON A. Weisbart NUMBER Coit Road , Suite NUMBER Dallas , Texas NUMBER ( NUMBER ) NUMBER phone ( NUMBER ) NUMBER fax EMAIL\",\n",
       "       u\"I did get a laugh and was going to make some joke about foreclosing on raccoons but realized I could n't pull it off . Have a great weekend ! PERSON A. Weisbart The Law Offices of PERSON A. Weisbart NUMBER Coit Road , Suite NUMBER Dallas , Texas NUMBER ( NUMBER ) NUMBER phone ( NUMBER ) NUMBER fax EMAIL\",\n",
       "       u'Here is another one : NUMBER Liberty Court , Flower Mound Debtor values at $ NUMBER , showing $ NUMBER in debt , taxes current Would probably need to get north of $ NUMBER to make this worthwhile , assuming NUMBER % closing costs . PERSON A. Weisbart The Law Offices of PERSON A. Weisbart NUMBER Coit Road , Suite NUMBER Dallas , Texas NUMBER ( NUMBER ) NUMBER phone ( NUMBER ) NUMBER fax EMAIL',\n",
       "       u'PERSON Here is his phone # NUMBER . Please call to schedule a time . Thx . PERSON A. Weisbart The Law Offices of PERSON A. Weisbart NUMBER Coit Road , Suite NUMBER Dallas , Texas NUMBER ( NUMBER ) NUMBER phone ( NUMBER ) NUMBER fax EMAIL',\n",
       "       u\"PERSON Here is what they sent . I filed objection to exemption today . Think we 'll go ahead and employ you to sell the house . .keep the pressure on . PERSON or PERSON , please put that together . Thx . PERSON A. Weisbart The Law Offices of PERSON A. Weisbart NUMBER Coit Road , Suite NUMBER Dallas , Texas NUMBER ( NUMBER ) NUMBER phone ( NUMBER ) NUMBER fax EMAIL\",\n",
       "       u'Here is his explanation of value PERSON A. Weisbart The Law Offices of PERSON A. Weisbart NUMBER Coit Road , Suite NUMBER Dallas , Texas NUMBER ( NUMBER ) NUMBER phone ( NUMBER ) NUMBER fax EMAIL',\n",
       "       u\"It wo n't matter on the listing agreement . Send it at your convenience PERSON A. Weisbart The Law Offices of PERSON A. Weisbart NUMBER Coit Road , Suite NUMBER Dallas , Texas NUMBER ( NUMBER ) NUMBER phone ( NUMBER ) NUMBER fax EMAIL\",\n",
       "       u\"Actually we will need the listing agreement because it is attached to the application . We can delete it from the application and sign it later . If we do that , probably should disclose the length of the listing . I would say NUMBER months . I PERSON't care whether or not it is attached , just let me know if you have a preference . PERSON A. Weisbart The Law Offices of PERSON A. Weisbart NUMBER Coit Road , Suite NUMBER Dallas , Texas NUMBER ( NUMBER ) NUMBER phone ( NUMBER ) NUMBER fax EMAIL\",\n",
       "       u'PERSON , Save this to file and send to PERSON Zimmerman . PERSON , I will call you later in the week to discuss . PERSON A. Weisbart The Law Offices of PERSON A. Weisbart NUMBER Coit Road , Suite NUMBER Dallas , Texas NUMBER ( NUMBER ) NUMBER phone ( NUMBER ) NUMBER fax EMAIL',\n",
       "       u'We will fight it . They are stalling for time..have not even responded yet to my objection to exemption PERSON A. Weisbart The Law Offices of PERSON A. Weisbart NUMBER Coit Road , Suite NUMBER Dallas , Texas NUMBER ( NUMBER ) NUMBER phone ( NUMBER ) NUMBER fax EMAIL',\n",
       "       u'PERSON See below.fyi , hearing is NUMBER at NUMBER . Please put it on your calendar . PERSON A. Weisbart The Law Offices of PERSON A. Weisbart NUMBER Coit Road , Suite NUMBER Dallas , Texas NUMBER ( NUMBER ) NUMBER phone ( NUMBER ) NUMBER fax EMAIL',\n",
       "       u\"Give me a call when you are back in town Monday . Here is his lawyer 's response . PERSON A. Weisbart The Law Offices of PERSON A. Weisbart NUMBER Coit Road , Suite NUMBER Dallas , Texas NUMBER ( NUMBER ) NUMBER phone ( NUMBER ) NUMBER fax EMAIL\",\n",
       "       u\"Thank you PERSON , I 'm definitely interested in looking at these properties , especially the first NUMBER . After looking at the property I initially called about , I PERSON't think I 'd be interested in it ( was n't crazy about the surrounding property ) . You had mentioned freeing up after NUMBER today ? Let me know if you will be available . Thanks ! PERSON On Wed , Jul NUMBER at NUMBER PM , wrote :\",\n",
       "       u'That would be great . Meet at the Pedernales address at NUMBER ?',\n",
       "       u\"Hi PERSON , thanks for checking in . I 've decided to stay put for now . I 'm just not seeing anything that makes it worth giving up where I 'm currently at . I appreciate all your time and help , thank you . If you come across something in the meantime and want to pass it along from time to time , that would be great . But at this time , I 'm not super motivated to sell . Thanks again ! PERSON\",\n",
       "       u\"Thanks so much PERSON ! We 'll start checking these out immediately . On Apr NUMBER PM , wrote :\",\n",
       "       u'Funds procured . Filling out apps now .',\n",
       "       u\"Great ! Thanks On Apr NUMBER PM , `` PERSON Winterbottom '' wrote :\",\n",
       "       u\"Ok On Apr NUMBER PM , `` PERSON Winterbottom '' wrote :\",\n",
       "       u'Here is the lease to review . Let me know of any changes . Thanks PERSON Kessler , Broker , ABR , GRI Austin Homes Realtors Austin , TX NUMBER Office : NUMBER.HOME ( NUMBER ) Mobile : 51003S.ALES ( NUMBER ) Fax : NUMBER Former Naval Petty Officer on the USS Wisconsin BB NUMBER Email : EMAIL Oh , by the way ... ..If you know of someone who would appreciate the great level of service I provide you , please feel free to pass along their name and contact information and I will promptly follow up with them .',\n",
       "       u\"Hi PERSON , We 'd like to see these changes . If the Landlord agrees to each of the changes , I 'd be happy to make the modifications to the lease document . *Lease Sections Needing Attention : * *Parties : * This Agreement is entered into between _Norman Comparini and Karisa PERSON Preslera _ ( hereinafter referred to as `` Tenant '' ) and\",\n",
       "       u'Lease attached , thanks again for all your help ! PERSON',\n",
       "       u'Hi , I should be sending out payments over the next week or so . Thanks PERSON On Wed , May NUMBER at NUMBER PM , wrote :',\n",
       "       u'Also , Can you send me an updated invoice . The lease is $ NUMBER not $ NUMBER . Thanks PERSON On Mon , Jun NUMBER at NUMBER AM , Call PERSON at NUMBER wrote :',\n",
       "       u'Hi PERSON , I finally got the check from my client and I wanted to get your invoice',\n",
       "       u\"Hi PERSON . It 's not so bad . We love our neighbors in unit B , so we 're going to stay NUMBER more year . I would love to start working on our credit issues though and hopefully start getting lined up for a purchase the following year . Did you say you had a person who was good at helping to fix credit ? How are you , PERSON and the whole family doing ? Hope your year is going great . Warmly , Karisa On Apr NUMBER PM , wrote :\",\n",
       "       u'Send it to ms.PERSON', u'URL', u'URL this one is better',\n",
       "       u\"hahaha ! this is my friend PERSON 's house . it 's super funky and weird and although I love her , I hate this house . too funny . Love always wins .\",\n",
       "       u\"Briggs is homeschooled so it 's always exciting around here ! thank you for touching base . I have to have surgery tomorrow morning that is putting us about NUMBER behind because I had to dip into the `` home fund '' . you are still on my radar and I am in preparation for buying this house in god 's time . it will be very clear to me when that time is . so good to hear from you . lovelovelove . Love always wins .\",\n",
       "       u\"I 'm recovering . thank you for the kind words ! ? ? ? ? ? ? Love always wins .\",\n",
       "       u\"hi ! hope this email finds you well . say , can you please find out what the deal with the septic drain field is on this property ? we are interested in putting an above ground pool in , and it may be a deal breaker if we ca n't . also , if i 'm not supposed to be asking you , and you know who would know this ( the property company does n't because i 've asked ) can you please point me in that direction ? thanks PERSON ! PERSON Herrington NUMBER\",\n",
       "       u'got it . but how do I know where my drain field is ? Love always wins .',\n",
       "       u\"not really . the whole backyard is shaded . it 's not a grass situation - more like ground cover du jour Love always wins .\",\n",
       "       u'I wonder if we could get the original land plot from the county/city ? is that a public record ? Love always wins .',\n",
       "       u'ok lem me work on it Love always wins .',\n",
       "       u'hmmm ... I guess I can find this somewhere , then ? Love always wins . Begin forwarded message :',\n",
       "       u\"well if it 's any indicator , we 've lives here for almost NUMBER years and the owner has NEVER come by the house . my thoughts are it should be a slam dunk when we go to the table to ask for concessions because there is so much that has been neglected . Love always wins .\",\n",
       "       u\"i havent even had time to deal with that . it 's probably just a phone call but i am swamped with school and work and mom ness at the moment . i will when i can - who the f knows when that will be - lol PERSON Herrington NUMBER On Tuesday , September NUMBER PM , EMAIL '' wrote : Hey , lady ! Wanted to check to see if you were able to find the info you needed about the septic system . Did you determine whether you 're going to be able to put up the pool ?\",\n",
       "       u\"if we ca n't even put in an above ground pool we may have to pass . it 's just too hot here now . Love always wins .\",\n",
       "       u\"This is the mail system at host smtp.homecity.com . I 'm sorry to have to inform you that your message could not be delivered to one or more recipients . It 's attached below . For further assistance , please send mail to If you do so , please include this problem report . You can delete your own text from the attached returned message . The mail system ( expanded from -- - EMAIL -- - ) : Host or domain name not found . Name service error for name=hotmail com.homecity.com type=A : Host not found\",\n",
       "       u\"This is the mail system at host smtp.homecity.com . I 'm sorry to have to inform you that your message could not be delivered to one or more recipients . It 's attached below . For further assistance , please send mail to If you do so , please include this problem report . You can delete your own text from the attached returned message . The mail system ( expanded from -- - EMAIL -- - ) : Host or domain name not found . Name service error for name=hotmail com.homecity.com type=A : Host not found\",\n",
       "       u'Sounds great . Thank you PERSON',\n",
       "       u\"Thanks . We 'll look at them PERSON\", u'Ok , thank you . PERSON',\n",
       "       u\"Great . Thank you . I 'll send them to PERSON as well . PERSON\",\n",
       "       u\"I 'm looking at a couple properties . Which one are you talking about ?\",\n",
       "       u\"No I 'm just looking right now\", u'Ok', u'Thank you',\n",
       "       u'Probably be better this weekend since I am on a business trip right now',\n",
       "       u'Hi , we purchased a home but thank you !',\n",
       "       u'Sadly the criteria is under NUMBER . On Friday , March NUMBER , PERSON Fuertes wrote :',\n",
       "       u\"Hello PERSON , As a reminder , to make your experience with In House Realty more efficientthere a few things that we ask from you : Proactive Updates : It is incredibly important that you provide us timely and detailed updates of your clients progress , so that so that we can stay on top of poignant matters on our end . Some of the times when updates are most important are : Your first contact with a new client When your client moves between sending listings only and actively viewing homes When a client is making an offer When a client has an offer that is accepted Lender Feedback : As a trusted partner , you will be able to help your clients with their Quicken Loans mortgage by providing feedback that will help ensure a smooth transaction . Should you have any questions or concerns regarding the update policy , please do not hesitate to contact us . Thank you for your cooperation and commitment to IHR , The Network Management Team In House Realty NUMBER Griswold St Detroit , PERSON NUMBER Toll Free : NUMBER You are receiving this email because you are part of In House Realty 's agent network . This message is intended only for the use of the individual or entity to which it is addressed . This message may contain legally privileged and/or confidential information . Any unauthorized use , disclosure , reproduction , or distribution is prohibited . If you are not the intended recipient , please notify us by telephone or e mail and delete/destroy the original and any copies . Equal Housing Opportunity . We do business in accordance with the Federal Fair Housing Law . License # : NUMBER Copyright NUMBER In House Realty LLC , NUMBER Griswold St , Detroit , PERSON NUMBER . All Rights Reserved . NUMBER\",\n",
       "       u\"Hello PERSON , As part of your involvement in the In House Realty network your agency has assigned you a client , Valerie PERSON . Please make sure to review the `` Welcome to the In House Realty Network '' email as it includes instructions to set up your client Central account . You will then need to login to view Valerie 's details and contact information . CLICK HERE TO LOGIN TO CLIENT CENTRAL As a reminder , to ensure an amazing experience for Valerie , we need you to contact the client on the same day or no later than NUMBER hours . If you have any questions regarding the referral , please contact me via email or my direct line as soon as possible . Sincerely , PERSON Glovac Agent Coordinator IN HOUSE REALTY Direct : ( NUMBER ) NUMBER Cell : ( NUMBER ) NUMBER Office : ( NUMBER ) NUMBER , ext.NUMBER Fax : NUMBER EMAIL *The Preferred Real Estate Partner of Quicken Loans ! You are receiving this email because you are part of In House Realty 's agent network . This message is intended only for the use of the individual or entity to which it is addressed . This message may contain legally privileged and/or confidential information . Any unauthorized use , disclosure , reproduction , or distribution is prohibited . If you are not the intended recipient , please notify us by telephone or e mail and delete/destroy the original and any copies . Equal Housing Opportunity . We do business in accordance with the Federal Fair Housing Law . License # : NUMBER Copyright NUMBER In House Realty LLC , NUMBER Griswold St , Detroit , PERSON NUMBER . All Rights Reserved . NUMBER\",\n",
       "       u\"Is this property still available ? It does n't show up on your website ? Kathie On Oct NUMBER , at NUMBER PM , `` PERSON Hoffman '' wrote :\",\n",
       "       u'Thanks , but we have a realtor now .',\n",
       "       u'Not exactly what I am looking for will get with you when I get back . Need some type of country setting for him to be comfortable',\n",
       "       u'The top and bottom one are the same I went by it yesterday To trailer park and ugly neighbors .',\n",
       "       u'I will try to swing by the two liberty hill places this afternoon Thank you',\n",
       "       u'HI PERSON , We were originally planning on visiting Austin this January but am not sure that we will be able to . I will let you know if we decide to do so . Thanks for reaching out . PERSON On Fri , Jan NUMBER at NUMBER PM , PERSON wrote :',\n",
       "       u'unsubscribe please On Tue , Dec NUMBER at NUMBER AM , PERSON Thompson wrote :',\n",
       "       u'unsubscribe please On Fri , Jan NUMBER at NUMBER AM , PERSON Thompson wrote :',\n",
       "       u'Hello PERSON Its Nice talking to you . * We are looking Front car garage . * North/east facing . * Good school district . * Near to Freeway NUMBER , Dallasnorthtollway . * NUMBER bed NUMBER baths * price range below NUMBER . * Preferably frisco . * Recently built NUMBER latest or new home construction . Thanks Aruna & Vijay .',\n",
       "       u'Hi PERSON , Its PERSON I think we met her yesterday . She mailed us yesterday itself . I spoke with her . Thanks Aruna & Vijay .',\n",
       "       u'$ NUMBER Yarmouth Lane , Frisco , TX It is showing near main st n legasy but chool are hackberry ... y is it soo..',\n",
       "       u'Hello PERSON , Thanks for contacting us , Vijay wants to speak with lender . Once we have lender letter ready we will contact you . I am looking in to all available homes and schools near by ratings too . Thanks Aruna',\n",
       "       u\"Hello PERSON , Thanks for your latest updates , We visited home , from outside as we want to make sure about facing n some vaasthu . It does n't suit , We are n't interested in that property . Thanks Aruna & Vijay .\",\n",
       "       u'Thanks so much for the informaation in your inventory and facts . PERSON',\n",
       "       u'WOW ! ! what a drop . wish we were ready . PERSON Thanks again ! !',\n",
       "       u'Thank you so much for your attention to our needs . But , we will no longer need your services . Thank you , PERSON',\n",
       "       u'I wrote to you PERSON earlier this week . We no longer need you expertise . Thanks , PERSON',\n",
       "       u'I will be out of the office Monday , July NUMBER , through Friday , July NUMBER . I will have no access to e mail during this time so I will respond to your e mail when I return Monday , May NUMBER . If you need immediate assistance , please call NUMBER . Thanks !',\n",
       "       u'I will be out of the office Monday , August NUMBER , through Friday , August NUMBER . I will have no access to e mail during this time so I will respond to your e mail when I return Monday , August NUMBER . If you need immediate assistance , please call NUMBER . Thanks !',\n",
       "       u'I will be out of the office Tuesday , February NUMBER , through Friday , February NUMBER . I will have limited access to e mail during this time so I will respond to your e mail as soon as possible . If you need immediate assistance , please call NUMBER . Thanks !',\n",
       "       u'Hi PERSON , Can we go ahead and set up a showing for the Latteridge house today ? After NUMBER p.m ? Are there any offers on it yet ? And are there any other pre mls homes that you know of under NUMBER that are in south austin that we could see also ? Thanks ! PERSON V. PERSON NUMBER On Tue , Apr NUMBER at NUMBER AM , wrote :',\n",
       "       u\"Hi PERSON , Thank you for the email . Yes , we would like to switch to you ! Could you also set us up with Lease properties in the MLS under $ NUMBER a month ? Single Family Homes/Condos/Apartments anything south of downtown , west of I NUMBER , and east of the Y at Oak Hill ? ( NUMBER , etc ) We do still have our hearts set on buying a home but , we want to know whats out there for lease just in case we PERSON't find anything in the coming weeks . We have asked our landlord if he will let us do another month , right now our lease ends at the end of May . We have not heard back from him yet . So , if he does not allow us to do another month , time line is very crunched . I would be happy to meet with you for coffee before we see the first house ... hopefully the Latteridge one today . Just let me know what time they are showing this evening after work hours and we can go from there . Thanks ! On Wed , Apr NUMBER at NUMBER AM , wrote :\",\n",
       "       u\"Yes ! That sounds good . I can meet you there at NUMBER . Which Starbucks location is the best for you ? I know there is one off Slaughter Ln . in South Park Meadows but not sure if there 's any closer to the house that in S. Austin . On Wed , Apr NUMBER at NUMBER PM , wrote :\",\n",
       "       u'Perfect , I will see you there at NUMBER p.m. We have looked over in the celery loop area and not crazy about that street , otherwise yeah it would be one to go see . Thanks for looking out ! On Wed , Apr NUMBER at NUMBER PM , wrote :',\n",
       "       u'Hi PERSON..im inside Starbucks',\n",
       "       u\"Hi PERSON , It was so nice meeting you ! I really appreciate you stepping in and helping us . Got a new one ... .Can we set up a viewing of NUMBER Tensley NUMBER ( buckingham estates ) this afternoon ? Looks great ! I will have PERSON at Prime Lending work up the numbers so we are ready if we need to put in an offer , if it 's the one . Let me know . Thanks ! On Wed , Apr NUMBER at NUMBER PM , PERSON Voelker wrote :\",\n",
       "       u'No nothing we would seriously consider',\n",
       "       u\"Hi PERSON , Thanks for following up . Work has been crazy ! I completed the buyers rep . Please let me know if you did not get it . There has not been any new homes that have come up in our price range so it 's been a little disappointing the last week or so . Really hoping more come on the market so that we can go see a couple this weekend . I have attached the pre approval letter from Prime Lending and the lenders info is : *PERSON DeVore* | Mortgage Loan Officer , NMLS # NUMBER PrimeLending | *A PlainsCapital Company , *NMLS # NUMBER , Equal Housing Lender NUMBER PERSON Road Suite NUMBER | Dallas , TX NUMBER direct | NUMBER cell | NUMBER efax Thanks PERSON ! ! Hope you have a great day . On Tue , Apr NUMBER at NUMBER PM , wrote :\",\n",
       "       u\"Hi PERSON , Good news ... our landlord is going to allow us to stay renting for another year ! As much as we wanted to buy a home , it was n't looking very promising with what was coming available and at what price ... and when he offered the extra year lease , we agreed it was in our best interest to save more money over the next year and try again in a year , with a higher price point . I am very thankful for meeting with me but , we are throwing in the towel on buying now . Pretty discouraged but , at the same time relieved I can stop stressing over where we 'll live the next month to month . Thanks again for your help and hope you 're going well ! PERSON On Wednesday , April NUMBER , PERSON Voelker > wrote :\",\n",
       "       u\"Good Afternoon , This is PERSON Salazar , Baylee 's teacher . I know we have been communicating through Baylee , and wanted to email you to let you know we would love to use you as our realtor for finding a house . My husband , PERSON , is in the process of contacting PERSON and getting the loan approval stuff rolling . would you be able/willing to be our realtor ? Thank you . PERSON and PERSON Salazar\",\n",
       "       u\"We would love to meet with you , however , we wo n't be in town this weekend . Next Sunday will work .\",\n",
       "       u\"Good Morning , I wanted to give you an update on what the current situation is . We did the pre approval loan stuff and it came back with me approved for $ NUMBER , but PERSON was n't approved . He has some college loans that were in default because he thought they had all been consolidated . Wit that being said he is currently speaking with a credit adviser and is working no getting it fixed . we do not have a timeline for that yet , but as soon as we find out I will let you know . Hopefully this does n't put us too far behind in the process . With that being said , we were wanting to know if you still want to meet Sunday , or wait until we have this fixed ? Thank you ! On Wed , Mar NUMBER at NUMBER AM , PERSON wrote :\",\n",
       "       u'It was good to see you this morning ! we would like to go ahead and meet with you on Sunday then . That sounds like information that we would need now . I look forward to meeting with you on Sunday ! On Mon , Mar NUMBER at NUMBER PM , PERSON wrote :',\n",
       "       u'Hi Marcy , I have been trying to get that extra seat for you for the Rubio event but have not been able to at this point . I am so sorry . PERSON',\n",
       "       u\"Hello , I received your message from yesterday . I apologize for just not getting back to you . I have been sick these past couple of days . PERSON met with the credit company yesterday and they are in the process of getting everything together to fix it . She did not give a timeline on how long it would take . I am hoping that once he gets her everything she needs she will have a better idea , we also need to know so we can tell our current landlord on how long we need to extend our lease . I would like to say it will only take three months , but as of right now we are n't sure . We will make sure to ask her when PERSON gets her all the information . Thank you for your patience . On Mon , Apr NUMBER at NUMBER PM , PERSON wrote :\",\n",
       "       u\"Good Afternoon , We have an update , It does n't look like the credit will be cleared up within the next couple months , so we have decided to go ahead and extend our lease for NUMBER months . Hopefully by then we will have all this mess cleared up . So it looks like we will hopefully be finally looking for a house in a year . So we will keep in touch and when it is time to start looking we will get a hold of you . Thank you , PERSON On Wed , Apr NUMBER at NUMBER AM , HomeCity wrote :\",\n",
       "       u'Hi PERSON : I am following up with you to let you know that I have received a promotion and have moved to a new bank . Cobalt Mortgage is unbeatable on their interest rates and closing costs ! Below is all of my new contact information . How is your timetable looking for purchasing your new home ? As always , if you have any questions or concerns feel free to contact me at any time . Warm Regards ; PERSON Residential Mortgage Loan Originator NMLS # NUMBER Cell : ( NUMBER ) NUMBER Direct : ( NUMBER ) NUMBER Fax : ( NUMBER ) NUMBER EMAIL URL Cobalt Mortgage NUMBER Ranch Road NUMBER South , Suite # NUMBER Austin , TX NUMBER NMLS NUMBER If you do not wish to receive further emails , please opt out . The information contained in this message may be CONFIDENTIAL and is for the intended addressee only . Any unauthorized use , dissemination of the information , or copying of this message is prohibited . If you are not the intended addressee , please notify the sender immediately and delete this message . ( c ) Cobalt Mortgage , Inc . NUMBER Kirkland Way , Suite NUMBER , Kirkland , WA NUMBER . URL . NMLS Unique Identifier : NUMBER . Arizona Mortgage Banker License # NUMBER . Licensed by the Department of Business Oversight under the California Residential Mortgage Lending Act . Licensed by the Colorado Department of Regulatory Agencies in Colorado state . Idaho Mortgage Broker/Lender License # MBL NUMBER . Louisiana Residential Mortgage Lending License # NUMBER . Michigan Mortgage Broker/Lender/Servicer Registrant # FR0018706 & # SR0018730 . Montana Mortgage Lender License # NUMBER . Nevada Mortgage Banker # NUMBER , Nevada Mortgage Broker # NUMBER . New Mexico Mortgage Loan Company License # NUMBER . Oregon Mortgage Lender License # ML NUMBER . Texas SML Mortgage Banker Registration . Utah DRE # NUMBER . Washington Consumer Loan License # NUMBER-CL NUMBER . Wyoming Mortgage Lender/Broker License # NUMBER .',\n",
       "       u'Good Afternoon , Sorry we are just getting back to you , things have been extremely crazy busy this summer . It is sad that I am glad school is starting so I can have a calmer schedule , at least for a bit . PERSON is making progress on getting his credit stuff cleared up . I am hoping soon , so we can maybe look at the option of building , we will see ! I will let you know ! I hope you are well ! PERSON On Wed , Jul NUMBER at NUMBER AM , PERSON wrote :',\n",
       "       u'yes the one on rockcrest On Wed , Nov NUMBER at NUMBER PM , PERSON Murphy wrote :',\n",
       "       u'still not seeing cute houses in right areas.want to be in up in comming areas east or west of gtown.my goal is to buy NUMBER , thous and sell for NUMBER.oo in ten years . On Wed , Jan NUMBER at NUMBER AM , PERSON Murphy wrote :',\n",
       "       u'yes , im in need of some help NUMBER On PERSON , Feb NUMBER at NUMBER AM , PERSON Murphy wrote :',\n",
       "       u'In the morning at NUMBER am will be awesome . Will that work for you ?',\n",
       "       u'Hi PERSON , I am just beginning the house search as of tonight . I do not have a realtor yet ? I can talk at about 10am in the morning if you are available then . Sincerely , PERSON C. Torri On Jan NUMBER PM , wrote :',\n",
       "       u\"PERSON , I will be able to speak to you about both properties at NUMBER am in the morning . Sincerely , PERSON C. Torri On Jan NUMBER PM , `` PERSON Hernandez '' > wrote : Hi , Just saw your property inquiry.. I 'm about to step out of the office , but as soon as I ( or someone on my team ) have a minute , we will give you a call to answer your questions . When 's the best time for you ? Hope to speak with you soon ! Best , PERSON Hernandez NUMBER EMAIL FROM FIVESTREET\",\n",
       "       u\"PERSON , I will be able to speak to you about both properties at NUMBER am in the morning . Sincerely , PERSON C. Torri On Jan NUMBER PM , `` PERSON Hernandez '' wrote :\",\n",
       "       u'Hey PERSON . I am expecting a call from another realtor at NUMBER . Are you able to call now ?',\n",
       "       u'Thank you , PERSON !',\n",
       "       u'Hi PERSON ! I think this home is pretty sweet looking . Can you give me some info on it ? NUMBER Kensington Castle Trl Sincerely , PERSON C. Torri X NUMBER Productions LLC Austin , Texas ( NUMBER ) NUMBER',\n",
       "       u\"You 're welcome : D On Thu , Jan NUMBER at NUMBER PM , PERSON Rios wrote :\",\n",
       "       u'PERSON , I want to start off by saying that you have been amazing and very friendly ! The process for selecting a realtor has been a twist and turn and I made my decision based off of a couple of factors . I was referred to PERSON and PERSON Patterson through my employer Home Depot . The main reason I utilized this method was because of the incentive given through our Discount portal . The incentive is that I would receive NUMBER Wow Points towards purchases through the Discount Portal ( NUMBER worth of points ) . I had told PERSON Pokorny ( another realtor ) that I was going to use PERSON and PERSON to help me find a place because of the incentive . PERSON decided to try and keep my business and has wagered to cut me a $ NUMBER check after a house is closed on . I am taking him up on his offer . Thank you for all your help ! -- Sincerely , PERSON C. Torri X NUMBER Productions LLC Austin , Texas ( NUMBER ) NUMBER',\n",
       "       u'PERSON Rios is awesome ! I am going to go with another realtor though . The process for selecting a realtor has been a twist and turn and I made my decision based off of a couple of factors . I was referred to PERSON and PERSON Patterson through my employer Home Depot . The main reason I utilized this method was because of the incentive given through our Discount portal . The incentive is that I would receive NUMBER Wow Points towards purchases through the Discount Portal ( NUMBER worth of points ) . I had told PERSON Pokorny ( another realtor ) that I was going to use PERSON and PERSON to help me find a place because of the incentive . PERSON decided to try and keep my business and has wagered to cut me a $ NUMBER check after a house is closed on . I am taking him up on his offer . Thank you for all your help ! Sincerely , PERSON C. Torri On Wed , Feb NUMBER at NUMBER AM , PERSON wrote :',\n",
       "       u\"PERSON , You are very welcome ! Thank you for being so awesome ! On Feb NUMBER PM , `` PERSON Rios '' wrote :\",\n",
       "       u\"Unsubscribe . We got a house . : - ) On Mar NUMBER AM , `` PERSON Rios '' wrote :\",\n",
       "       u'I will be out of the office from March NUMBER until March NUMBER . If your matter can ? t wait , email PERSON at EMAIL after March 19th .',\n",
       "       u'I will be out of the office from March NUMBER until March NUMBER . If your matter can ? t wait , email PERSON at EMAIL after March 19th .',\n",
       "       u'Hi PERSON , Sorry for the delayed reply . Please call me tomorrow . I should be available after 2pm NUMBER PERSON',\n",
       "       u\"Thanks again but I have decided to look elsewhere . I reached out regarding a specific property and it turns out you all PERSON't even represent that property . Best regards .\",\n",
       "       u'Hi PERSON , As of today my scores are : Eperian NUMBER Equifax NUMBER Transunion NUMBER I expect these to rise as I am paying down my credit card debt . Thank you , Genia',\n",
       "       u\"An inquiry has been made for property MLS # NUMBER . Inquiry Type : Property Showing View Listing Details : URL/ The following information was collected from the user : Name : Luna Wood Email : EMAIL ( Verified ) Phone : NUMBER Comments : I 'd like to request a showing of NUMBER Huckleberry Ln , Austin , TX , NUMBER ( MLS # NUMBER ) . Thank you ! Status : Pending Forms : IDX Registration Subscribed To Campaigns : Yes Subscribed To Searches : Yes Referer : Google PPC Last Form : Send to Friend on September 6th , NUMBER at NUMBER:42pm . Last Email : Listings on January 22nd , NUMBER at NUMBER:03am . Number Of Emails : NUMBER Number Of Visits : NUMBER Number Of Pages : NUMBER Number Of Forms : NUMBER Number Of Favorites : NUMBER Number Of Listings : NUMBER Number Of Searches : NUMBER Number Of Saved : NUMBER Search Type : Residential Search City : Austin , Manchaca Search Subdivision : Reserve At Slaughter Creek , Olympic Heights Sec NUMBER , Rancho Alto Ph NUMBER , The Hollow At Slaughter Creek , Sage Meadow Condo Amd , Austin Highlands Sec NUMBER , Texas Oaks Sec NUMBER-a , Sweetwater Glen Condo Amd , We Search Minimum Price : NUMBER Search Maximum Price : NUMBER Mkeyword : homes for sale austin tx Mcity : Austin Msource : PPC Join Date : September 6th , NUMBER at NUMBER:38pm Last Active : January 22nd , NUMBER at NUMBER:53am Viewed Listings : NUMBER Lead Summary : URL\",\n",
       "       u\"An inquiry has been made for property MLS # NUMBER . Inquiry Type : Property Showing View Listing Details : URL/ The following information was collected from the user : Name : Luna Wood Email : EMAIL ( Verified ) Phone : NUMBER Comments : I 'd like to request a showing of NUMBER Zacharys Way , Austin , TX , NUMBER ( MLS # NUMBER ) . Thank you ! Status : Pending Forms : IDX Registration , IDX Inquiry Subscribed To Campaigns : Yes Subscribed To Searches : Yes Referer : Google PPC Last Form : IDX Inquiry on January 22nd , NUMBER at NUMBER:53am . Last Email : Listings on January 22nd , NUMBER at NUMBER:03am . Number Of Emails : NUMBER Number Of Visits : NUMBER Number Of Pages : NUMBER Number Of Forms : NUMBER Number Of Favorites : NUMBER Number Of Listings : NUMBER Number Of Searches : NUMBER Number Of Saved : NUMBER Search Type : Residential Search City : Austin , Manchaca Search Subdivision : Reserve At Slaughter Creek , Olympic Heights Sec NUMBER , Rancho Alto Ph NUMBER , The Hollow At Slaughter Creek , Sage Meadow Condo Amd , Austin Highlands Sec NUMBER , Texas Oaks Sec NUMBER-a , Sweetwater Glen Condo Amd , We Search Minimum Price : NUMBER Search Maximum Price : NUMBER Mkeyword : homes for sale austin tx Mcity : Austin Msource : PPC Join Date : September 6th , NUMBER at NUMBER:38pm Last Active : January 22nd , NUMBER at NUMBER:56am Viewed Listings : NUMBER Lead Summary : URL\",\n",
       "       u'PERSON , It was nice to meet you too . You look alot taller and younger thanwhat appears in your photo . ( : I know the right property will come along . Have you always worked South Austin ? Do you liveSouth also ? Weare still waiting to hear back from our financial person . Thanksagain andkeep the listings coming . Genia',\n",
       "       u\"PERSON Johnson , All parties have signed the envelope 'Please DocuSign this document : Termination Dinah.pdf ' To view , download or print the completed document click the link below . URL If clicking the link does not work , you can highlight and copy the entire line above and paste it into your browser to get started . This message was sent on behalf of DocuSign Support by the DocuSign Online Signing Service . If you would like to contact the sender , you can send email to EMAIL .\",\n",
       "       u\"LinkedIn -- -- -- -- -- -- I 'd like to add you to my professional network on LinkedIn . - Luna Luna Wood LMT Owner & Product Specialist at Vidaluna Natural Product Line Austin , Texas Area Confirm that you know Luna Wood LMT : URL -- You are receiving Invitation to Connect emails . Click to unsubscribe : URL ( c ) NUMBER LinkedIn Corporation . NUMBER Stierlin Ct , Mountain View , CA NUMBER , USA .\",\n",
       "       u\"Oh no I 'm so sorry . Yes we do wan na look at some houses . On Dec NUMBER PM , `` PERSON Bynum '' wrote :\",\n",
       "       u\"PERSON hey , we will be in town tonight around NUMBER if anyone is available if not that 's totally fine . And we will be available after NUMBER tomorrow . Our number one house NUMBER . Here are the houses . We love ... ... NUMBER and NUMBER . We like ... ... ... .. NUMBER . Thanks . PERSON\",\n",
       "       u\"Hi PERSON . We did n't end up going to meet with her . Not sure when we will be in town again but I will defiantly let you know . His interview went great and we will sure be moving there . We have n't decided yet if we are going to rent a apartment so we have time to buy a house , but we still want houses sent to us in case the right one shows up : ) thanks -PERSON On Fri , Dec NUMBER at NUMBER PM , PERSON Bynum wrote :\",\n",
       "       u\"We do know we PERSON't like Leander and like cedar park and round rock just Fyi . Any recommendations for renting an apartment or a town house ( that 's not too expensive ) in the area ? Also for a short lease ? Thanks On Dec NUMBER AM , `` PERSON Bynum , GRI '' wrote :\",\n",
       "       u\"Hey we wo n't be moving to Austin anymore we had a huge change of events . But thanks for ur help . On Dec NUMBER AM , `` PERSON Bynum '' wrote :\",\n",
       "       u\"Yah honestly found out my fiance has been cheating . I 'm devistated . On Dec NUMBER AM , `` PERSON Bynum '' wrote :\",\n",
       "       u\"Thanks On Dec NUMBER AM , `` PERSON Bynum '' wrote :\",\n",
       "       u'An inquiry has been made for property MLS # NUMBER . Inquiry Type : More Info View Listing Details : URL/ The following information was collected from the user : Mkeyword : austin home search Mcity : Austin Msource : PPC Viewed Listings : NUMBER Name : PERSON Johnson Phone : NUMBER Email : EMAIL ( Verified ) Subscribed To Campaigns : Yes Comments : When is this available and will they do a NUMBER month lease ? I was searching for a Property and found this listing ( MLS # NUMBER ) . Please send me more information regarding NUMBER Meadowlark St # b , Lakeway , TX , NUMBER . Thank you ! Status : Pending Forms : IDX Registration Subscribed To Searches : Yes Referer : Google PPC Last Email : Auto Responder on January 23rd , NUMBER at NUMBER:15pm . Number Of Emails : NUMBER Number Of Visits : NUMBER Number Of Pages : NUMBER Number Of Listings : NUMBER Join Date : January 23rd , NUMBER at NUMBER:15pm Last Active : January 23rd , NUMBER at NUMBER:19pm Lead Summary : URL',\n",
       "       u\"NUMBER . You can call tonight or leave me a message tomorrow . I am a teacher and ca n't really talk on phone during day . Thank you , PERSON\",\n",
       "       u\"Hello , we need a quick , NUMBER month rental that takes dogs . We 've decided to rent an apt to save money . Thanks ! PERSON\",\n",
       "       u'Hello , Yes that is my number and I apologize for not answering , I was in a meeting . Thank you PERSON On Mon , May NUMBER at NUMBER PM , PERSON Hoffman wrote :',\n",
       "       u\"After NUMBER is that ok : ) *Siempre a la Carga* On May NUMBER , at NUMBER PM , `` PERSON Hoffman '' wrote :\",\n",
       "       u'thanks',\n",
       "       u'Have not decided on area yet Will decide after daughters wedding in July My son is actually going to u Texas For MBA . Will be moving to Austin End of July . Will be renting some Where',\n",
       "       u'Just looking at email I recieved With some homes for sale Not moving at this time Though my son is attending Texas in Austin This fall',\n",
       "       u'PERSON , I love what you have sent me . I just spoke to PERSON and he said the price he is looking to invest in a condo is between $ NUMBER to $ NUMBER can you find me something in that price range to send me . And maybe homes in the last NUMBER old . Pep',\n",
       "       u\"Hello PERSON , you have been very helpful so far sending me pictures and info on condo's/townhomes . Now I 'm going to make another request if I may . Can you now send me pictures of houses in the price range from $ NUMBER to $ NUMBER , we want a three bedroom , NUMBER baths , PERSON wants and office , I would like 2000sq ft in the home . Two car attached garage , AC . In the home . Thanks again Shelia aka pep\",\n",
       "       u\"Hi PERSON , thanks for all your help , you have been wonderful . We are planning a trip to Austin in late March or the first week in April no sure of any dates yet . But I 'm leaning more towards a house , but PERSON is leaning towards a condo/townhome . But if we have to go condo/ townhome then I want one that is going to give me NUMBER to NUMBER sq ft . So we 'll see what goes but keep sending me both homes and condos , I 'm sure between the both of us PERSON and I should be able to afford something between NUMBER to NUMBER I 'm hoping . Take care Shelia `` pep ''\",\n",
       "       u\"PERSON and I have crossed our wires . I did n't know that he was already working with a realtor from Keller Williams and he has sent me a few homes to view from there . However i will keep you posted on any changes because if I PERSON't like what I 'm seeing with them I 'm going to have PERSON contact you . He will be in Austin sometime in the next week to look at a few places . Pep\",\n",
       "       u\"PERSON : who did you get my contact info from ? I ask because my wife reached out to someone today to start the review process of some properties in north Dallas area . I PERSON't want to be taking to someone that I am not supposed to be taking too . PERSON K. Coshow , CPL ( NUMBER ) NUMBER\",\n",
       "       u'Never heard back so I found another real estate agent . PERSON K. Coshow , CPL ( NUMBER ) NUMBER',\n",
       "       u\"Hello PERSON , We have matched your agency with a new client , Major Nattee . Attached you will find a copy of the client Profile and Referral Agreement for your records . As a reminder , to ensure an amazing experience for Major , we need the assigned agent to contact the client on the same day or no later than NUMBER hours of acceptance . If you have any questions regarding the referral , please contact me via email or my direct line as soon as possible . Sincerely , PERSON McQueen Exec . Agent Coordinator IN HOUSE REALTY Direct : ( NUMBER ) NUMBER Cell : ( NUMBER ) NUMBER Office : ( NUMBER ) NUMBER , ext.NUMBER Fax : NUMBER Email : EMAIL *The Preferred Real Estate Partner of Quicken Loans ! You are receiving this email because you are part of In House Realty 's agent network . This message is intended only for the use of the individual or entity to which it is addressed . This message may contain legally privileged and/or confidential information . Any unauthorized use , disclosure , reproduction , or distribution is prohibited . If you are not the intended recipient , please notify us by telephone or e mail and delete/destroy the original and any copies . Equal Housing Opportunity . We do business in accordance with the Federal Fair Housing Law . License # : NUMBER Copyright NUMBER In House Realty LLC , NUMBER Griswold St , Detroit , PERSON NUMBER . All Rights Reserved . NUMBER\",\n",
       "       u'Trip McLane | Purchase Banker Direct : ( NUMBER ) NUMBER | Toll Free : ( NUMBER ) NUMBER x50492 Fax : ( NUMBER ) NUMBER | NMLS # NUMBER A referral is the best compliment ! Click here to refer your friends and family .',\n",
       "       u\"Hello PERSON , Ive noticed I do not have a client Central update regarding our mutual client , Major Nattee . Ive been following up with Major but would love to hear some feedback from you . * Have you and Major viewed any homes recently ? * Has Major made an offer on any homes ? * How has their experience with Quicken Loans been so far ? Please feel free to send me an update through your client Central account at URL . If you have any trouble logging in to your account , please feel free to contact me via email or my direct line below . Sincerely , PERSON McQueen Exec . Agent Coordinator IN HOUSE REALTY Direct : ( NUMBER ) NUMBER Cell : ( NUMBER ) NUMBER Office : ( NUMBER ) NUMBER , ext.NUMBER Fax : NUMBER Email : EMAIL *The Preferred Real Estate Partner of Quicken Loans ! You are receiving this email because you are part of In House Realty 's agent network . This message is intended only for the use of the individual or entity to which it is addressed . This message may contain legally privileged and/or confidential information . Any unauthorized use , disclosure , reproduction , or distribution is prohibited . If you are not the intended recipient , please notify us by telephone or e mail and delete/destroy the original and any copies . Equal Housing Opportunity . We do business in accordance with the Federal Fair Housing Law . License # : NUMBER Copyright NUMBER In House Realty LLC , NUMBER Griswold St , Detroit , PERSON NUMBER . All Rights Reserved . NUMBER\",\n",
       "       u\"Thanks PERSON , I 'll take alook at them tonight . On Friday , February NUMBER , PERSON Malone wrote :\",\n",
       "       u'Hi PERSON please find the attached below . Major On Thu , Mar NUMBER at NUMBER AM , PERSON Malone wrote :',\n",
       "       u'PERSON , Working on this right now . Thanks , Trip McLane | Purchase Banker Direct : ( NUMBER ) NUMBER | Toll Free : ( NUMBER ) NUMBER x50492 Fax : ( NUMBER ) NUMBER | NMLS # NUMBER',\n",
       "       u'Hi there Did you get the pre approval letter for the buyers yesterday . Please forward as soon as possible Thank you PERSON',\n",
       "       u'Hi Just need to get the prequal letter for your clients and their offer . We are getting other offers coming in . Please get it to me ASAP . Thank you PERSON',\n",
       "       u\"blockquote , div.yahoo_quoted { margin left : NUMBER ! important ; border left:1px # 715FFA solid ! important ; padding left:1ex ! important ; background color : white ! important ; } PERSON , thx , but I 'm already building a home . Take me off your email list pls.thx Dr . PERSON Anderson\",\n",
       "       u\"PERSON , again , please remove me from your email list . I 'm building my house in Georgetown . Dr . PERSON Anderson On Tuesday , November NUMBER AM , PERSON wrote : New Properties | HomeCity Real Estate # yiv1310062947 .yiv1310062947appleLinksWhite | Hi PERSON , Here are the newest properties that matched the criteria of your saved home search . If you would like to schedule a viewing , please give me a call at NUMBER x NUMBER . Have a great day , PERSON | | | | | | $ NUMBER | | NUMBER Wedgescale Pass Leander , Tx NUMBER Beds , NUMBER Baths , NUMBER SqFt House MLS # NUMBER Search - Homes in Sarita Valley & more ... | | | View Listing | | | | | | $ NUMBER | | NUMBER Purple Moor Pass Leander , Tx NUMBER Beds , NUMBER Baths , NUMBER SqFt House MLS # NUMBER Search - Homes in Sarita Valley & more ... | | | View Listing | | | | | | $ NUMBER | | NUMBER Lyme Ridge Dr Leander , Tx NUMBER Beds , NUMBER Baths , NUMBER SqFt House MLS # NUMBER Search - Homes in Sarita Valley & more ... | | | View Listing | | | | | | $ NUMBER | | NUMBER Purple Moor Pass Leander , Tx NUMBER Beds , NUMBER Baths , NUMBER SqFt House MLS # NUMBER Search - Homes in Sarita Valley & more ... | | | View Listing | | | | | | $ NUMBER | | NUMBER Zoysia Dr Leander , Tx NUMBER Beds , NUMBER Baths , NUMBER SqFt House MLS # NUMBER Search - Homes in Sarita Valley & more ... | | | View Listing | | | | | | $ NUMBER | | NUMBER Brome Dr Leander , Tx NUMBER Beds , NUMBER Baths , NUMBER SqFt House MLS # NUMBER Search - Homes in Sarita Valley & more ... | | | View Listing | | | | You have NUMBER additional properties to view . | | | | | Homecity Login PERSON NUMBER Bee Caves Road Suite NUMBER Austin , TX , NUMBER USA|For questions , email EMAIL . | | | | Brought to you by : This email has been sent to EMAIL . To be removed from this list , please click here , or reply to this email with the subject `` Unsubscribe '' . If you have any problems leaving the list , please contact EMAIL | |\",\n",
       "       u'Hi ! Thanks for replying so quickly . We would be happy to speak with someone in the morning or tomorrow afternoon to set up a viewing . Thanks ! PERSON Girlinghouse NUMBER',\n",
       "       u'Hi ! Thanks for replying so quickly . We would be happy to speak with someone in the morning or tomorrow afternoon to set up a viewing . Thanks ! PERSON Girlinghouse NUMBER',\n",
       "       u\"PERSON , I 've run into a problem . We wo n't b able to move for another year . Can we pick this up this time next yr ? Charie\",\n",
       "       u'I think take us out of the system till next Sept or so . You have been very dependable sending us possibilities . Thank you Charie',\n",
       "       u'We are still pending our move to Austin . For being able to get a new mortgage , we must wait till next year . Thanks for checking . Charie',\n",
       "       u'Hi PERSON , thanks for your prompt response . You can call me tomorrow at NUMBER pm to talk more details and my requirements . Regards Santosh',\n",
       "       u\"PERSON , thanks for following up and apologize for not finding a good time to talk . Let 's hold off on the discussion until further notice since I am very busy these days . Must one quick question in the meantime , we started off discussing about a new home construction in lago viente , I believe , that I was interested in seeing . Is that still available ?\",\n",
       "       u\"I am planning to buy with cash i.e . No mortgage . so interest rate does n't impact me.. Thanks\",\n",
       "       u'Thanks PERSON . One quick question , would you also provide help in renting/leasing out my existing home , when I move to new home ? If yes , how does your commission work for renting ? On the other note , I can pay for the new home straight cash unless you convince me with the reasons for paying by mortgage . If the reasons are convincing , I can pay my mortgage . At this point I am inclined to paying by cash because A > my cash is sitting in the bank with less than NUMBER % interest and B > I think I will get more negotiating power by using straight cash . LMK',\n",
       "       u'Could you please answer my question on renting that I had sent you couple of days before ? My budget for the lot itself is upto $ NUMBER ( for greater than 1acre lot ) . I have already short listed couple of them and looking into them . For the house itself , I can pay upto and around $ 1M if it meets my needs . The lot you have forwarded appears to be a good fit from the location and size and but the price for lot itself is $ NUMBER M for NUMBER ? This is way higher than other lots in the same area that I am looking . On Wed , Feb NUMBER at NUMBER AM , PERSON Fowler wrote :',\n",
       "       u\"Just saw this so thanks for replying to the rent question . These are all questions for future . At this point , I am not actively pursuing the buying of properties . I am wishing that the mortgage rate get higher fairly sooner so that there will be less buyers in the market than today . At that point , I 'll start looking aggressively . It appears that timing is about NUMBER year away . Makes sense ? On Wed , Feb NUMBER at NUMBER AM , PERSON Fowler wrote :\",\n",
       "       u\"I appreciate your prompt response . Any contact needs to be made through email only . Thank you On Sunday , February NUMBER , PERSON Hernandez > wrote : Hi , Just saw your property inquiry.. I 'm about to step out of the office , but as soon as I ( or someone on my team ) have a minute , we will give you a call to answer your questions . When 's the best time for you ? Hope to speak with you soon ! Best , PERSON Hernandez NUMBER EMAIL FROM FIVESTREET\",\n",
       "       u'I appreciate your prompt response . Any contact needs to be made through email only . Thank you On Sunday , February NUMBER , PERSON Hernandez wrote :',\n",
       "       u\"Hello PERSON , We have matched your agency with a new client , PERSON Waddell . Attached you will find a copy of the client Profile and Referral Agreement for your records . As a reminder , to ensure an amazing experience for PERSON , we need the assigned agent to contact the client on the same day or no later than NUMBER hours of acceptance . If you have any questions regarding the referral , please contact me via email or my direct line as soon as possible . Sincerely , PERSON Hanus Executive Agent Coordinator , TC IN HOUSE REALTY Direct : ( NUMBER ) NUMBER Cell : ( NUMBER ) NUMBER Office : ( NUMBER ) NUMBER , ext.NUMBER Fax : NUMBER Email : EMAIL *The Preferred Real Estate Partner of Quicken Loans ! You are receiving this email because you are part of In House Realty 's agent network . This message is intended only for the use of the individual or entity to which it is addressed . This message may contain legally privileged and/or confidential information . Any unauthorized use , disclosure , reproduction , or distribution is prohibited . If you are not the intended recipient , please notify us by telephone or e mail and delete/destroy the original and any copies . Equal Housing Opportunity . We do business in accordance with the Federal Fair Housing Law . License # : NUMBER Copyright NUMBER In House Realty LLC , NUMBER Griswold St , Detroit , PERSON NUMBER . All Rights Reserved . NUMBER\",\n",
       "       u\"PERSON , I have yet to see anything that would keep my kids in the same schools like we discussed . Also raise the minimum to $ NUMBER . I have looked at everything you 've sent me even drove by one home . Immediately crossed it off as the neighborhood was less than desirable .\",\n",
       "       u'PERSON did you ever raise the minimum on the search to $ NUMBER . I have yet to see anything over NUMBER ?',\n",
       "       u'MLS # NUMBER can you get me the full scoop on this house .',\n",
       "       u\"Nice . All things considered I 'll probably have to stay at the apartment for another year . I 'm still very interested in finding a home or condo to move to so I want to keep looking . The one in Lago Vista I really like , and I like this one too . Stainless appliances , granite countertops and hot tub are all desired as well as we continue to search - none of which are show stoppers if not available . Remember , if there is a deal that 's too good to pass up I 'll probably commit to it even before next year . Thanks PERSON - talk to you soon .\",\n",
       "       u\"Dude - seriously ? $ NUMBER for a NUMBER bdrm NUMBER sq . ft. old house ? This is not even close to meeting my criteria . Seems like your searches have concentrated on Georgetown and $ NUMBER since that 's the price range and area that I 've seen in most of your listings . I have found other houses in Pflugerville on my own for $ NUMBER and up that are much better deals . Even one with an in ground pool and Jacuzzi . I think you need to change the parameters in my search profile . I 'm willing to pay a max of $ NUMBER but for that price it would have to be close to perfect .\",\n",
       "       u'The data did not display correctly see below',\n",
       "       u'Hi PERSON . Please change up my search criteria to show only listings fitting info listed below ; Only single story homes within NUMBER miles of Lake Pflugerville NUMBER + bedrooms NUMBER + bathrooms NUMBER sq . ft. or larger $ NUMBER - $ NUMBER Thanks .',\n",
       "       u'No longer interested , thanks .',\n",
       "       u'Hi Kacey , this is PERSON with Homecity real estate . I just left you a voicemail in regards to NUMBER mimosa in Leander . Give me a call when you have a moment would like to visit with you . thanks',\n",
       "       u\"I did n't receive your call or message ? NUMBER I just tried to call you , but got VM ? Kasey\",\n",
       "       u'Please disregard my request . My husband is not interested in leander properties',\n",
       "       u\"Hello PERSON , We have matched your agency with a new client , Devon Dinger . Attached you will find a copy of the client Profile and Referral Agreement for your records . As a reminder , to ensure an amazing experience for Devon , we need the assigned agent to contact the client on the same day or no later than NUMBER hours of acceptance . If you have any questions regarding the referral , please contact me via email or my direct line as soon as possible . Sincerely , PERSON Kneen Agent Coordinator IN HOUSE REALTY Direct : ( NUMBER ) NUMBER Cell : ( NUMBER ) NUMBER Office : ( NUMBER ) NUMBER , ext.NUMBER Fax : NUMBER Email : EMAIL *The Preferred Real Estate Partner of Quicken Loans ! You are receiving this email because you are part of In House Realty 's agent network . This message is intended only for the use of the individual or entity to which it is addressed . This message may contain legally privileged and/or confidential information . Any unauthorized use , disclosure , reproduction , or distribution is prohibited . If you are not the intended recipient , please notify us by telephone or e mail and delete/destroy the original and any copies . Equal Housing Opportunity . We do business in accordance with the Federal Fair Housing Law . License # : NUMBER Copyright NUMBER In House Realty LLC , NUMBER Griswold St , Detroit , PERSON NUMBER . All Rights Reserved . NUMBER\",\n",
       "       u'i never got a list of houses in my area.was i suppose to ? i wanted to see a house NUMBER park place richland hills NUMBER thank you',\n",
       "       u'omg found it in my spam thank u and sorry',\n",
       "       u\"Sounds great hope to see it tomorrow just give me call.. during the week i work overnight Sunday thru Thursday from 11pm to NUMBER am that 's not counting overtime which i work a lot of .. if we meet during the week i prefer Fridays after NUMBER am ..my work hours get crazy sometimes and its hard for me to make plans so i appreciate you working with me thank u and have a good night On Saturday , February NUMBER PM , PERSON Nevans wrote : Hi Devon , By the time I received your email , I was already back at the office . I 'm so sorry . I will try to meet you sometime tomorrow . If I 'm unable to tomorrow is there a time during the week that we can meet ? The home on Park Place is still available . I 'll call you tomorrow to set up a showing . Thanks so much and have a great evening . Kind Regards , PERSON NevansNUMBER\",\n",
       "       u\"I think my loan is FDA so that house is out .. I will keep in touch to meet on one of those days .. thank u On Sunday , February NUMBER PM , PERSON Nevans wrote : Hi Devon , I'mso sorrythat I didn'thave time tomeetinatthehomeon Park Place . I just sent the listing agent anemail tomake sureit is still available . Are you goingwith anFHA orconventionalloan ? According to the listingit will onlygoConventional . I wanted to confirmthatwiththe agent.If the homeneedslots ofwork , FHA won'tloanon thehome.I 'll let you know what Ifind out.Ican meet youWednesday orThursday this week anytime of the day . I'llsend you an email tomorrow withmore information.Thanks KindRegards , PERSON NevansNUMBER*NUMBER*NUMBER\",\n",
       "       u\"FHA sorry On Monday , February NUMBER AM , Devon Dinger wrote : I think my loan is FDA so that house is out .. I will keep in touch to meet on one of those days .. thank u On Sunday , February NUMBER PM , PERSON Nevans wrote : Hi Devon , I'mso sorrythat I didn'thave time tomeetinatthehomeon Park Place . I just sent the listing agent anemail tomake sureit is still available . Are you goingwith anFHA orconventionalloan ? According to the listingit will onlygoConventional . I wanted to confirmthatwiththe agent.If the homeneedslots ofwork , FHA won'tloanon thehome.I 'll let you know what Ifind out.Ican meet youWednesday orThursday this week anytime of the day . I'llsend you an email tomorrow withmore information.Thanks KindRegards , PERSON NevansNUMBER*NUMBER*NUMBER\",\n",
       "       u\"NUMBER Greenfield Court Greenfield Village Add Watauga , TX - NUMBER Beds - NUMBER Baths - NUMBER SqFt Residential MLS # NUMBER Watauga , TX fha ? On Monday , February NUMBER AM , PERSON Nevans wrote : I 'll give the agent a call . She hasnt responded to my email . I 'll let you know . Thanks\",\n",
       "       u\"went to see the house on greenflied ct .. not liking it how about the house on NUMBER Nola Court Watauga Tx , NUMBER April Ln in Watauga Tx , and a house forclosed on NUMBER inwood watauga tx ? thank you On Friday , February NUMBER PM , PERSON Nevans wrote : Hi Devon , As follow up to our discussion , I have built and saved you a search named `` Homes in Richland Hills , North Richland Hills and Watuga ... under $ NUMBER '' , which I believe meets your search criteria . I would recommend you review all of the homes and then save those homes that you like by clicking on `` Save Home '' . If you have any questions please send me an email or give me a call . If I PERSON't hear from you sooner , I will give you a call later today . PERSON Nevans NUMBER\",\n",
       "       u\"yes see u there On Tuesday , February NUMBER PM , PERSON Nevans wrote : Hi Devon , The home on Inwood sold in Dec of NUMBER and the home on April sold in Nov of NUMBER . Below is a home on Oak Hill Rd and the one you liked on Nola Ct . I can meet you around noon tomorrow if that 's ok . If you want to me at Nola Court first and then if you are interested in the one on Oak Hill we can see that one also . Please let me know asap so I can get them scheduled . Thanks | | | | | | $ NUMBER Watauga , Tx NUMBER Beds , NUMBER Baths , NUMBER SqFt RESFAM MLS # NUMBER | $ NUMBER Watauga , Tx NUMBER Beds , NUMBER Baths , NUMBER SqFt RESFAM MLS # NUMBER | | | View Listing | View Listing | | | | | PERSON Nevans NUMBER\",\n",
       "       u\"No that 's ok just the one on Nola ct\",\n",
       "       u\"Devon wants the house and would like to make a offer NUMBER NOLA CT WATAUGA TX NUMBER very much excited to hear from u for some advice and to see whats next thanks for everything On Wednesday , February NUMBER AM , PERSON Nevans wrote : I 'll be at Nola around NUMBER . Thanks\",\n",
       "       u\"yes he does ... after talking to PERSON at QL .. should we offer the price they want and have them cover NUMBER towards the CC On Wednesday , February NUMBER PM , PERSON Nevans wrote : Ok..sounds good . Just heading home ! Have been out all day . I 'll call the agent and do some comps . Does he have down payment and closing costs $ $ $ ? Thanks\",\n",
       "       u\"devon still wants the house so lets do it im talking to PERSON about the NUMBER thing On Wednesday , February NUMBER PM , PERSON Nevans wrote : I 'll look around the neighborhood . We may be able to offer less . For example , we can offer $ NUMBER and then they can give us $ NUMBER in closing costs . So that means you 're actually paying $ NUMBER but financing $ NUMBER . They 're asking $ NUMBER so we are actually giving them $ NUMBER less than asking . I 'll also call the other agent to see if she thinks we could work a deal similar to the example . It would have to appraise for $ NUMBER though . I 'll get back with you in a few minutes . Thanks PERSON Nevans NUMBER\",\n",
       "       u\"sounds good i am off of work i try not to fall asleep till noon On Thursday , February NUMBER AM , PERSON Nevans wrote : Ok..I 'll get it ready and email it . It may take an hour or so . We 'll go over the contract together . FYI ... .We will ask seller to pay for the title and home warranty . The title policy will be around $ NUMBER . The home warranty is $ NUMBER . The home warranty covers all your appliances , including HVAC , water heater , etc . The service company will charge a $ NUMBER service call . If they ca n't fix it , they will replace it . The seller pays for the first year and after that Devin can renew it . I 'll explain it all to you and Devin . What time will he be available ? Thanks\",\n",
       "       u'thats great On Thursday , February NUMBER AM , PERSON Nevans wrote : Can I get your current address to put on the contract ? Thanks',\n",
       "       u'NUMBER Elm Park Richland Hills Tx NUMBER On Thursday , February NUMBER AM , Devon Dinger wrote : thats great On Thursday , February NUMBER AM , PERSON Nevans wrote : Can I get your current address to put on the contract ? Thanks',\n",
       "       u\"ok im on my way to the store be back in NUMBER On Thursday , February NUMBER AM , PERSON Nevans wrote : Got it ! I 'm waiting for the listing agent to send me the title company address and we 'll be ready to go.. Sending in NUMBER min . Hope you can stay awake . Thanks\",\n",
       "       u\"hope u have had a good day .. just letting you know devon picked up his temp checks and is ready.. its ok if the seller needs time we are ok thanks momma dinger On Thursday , February NUMBER AM , PERSON Nevans wrote : Just emailed it to you . Call me when you get home and we 'll go over it . Thanks\",\n",
       "       u\"here is the appraisal On Thursday , February NUMBER PM , PERSON Nevans wrote : Hi Devon and PERSON , Below is the estimate for the roof . They were supposed to repair it today . I talked to my electrician and he was doing the electrical work today . I 'll get the information from him and send it to you . Also , could you please forward the appraisal to me . I want to make sure there are no lender repairs . Thanks PERSON Nevans NUMBER\",\n",
       "       u\"NUMBER idk where those other numbers came from lol On Thursday , February NUMBER PM , Devon Dinger wrote : here is the appraisal On Thursday , February NUMBER PM , PERSON Nevans wrote : Hi Devon and PERSON , Below is the estimate for the roof . They were supposed to repair it today . I talked to my electrician and he was doing the electrical work today . I 'll get the information from him and send it to you . Also , could you please forward the appraisal to me . I want to make sure there are no lender repairs . Thanks PERSON Nevans NUMBER\",\n",
       "       u\"Sounds good cya at noon and im doing the utilites now thanks PERSON On Tuesday , March NUMBER AM , EMAIL '' wrote : Hi Devon and PERSON , I scheduled closing for Thursday at 1pm . The title company is Capital Title . The address is : NUMBER N Carroll , Southlake NUMBER We 'll meet at the house first to do the walk through . You want to meet around noon ? Also , just a reminder , you will need to switch the utilities into your name starting Thursday . I talked to PERSON , the listing agent to make sure they had moved out . She said they did on Friday . She is going to find out if they replaced the knobs on the stove . The title company is working on the final HUD . They will send it out as soon as it is approved . The final amount due at closing will have to be in the form of a cashier 's check from the bank . Please let me know if you have any questions . Thanks Kind Regards , PERSON Nevans NUMBER\",\n",
       "       u\"PERSON i dont know which paper it is so i send u what i have it was to much papers or info im sorry lol ... and i also saw that the appt time is noon On Tuesday , March NUMBER PM , Devon Dinger wrote : Sounds good cya at noon and im doing the utilites now thanks PERSON On Tuesday , March NUMBER AM , EMAIL '' wrote : Hi Devon and PERSON , I scheduled closing for Thursday at 1pm . The title company is Capital Title . The address is : NUMBER N Carroll , Southlake NUMBER We 'll meet at the house first to do the walk through . You want to meet around noon ? Also , just a reminder , you will need to switch the utilities into your name starting Thursday . I talked to PERSON , the listing agent to make sure they had moved out . She said they did on Friday . She is going to find out if they replaced the knobs on the stove . The title company is working on the final HUD . They will send it out as soon as it is approved . The final amount due at closing will have to be in the form of a cashier 's check from the bank . Please let me know if you have any questions . Thanks Kind Regards , PERSON Nevans NUMBER\",\n",
       "       u'Hi , Attached please find the final HUD and the wire confirmation . Thanks so much , EMAIL ] Brooke Mote Escrow Assistant EMAIL ]',\n",
       "       u'NUMBER Anytime', u'NUMBER Anytime',\n",
       "       u'Yes I would please . I can usually gauge a house by the pictures but this one doesnt really have any to gauge on forcing the buyer to inquire within . On Mar NUMBER , at NUMBER PM , EMAIL wrote : Hi Marquis , Thanks for your inquiry , regarding the home on13203 Rochester Ln . We would like to give you more specifics on this property and/or arrange a showing of the home . Would you like to schedule to see this home tomorrow ? I hope to hear back from you soon . Thanks ! PERSON Hoffman NUMBER',\n",
       "       u\"No I PERSON't have realtor , only a mortgage loan originator .\",\n",
       "       u'NUMBER', u'Awesome , great thanks for the update !',\n",
       "       u'Tomorrow I have a bit of time but anytime after that would have to be after I get back into town which would be NUMBER .',\n",
       "       u\"Ok , if you need to txt/call me my number is ( NUMBER ) NUMBER , that would probably be the faster route in contacting me . PERSON't always check my email in a timely manner .\",\n",
       "       u'NUMBER N. Hwy NUMBER Apt # NUMBER Austin , TX NUMBER Question : will a money order suffice or does it have to be a check ?',\n",
       "       u'Is there a floor plan name for that house : NUMBER Willow Way ?',\n",
       "       u\"I PERSON't know if you 'll get this but my loan coordinator and I are in talks , he 's looking at the contract and is noticing a lot of discrepancies with the contract ... can we hold off on meeting up tomorrow please ?\",\n",
       "       u'Someone is trying to schedule a NEW visit ! ! ! First Name : PERSON Last Name : PERSON User Name : EMAIL Contact Phone : NUMBER -- -- -- -- -- -- -- -- -- -- -- -- -- -- -- -- -- Link to Visit Details : View Visit If the above link does not work , copy and pasy the link below . URL',\n",
       "       u'Someone is trying to schedule a EXISTING visit ! ! ! First Name : PERSON Last Name : PERSON User Name : EMAIL Contact Phone : NUMBER -- -- -- -- -- -- -- -- -- -- -- -- -- -- -- -- -- Link to Visit Details : View Visit If the above link does not work , copy and pasy the link below . URL',\n",
       "       u'Hi PERSON ! I called and left her a message . Thanks ! PERSON Myhre Loan Officer Email : EMAIL Work Phone : NUMBER Cell Phone : NUMBER Fax # : NUMBER',\n",
       "       u\"Hi PERSON , we spoke a few days ago . We did go to an open house in Lewisville . we put an offer and they accepted , but then took another the next day . The most we can do is NUMBER . I hope something comes up and financing is not an option . Elm area is ok too , Thanks for the response . I 'm still looking On Mar NUMBER AM , wrote :\",\n",
       "       u\"Her name is Wrainey PERSON with Bueler Group . We were very upset BC they did accept our offer we even negotiated a higher price . NUMBER woodrow drive , Lewisville TX is the propertyy we lost . I also feel that that should n't of happened if they accepted our offer . We are ready to buy and negotiate . On Mar NUMBER AM , `` PERSON Grzegorzek '' wrote :\",\n",
       "       u\"PERSON , where are you located ? Maybe we can all meet with you so we can work together . I get the feeling you have a strong personality and aggression it seems for the market and we honestly need that . My husband works a lot and I keep up everyday on new listings . We really just want to look at houses we can offer on . Please let me know if we can meet and if your schedule flexible for showing . We wo n't be using Wrainey anymore as we have put two strong offers in one week . Which one was accepted then left behind . Please get back with me Thanks . PERSON Smith On Mar NUMBER AM , `` PERSON Us '' wrote :\",\n",
       "       u\"Option status ? I found the house and when it was half a day listed we went saw it , and put the offer contract immediately . We did not sign a buyer agreement with her . We verbally told her just on those two properties.. On Mar NUMBER AM , `` PERSON Grzegorzek '' wrote :\",\n",
       "       u\"We have no signed buyer agreement with any Realtor . So no we PERSON't have one . On Mar NUMBER AM , `` PERSON Grzegorzek '' wrote :\",\n",
       "       u\"Is there pics on NUMBER briarwood ? I drove by the property . It was ok , but the interior is our deal breaker On Mar NUMBER PM , `` PERSON Grzegorzek '' wrote :\",\n",
       "       u\"Oh wow ! ! ! That 's awesome I just spoke with my husband grandmother and she said that would be a plus if you were in the Lewisville market and area . I 'll speak with her about meeting with you soon . Hopefully tomorrow we could meet I 'll double check with her and Ill text or email you about it to set a time . On Mar NUMBER AM , `` PERSON Grzegorzek '' wrote :\",\n",
       "       u\"Can you meet today around NUMBER or tomorrow ? ? On Mar NUMBER AM , `` PERSON Us '' wrote :\",\n",
       "       u\"Can you meet in the afternoon ? If you find pics I would like to check em out and maybe we can see the house if its something we like ; ) On Mar NUMBER AM , `` PERSON Grzegorzek '' wrote :\",\n",
       "       u\"That 'll work for us ! Just let us know where to meet you at On Mar NUMBER AM , `` PERSON Grzegorzek '' wrote :\",\n",
       "       u\"Great I 'll take a look ! We can t go over NUMBER . I 'll check em out , I 'll get with u soon On Mar NUMBER AM , `` PERSON Grzegorzek '' wrote :\",\n",
       "       u\"Hi PERSON , that house is so pretty . we looked the address up but it 's too far we discussed it . I 'm going to see the other houses in all the areas we are looking at now . , . Can I get back we with you later ? On Mar NUMBER PM , wrote :\",\n",
       "       u\"Is this property still available ? On Mar NUMBER AM , `` PERSON Grzegorzek '' wrote :\",\n",
       "       u'I get out of work at NUMBER', u'Thanks PERSON',\n",
       "       u'Ill let you know more of what we are looking for then',\n",
       "       u'on a rush anyways',\n",
       "       u'Oh sorry PERSON , got busy mowing lawn and dinner . Went by that house on way home and we are gon na pass for now . Ill keep searching , not',\n",
       "       u'Want to stay north of NUMBER from denton to PERSON . Could even do little elm / hackberry or the colony',\n",
       "       u'NUMBER bed NUMBER+ baths , NUMBER or 2car garage . Around NUMBER sq ft , country ish setting or at least a nice size yard . Want to stay under $ NUMBER .',\n",
       "       u'My email is EMAIL',\n",
       "       u\"I believe I 've been texting a lady named PERSON Hoffman . We drove by that house last night on way home and will be passing on that house , I see that a sale is pending on it . None the less I can let you know what we are looking for in a home . NUMBER sq ft country ish setting , or large yard ( have dog ) NUMBER+ bedrooms NUMBER+ baths ( preferred NUMBER ) NUMBER or NUMBER car garage ( NUMBER preferred ) Built NUMBER 's or newer want to stay under % NUMBER We live in Aubrey now so that is the preferred area to stay closes to , anything north of NUMBER and between Denton and PERSON . Would consider Little Elm , Hackberry , The Colony as well . We are NUMBER % done getting pre approved but really not in a big hurry until the right home comes along . Thanks PERSON Snider\",\n",
       "       u\"I believe I 've been texting a lady named PERSON Hoffman . We drove by that house last night on way home and will be passing on that house , I see that a sale is pending on it . None the less I can let you know what we are looking for in a home . NUMBER sq ft country ish setting , or large yard ( have dog ) NUMBER+ bedrooms NUMBER+ baths ( preferred NUMBER ) NUMBER or NUMBER car garage ( NUMBER preferred ) Built NUMBER 's or newer want to stay under % NUMBER We live in Aubrey now so that is the preferred area to stay closes to , anything north of NUMBER and between Denton and PERSON . Would consider Little Elm , Hackberry , The Colony as well . We are NUMBER % done getting pre approved but really not in a big hurry until the right home comes along . Thanks PERSON Snider\",\n",
       "       u'Hi PERSON , Thanks for the email . I just checked that home on realtor.com website and it says it is under contract ( active option contract ) could you please confirm that it is still available for viewing and putting an offer ? Appreciate your reply . Thank you . Indu On Thu , Mar NUMBER at NUMBER PM , wrote :',\n",
       "       u'Hi PERSON , thanks for the reply . yes we do have an agent who is helping us . I just saw that house while browsing the website today and requested immediately to know the status . It would be great if you could give me an update on that house when ever you get a chance . I prefer email communications than phone because I can check emails from my work without talking over phone . Thanks for the reply again . Indu On Thu , Mar NUMBER at NUMBER PM , wrote :',\n",
       "       u'hi PERSON , sorry I missed your call . is it possible to arrange a viewing of that house either today evening around 7pm or tomorrow ? please let me know I will call you in the evening . thank you .',\n",
       "       u'yes but we r ready to go through you just for this house if it works . please let me know if that is ok with you . thank you .',\n",
       "       u'hi PERSON , sorry im outside shall I call u in an hour please ?',\n",
       "       u'hi there . we are still interested . we want a good school district but do not want to be house poor . i also do not want to move Maverick ( my son ) around to more than one school . he will be in private school for kinder . so we want to be in a new house before the summer . time fliesfiflies so we would like to start looking now . we have a 20x10 storage facility full of stuff that we are missing . i am out of town until sunday . maybe early next week . i will check with PERSON . On Aug NUMBER , at NUMBER PM , PERSON Beasley wrote :',\n",
       "       u'That link is an opt out link . I still want to use you guys . Says I need a verification code .',\n",
       "       u\"PERSON , I went by to see this house . It does n't have a view , so I 'll pass . PERSON Broce On Wednesday , June NUMBER PM , PERSON wrote : PERSON , You had inquired about the property at NUMBER Lynbridge Dr. , Plano and requested additional information . Please review the attached information and let me know what other information you would like regarding this property . NUMBER Lynbridge - Plano - NUMBER more info > > $ NUMBER MLS # NUMBER Single Family NUMBER bedrooms / NUMBER baths NUMBER Sq.ft . FRISCO School District I look forward to talking with you soon . Best regards , ABR - Accredited Buyer Representative CRS - Certified Residential Specialist GRI - Graduate REALTOR Institute PERSON NUMBER PERSON NUMBER\",\n",
       "       u'rom : PERSON broce EMAIL ]',\n",
       "       u\"Hi PERSON , I 'd like to go see 6460Cherry Hills in Frisco and maybe NUMBER Sicily Dr. , Frisco . Monday afternoon . Call me if this works for you NUMBER . PERSON On Thursday , June NUMBER PM , PERSON wrote : Hi PERSON , As follow up to our discussion , I have built and saved you a search named `` Homes in Frisco from $ NUMBER to $ NUMBER '' . As new homes come on the market , you will receive them to check out . The home o Sicily Drive just came on the market and has a nice pool . As you receive homes to review , save those homes that you like by clicking on `` Save Home '' . If you have any questions please send me an email or give me a call . Best regards . ABR - Accredited Buyer Representative CRS - Certified Residential Specialist GRI - Graduate REALTOR Institute PERSON NUMBER PERSON NUMBER\",\n",
       "       u\"Okay thank you I will reach out to Seller . He apologized the home was not clean today . On Jun NUMBER PM , `` PERSON '' wrote :\",\n",
       "       u\"The Preserve in PERSON Taylor Beiriger , Sales Consultant Phone : NUMBER Lexa Willey , Sales Consultant Phone : NUMBER DIRECTIONS NUMBER Woodland Pond Drive PERSON , TX NUMBER FROM I NUMBER : Travel North on I NUMBER , take the McDermott exit . Turn west ( left ) on McDermott . Turn right at Shallowater and right on Woodland Pond Drive into community . Model homes will be on your right . FROM TX NUMBER N : Exit Custer Rd . and turn right . Turn left onto McDermott . Turn left at Shallowater and right on Woodland Pond Drive into community . Model homes will be on your right . Coreen Couch Community Sales Manager | Hills of Kingswood | Ashton Woods Homes NUMBER Vanderbilt Lane | Frisco , TX NUMBER Office : NUMBER | Fax : NUMBER EMAIL | URL EMAIL ] THE # NUMBER MOST TRUSTED BUILDER IN AMERICA According to Lifestory Research Most Trusted Builders in America StudySM '' Plans , specifications , prices , and available items are subject to change without prior notice or obligation , and may vary by elevation . Square footage is approximate , and subject to change without prior notice or obligation . Images are an artist 's conception , and not a guarantee of final specifications . Please contact an Ashton Woods Homes Sales Agent for details and additional information . ''\",\n",
       "       u\"PERSON , this looks and sounds good . Does it have a view ? PERSON On Saturday , October NUMBER AM , PERSON wrote : New Property Notification New listings have matched one or more of your searches . NUMBER Scotia Drive PERSON Tx NUMBER view search > > Search Name : Homes in PERSON from $ NUMBER to $ NUMBER $ NUMBER MLS # NUMBER SingleFamily NUMBER bedrooms / NUMBER baths NUMBER Sq.ft . PERSON School District Please visit our website to see more new listings for all your searches Call or email us if you would like more information regarding these properties . If you prefer not to be contacted and receive any additional emails please reply to this email and change the subject to `` unsubscribe '' , or follow this link and we will update our database .\",\n",
       "       u\"You too . Thank you On Sunday , October NUMBER PM , PERSON wrote : PERSON , Lovely home - nice back yard - but no view - looks like room for a pool ! We 'll keep looking . Have a blessed week . Warmest regards , ABR - Accredited Buyer Representative CNE - Certified Negotiation Expert CRS - Certified Residential Specialist GRI - Graduate REALTOR Institute PERSON NUMBER\",\n",
       "       u'Yes PERSON , I found a home . PERSON Christmas , PERSON',\n",
       "       u'Anytime', u'Anytime',\n",
       "       u'how about NUMBER today ? On PERSON , Jun NUMBER at NUMBER PM , PERSON Dunham wrote :',\n",
       "       u'Hi PERSON , Are there property near UTD ( University of taxes at Dallas in Richardson ) ? We are looking for minimum NUMBER bedrooms and NUMBER bathroom . Our budget is around NUMBER regards , On Tue , Jun NUMBER at NUMBER PM , PERSON wrote :',\n",
       "       u'Thanks Jannet , It seems like driving time is about NUMBER min . Are there anything closer than that ? We are looking for a place like within NUMBER away from the UTD regards , On Wed , Jun NUMBER at NUMBER PM , wrote :',\n",
       "       u'Hi Jannet , This seems to be a good one . Could you please give us more information including HOA dues ? Thank you On Tue , Jun NUMBER at NUMBER AM , PERSON wrote :',\n",
       "       u'Hi PERSON , We would like to see it . We maybe able to come in July 4th weekend . regards , On Wed , Jun NUMBER at NUMBER AM , wrote :',\n",
       "       u\"We are PERSON and PERSON.The M & M's.We live in NJ now and are looking for a NUMBER or NUMBER bedroom home from NUMBER to NUMBER.Year is NUMBER till now.The kitchen as well needs to be a little roomy as for me and my oldest we do alot of baking and cooking.Specially around the holidays.So we need space.Thanks .\",\n",
       "       u\"wow that 's funny our last name is PERSON and PERSON PERSON\",\n",
       "       u'Hi PERSON . We are still looking in the Austin area.We were looking at NUMBER Lake Champlain , but it is under contract right now.So on that not we are looking at NUMBER Harvest Time Drive.We are also looking into NUMBER or NUMBER Derby Downs.Somrething with a , large kitchen and from NUMBER till now.Price range NUMBER to NUMBER.Our house had a couple of leads but no one wanted to come see it and make an offer.We would like to stay in touch and keep us informed.Thanks for your time .',\n",
       "       u\"We just actually sat down with a realtor around NUMBER today to help with our house.Funny story is that she is our neighbor down the street and did n't know she was a realtor until we called on which she knows the area really good.So everything is going well right now.Will have a lot more internet showings of house then what we have right now . If we sell this house she said we would have at least NUMBER days to find something.My question for you is if we did sell what is the chance of putting a good NUMBER on another house of our choice.Would that be ok .\",\n",
       "       u'No unfortunately we did not sell our home yet . We have had people look at it but no hooks . trying to be patient . I have a question thou . I see NUMBER Derby Downs if off the market . Did someone buy it or is the time on the market up ?',\n",
       "       u'can we get more information on the NUMBER property like more pictures of the bathrooms and would you take a lower price for the NUMBER Doyal Dr if we paid all in cash . Maybe around NUMBER or NUMBER . Just asking . Just wanted to see our options . Our house here is sold . Working with inspectors right now . I still have to show my husband but I love this Doyal dr . Thanks .',\n",
       "       u'I just need to know if Doyal Dr is still on the market . If you take cash for like NUMBER or NUMBER and need more pictures of bathrooms and such . Thank you .',\n",
       "       u\"NUMBER leave message and I 'll call back .\",\n",
       "       u'We did not sell the house . The deal fell thru . So thanks for your time and professionalism .',\n",
       "       u'Hello PERSON , you have sent us listings that are not available for us to view because they are listed as contingent . We are hoping to see any that are active status only . Thanks , Sila',\n",
       "       u'Thank you and yes we have found a home Regards , Domingo Hernandez',\n",
       "       u'Hi ! URL', u'Hi ! URL', u'Hi ! URL',\n",
       "       u'-- -- -- -- -- -- -- -- -- -- -- -- -- -- You have a new text message ! -- -- -- -- -- -- -- -- -- -- -- -- -- -- Details -- -- -- - Name PERSON Tyrrell Email EMAIL ( EMAIL ) Phone NUMBER Message Before NUMBER tonight will be fine',\n",
       "       u'-- -- -- -- -- -- -- -- -- -- -- -- -- -- You have a new text message ! -- -- -- -- -- -- -- -- -- -- -- -- -- -- Details -- -- -- - Name PERSON Tyrrell Email EMAIL ( EMAIL ) Phone NUMBER Message Before NUMBER tonight will be great',\n",
       "       u'Hello , Yes my wife and I would like to come out on Wednesday December NUMBER to see the place . Will that be ok with you .',\n",
       "       u'I would really like to find a NUMBER bed NUMBER bath at the smallest and would like to rent at first . We are interested in downsizing . Would you be able to help in that aspect',\n",
       "       u\"NUMBER would be great for me . I really PERSON't think we could get approved to purchase a house right now . I do make enough but we do have not so foot credit\",\n",
       "       u\"We just PERSON't have the money to put down on a purchase right now . But if there is an option to buy we also are interested in that also\",\n",
       "       u\"After NUMBER at NUMBER would be great . Thank you ! On Mar NUMBER AM , `` PERSON Hernandez '' wrote :\",\n",
       "       u\"Hi PERSON , There were a few houses I really liked and would love to see . Would you be available this weekend ? Thanks for your help ! PERSON Wright On Apr NUMBER PM , `` PERSON Dettmer '' wrote :\",\n",
       "       u'hi . Yes I am . Thanks very much for the emails . Hope all is well with you . Ann',\n",
       "       u'PERSON . NUMBER Apache Drive is down the block from my friends . Could I see that over Thanksgiving ? Thanks . Hope you are well . Ann',\n",
       "       u\"that 's okay . I am interested because it is down the block from where my friends live . some problems , though . seems to be very close to the other homes . I could also get a new home there for that price . I am still not crazy about PERSON City . I am coming down for Thanksgiving so the opportunity presents itself . Thanks . Hope you are doing well . Ann\",\n",
       "       u'hi PERSON . Were you able to check on that house ? What about the new one that was listed ? I saved it . Thanks Ann',\n",
       "       u'hi . PERSON . Is that house still available ?',\n",
       "       u'hi PERSON . Thanks for the emails . I am still looking . Ann',\n",
       "       u'hi . PERSON . Thanks for the email . I am still planning on buying in Austin . Hope you are well . Ann',\n",
       "       u\"Hi PERSON , that sounds great , thank you so much . I am available next week Oct 7th in the evening time , but otherwise my schedule for next few weeks is pretty tight at the moment.Thank You , Punam Malani , RN , BSN On Monday , September NUMBER PM , EMAIL '' wrote : Hi Punam , I just wanted to let you know that I am looking into some new construction communities that may have lots that are a little larger . Once I find out , I will let you know and maybe we can go take a peek this weekend if you are n't working . Hope all is going well and I 'll talk to you soon ! Have a great evening ! | | | | | PERSON Null NUMBER |\",\n",
       "       u'Hi PERSON , we can meet around NUMBER:30pm or anytime after 6pm . Can you please send me details of what we plan on visiting that evening Thank You , Punam Malani , RN , BSN -- -- -- -- -- -- -- -- -- -- -- -- -- -- -- -- -- -- -- -- -- -- On Wed , NUMBER , EMAIL wrote :',\n",
       "       u\"Hi PERSON , I saw the home you sent , I like it , but the backyard has no land space ? Is that correct ? Also , I have n't gotten a chance to show it to Shashi yet . If it is not possible for this Wednesday , lets just resume in November sometime , since I am working almost every weekend next few weeks as well . Thank you for all your help ! Currently the new apartment we have leased ends next July , so we are open to get a home anytime before that , as long as we find something that we want.Thank You , Punam Malani , RN , BSN On Monday , October NUMBER PM , PERSON Null wrote : Well I spent a half a day Saturday and most of the day today going back around visiting the models and checking availability on the areas I wanted to show you . Some are priced too high and others are still high but PERSON't have anything less than NUMBER months out . I 'm sorry to disappoint . I did text you an existing home that I pulled up while I was out there by searching homes close to me that looked nice . Did you get that ? PERSON Null6000600672Sent from my iPhone On Oct NUMBER , at NUMBER AM , Punam Malani wrote : Hi PERSON , we can meet around NUMBER:30pm or anytime after 6pm . Can you please send me details of what we plan on visiting that evening Thank You , Punam Malani , RN , BSN -- -- -- -- -- -- -- -- -- -- -- -- -- -- -- -- -- -- -- -- -- -- On Wed , NUMBER , EMAIL wrote :\",\n",
       "       u'For rite now I would like to keep it at $ NUMBER but if we find the perfect home with everything we want..we can push it to $ NUMBER . Thanks',\n",
       "       u'The auto search keeps sending home listing in forthworth..I only want to look for homes in Dallas , Frisco , Castle Hills , Coppell , flower mound , little Elm and any other small cities near those places I am not aware.. I am least interested in having a home in plano , Lewisville , irving , forthworth Thanks',\n",
       "       u\"thanks : ) Thank You , Punam Malani , RN , BSN On Tuesday , October NUMBER AM , PERSON Null wrote : I checked the search and there was nothing with Fort Worth in there . I made sure all the areas you wanted are in there now . Let me know if it 's still sending Fort Worth . Thanks ! PERSON Null6000600672Sent from my iPhone On Oct NUMBER , at NUMBER PM , Punam wrote : The auto search keeps sending home listing in forthworth..I only want to look for homes in Dallas , Frisco , Castle Hills , Coppell , flower mound , little Elm and any other small cities near those places I am not aware.. I am least interested in having a home in plano , Lewisville , irving , forthworth Thanks On Oct NUMBER , at NUMBER PM , PERSON Null wrote : I 'm so disappointed in what I saw today . We may have better luck finding a nice existing home that comes on the market . I think we should wait and not go on Wednesday . I will keep going out and looking at the new builds and if I find something that seems like what you want , I 'll let you know , otherwise we can start in November . I 'm always keeping my eyes open and on the hunt . ? ? . I know we never really narrowed down your price point but I 've been trying to keep it between $ NUMBER . How high are you willing to go . I will always try to find something for the lowest price and the best deal for your money . If we increase the max a little , I may be able to find more of what you like . Thanks ! PERSON Null6000600672Sent from my iPhone On Oct NUMBER , at NUMBER PM , Punam Malani wrote : Hi PERSON , I saw the home you sent , I like it , but the backyard has no land space ? Is that correct ? Also , I have n't gotten a chance to show it to Shashi yet . If it is not possible for this Wednesday , lets just resume in November sometime , since I am working almost every weekend next few weeks as well . Thank you for all your help ! Currently the new apartment we have leased ends next July , so we are open to get a home anytime before that , as long as we find something that we want.Thank You , Punam Malani , RN , BSN On Monday , October NUMBER PM , PERSON Null wrote : Well I spent a half a day Saturday and most of the day today going back around visiting the models and checking availability on the areas I wanted to show you . Some are priced too high and others are still high but PERSON't have anything less than NUMBER months out . I 'm sorry to disappoint . I did text you an existing home that I pulled up while I was out there by searching homes close to me that looked nice . Did you get that ? PERSON Null6000600672Sent from my iPhone On Oct NUMBER , at NUMBER AM , Punam Malani wrote : Hi PERSON , we can meet around NUMBER:30pm or anytime after 6pm . Can you please send me details of what we plan on visiting that evening Thank You , Punam Malani , RN , BSN -- -- -- -- -- -- -- -- -- -- -- -- -- -- -- -- -- -- -- -- -- -- On Wed , NUMBER , EMAIL wrote :\",\n",
       "       u'I dont think i saw this email , would like to check out these homes in murphy as well if they are still available . Thanks : ) Thank You , Punam Malani , RN , BSN -- -- -- -- -- -- -- -- -- -- -- -- -- -- -- -- -- -- -- -- -- -- On Thu , NUMBER , PERSON Null wrote :',\n",
       "       u'yea def . worth checking out ! Thank You , Punam Malani , RN , BSN -- -- -- -- -- -- -- -- -- -- -- -- -- -- -- -- -- -- -- -- -- -- On Wed , NUMBER , PERSON Null wrote :',\n",
       "       u'No , working all weekend ... but I am off Tuesday evening ? Does that work for you ?',\n",
       "       u'Sounds good : ) Anytime after NUMBER pm is good for us .',\n",
       "       u\"Lol ... . It 's Shashi Kiran Deshetti NUMBER And email I 'd : EMAIL Thanks ? ?\",\n",
       "       u\"lolThank You , Punam Malani , RN , BSN On Saturday , October NUMBER PM , PERSON Null wrote : I guess I was n't that far off , I was going to guess Sashi PERSON Null6000600672Sent from my iPhone On Oct NUMBER , at NUMBER PM , Punam wrote : Lol ... . It 's Shashi Kiran Deshetti 4056122182And email I 'd : EMAIL\",\n",
       "       u\"do you locate by college nationally ? On Mon , May NUMBER at NUMBER AM , PERSON Dunham wrote : Hi PERSON , Are you aware you can search for homes by School Campus ? HomeCity 's website is one of the few websites in the country that provides that ability . Please let us know what schools you are interested in and we will update your search . Of course , feel free to sign into the website and Search by School . Login to HomeCity Real Estate Let us know how we can assist you ! If you would like to be removed from our email list simply reply to this email and change the subject to `` unsubscribe '' . PERSON Dunham\",\n",
       "       u'yes On Tue , May NUMBER at NUMBER PM , PERSON Hernandez wrote : Are you asking if we locate homes by college Nationally ? PERSON Hernandez',\n",
       "       u'Yes', u'Can I view the home today ?', u'PERSON Fontana',\n",
       "       u'Its for my son , PERSON Fontana , we would both like to view the home',\n",
       "       u'PERSON , oddly , many listings I found on Zillow do not show up on your search . For example : NUMBER Sparling Way Dr , Carrollton , TX NUMBER PERSON Fontana EMAIL On Fri , Nov NUMBER at NUMBER AM , wrote :',\n",
       "       u'Excellent ! Good to know your information is more current . My daughter in law is very anxious to see a few available homes perhaps as soon as Sunday . My son works all day tomorrow , so that is not possible . PERSON Fontana EMAIL On Fri , Nov NUMBER at NUMBER PM , PERSON Musgrove wrote :',\n",
       "       u\"PERSON , we tried your search again and nothing is coming up . Perhaps we are doing something wrong ? On Zillow we see the following ( perhaps once again their status is wrong ) : NUMBER Harvest Hill Rd APT NUMBER , Dallas , TX NUMBER Harvest Hill Rd # NUMBER , Dallas , TX NUMBER Midway Rd , Dallas , TX NUMBER Midway Rd APT NUMBER , Dallas , TX NUMBER We 'd be willing to look at any one of these today . My son PERSON had been unavailable until just now . PERSON Fontana EMAIL On Fri , Nov NUMBER at NUMBER AM , wrote :\",\n",
       "       u\"PERSON , I PERSON't know where we went wrong with the prior agent from your firm . Last we spoke , she said she would send information to get my son and daughter in law qualified through a preferred lender she would recommend . For whatever reasons , she never followed through . Since then , they 've decided to extend the lease on their rental . While we 'd like to continue to get listings , perhaps you can again recommend a lender , because it was suggested that by attending a first time home buyers seminar , and working on learning the steps involved in application , they could prequalify and begin seeing homes . She seemed to completely ignore the fact that I had offered to accelerate the process by contributing to the down payment for the appropriate opportunity . If you 'd like to call me now at NUMBER I 'd be happy to explain in more detail . PERSON Fontana EMAIL On Tue , Jan NUMBER at NUMBER PM , wrote :\",\n",
       "       u'His name is PERSON Fontana . I share most of these emails with him . You can contact him at EMAIL . The prior agent had this information . She just seemed to lose interest , for whatever reasons . PERSON Fontana EMAIL On Wed , Jan NUMBER at NUMBER AM , wrote :',\n",
       "       u'Before I call ... ... ... ..is it indeed PERSON & PERSON ? PERSON Lancaster Mortgage Lender | NMLS # NUMBER Tennyson Parkway Ste NUMBER Plano , TX NUMBER *C : ( NUMBER ) NUMBER *F : ( NUMBER ) NUMBER * EMAIL URL EMAIL ] EMAIL ] EMAIL ] EMAIL ] EMAIL ] EMAIL ] EMAIL ] EMAIL ] LO State Lic # NUMBER | Corp State Lic # | Corp NMLS # NUMBER | Equal Housing Lender *** THE FINEST COMPLIMENT THAT I CAN RECEIVE IS THE REFERRAL OF A FAMILY MEMBER , FRIEND OR CO WORKER ***',\n",
       "       u'Got it ... thanks for that info , it helps ! Is the phone number for PERSON or PERSON ? PERSON Lancaster Mortgage Lender | NMLS # NUMBER Tennyson Parkway Ste NUMBER Plano , TX NUMBER *C : ( NUMBER ) NUMBER *F : ( NUMBER ) NUMBER * EMAIL URL EMAIL ] EMAIL ] EMAIL ] EMAIL ] EMAIL ] EMAIL ] EMAIL ] EMAIL ] LO State Lic # NUMBER | Corp State Lic # | Corp NMLS # NUMBER | Equal Housing Lender *** THE FINEST COMPLIMENT THAT I CAN RECEIVE IS THE REFERRAL OF A FAMILY MEMBER , FRIEND OR CO WORKER ***',\n",
       "       u\"Taylor , let me apologize for my son . He 's gotten quite busy with work and school , but did promise he will try to call you in the next week or so . Please pass this message on to the mortgage broker also . PERSON Fontana EMAIL On Mon , Jan NUMBER at NUMBER AM , wrote :\",\n",
       "       u\"PERSON is coming down the home stretch of a grueling semester . He has been reading your emails , as well as researching properties on the internet . Keep the emails coming . Beginning in June , at the latest , I 'd like to have him begin the mortgage qualification process so we can work that out well in advance . He 'd still be in the market to buy in the fall to early winter . PERSON is copied so he can respond as well . PERSON Fontana EMAIL On Mon , Apr NUMBER at NUMBER PM , wrote :\",\n",
       "       u\"Hello PERSON , We have matched your agency with a new client , PERSON Rumbold . Attached you will find a copy of the client Profile and Referral Agreement for your records . As a reminder , to ensure an amazing experience for PERSON , we need the assigned agent to contact the client on the same day or no later than NUMBER hours of acceptance . If you have any questions regarding the referral , please contact me via email or my direct line as soon as possible . Sincerely , PERSON Kujawa Exec . Agent Coordinator IN HOUSE REALTY Direct : ( NUMBER ) NUMBER Cell : ( NUMBER ) NUMBER Office : ( NUMBER ) NUMBER , ext.NUMBER Fax : NUMBER Email : EMAIL *The Preferred Real Estate Partner of Quicken Loans ! You are receiving this email because you are part of In House Realty 's agent network . This message is intended only for the use of the individual or entity to which it is addressed . This message may contain legally privileged and/or confidential information . Any unauthorized use , disclosure , reproduction , or distribution is prohibited . If you are not the intended recipient , please notify us by telephone or e mail and delete/destroy the original and any copies . Equal Housing Opportunity . We do business in accordance with the Federal Fair Housing Law . License # : NUMBER Copyright NUMBER In House Realty LLC , NUMBER Griswold St , Detroit , PERSON NUMBER . All Rights Reserved . NUMBER\",\n",
       "       u\"Hi PERSON , I apologize . This email went to my Junk box and I did n't realize it was here . I would love to see this house . You can reach me at NUMBER ( work ) or NUMBER ( cell ) . Thank you ! PERSON\",\n",
       "       u'Hi ! Is it possible to see the house this weekend ? Thank you !',\n",
       "       u'Zillow - Your Edge in Real EMAIL only screen and ( max device width : } Hi PERSON Do you think we could see this property ? Thanks ! PERSON',\n",
       "       u\"Hello PERSON I did talk with PERSON about a week ago about what we were looking for and also some locations to apply for a land loan but I have n't heard back from her with the information . Thanks PERSON Kothmann\",\n",
       "       u'Hi PERSON I wanted to let you know I received these search results . Thanks',\n",
       "       u'Hi PERSON My husband and I did look at the properties you sent and we did not see anything we were interested in right now . I did look into a land loan and they advised us that it would be better for us to take care of some other bills and look into again in NUMBER days or so . I will keep in touch with you . Thanks for your help . PERSON',\n",
       "       u'Hi PERSON Thanks for checking in with me , there in nothing currently that I need but as soon as I get my finances in order I will contact you . Thanks PERSON Kothmann',\n",
       "       u\"Hi PERSON I received your text and the market is about what we figured for this area , we were thinking about listing it around $ NUMBER - $ NUMBER ( when we get that far . ) As far as the loan , I spoke with Jodi last week and she stated we were approved but we have some accounts listed `` in dispute '' on them that have to be removed to get a FHA loan , so we are in the process of doing that now . I think after that she will run the credit report again and see where we are at . Thanks PERSON Kothmann\",\n",
       "       u'Yes that is ok with me . Thanks for all your help .',\n",
       "       u'Hi PERSON ... we are waiting until July to run the credit again and then we will see .',\n",
       "       u'I want to view that house I liked at the new subdivision',\n",
       "       u'The last one we saw And I want to apologize in in town tomorrow',\n",
       "       u'Are we gon na be able to see the house about NUMBER ?',\n",
       "       u'Thank you ! Happy Connecting . Sent from my Sprint Samsung Galaxy S NUMBER',\n",
       "       u\"FYI know you 're a fan of Baylor .\",\n",
       "       u\"$ NUMBER/foot ? ? ? That 's just stupid ... -AD\",\n",
       "       u'Hi ! PERSON Duca would like to share a FREE SmartPhone Mortgage App with you . Available on Android and iPhone , you can install it by tapping the following link from your phone : URL',\n",
       "       u'Hi PERSON , It was so nice speaking with you just a second ago . I wanted to make sure I',\n",
       "       u\"Hey PERSON : ) Just checking in . My roommate 's boyfriend , PERSON , has some time this afternoon to drop by and look at possible places . Have you found any possible options that we could add to his `` check out '' list ? If not no problem , I just wanted to see if he could see any before the weekend . Thanks so much , Kendra On Thursday , December NUMBER , PERSON Powers wrote :\",\n",
       "       u\"Great thank you PERSON ! I will take a look at these as soon as I have a chance . Meanwhile , I 'm just going to forward this message over to my roommate her her boyfriend . Best , Kendra On Friday , December NUMBER , PERSON Powers wrote :\",\n",
       "       u\"Hi PERSON , That 's for checking it . We really liked three of the apartments : *NUMBER W 51st - 2bed/1bath - $ NUMBER* *NUMBER Rio Grande - 2bed/2bath - $ NUMBER* *NUMBER Longview - 2bed/1bath - $ NUMBER* The first one is our top pick because we really would rather not be so close to the university . We also found another - District NUMBER - which is located in the same neighborhood as NUMBER W 51st . I would have hoped to get an application in by now but PERSON is waiting on her boyfriend to check out the places in person . His schedule is pretty packed so it 's taking longer than expected . Is NUMBER W 51st still available to your knowledge ? Thanks again PERSON , Kendra On Tue , Dec NUMBER at NUMBER AM , PERSON Powers wrote :\",\n",
       "       u'okay great thanks PERSON ! yes , we do have the applications . We will get them over to you hopefully tonight ... On Tue , Dec NUMBER at NUMBER PM , PERSON Powers wrote :',\n",
       "       u\"Hey PERSON , I 'm sorry I have n't gotten back to you . It 's taken me a while to go through my emails after the holidays . But it looks like we are n't in the market anymore . It was a little too much to scape together in such a short amount of time for us . But I wanted to thank you for helping us . You were the best agent I had worked with . I 'll be sure to let you know if we are in the market again . Thank you so much , Kendra On Monday , January NUMBER , PERSON Powers wrote :\",\n",
       "       u'Hi There , Thank you for the noticed of the homes - but I am happily living in a home right now and I am not on the market . Would you take me off your list . Thank you ! Kendra',\n",
       "       u'I like this one . If I can find a RN Case Management position in the area this may be on the must see list ! Thank you ! Alana Evans',\n",
       "       u'Thank you . I see there are two case manager positions posted . I am going to try to find the name of the director of clinical resources and email my resume . I will also post it on their website . Have a great evening ! Alana',\n",
       "       u\"Hi PERSON , So I have an interview at Lakeway Regional Medical Center on Monday April NUMBER . My husband and NUMBER children will be flying down on Sat and leaving early on Tues . I PERSON't know if you have thoughts on things to see .\",\n",
       "       u'I think it would be nice to see the last one .',\n",
       "       u'Hi , Thank you for the listings . Did you ever find out if anyone is available this weekend or Monday ? Alana',\n",
       "       u'I think so . I will go into Lakeway Regional at NUMBER . I would imagine I would be done by NUMBER . My husband will be in Lakeway with the kids . His cell is NUMBER . He did want to check out some properties . Thank you !',\n",
       "       u'We did like Falconhead . I believe we drive by both of these .',\n",
       "       u'I have not heard yet . I am still hopeful . I did feel the interview went well . I just worry that it took too long for me to get the flight down and that they may have already filled it . But my husband just found out that they opened a new office in Austin just NUMBER weeks ago ! Take care !',\n",
       "       u'Drove by ! Sorry for the spelling . Sometimes the auto correct changes things !',\n",
       "       u\"They did email me back . If it does work out I will likely rent with possibility of buying maybe in a year 's time . Hope all is well !\",\n",
       "       u\"Ok ! Thanks for all you 've done .\",\n",
       "       u'Hi Tressie , One or more new/updated listing ( s ) match your search criteria : Click the Link to view the new/updated Listings : View Listings in Portal Click here to see these listings in Matrix : Agent View in Matrix PERSON Burklow , REALTOR HomeCity Real Estate NUMBER EMAIL URL Delivered By CoreLogic , Inc. | NUMBER Pacifica , Irvine , CA NUMBER Click this link if you wish to Unsubscribe . URL',\n",
       "       u'I really like this one !',\n",
       "       u\"I PERSON't think I ever received it . Does PERSON have my correct email address ? Tressie Seegers , Executive Director The Austin Harmony Project , Inc. Harmony is a NUMBER ( c ) ( NUMBER ) Nonprofit whose mission is to enrich the lives of Individuals with Developmental Disabilities through art , music , & community URL NUMBER W. Stassney , suite NUMBER & NUMBER Austin , TX NUMBER ( studios ) NUMBER ( fax ) NUMBER ( cell ) On Saturday , March NUMBER AM , PERSON Burklow wrote : Great ! Were you able to do your loan application ? That 's our first step . PERSON Burklow , Realtor Homecity NUMBER\",\n",
       "       u\"Hi PERSON , I am in the process of selling my Mother 's business and wo n't have the cash for a down payment until approximately the end of May when the deal closes . Should I wait and complete the application until I have cash in hand for a down payment on the duplex I want to purchase , or should I complete the application now ? My credit score is poor stemming from a divorce several years ago . I 'm hoping if I put a minimum of $ NUMBER down my credit score will be less of an issue . Am I correct ? I have a copy of my credit report and am in the middle of disputing inaccurate information that is included - I have proof of a debt I paid , however it is still showing up on my credit report . Question : On PERSON one of the application , it asks if this will be the first or second mortgage . I have owned two houses in the past so will this be my third mortgage or is it referring to someone that is in a house wanting to re finance ? So in that case the answer would be `` first . '' Which is correct ? Thank you for your time and I look forward to hearing from you , tressie Tressie Seegers , Executive Director The Austin Harmony Project , Inc. Harmony is a NUMBER ( c ) ( NUMBER ) Nonprofit whose mission is to enrich the lives of Individuals with Developmental Disabilities through art , music , & community URL NUMBER W. Stassney , suite NUMBER & NUMBER Austin , TX NUMBER ( studios ) NUMBER ( fax ) NUMBER ( cell ) On Saturday , March NUMBER AM , PERSON Burklow wrote : Www.texasloanresource.com Sorry . PERSON Burklow , Realtor Homecity NUMBER\",\n",
       "       u\"Thank you , PERSON . I went ahead and submitted the application . I tried to go back and review my answers , but when I logged in the application was on the last PERSON and would n't let me go back until I hit submit . So I hope everything was completed . Will PERSON Jr. be calling and letting me know the status of the application once it 's reviewed ? Warm Regards , Tressie Tressie Seegers , Executive Director The Austin Harmony Project , Inc. Harmony is a NUMBER ( c ) ( NUMBER ) Nonprofit whose mission is to enrich the lives of Individuals with Developmental Disabilities through art , music , & community URL NUMBER W. Stassney , suite NUMBER & NUMBER Austin , TX NUMBER ( studios ) NUMBER ( fax ) NUMBER ( cell ) On Saturday , March NUMBER PM , CMG Financial wrote : Dear Tressie Seegers , Your application has been submitted , and you will be hearing from one of our representatives shortly . If you need further assistance , feel free to contact us at ( NUMBER ) NUMBER . Sincerely , CMG Financial\",\n",
       "       u\"Hi there , I spoke with PERSON at Mr. Credit Solutions and he will be working on my account . I 'll let you know the status when any changes have taken effect . Warm Regards , Tressie Tressie Seegers , Executive Director The Austin Harmony Project , Inc. Harmony is a NUMBER ( c ) ( NUMBER ) Nonprofit whose mission is to enrich the lives of Individuals with Developmental Disabilities through art , music , & community URL NUMBER W. Stassney , suite NUMBER & NUMBER Austin , TX NUMBER ( studios ) NUMBER ( fax ) NUMBER ( cell )\",\n",
       "       u\"Hi there , Are there any in the $ NUMBER range that are n't East ? Tressie Seegers , Executive Director The Austin Harmony Project , Inc. Harmony is a NUMBER ( c ) ( NUMBER ) Nonprofit whose mission is to enrich the lives of Individuals with Developmental Disabilities through art , music , & community URL NUMBER W. Stassney , suite NUMBER & NUMBER Austin , TX NUMBER ( studios ) NUMBER ( fax ) NUMBER ( cell ) On Friday , April NUMBER AM , Cecilia PERSON Burklow wrote : Hi Tressie , One or more new/updated listing ( s ) match your search criteria : MLS # : NUMBER New NUMBER S South Oak Dr Price : $ NUMBER Status : Active Beds : Baths :\",\n",
       "       u'I like this one . Right around the corner from Harmony .',\n",
       "       u\"Seeing the duplexes available , I 'd like to refine my search to a house with either a small studio space separate from the house for my Dad to live in or space in the backyard to build something for him . I 'm trying to get approved for $ NUMBER ( I think ? ) . Same general area of NUMBER . NUMBER or more bedrooms and no less than NUMBER baths . Please let me know if you have any questions . Thanks ! !\",\n",
       "       u'See below',\n",
       "       u\"Hi PERSON , Hope all is well . I 'd like to refine my search for a property . The amount I'l be approved for is $ NUMBER . I was looking for a duplex so my Dad can move from Houston and live beside me , but I 'm not sure if we 'll find something for that amount . I 'm open to a single family home . A fixer upper is fine . The parameters include nothing East of I35 . I would like to stay Central or South . My business is on the corner of Manchaca and Stassney and I would like to keep my commute time under NUMBER or NUMBER minutes . Please continue sending the homes in the portal that fit our needs . We will find something perfect . Warm Regards , Tressie Tressie Seegers , Executive Director The Austin Harmony Project Harmony is a NUMBER ( c ) ( NUMBER ) Nonprofit whose mission is to enrich the lives of adults with developmental disabilities through art , music and community URL yelp.com/biz/the austin harmony project austin Twitter : EMAIL Harmony 's location : NUMBER W. Stassney , suite NUMBER & NUMBER Austin , TX NUMBER ( studios ) NUMBER ( fax ) NUMBER ( cell )\",\n",
       "       u\"Found a house and I 'm going to do a drive by this morning . We should be closing on my mother 's estate this week . If timing does n't allow for me to buy this house , at least you can see what I 'm looking for and we can find something else . Warm Regards , Tressie\",\n",
       "       u\"Hi PERSON , Love the house , but the neighborhood is kinda eh . The house next door looked pretty junkie . But at least now you know what I would love . With enough of a yard we can build a structure that my Dad to live in that could eventually be an art/music studio . I have no idea when my credit score will actually raise NUMBER points . I 'll email him . When we close on Mom 's estate I 'll have about $ NUMBER to put down . It seems like with that much cash down I would be approved . My credit stuff is all from years ago . Except for a Dr. bill I paid in Dec of NUMBER , but it has n't been removed yet . I 'll keep in touch . I feel certain that whatever we find will be the perfect place I should be . Warm Regards , Tressie Tressie Seegers , Executive Director The Austin Harmony Project Harmony is a NUMBER ( c ) ( NUMBER ) Nonprofit whose mission is to enrich the lives of adults with developmental disabilities through art , music and community URL yelp.com/biz/the austin harmony project austin Twitter : EMAIL Harmony 's location : NUMBER W. Stassney , suite NUMBER & NUMBER Austin , TX NUMBER ( studios ) NUMBER ( fax ) NUMBER ( cell ) On Wednesday , June NUMBER AM , PERSON Burklow wrote : Tressie , Thanks for sharing - I agree this one looks great ! I did a quick analysis of the neighborhood and it is priced correctly for today 's market - we 'll keep our eye on it , but in likelihood it will sell quickly . PERSON't worry though , when your time is right we 'll be the ones jumping on a new listing like this ! What did you think when you drove by ? How soon are you expecting the go ahead with the credit people ? PERSON Burklow NUMBER\",\n",
       "       u\"Hi PERSON , I 'm set to close on my mom 's property on the 30th . I want to look at a house at NUMBER Onion Creek Drive , Manchaca , TX , United States Can we set up a time to look at it Monday after NUMBER ? Harmony is expanding to Wimberley and I 'd like to be further South in Manchaca . There might be another one or two to look at while we 're there . Can you do a search ? We did a drive by at the address above and would love it if they 'll take less . It needs a lot of work , however . Very good potential .\",\n",
       "       u\"Here 's another house I 'd like to consider . Could n't drive by because the address is withheld . MLS # NUMBER\",\n",
       "       u\"Yes , NUMBER will work . I have appointments for my dogs at NUMBER on Cameron road , but I 'll get there early and most likely be done in time to meet u . My cell is NUMBER . Will u text me your cell number in case I need to call you ? I will need a loan . I 'm going to check a few places and with PERSON Jr . I should close with my mom 's property on the 30th and have money in hand for the down payment .\",\n",
       "       u'Expanded from NUMBER to NUMBER and south to Manchaca . Click the Link to view the new/updated Listings : View Listings in Portal Click here to see these listings in Matrix : Agent View in Matrix PERSON Burklow , REALTOR HomeCity Real Estate NUMBER EMAIL URL Delivered By CoreLogic , Inc. | NUMBER Pacifica , Irvine , CA NUMBER Click this link if you wish to Unsubscribe . URL',\n",
       "       u'Thank you PERSON . Hello Tressie , I am happy to answer any questions you may about the Rehab loan . Please feel free to email or call me on my cell phone - NUMBER . I will be in and out of the office today so the cell phone is best . I look forward to hearing from you . Hope you have a great Friday ! PERSON Lord Sr. Mortgage Consultant , NMLS # NUMBER Supreme Lending NUMBER Executive Center Dr # NUMBER Austin , TX NUMBER Cell NUMBER Fax NUMBER Office EMAIL URL',\n",
       "       u\"Hi PERSON , Can you send PERSON 's email address to me please ? Thanks ! ! Tressie Seegers , Executive Director The Austin Harmony Project NUMBER W. Stassney , Suite NUMBER Austin , TX NUMBER ( studios ) NUMBER ( fax ) NUMBER ( cell ) Harmony is a NUMBER ( c ) ( NUMBER ) Nonprofit whose mission is to enrich the lives of adults with developmental disabilities through art , music and community . URL yelp.com/biz/the austin harmony project austin URL\",\n",
       "       u'Yes I am in process buying right now . From my Android phone on T Mobile . The first nationwide 4G network .',\n",
       "       u'no I went through milestone community builders . From my Android phone on T Mobile . The first nationwide 4G network .',\n",
       "       u\"Bad news I did n't get approved for the house due to not having child support income for the last NUMBER months . PERSON Christmas to you . From my Android phone on T Mobile . The first nationwide 4G network .\",\n",
       "       u'Ok From my Android phone on T Mobile . The first nationwide 4G network .',\n",
       "       u'Yes From my Android phone on T Mobile . The first nationwide 4G network .',\n",
       "       u\"Hi PERSON - as I told PERSON yesterday I am moving in NUMBER weeks and starting a new job so I plan to take my time searching for a home . I 'm not quite ready to begin a formal search for now.Thanks ! -- -- PERSON Castor wrote :\",\n",
       "       u\"Yes PERSON thank you for your help . I 'm not quite ready to start visiting homes just yet ; if you guys will continue to send me possibilities I will view them on line . I want to get settled into my job first then look for a home . -- -- PERSON Hoffman wrote :\",\n",
       "       u'Hi , Thanks for your response . We noticed on the website that this property has NUMBER parking space . Is there a possibility of having NUMBER ? Thanks , PERSON Carroll Metro',\n",
       "       u'Hi , No we are not working with an agent yet . You can reach me at NUMBER . PERSON Carroll Metro',\n",
       "       u'Hi PERSON , Thanks for this information . Yes I got the other email with the listings . We will look this over and get back to you if we would like to see one . Thanks for your help , PERSON Carroll',\n",
       "       u'Hi PERSON , Thanks for the update but we are notgoing to pursue this property any longer . Thanks forall your help though . PERSON Carroll',\n",
       "       u'hi , please dont send us any listings now as our circumstances change for buying the property.thank you muneeza',\n",
       "       u'URL',\n",
       "       u'Good evening PERSON , Would you be available on Saturday or if not next Wednesday ? Thank you , PERSON Padilla Salgado',\n",
       "       u'That is fine . Thank you PERSON',\n",
       "       u'Good evening PERSON , Do you have any info on the listing on Middle Knoll ? Can you please let me know ? Thanks , PERSON',\n",
       "       u\"Good afternoon PERSON , I know we have n't been in touch in a while , but I am curious on a property that just came available on my street . I believe the address is NUMBER Hackney but I am not certain as I am currently at work . Would you be able to get me some info on this property ? Thank you and have a great day ! PERSON\",\n",
       "       u\"Yes , Sorry about that . I had a couple things pop up that took precedence ... I can give you a call in about NUMBER minutes if that works for you . I am looking for a home with character , probably a little older , in a good neighborhood ( family oriented as i have a NUMBER year old ) . Also , along those lines , I would like to be located in a zip code where she can go to a good school ... the best in Austin . Im not sure what price range we would qualify for , but im thinking something between NUMBER and NUMBER ? ? thats a start i guess ! ? On Tuesday , May NUMBER PM , PERSON Quinney wrote : Hi PERSON , I just called you and left you a message . My name is PERSON Quinney , HomeCity Real Estate Agent . You recently spoke to PERSON Nelson , HomeCity Customer Service Representative , and requested to speak with a HomeCity real estate agent . I have helped many relocating homebuyers over my career , in order to provide you with the highest level of service and representation , I would like to schedule a phone appointment with you . What time of day would be best for you ? If you prefer to give me a call to set up time to speak , I can be reached at NUMBER . If I PERSON't hear from you , I will call youlater . I look forward to speaking with you . Click the Sign In Button to search for properties . PERSON Quinney NUMBER\",\n",
       "       u'You were very close to spelling my name , its BobiJo lol . Perfect . Thank you . I found one by lake Travis for $ NUMBER that i really like . I think it would be a nice place for me and my daughter . A pre approval would be great ! I currently live in Denver and this will be my first time moving out of state so im not familiar with what a good price on a house is ...',\n",
       "       u'My apologies . I have been very busy the last couple of week with constantly going back and forth from Colorado to Texas . Please continue to send houses my way . My daughter and I plan to move by mid July ( hopefully ) our financial situation has changed and I will no longer by the one purchasing the house . However our price range will stay thr same as NUMBER down . Thank you',\n",
       "       u'Will do . Thank u',\n",
       "       u'PERSON , My boyfriend and myself will be in Austin this Friday afternoon and Saturday . I it possible to look at NUMBER houses on Saturday ? I would like to focus on two or three locations . Lake Travis , lake Austin , and the area a little north of Austin . PERSON send you the houses we Would like to see . Thank you',\n",
       "       u'Will do . Thank u', u'I will talk to him today and let u know',\n",
       "       u'Well he informed me that we will be looking at apartments this weekend instead of houses . Sorry about that',\n",
       "       u\"I PERSON't think we will be looking at any houses . Sorry to waste your time .\",\n",
       "       u'Yes please , thank you !',\n",
       "       u'Thank you for all of your help , but it is no longer needed . Thanks',\n",
       "       u\"No . I PERSON't think we r moving to Austin after all .\",\n",
       "       u\"Hello , Thanks for your message . I am still interestd in purchasing a property in Austin . I 'm looking for a multi unit in a nice neighborhood . What is the going rate for a NUMBER unit or NUMBER unit building ? Do you have any examples you could send ? Have a great day ! Marina\",\n",
       "       u\"Hello , Thanks for your message . I 'm really more interested in multi unit investment properties . Do you have information on any of these ? Thank you , Marina Hudgens\",\n",
       "       u\"Hello PERSON , We have matched your agency with a new client , Chase Langford . Attached you will find a copy of the client Profile and Referral Agreement for your records . As a reminder , to ensure an amazing experience for Chase , we need the assigned agent to contact the client on the same day or no later than NUMBER hours of acceptance . If you have any questions regarding the referral , please contact me via email or my direct line as soon as possible . Sincerely , PERSON Walker Agent Coordinator IN HOUSE REALTY Direct : ( NUMBER ) NUMBER Cell : ( NUMBER ) NUMBER Office : ( NUMBER ) NUMBER , ext.NUMBER Fax : NUMBER Email : EMAIL *The Preferred Real Estate Partner of Quicken Loans ! You are receiving this email because you are part of In House Realty 's agent network . This message is intended only for the use of the individual or entity to which it is addressed . This message may contain legally privileged and/or confidential information . Any unauthorized use , disclosure , reproduction , or distribution is prohibited . If you are not the intended recipient , please notify us by telephone or e mail and delete/destroy the original and any copies . Equal Housing Opportunity . We do business in accordance with the Federal Fair Housing Law . License # : NUMBER Copyright NUMBER In House Realty LLC , NUMBER Griswold St , Detroit , PERSON NUMBER . All Rights Reserved . NUMBER\",\n",
       "       u\"Hey PERSON are you available at all this weekend to talk ? I 'm going to be working late tonight .\",\n",
       "       u'Sure thing .',\n",
       "       u'You have received a new message from Priscilla Garcia : Hello PERSON , Do you only sale houses or can you also help me find a rent to own home . Or maybe a town home ? -- -- -- -- -- -- -- -- -- -- -- -- -- -- -- -- -- -- -- -- -- -- -- -- -- To respond to this message or view any other messages you may have , please visit : URL',\n",
       "       u\"Website Form Submission From IP NUMBER This form was submitted from URL/ at NUMBER April NUMBER PM Mls number NUMBER Address NUMBER N O Connor Road Unit 1141d , Irving , TX , NUMBER Price NUMBER Telephone NUMBER Inquire type Quick Showing Showing I 'd like to request a showing of NUMBER N O Connor Road Unit 1141d , Irving , TX , NUMBER ( MLS # NUMBER ) . Thank you ! First name Priscilla Last name Garcia Email EMAIL Lead Summary : URL\",\n",
       "       u'Hello , Im looking for a home for rent Two bedrooms or three with at least two bathrooms , NUMBER is ok. No more than NUMBER a month . In Irving thank you',\n",
       "       u'Good Morning PERSON , I wanted to see if you can help us find a home for rent in the Irving area . Our lease is up in NUMBER months and we just want to see a few houses . We want to pay no more than $ NUMBER a month . Thank you for your help . : )',\n",
       "       u'Hi PERSON , This is the first e mail I have received fro you , please resend any emails that I may have missed . Thank you Fawzia',\n",
       "       u'No problem .',\n",
       "       u'Hi PERSON , I really appreciate the efforts of sending the listing . It has been a crazy few weeks , my children were ill and then I was . and on top of that we were getting ready to pack . We have found a home through a friend . I do apologies for any inconveniences and I hope when we settle down and ready to purchase a home we are able to use your services . Again i truly thank you for getting back to me with the listing . Fawzia',\n",
       "       u'Absolutely ! have a great Christmas and New Year .',\n",
       "       u'Yes , we would like to see the house on Journeyville . See you at NUMBER:30p . Thanks Jerilyn On Saturday , August NUMBER , wrote :',\n",
       "       u'Ok , see you at NUMBER:15p . Text me at NUMBER if you happen to be able to meet earlier . We live in the same community . Thanks On Saturday , August NUMBER , PERSON Porter wrote :',\n",
       "       u\"I 've been getting the same house from you for the last several times . I am not interested in that house . Please also PERSON't send me any other listings anymore . Thanks ! On Tuesday , November NUMBER , PERSON Porter wrote :\",\n",
       "       u'My apologies , PERSON , I accidentally clicked the more info tab while viewing the property . I definitely appreciate your prompt response . Thanks',\n",
       "       u'Good morning PERSON , Thank you for reaching out . PERSON and I both had some known and unknown items on our reports , that were concerning ; we have since began to make the necessary corrections , as well as make the necessary contacts , to have some erroneous items corrected . While we are addressing these matters , unfortunately we will have to continue to rent , for the time being . We are expecting our second child , in September , so we would like to find a home to rent , and was hoping you could assist us , or recommend someone that could help us find one . Any guidance or assistance you can provide , would be greatly appreciated . Thanks ,',\n",
       "       u'Frisco or West Plano , would be great .',\n",
       "       u'Thank you , PERSON ! Anything you can do will be greatly appreciated .',\n",
       "       u'PERSON , this would meet all of our likes , including the school . We are totally open to something smaller as well , if it will help with the cost . Our desired amount a month is $ NUMBER , but if we find a really good opportunity , in an area that we may want to buy later , we may be open to paying more . Thanks for all of your help , in this very frustrating time . We will definitely be looking to work with you on our purchasing hunt again , once we finish clearing up the credit matters .',\n",
       "       u\"Friday would be the best day for me this week . I PERSON't work Friday , just a few errands to run .\",\n",
       "       u\"I will call you a little later . I 'm at the grocery store right now .\",\n",
       "       u'PERSON We exchanged a few emails earlier this year when I moved to Austin . My company rented me an apt . for one year , but I will likely be looking to buy something at the end of this year or early next . I am curious about your opinion of the condo market . It looks like many new buildings are going up . While the market has clearly been very strong , do you see a big risk to prices going forward if the supply dramatically increases ? Thanks , Taylor On PERSON , Aug NUMBER at NUMBER AM , PERSON Hoffman wrote :',\n",
       "       u\"Thanks , PERSON . I will get back to you . On Aug NUMBER , at NUMBER PM , `` PERSON Hoffman '' wrote :\",\n",
       "       u'Any smaller multi unit buildings ever go on the mkt in the city ? NUMBER condos or something like that ?',\n",
       "       u\"Yes . Exactly . I 'd be pretty flexible on price depending on the deal . Is either do it myself or get a partner .\",\n",
       "       u'This all sounds great . Full disclosure - I will be interviewing a few realtors as I begin this process .',\n",
       "       u'Someone other than PERSON called .',\n",
       "       u'PERSON Thanks for the calls . I was out of town on vacation . I get back this evening and will follow up later this week after I get settled at work . Regards , Taylor On Fri , Aug NUMBER at NUMBER PM , PERSON wrote :',\n",
       "       u\"PERSON Apologies for the delay in getting back to you . I 've been busy at work with travel . I saw what looked like apts while walking around town last night on 5th st. heading towards San PERSON . Do you know anything about the property ? Anything available over by the river where all the new office buildings are going up ? Thanks , Taylor On Thu , Sep NUMBER at NUMBER AM , PERSON wrote :\",\n",
       "       u'PERSON , I have read through the book you left with me aND I have a couple of things I would ask . I will try to call you this weekend',\n",
       "       u'Thank you', u'My sister lives in.Manor will check out that area',\n",
       "       u'I wont be back to texas till next year . I go once a year . I have full time job at dollar general . But always checking listings ... .thanks for update ... ..jem Please refer me to your friends - who do you know who is considering selling their home or looking to buy a home ? ( NUMBER ) NUMBEREra Property Center Thanks ! Jem Fortier',\n",
       "       u'PERSON and I have decided we want a home on a lake . We need to be near water . Do you have any suggestions ? We would like a dock for a boat , not on a inlet if possible . three bedrooms and NUMBER baths , needing work doesnt bother us . can you change our search . looking within an hour drive of PERSON . their is a lake we like , cant think of the name of it , I will email that to you I know it is east of dallas and it is big . Lake T. ? THANKS JEM Please refer me to your friends - who do you know who is considering selling their home or looking to buy a home ? ( NUMBER ) NUMBEREra Property Center Thanks ! Jem Fortier',\n",
       "       u'ok please change the search ... ..yes we like lake tawakoni , and if anything on the other two lakes ... .thanks Please refer me to your friends - who do you know who is considering selling their home or looking to buy a home ? ( NUMBER ) NUMBEREra Property Center Thanks ! Jem Fortier',\n",
       "       u\"Hi PERSON and PERSON were here for Christmas . We will be back in Texas in May . We really like Lake Tawakoni , right on the lake ... ..We want to live right on the lake . So when we get there in may we will want to see some houses . I cant move till next year with my job , but looking and when we find the right house we will buy it ... jem Please refer me to your friends - who do you know who is considering selling their home or looking to buy a home ? Enjoy every moment of your life ... .PERSON't take anything for granted . ( NUMBER ) NUMBEREra Property Center Thanks ! Jem Fortier\",\n",
       "       u\"Hi so my son said they found a house . I am so glad . The referral money from his sale is going to help me buy my house . Have you ever heard of lake Granbury ? we really like Tawakoni . but PERSON't know if we can find one in our price range . We are willing to pay up to $ NUMBER for a house on the lake . so searching $ NUMBER and lower . Let me know how much my referral fee will be ... ..I am happy for them.. We will stay at his house in may when we come there.. jem Please refer me to your friends - who do you know who is considering selling their home or looking to buy a home ? Enjoy every moment of your life ... .PERSON't take anything for granted . ( NUMBER ) NUMBEREra Property Center Thanks ! Jem Fortier\",\n",
       "       u\"ok well leave it as a rebate for PERSON . thanks jem Please refer me to your friends - who do you know who is considering selling their home or looking to buy a home ? Enjoy every moment of your life ... .PERSON't take anything for granted . ( NUMBER ) NUMBEREra Property Center Thanks ! Jem Fortier\",\n",
       "       u\"yes we will want to see some homes while we are in texas jem Please refer me to your friends - who do you know who is considering selling their home or looking to buy a home ? Enjoy every moment of your life ... .PERSON't take anything for granted . ( NUMBER ) NUMBEREra Property Center Thanks ! Jem Fortier\",\n",
       "       u\"LinkedIn -- -- -- -- -- -- I 'd like to add you to my professional network on LinkedIn . - Jem Jem Fortier Store Manager at Dollar General Hartford , Connecticut Area Confirm that you know Jem Fortier : URL -- You are receiving Invitation to Connect emails . Click to unsubscribe : URL ( c ) NUMBER LinkedIn Corporation . NUMBER Stierlin Ct , Mountain View , CA NUMBER , USA .\",\n",
       "       u\"we want to see properties next week ... ..while we are in town jem Please refer me to your friends - who do you know who is considering selling their home or looking to buy a home ? Enjoy every moment of your life ... .PERSON't take anything for granted . ( NUMBER ) NUMBEREra Property Center Thanks ! Jem Fortier\",\n",
       "       u\"we are in town and would like to see houses on Friday . starting around 11am . in Granbury . NUMBER samoan NUMBER lands end NUMBER midway court and we would like you to set up a few on the lake other then those under NUMBER with boat docks . email once appointments are set ... ..thanks ... .jem Please refer me to your friends - who do you know who is considering selling their home or looking to buy a home ? Enjoy every moment of your life ... .PERSON't take anything for granted . ( NUMBER ) NUMBEREra Property Center Thanks ! Jem Fortier\",\n",
       "       u\"Hi PERSON , we put our home on the market in Ct but it is a soft market here . a lot of short sales ... . so it may take awhile , we decided on an area of texas , PERSON't know if you work that area ? Cedar Creek it is an hour and a half south of dallas , we want a house on the lake with good water , main body , not canal ... ... we prefer a ranch style home and looking for area to park rv and maybe a guest house or room to build one . $ NUMBER or less . let me know if you work that area or can recommend someone who will do a rebate with us . Need it to help with closing cost ... ... let me know ... .if you can work with us please set up a search for me ... .thanks jem Please refer me to your friends - who do you know who is considering selling their home or looking to buy a home ? Enjoy every moment of your life ... .PERSON't take anything for granted . ( NUMBER ) NUMBEREra Property Center Thanks ! Jem Fortier\",\n",
       "       u\"I tried clicking the link and it opened to a blank screen ... ..jem Please refer me to your friends - who do you know who is considering selling their home or looking to buy a home ? Enjoy every moment of your life ... .PERSON't take anything for granted . ( NUMBER ) NUMBEREra Property Center Thanks ! Jem Fortier\",\n",
       "       u\"thanks your new email worked jem Please refer me to your friends - who do you know who is considering selling their home or looking to buy a home ? Enjoy every moment of your life ... .PERSON't take anything for granted . ( NUMBER ) NUMBEREra Property Center Thanks ! Jem Fortier\",\n",
       "       u\"well things have changed for this year anyway ... PERSON had open heart surgery two weeks ago and I took the house off the market ... .We will relist the house in april NUMBER and be moving out to cedar creek lake area ... so if you will keep sending us emails so we can keep up on the market thanks ... .jem Please refer me to your friends - who do you know who is considering selling their home or looking to buy a home ? Enjoy every moment of your life ... .PERSON't take anything for granted . ( NUMBER ) NUMBEREra Property Center Thanks ! Jem Fortier On Monday , October NUMBER AM , PERSON Yarnall wrote : HomeCity Newsletter PERSON Yarnall NUMBER EMAIL\",\n",
       "       u\"wish that was the case here , but market is still lousy ... Are you still willing to help us in cedar creek area ... I am listingapril 1st ... ... And my boyfriend PERSON is doing good ... ..He is ready to move ... .to much snow this year . I am using the rebate I get for my closing cost ... and cant wait to start seeing homes in person . just to go over what we are looking for , NUMBER bedroom prefer NUMBER bathroom . garage , on open water ... ..need good water ... ..I have been watching the water level for the last year . we need an area for a RV , his dad will come and stay on our property with his RV . ( HE is NUMBER and I want him to stop traveling ) thanks for the constant listings ... ..there is a house that was available last year , I PERSON't know if it sold or went off the market .can you check for us , because that house was one that we liked a lot ... .the address is PERSON drive , I have to check my old emails to see street address will send it in a minute , it was NUMBER and went down to $ NUMBER but our house was n't sold yet ... .I will send you another email with address ... thanks jem Please refer me to your friends - who do you know who is considering selling their home or looking to buy a home ? Enjoy every moment of your life ... .PERSON't take anything for granted . ( NUMBER ) NUMBEREra Property Center Thanks ! Jem Fortier On Tuesday , March NUMBER PM , PERSON Yarnall wrote : Hi Jem , How are you ? How is your husband 's recovery going ? Hope everything is going well with you . Are you guys fixing to put your home on the market ? The market is crazy down here ... there is NO inventory ! Things are selling as soon as they hit the market with multiple offers and over list price . Let me know what your plans are for this year and we 'll plan on finding you something when you come visit . PERSON Yarnall NUMBER\",\n",
       "       u\"We listed on the 19th ... .two showings so far . good feedback , but they were just starting to look . The market here stinks ... .There is three foreclosed homes on the next street over from us ... .I am hoping this will be the time we sell . I PERSON't want to spend another winter here . No trips planned yet ... I want to wait till house under contract then I will fly out to do house hunting ... no need to do it before . jem Please refer me to your friends - who do you know who is considering selling their home or looking to buy a home ? Enjoy every moment of your life ... .PERSON't take anything for granted . ( NUMBER ) NUMBEREra Property Center Thanks ! Jem Fortier On Monday , April NUMBER PM , PERSON Yarnall wrote : Hi Jem , Just following up with you guys . Did you get your house listed ? Any luck ? Hopefully you will get it sold quickly . The market here is still really hot , at least in the suburbs . Do you have a trip planned any time soon ? Let me know and I can make sure I get it on my schedule . Hope you are doing well ! PERSON Yarnall NUMBER\",\n",
       "       u\"still on the market . will be moving NUMBER . waiting for house to sell ... ..thanks for checking in ... .keep sending search Please refer me to your friends - who do you know who is considering selling their home or looking to buy a home ? Enjoy every moment of your life ... .PERSON't take anything for granted . ( NUMBER ) NUMBEREra Property Center Thanks ! Jem Fortier On Wednesday , December NUMBER PM , PERSON Yarnall wrote : Hi Jem , How are you ? Have n't touched base with you in a while so I thought Iwould see how things are going and what your plans are for moving to Texas . Are you still trying to sell your place ? Did you visit for Thanksgiving or do you have any upcoming trips planned ? Let me know ! Hope you had a good Thanksgiving ! PERSON PERSON Yarnall NUMBER\",\n",
       "       u\"still wanting to sell . hopefully this spring and then will move out there . we PERSON't want to look till house sells ... no reason to . PERSON'twant to get disappointed ... ..thanks for search I look at it all the time ... ... Please refer me to your friends - who do you know who is considering selling their home or looking to buy a home ? Enjoy every moment of your life ... .PERSON't take anything for granted . ( NUMBER ) NUMBEREra Property Center Thanks ! Jem Fortier On Tuesday , March NUMBER PM , EMAIL '' wrote : Hi Jem , Just checking in with you to see how the house sale is going . Hopefully with spring coming you will be able to sell it if you have n't already . The market is still hopping here . The lakes are still down quite a bit around here but they have come up some . Do you have a trip planned to come to Texas ? Let me know ! PERSON PERSON Yarnall NUMBER\",\n",
       "       u\"I am big on square footage and space . I want something NUMBER sqft or larger . The first list you sent me is a little too small size wise for me . The second set however has two I 'd like to see . NUMBER Bengal Dr. being my first choice and NUMBER Rocky Shore Ln being my second ! Thanks a bunch ! I love how fast you two are ! It is awesome ! ~Jenaya\",\n",
       "       u'Are we still going to look at houses today/this evening ? On May NUMBER PM , wrote :',\n",
       "       u'Ok . Thanks ! On May NUMBER AM , wrote :',\n",
       "       u\"PERSON has been great ! I 'm very pleased with the service he had provided . Thanks for asking ! -Jenaya PERSON On May NUMBER AM , `` PERSON Hernandez '' wrote :\",\n",
       "       u\"Your message to EMAIL could n't be delivered . PERSON.PERSON was n't found at austintitle.com . JKellner Office NUMBER PERSON.PERSON Action Required Recipient Unknown To address How to Fix It The address may be misspelled or may not exist . Try one or more of the following : * Send the message again following these steps : In Outlook , open this non delivery report ( NDR ) and choose Send Again from the Report ribbon . In Outlook on the web , select this NDR , then select the link `` To send this message again , click here . '' Then delete and retype the entire recipient address . If prompted with an Auto Complete List suggestion PERSON't select it . After typing the complete address , click Send . * Contact the recipient ( by phone , for example ) to check that the address exists and is correct . * The recipient may have set up email forwarding to an incorrect address . Ask them to check that any forwarding they 've set up is working correctly . * Clear the recipient Auto Complete List in Outlook or Outlook on the web by following the steps in this article : Fix email delivery issues for error code NUMBER.NUMBER in Office NUMBER , and then send the message again . Retype the entire recipient address before selecting Send . If the problem continues , forward this message to your email admin . If you 're an email admin , refer to the More Info for Email Admins section below . Was this helpful ? Send feedback to Microsoft .\",\n",
       "       u'DOCUMENT DELIVERY NOTICE Please click on the attachment ( s ) above to access your documents . Contract attached . PERSON Gaffey Austin Title Company Assistant to PERSON Strobel NUMBER N. Mopac Expressway , Suite NUMBER Austin , TX NUMBER Direct ( NUMBER ) NUMBER Fax ( NUMBER ) NUMBER This transaction involves : Opened Date : Thursday , September NUMBER PM CT Project Name : Customer Ref : Property : NUMBER PERSON Garfield Street , Manor TX NUMBER Buyer : Jenaya PERSON Seller : KB Home Lone Star , Inc . External Order Number : SoftPro - AUT15009199 Internal Order Number : NUMBER',\n",
       "       u'Thank you . I have placed with the file . Have a great day !',\n",
       "       u'NUMBER On Feb NUMBER AM , wrote :',\n",
       "       u'When I log in the properties do not show up . On Apr NUMBER AM , wrote :',\n",
       "       u'not at this time . I believe we jumped the gun a little bit . It will be a couple months at least . On Apr NUMBER PM , wrote :',\n",
       "       u'I am currently using a credit restoration company . CRE credit services in Plano . I began with them a couple of months ago , but thank you for the suggestion . On Apr NUMBER AM , wrote :',\n",
       "       u\"Glen , We are interested in this house . Could you please find out what the application fee , deposit pet deposit , and all the pertinent information are ? On Apr NUMBER AM , `` Glen Hines '' wrote :\",\n",
       "       u\"Well , are you sure you 're ready to show a house ? When you showed us houses before you did not seem very interested in what you were doing . Are you sure you 'll be able to get into the house ? Last time you could n't show two of them due to lack of ability for you to access the homes . In addition to that , yes I do feel like I 'm ready to move . Otherwise I would not have contacted you . Finally I do feel like I will be contacting somebody else to show me this house as I do not appreciate being spoken down to in the manner you have done in this email . Please stop sending me notifications of houses . I do not wish to conduct any business with you ! On May NUMBER PM , wrote :\",\n",
       "       u\"Hey PERSON , Yes I filled out the forms last night and he 's checking today . See you tomorrow . Thanks ! On Thu , Sep NUMBER at NUMBER PM , PERSON Ledesma wrote :\",\n",
       "       u\"Hi PERSON , I 'd like to add you to my professional network on LinkedIn . - Cody Accept : URL= You are receiving Invitation emails . Unsubscribe here : URL= This email was intended for PERSON Ledesma . Learn why we included this at the following link : URL= NUMBER , LinkedIn Corporation . NUMBER Stierlin Ct. Mountain View , CA NUMBER , USA\",\n",
       "       u'I am OOO today with limited access to email and voicemail . Please funnel requests to EMAIL or for emergencies PERSON Cook at EMAIL I will be checking my email throughout the day but responses may be delayed . I appreciate your patience . Thank you , Caitlyn Fitzgerald HP EG PBM NUMBER',\n",
       "       u'Hey PERSON , Hope all is well . Hey what about URL Just curious . Thanks !',\n",
       "       u\"Hey PERSON , Apologize for missing your call the other day , I been extremely busy the past couple weeks . I been meaning to call you back . Cait and I are still in search mode to find a good deal in certain areas . I 'm thinking most of the houses we would consider are being taken off the market faster than we can search on the websites for . We really PERSON't need anything big right now , we are thinking 14000800SF starter home . Average lot size . We are split on the location . We are thinking West and Southwest Austin . We PERSON't know if we 'll be in Austin for another NUMBER years so we want to be able to sell it quickly if we move . Location is # NUMBER for us . We are willing to put work into a house , but we need it to be within 1005min driving distance to downtown Austin . I 'm not exactly sure how East Austin would be . See we are fairly new to this area and we 're not exactly sure , but we know we need a house that gives off a good perpective on the location . We 're paying $ NUMBER/month on rent for 700sf . We PERSON't really go downtown like we used to . We want to be able to get a return on our money later on . The list of needs are below . As of right now Cait is going over her options with a few different companies , she decided to go in a different direction . I 'm sure she 'll have something lined up by the new year if not sooner . NUMBER ) Location is key . Good neighborhood . We have a dog , so be nice to have a backyard with a deck.. something . NUMBER ) price range . We qualified well over what we want to spend . We have a wedding and other things we are saving for so we PERSON't want to go all in on a starter home . NUMBER . NUMBER ) All floors work but carpet , but again we are willing to work on the house . Fireplace would be great . This is not a rush . Our lease is up in March and this is stricktly for you to keep us in mind if something comes up or if you have any ideas on what we would like . We want the perspective on where the house is at to be great ... we are not picky on what 's all inside . I really appreciate all your help ! I will keep a close eye on my Gmail account and feel free to call me . Again it 's not a rush to move in next month but I figured I would let you know so you can keep a lookout for something we might jump on . If it 's right we will make a fast decision . Thanks ! On Wed , Oct NUMBER at NUMBER PM , PERSON Ledesma wrote :\",\n",
       "       u\"Hey PERSON , Hope all is well . We really like this house . URL/ I requested a showing on the website . Cait and I are both really interested . How long has it been on the market and do you think there 's any wiggle room on the price ? Thanks !\",\n",
       "       u'I have a real estate agent already , but thank you for your time . PERSON M. Baird',\n",
       "       u'check this out',\n",
       "       u'I work tomorrow but I can try to answer your call . My cell number is NUMBER . Look forward to hearing from you . Thanks , PERSON Moore',\n",
       "       u\"Hi PERSON , Sorry I could n't take your call , I 'm at work until NUMBER:30pm tonight but I do not work tomorrow . I could try and call you on my lunch break today .\",\n",
       "       u'Yes ! I really like this one',\n",
       "       u\"Sorry I 've been busy at work and unable to email you . Yes I like this one and would love to see the inside as well as others in that neighborhood . There was also one in Cedar Park at NUMBER Santana that looks ok but it 's not in that neighborhood . I 'm pretty flexible with meeting tomorrow . What time would work for you ?\",\n",
       "       u\"I did n't realize that it was that old . Hmmm not sure but maybe worth taking a look\"], dtype=object)"
      ]
     },
     "execution_count": 331,
     "metadata": {},
     "output_type": "execute_result"
    }
   ],
   "source": [
    "np.array(joshdata[0])"
   ]
  },
  {
   "cell_type": "code",
   "execution_count": 356,
   "metadata": {
    "collapsed": false
   },
   "outputs": [
    {
     "name": "stdout",
     "output_type": "stream",
     "text": [
      "She has indeed contacted me I have n't contacted her back because I 'm waiting to hear more about my husband 's job opportunity . He will be flying to Austin the day after Easter to continue the interviews and after that we should know more . If you could tell her that I will gladly contact her after that set of interviews that would be great\n",
      "[ 0.  1.  0.]\n"
     ]
    }
   ],
   "source": [
    "X = np.concatenate((joshdata[0].values, cristinadata[0].values, jacobdata[0].values))\n",
    "y = np.concatenate((joshdata[1].values, cristinadata[1].values, jacobdata[1].values))\n",
    "y[618] = 1.\n",
    "y[706] = 1.\n",
    "y[1472] = 1.\n",
    "y = to_categorical(y)\n",
    "print X[0]\n",
    "print y[0]"
   ]
  },
  {
   "cell_type": "code",
   "execution_count": null,
   "metadata": {
    "collapsed": false
   },
   "outputs": [],
   "source": []
  },
  {
   "cell_type": "code",
   "execution_count": 357,
   "metadata": {
    "collapsed": true
   },
   "outputs": [],
   "source": [
    "def sent_clean(sent):\n",
    "    sent = nltk.word_tokenize(sent) # still unicode.\n",
    "#     sent = [word for word in sent if word not in stop] # removing stopwords.\n",
    "    sent = [PorterStemmer().stem(word.lower()) for word in sent]\n",
    "    return sent\n",
    "def build_vocab(sents): # used after sent_clean operation.\n",
    "    vocab = []\n",
    "    for sent in sents:\n",
    "        vocab.extend(sent)\n",
    "    return list(set(vocab))"
   ]
  },
  {
   "cell_type": "code",
   "execution_count": 358,
   "metadata": {
    "collapsed": true
   },
   "outputs": [],
   "source": [
    "X = map(sent_clean, X)\n",
    "vocab = build_vocab(X)"
   ]
  },
  {
   "cell_type": "code",
   "execution_count": 359,
   "metadata": {
    "collapsed": false
   },
   "outputs": [
    {
     "name": "stdout",
     "output_type": "stream",
     "text": [
      "[u'she', u'ha', u'inde', u'contact', u'me', u'i', u'have', u\"n't\", u'contact', u'her', u'back', u'becaus', u'i', u\"'m\", u'wait', u'to', u'hear', u'more', u'about', u'my', u'husband', u\"'s\", u'job', u'opportun', u'.', u'he', u'will', u'be', u'fli', u'to', u'austin', u'the', u'day', u'after', u'easter', u'to', u'continu', u'the', u'interview', u'and', u'after', u'that', u'we', u'should', u'know', u'more', u'.', u'if', u'you', u'could', u'tell', u'her', u'that', u'i', u'will', u'gladli', u'contact', u'her', u'after', u'that', u'set', u'of', u'interview', u'that', u'would', u'be', u'great']\n",
      "[u'smtp.homecity.com', u'lolthank', u'number-a', u'6pm', u'oldest', u'hate', u'whose', u'aug', u'sorri', u'deviat']\n"
     ]
    }
   ],
   "source": [
    "print X[0]\n",
    "print vocab[:10]"
   ]
  },
  {
   "cell_type": "code",
   "execution_count": 360,
   "metadata": {
    "collapsed": false
   },
   "outputs": [
    {
     "name": "stdout",
     "output_type": "stream",
     "text": [
      "CPU times: user 580 ms, sys: 15.1 ms, total: 595 ms\n",
      "Wall time: 249 ms\n"
     ]
    }
   ],
   "source": [
    "%%time\n",
    "model = Word2Vec(X, size=5, window=4) # words -> 10D vecs."
   ]
  },
  {
   "cell_type": "code",
   "execution_count": 361,
   "metadata": {
    "collapsed": false
   },
   "outputs": [],
   "source": [
    "# WORD -> VECTOR\n",
    "def vectorize(model, sent): # sent -> list word vector in model.\n",
    "    return [model[word] for word in sent if word in model.vocab]"
   ]
  },
  {
   "cell_type": "code",
   "execution_count": 362,
   "metadata": {
    "collapsed": false
   },
   "outputs": [],
   "source": [
    "X_vec = [vectorize(model,sent) for sent in X] # X_vec is now a list of lists of 10D vectors\n",
    "                                              #                 ^        ^            ^\n",
    "                                              #                 |        |            |\n",
    "                                              #               corpus   sentence     word"
   ]
  },
  {
   "cell_type": "code",
   "execution_count": null,
   "metadata": {
    "collapsed": false
   },
   "outputs": [],
   "source": []
  },
  {
   "cell_type": "markdown",
   "metadata": {},
   "source": [
    "## MLP"
   ]
  },
  {
   "cell_type": "code",
   "execution_count": 363,
   "metadata": {
    "collapsed": false
   },
   "outputs": [],
   "source": [
    "from keras.models import Sequential\n",
    "from keras.layers import Dense, Flatten\n",
    "from keras.preprocessing import sequence\n",
    "from sklearn.cross_validation import train_test_split"
   ]
  },
  {
   "cell_type": "code",
   "execution_count": 365,
   "metadata": {
    "collapsed": false
   },
   "outputs": [
    {
     "name": "stdout",
     "output_type": "stream",
     "text": [
      "Average Sentence Length: 64\n"
     ]
    },
    {
     "data": {
      "image/png": "[encoded data removed]",
      "text/plain": [
       "<matplotlib.figure.Figure at 0x121f07f50>"
      ]
     },
     "metadata": {},
     "output_type": "display_data"
    }
   ],
   "source": [
    "sentLens = [len(sent) for sent in X_vec]\n",
    "meanLens = int(np.mean(sentLens))\n",
    "print 'Average Sentence Length: %d' % meanLens\n",
    "plt.hist(sentLens)\n",
    "plt.title('Sentence Length Distribution')\n",
    "plt.xlabel('Sentence Length')\n",
    "plt.ylabel('Length Frequency')\n",
    "plt.show()\n",
    "# NB: BUT WE'LL TAKE 60."
   ]
  },
  {
   "cell_type": "code",
   "execution_count": 366,
   "metadata": {
    "collapsed": false
   },
   "outputs": [],
   "source": [
    "# INPUT SIZE UNIFORMIZATION\n",
    "# FLATTENING\n",
    "def flatten(sents):\n",
    "    return [word for sent in sents for word in sent]\n",
    "padding = np.array([0.,0.,0.,0.,0.], dtype='float32')\n",
    "for i in range(len(X_vec)):\n",
    "    if len(X_vec[i]) > 60:\n",
    "        X_vec[i] = X_vec[i][:60]\n",
    "    else: \n",
    "        X_vec[i] += [padding for _ in range(60-len(X_vec[i]))]\n",
    "X_vec = map(np.array, X_vec) # to np.array, so that .shape attribute is available.\n",
    "X_vec = map(flatten, X_vec)"
   ]
  },
  {
   "cell_type": "code",
   "execution_count": 367,
   "metadata": {
    "collapsed": false
   },
   "outputs": [],
   "source": [
    "X_train, X_test, y_train, y_test = train_test_split(X_vec, y, test_size=.2)"
   ]
  },
  {
   "cell_type": "code",
   "execution_count": null,
   "metadata": {
    "collapsed": false
   },
   "outputs": [],
   "source": []
  },
  {
   "cell_type": "code",
   "execution_count": null,
   "metadata": {
    "collapsed": false
   },
   "outputs": [],
   "source": []
  },
  {
   "cell_type": "code",
   "execution_count": null,
   "metadata": {
    "collapsed": false
   },
   "outputs": [],
   "source": []
  },
  {
   "cell_type": "code",
   "execution_count": 370,
   "metadata": {
    "collapsed": false
   },
   "outputs": [
    {
     "name": "stdout",
     "output_type": "stream",
     "text": [
      "____________________________________________________________________________________________________\n",
      "Layer (type)                       Output Shape        Param #     Connected to                     \n",
      "====================================================================================================\n",
      "dense_22 (Dense)                   (None, 100)         30100       dense_input_10[0][0]             \n",
      "____________________________________________________________________________________________________\n",
      "dense_23 (Dense)                   (None, 50)          5050        dense_22[0][0]                   \n",
      "____________________________________________________________________________________________________\n",
      "dense_24 (Dense)                   (None, 3)           153         dense_23[0][0]                   \n",
      "====================================================================================================\n",
      "Total params: 35303\n",
      "____________________________________________________________________________________________________\n",
      "None\n"
     ]
    }
   ],
   "source": [
    "# MLP BUILDING\n",
    "model = Sequential()\n",
    "model.add(Dense(100, input_dim=300, init='normal', activation='relu'))\n",
    "model.add(Dense(50, init='normal', activation='relu'))\n",
    "model.add(Dense(3, init='normal', activation='softmax'))\n",
    "model.compile(loss='categorical_crossentropy', optimizer='adam', metrics=['accuracy'])\n",
    "print model.summary()"
   ]
  },
  {
   "cell_type": "code",
   "execution_count": 371,
   "metadata": {
    "collapsed": false
   },
   "outputs": [
    {
     "name": "stdout",
     "output_type": "stream",
     "text": [
      "CPU times: user 2 µs, sys: 1e+03 ns, total: 3 µs\n",
      "Wall time: 8.11 µs\n",
      "Train on 1200 samples, validate on 300 samples\n",
      "Epoch 1/10\n",
      "1200/1200 [==============================] - 0s - loss: 1.0032 - acc: 0.4983 - val_loss: 0.9919 - val_acc: 0.5400\n",
      "Epoch 2/10\n",
      "1200/1200 [==============================] - 0s - loss: 0.8997 - acc: 0.6100 - val_loss: 0.9454 - val_acc: 0.5567\n",
      "Epoch 3/10\n",
      "1200/1200 [==============================] - 0s - loss: 0.8362 - acc: 0.6417 - val_loss: 0.9236 - val_acc: 0.5600\n",
      "Epoch 4/10\n",
      "1200/1200 [==============================] - 0s - loss: 0.7658 - acc: 0.6617 - val_loss: 0.9161 - val_acc: 0.5900\n",
      "Epoch 5/10\n",
      "1200/1200 [==============================] - 0s - loss: 0.6986 - acc: 0.6850 - val_loss: 0.8844 - val_acc: 0.5533\n",
      "Epoch 6/10\n",
      "1200/1200 [==============================] - 0s - loss: 0.6506 - acc: 0.7117 - val_loss: 0.8613 - val_acc: 0.5767\n",
      "Epoch 7/10\n",
      "1200/1200 [==============================] - 0s - loss: 0.6137 - acc: 0.7300 - val_loss: 0.8667 - val_acc: 0.5967\n",
      "Epoch 8/10\n",
      "1200/1200 [==============================] - 0s - loss: 0.5507 - acc: 0.7608 - val_loss: 0.8487 - val_acc: 0.6300\n",
      "Epoch 9/10\n",
      "1200/1200 [==============================] - 0s - loss: 0.4933 - acc: 0.7850 - val_loss: 0.8348 - val_acc: 0.6933\n",
      "Epoch 10/10\n",
      "1200/1200 [==============================] - 0s - loss: 0.4784 - acc: 0.7825 - val_loss: 0.8124 - val_acc: 0.6667\n",
      "Accuracy: 66.67%\n"
     ]
    }
   ],
   "source": [
    "%time\n",
    "model.fit(X_train, y_train, validation_data=(X_test, y_test), nb_epoch=10, batch_size=50, verbose=1)\n",
    "scores = model.evaluate(X_test, y_test, verbose=0)\n",
    "print 'Accuracy: %.2f%%' % (scores[1]*100)"
   ]
  },
  {
   "cell_type": "code",
   "execution_count": null,
   "metadata": {
    "collapsed": false
   },
   "outputs": [],
   "source": []
  },
  {
   "cell_type": "code",
   "execution_count": null,
   "metadata": {
    "collapsed": true
   },
   "outputs": [],
   "source": []
  },
  {
   "cell_type": "code",
   "execution_count": null,
   "metadata": {
    "collapsed": true
   },
   "outputs": [],
   "source": []
  },
  {
   "cell_type": "code",
   "execution_count": null,
   "metadata": {
    "collapsed": true
   },
   "outputs": [],
   "source": []
  },
  {
   "cell_type": "code",
   "execution_count": null,
   "metadata": {
    "collapsed": true
   },
   "outputs": [],
   "source": []
  },
  {
   "cell_type": "code",
   "execution_count": null,
   "metadata": {
    "collapsed": true
   },
   "outputs": [],
   "source": []
  },
  {
   "cell_type": "code",
   "execution_count": null,
   "metadata": {
    "collapsed": true
   },
   "outputs": [],
   "source": []
  },
  {
   "cell_type": "code",
   "execution_count": null,
   "metadata": {
    "collapsed": true
   },
   "outputs": [],
   "source": []
  },
  {
   "cell_type": "code",
   "execution_count": null,
   "metadata": {
    "collapsed": true
   },
   "outputs": [],
   "source": []
  },
  {
   "cell_type": "code",
   "execution_count": null,
   "metadata": {
    "collapsed": true
   },
   "outputs": [],
   "source": []
  },
  {
   "cell_type": "code",
   "execution_count": null,
   "metadata": {
    "collapsed": true
   },
   "outputs": [],
   "source": []
  }
 ],
 "metadata": {
  "kernelspec": {
   "display_name": "Python 2",
   "language": "python",
   "name": "python2"
  },
  "language_info": {
   "codemirror_mode": {
    "name": "ipython",
    "version": 2
   },
   "file_extension": ".py",
   "mimetype": "text/x-python",
   "name": "python",
   "nbconvert_exporter": "python",
   "pygments_lexer": "ipython2",
   "version": "2.7.11"
  }
 },
 "nbformat": 4,
 "nbformat_minor": 0
}
