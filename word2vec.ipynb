{
 "cells": [
  {
   "cell_type": "markdown",
   "metadata": {},
   "source": [
    "# GENSIM WORD2VEC EXPERIMENT\n",
    "**CONTENT**\n",
    "* BROWN DATA PREPARATION\n",
    "* GENSIM.WORD2VEC MODEL\n",
    "* EXPERIMENT 1: BAD DATA (INTERESTED VS. NOT-INTERESTED)\n",
    "* EXPERIMENT 2: GOOD DATA (MSR SPAM COLLECTION)"
   ]
  },
  {
   "cell_type": "markdown",
   "metadata": {},
   "source": [
    "## TRAINING DATA: BROWN CORPUS\n",
    "**NB: FOR PREPARATION, DO NOT RUN THIS SECTION FIRST**"
   ]
  },
  {
   "cell_type": "code",
   "execution_count": 38,
   "metadata": {
    "collapsed": true
   },
   "outputs": [],
   "source": [
    "from nltk.corpus import brown, stopwords\n",
    "from nltk.stem.porter import PorterStemmer"
   ]
  },
  {
   "cell_type": "code",
   "execution_count": 60,
   "metadata": {
    "collapsed": false
   },
   "outputs": [
    {
     "name": "stdout",
     "output_type": "stream",
     "text": [
      "CPU times: user 11.9 s, sys: 187 ms, total: 12.1 s\n",
      "Wall time: 12.2 s\n"
     ]
    }
   ],
   "source": [
    "%%time\n",
    "words, sents = list(brown.words()), list(brown.sents())"
   ]
  },
  {
   "cell_type": "code",
   "execution_count": 62,
   "metadata": {
    "collapsed": false
   },
   "outputs": [],
   "source": [
    "stop = stopwords.words('english')"
   ]
  },
  {
   "cell_type": "code",
   "execution_count": 63,
   "metadata": {
    "collapsed": true
   },
   "outputs": [],
   "source": [
    "def brown_clean(sents):\n",
    "    sents = [[str(word.lower()) for word in sent] for sent in sents] # unicode->string, lowercasing.\n",
    "    sents = [[word for word in sent if word not in stop] for sent in sents] # removing stopwords.\n",
    "    sents = [[PorterStemmer().stem(word) for word in sent] for sent in sents] # lemmatizing.\n",
    "    return sents\n",
    "def brown_vocab_build(words):\n",
    "    return list(set([PorterStemmer().stem(str(word.lower())) for word in words if str(word.lower()) not in stop]))"
   ]
  },
  {
   "cell_type": "code",
   "execution_count": 65,
   "metadata": {
    "collapsed": false
   },
   "outputs": [
    {
     "name": "stdout",
     "output_type": "stream",
     "text": [
      "CPU times: user 23 s, sys: 204 ms, total: 23.2 s\n",
      "Wall time: 23.2 s\n"
     ]
    }
   ],
   "source": [
    "%%time\n",
    "words = brown_vocab_build(words)\n",
    "words = [str(word) for word in words] # somehow unicode->string needs to be performed again."
   ]
  },
  {
   "cell_type": "code",
   "execution_count": 66,
   "metadata": {
    "collapsed": false
   },
   "outputs": [
    {
     "name": "stdout",
     "output_type": "stream",
     "text": [
      "CPU times: user 22.3 s, sys: 197 ms, total: 22.5 s\n",
      "Wall time: 22.5 s\n"
     ]
    }
   ],
   "source": [
    "%%time\n",
    "sents = brown_clean(sents)"
   ]
  },
  {
   "cell_type": "code",
   "execution_count": 67,
   "metadata": {
    "collapsed": false
   },
   "outputs": [
    {
     "name": "stdout",
     "output_type": "stream",
     "text": [
      "[u'fulton', u'counti', u'grand', u'juri', u'said', u'friday', u'investig', u\"atlanta'\", u'recent', u'primari', u'elect', u'produc', u'``', u'evid', u\"''\", u'irregular', u'took', u'place', u'.']\n",
      "fawn\n"
     ]
    }
   ],
   "source": [
    "print sents[0]\n",
    "print words[0]"
   ]
  },
  {
   "cell_type": "code",
   "execution_count": 74,
   "metadata": {
    "collapsed": false
   },
   "outputs": [],
   "source": []
  },
  {
   "cell_type": "markdown",
   "metadata": {},
   "source": [
    "## GENSIM WORD2VEC MODEL"
   ]
  },
  {
   "cell_type": "code",
   "execution_count": 196,
   "metadata": {
    "collapsed": true
   },
   "outputs": [],
   "source": [
    "from gensim.models import Word2Vec\n",
    "    # Word2Vec params:\n",
    "    #  - size: dimensionality of feature vectors.\n",
    "    #  - window: the maximum distance between the current and predicted word within a sentence.\n",
    "    #  - alpha: initial learning rate.\n",
    "    #  - seed: seed for random number generator.\n",
    "    #  - min_count: ignore all words with total frequency lower than this.\n",
    "    #  - max_vocab_size: limit RAM during vocab building.\n",
    "    #  - sample: threshold for configuring which higher-frequency words are randomly downsampled\n",
    "    #      default=1e-3, useful range is (0, 1e-5).\n",
    "    #  - workers: use this many worker threads to train the model (i.e. faster with multicore machines)\n",
    "    #  - iter: number of iterations over corpus.\n",
    "    #  ... for the rest see https://radimrehurek.com/gensim/models/word2vec.html."
   ]
  },
  {
   "cell_type": "code",
   "execution_count": 197,
   "metadata": {
    "collapsed": false
   },
   "outputs": [],
   "source": [
    "import nltk\n",
    "import numpy as np\n",
    "import pandas as pd\n",
    "import matplotlib.pyplot as plt\n",
    "from functools import partial\n",
    "from keras.utils.np_utils import to_categorical\n",
    "%matplotlib inline"
   ]
  },
  {
   "cell_type": "code",
   "execution_count": 198,
   "metadata": {
    "collapsed": true
   },
   "outputs": [],
   "source": [
    "import os\n",
    "os.chdir('/Users/jacobsw/Desktop/IMPLEMENTATION_CAMP/CODE/OJO/SPAM_INTEREST_TASKS/DATA')"
   ]
  },
  {
   "cell_type": "code",
   "execution_count": 199,
   "metadata": {
    "collapsed": false
   },
   "outputs": [
    {
     "data": {
      "text/html": [
       "<div>\n",
       "<table border=\"1\" class=\"dataframe\">\n",
       "  <thead>\n",
       "    <tr style=\"text-align: right;\">\n",
       "      <th></th>\n",
       "      <th>0</th>\n",
       "      <th>1</th>\n",
       "    </tr>\n",
       "  </thead>\n",
       "  <tbody>\n",
       "    <tr>\n",
       "      <th>0</th>\n",
       "      <td>She has indeed contacted me I have n't contact...</td>\n",
       "      <td>1</td>\n",
       "    </tr>\n",
       "    <tr>\n",
       "      <th>1</th>\n",
       "      <td>The round of interviews went very well . Still...</td>\n",
       "      <td>2</td>\n",
       "    </tr>\n",
       "    <tr>\n",
       "      <th>2</th>\n",
       "      <td>It looks like my first reply might not have go...</td>\n",
       "      <td>2</td>\n",
       "    </tr>\n",
       "    <tr>\n",
       "      <th>3</th>\n",
       "      <td>We will be in Austin May NUMBER for the next r...</td>\n",
       "      <td>2</td>\n",
       "    </tr>\n",
       "    <tr>\n",
       "      <th>4</th>\n",
       "      <td>- MLS # NUMBER is by far my top choice because...</td>\n",
       "      <td>2</td>\n",
       "    </tr>\n",
       "  </tbody>\n",
       "</table>\n",
       "</div>"
      ],
      "text/plain": [
       "                                                   0  1\n",
       "0  She has indeed contacted me I have n't contact...  1\n",
       "1  The round of interviews went very well . Still...  2\n",
       "2  It looks like my first reply might not have go...  2\n",
       "3  We will be in Austin May NUMBER for the next r...  2\n",
       "4  - MLS # NUMBER is by far my top choice because...  2"
      ]
     },
     "execution_count": 199,
     "metadata": {},
     "output_type": "execute_result"
    }
   ],
   "source": [
    "joshdata = pd.read_excel('sentiment_josh.xlsx')\n",
    "joshdata.head()"
   ]
  },
  {
   "cell_type": "code",
   "execution_count": 200,
   "metadata": {
    "collapsed": true
   },
   "outputs": [],
   "source": [
    "cristinadata = pd.read_excel('sentiment_cristina.xlsx')\n",
    "jacobdata = pd.read_excel('sentiment_jacob.xlsx')"
   ]
  },
  {
   "cell_type": "code",
   "execution_count": 201,
   "metadata": {
    "collapsed": false
   },
   "outputs": [
    {
     "name": "stdout",
     "output_type": "stream",
     "text": [
      "She has indeed contacted me I have n't contacted her back because I 'm waiting to hear more about my husband 's job opportunity . He will be flying to Austin the day after Easter to continue the interviews and after that we should know more . If you could tell her that I will gladly contact her after that set of interviews that would be great\n",
      "[ 0.  1.  0.]\n"
     ]
    }
   ],
   "source": [
    "X = np.concatenate((joshdata[0].values, cristinadata[0].values, jacobdata[0].values))\n",
    "y = np.concatenate((joshdata[1].values, cristinadata[1].values, jacobdata[1].values))\n",
    "y[618] = 1.\n",
    "y[706] = 1.\n",
    "y[1472] = 1.\n",
    "y = to_categorical(y)\n",
    "print X[0]\n",
    "print y[0]"
   ]
  },
  {
   "cell_type": "code",
   "execution_count": 202,
   "metadata": {
    "collapsed": true
   },
   "outputs": [],
   "source": [
    "def sent_clean(sent):\n",
    "    sent = nltk.word_tokenize(sent) # still unicode.\n",
    "#     sent = [word for word in sent if word not in stop] # removing stopwords.\n",
    "    sent = [PorterStemmer().stem(word.lower()) for word in sent]\n",
    "    return sent\n",
    "def build_vocab(sents): # used after sent_clean operation.\n",
    "    vocab = []\n",
    "    for sent in sents:\n",
    "        vocab.extend(sent)\n",
    "    return list(set(vocab))"
   ]
  },
  {
   "cell_type": "code",
   "execution_count": 203,
   "metadata": {
    "collapsed": false
   },
   "outputs": [],
   "source": [
    "X = map(sent_clean, X)\n",
    "vocab = build_vocab(X)"
   ]
  },
  {
   "cell_type": "code",
   "execution_count": 204,
   "metadata": {
    "collapsed": false
   },
   "outputs": [
    {
     "name": "stdout",
     "output_type": "stream",
     "text": [
      "[u'she', u'ha', u'inde', u'contact', u'me', u'i', u'have', u\"n't\", u'contact', u'her', u'back', u'becaus', u'i', u\"'m\", u'wait', u'to', u'hear', u'more', u'about', u'my', u'husband', u\"'s\", u'job', u'opportun', u'.', u'he', u'will', u'be', u'fli', u'to', u'austin', u'the', u'day', u'after', u'easter', u'to', u'continu', u'the', u'interview', u'and', u'after', u'that', u'we', u'should', u'know', u'more', u'.', u'if', u'you', u'could', u'tell', u'her', u'that', u'i', u'will', u'gladli', u'contact', u'her', u'after', u'that', u'set', u'of', u'interview', u'that', u'would', u'be', u'great']\n",
      "[u'smtp.homecity.com', u'lolthank', u'number-a', u'6pm', u'oldest', u'hate', u'whose', u'aug', u'sorri', u'deviat']\n"
     ]
    }
   ],
   "source": [
    "print X[0]\n",
    "print vocab[:10]"
   ]
  },
  {
   "cell_type": "markdown",
   "metadata": {},
   "source": [
    "### ====================== COMMON CODE ENDS HERE ======================"
   ]
  },
  {
   "cell_type": "code",
   "execution_count": 40,
   "metadata": {
    "collapsed": false
   },
   "outputs": [
    {
     "name": "stdout",
     "output_type": "stream",
     "text": [
      "CPU times: user 542 ms, sys: 22.5 ms, total: 564 ms\n",
      "Wall time: 241 ms\n"
     ]
    }
   ],
   "source": [
    "%%time\n",
    "model = Word2Vec(X, size=5, window=4) # words -> 10D vecs."
   ]
  },
  {
   "cell_type": "code",
   "execution_count": 41,
   "metadata": {
    "collapsed": false
   },
   "outputs": [],
   "source": [
    "# WORD -> VECTOR\n",
    "def vectorize(model, sent): # sent -> list word vector in model.\n",
    "    return [model[word] for word in sent if word in model.vocab]"
   ]
  },
  {
   "cell_type": "code",
   "execution_count": 378,
   "metadata": {
    "collapsed": false
   },
   "outputs": [
    {
     "data": {
      "text/plain": [
       "list"
      ]
     },
     "execution_count": 378,
     "metadata": {},
     "output_type": "execute_result"
    }
   ],
   "source": [
    "type(X)"
   ]
  },
  {
   "cell_type": "code",
   "execution_count": 42,
   "metadata": {
    "collapsed": false
   },
   "outputs": [],
   "source": [
    "X_vec = [vectorize(model,sent) for sent in X] # X_vec is now a list of lists of 10D vectors\n",
    "                                              #                 ^        ^            ^\n",
    "                                              #                 |        |            |\n",
    "                                              #               corpus   sentence     word"
   ]
  },
  {
   "cell_type": "markdown",
   "metadata": {
    "collapsed": false
   },
   "source": [
    "# BAD DATASET: INTEREST VS. NOT INTEREST"
   ]
  },
  {
   "cell_type": "markdown",
   "metadata": {},
   "source": [
    "## MODEL 1: MLP"
   ]
  },
  {
   "cell_type": "code",
   "execution_count": 23,
   "metadata": {
    "collapsed": false
   },
   "outputs": [],
   "source": [
    "from keras.models import Sequential\n",
    "from keras.layers import Dense, Flatten\n",
    "from keras.preprocessing import sequence\n",
    "from sklearn.cross_validation import train_test_split"
   ]
  },
  {
   "cell_type": "code",
   "execution_count": 24,
   "metadata": {
    "collapsed": false
   },
   "outputs": [
    {
     "name": "stdout",
     "output_type": "stream",
     "text": [
      "Average Sentence Length: 64\n"
     ]
    },
    {
     "data": {
      "image/png": "[encoded data removed]",
      "text/plain": [
       "<matplotlib.figure.Figure at 0x11dac7550>"
      ]
     },
     "metadata": {},
     "output_type": "display_data"
    }
   ],
   "source": [
    "sentLens = [len(sent) for sent in X_vec]\n",
    "meanLens = int(np.mean(sentLens))\n",
    "print 'Average Sentence Length: %d' % meanLens\n",
    "plt.hist(sentLens)\n",
    "plt.title('Sentence Length Distribution')\n",
    "plt.xlabel('Sentence Length')\n",
    "plt.ylabel('Length Frequency')\n",
    "plt.show()\n",
    "# NB: BUT WE'LL TAKE 60."
   ]
  },
  {
   "cell_type": "code",
   "execution_count": 25,
   "metadata": {
    "collapsed": false
   },
   "outputs": [],
   "source": [
    "# INPUT SIZE UNIFORMIZATION\n",
    "# FLATTENING\n",
    "def flatten(sents):\n",
    "    return [word for sent in sents for word in sent]\n",
    "padding = np.array([0.,0.,0.,0.,0.], dtype='float32')\n",
    "for i in range(len(X_vec)):\n",
    "    if len(X_vec[i]) > 60:\n",
    "        X_vec[i] = X_vec[i][:60]\n",
    "    else: \n",
    "        X_vec[i] += [padding for _ in range(60-len(X_vec[i]))]\n",
    "X_vec = map(np.array, X_vec) # to np.array, so that .shape attribute is available.\n",
    "X_vec = map(flatten, X_vec)"
   ]
  },
  {
   "cell_type": "code",
   "execution_count": 26,
   "metadata": {
    "collapsed": false
   },
   "outputs": [],
   "source": [
    "X_train, X_test, y_train, y_test = train_test_split(X_vec, y, test_size=.2)"
   ]
  },
  {
   "cell_type": "code",
   "execution_count": 27,
   "metadata": {
    "collapsed": false
   },
   "outputs": [
    {
     "name": "stdout",
     "output_type": "stream",
     "text": [
      "____________________________________________________________________________________________________\n",
      "Layer (type)                       Output Shape        Param #     Connected to                     \n",
      "====================================================================================================\n",
      "dense_1 (Dense)                    (None, 100)         30100       dense_input_1[0][0]              \n",
      "____________________________________________________________________________________________________\n",
      "dense_2 (Dense)                    (None, 50)          5050        dense_1[0][0]                    \n",
      "____________________________________________________________________________________________________\n",
      "dense_3 (Dense)                    (None, 3)           153         dense_2[0][0]                    \n",
      "====================================================================================================\n",
      "Total params: 35303\n",
      "____________________________________________________________________________________________________\n",
      "None\n"
     ]
    }
   ],
   "source": [
    "# MLP BUILDING\n",
    "model = Sequential()\n",
    "model.add(Dense(100, input_dim=300, init='normal', activation='relu'))\n",
    "model.add(Dense(50, init='normal', activation='relu'))\n",
    "model.add(Dense(3, init='normal', activation='softmax'))\n",
    "model.compile(loss='categorical_crossentropy', optimizer='adam', metrics=['accuracy'])\n",
    "print model.summary()"
   ]
  },
  {
   "cell_type": "code",
   "execution_count": 371,
   "metadata": {
    "collapsed": false
   },
   "outputs": [
    {
     "name": "stdout",
     "output_type": "stream",
     "text": [
      "CPU times: user 2 µs, sys: 1e+03 ns, total: 3 µs\n",
      "Wall time: 8.11 µs\n",
      "Train on 1200 samples, validate on 300 samples\n",
      "Epoch 1/10\n",
      "1200/1200 [==============================] - 0s - loss: 1.0032 - acc: 0.4983 - val_loss: 0.9919 - val_acc: 0.5400\n",
      "Epoch 2/10\n",
      "1200/1200 [==============================] - 0s - loss: 0.8997 - acc: 0.6100 - val_loss: 0.9454 - val_acc: 0.5567\n",
      "Epoch 3/10\n",
      "1200/1200 [==============================] - 0s - loss: 0.8362 - acc: 0.6417 - val_loss: 0.9236 - val_acc: 0.5600\n",
      "Epoch 4/10\n",
      "1200/1200 [==============================] - 0s - loss: 0.7658 - acc: 0.6617 - val_loss: 0.9161 - val_acc: 0.5900\n",
      "Epoch 5/10\n",
      "1200/1200 [==============================] - 0s - loss: 0.6986 - acc: 0.6850 - val_loss: 0.8844 - val_acc: 0.5533\n",
      "Epoch 6/10\n",
      "1200/1200 [==============================] - 0s - loss: 0.6506 - acc: 0.7117 - val_loss: 0.8613 - val_acc: 0.5767\n",
      "Epoch 7/10\n",
      "1200/1200 [==============================] - 0s - loss: 0.6137 - acc: 0.7300 - val_loss: 0.8667 - val_acc: 0.5967\n",
      "Epoch 8/10\n",
      "1200/1200 [==============================] - 0s - loss: 0.5507 - acc: 0.7608 - val_loss: 0.8487 - val_acc: 0.6300\n",
      "Epoch 9/10\n",
      "1200/1200 [==============================] - 0s - loss: 0.4933 - acc: 0.7850 - val_loss: 0.8348 - val_acc: 0.6933\n",
      "Epoch 10/10\n",
      "1200/1200 [==============================] - 0s - loss: 0.4784 - acc: 0.7825 - val_loss: 0.8124 - val_acc: 0.6667\n",
      "Accuracy: 66.67%\n"
     ]
    }
   ],
   "source": [
    "%%time\n",
    "model.fit(X_train, y_train, validation_data=(X_test, y_test), nb_epoch=10, batch_size=50, verbose=1)\n",
    "scores = model.evaluate(X_test, y_test, verbose=0)\n",
    "print 'Accuracy: %.2f%%' % (scores[1]*100)"
   ]
  },
  {
   "cell_type": "markdown",
   "metadata": {},
   "source": [
    "## MODEL 2: CNN"
   ]
  },
  {
   "cell_type": "code",
   "execution_count": 189,
   "metadata": {
    "collapsed": true
   },
   "outputs": [],
   "source": [
    "from keras.layers import Convolution2D, MaxPooling2D, Dropout\n",
    "from keras.constraints import maxnorm"
   ]
  },
  {
   "cell_type": "code",
   "execution_count": 190,
   "metadata": {
    "collapsed": false
   },
   "outputs": [
    {
     "name": "stdout",
     "output_type": "stream",
     "text": [
      "CPU times: user 546 ms, sys: 20 ms, total: 566 ms\n",
      "Wall time: 239 ms\n"
     ]
    }
   ],
   "source": [
    "%%time\n",
    "model = Word2Vec(X, size=5, window=4) # words -> 5 vecs."
   ]
  },
  {
   "cell_type": "code",
   "execution_count": 191,
   "metadata": {
    "collapsed": false
   },
   "outputs": [
    {
     "name": "stdout",
     "output_type": "stream",
     "text": [
      "Dimensions of EACH Sentence-Matrix: (1, 60, 5)\n",
      "Dimensions of ENTIRE Dataset: (1500, 1, 60, 5)\n"
     ]
    }
   ],
   "source": [
    "# SENTENCES -> MATRICES \n",
    "#  - each word is a row of 5D vector.\n",
    "#  - normalization size: 60.\n",
    "X_mat = [[model[word] for word in sent if word in model.vocab] for sent in X]\n",
    "padding = np.array([0.,0.,0.,0.,0.], dtype='float32')\n",
    "for i in range(len(X_mat)):\n",
    "    if len(X_mat[i]) > 60:\n",
    "        X_mat[i] = X_mat[i][:60]\n",
    "    else: \n",
    "        X_mat[i] += [padding for _ in range(60-len(X_mat[i]))]\n",
    "X_mat = map(np.array, X_mat) # to np.array, integrate individual flaot32 objs into 1 matrix.\n",
    "X_mat = np.array(X_mat)\n",
    "X_mat = X_mat.reshape(X_mat.shape[0], 1, 60, 5)\n",
    "print 'Dimensions of EACH Sentence-Matrix: (%d, %d, %d)' % X_mat[0].shape\n",
    "print 'Dimensions of ENTIRE Dataset: (%d, %d, %d, %d)' % X_mat.shape"
   ]
  },
  {
   "cell_type": "code",
   "execution_count": 192,
   "metadata": {
    "collapsed": true
   },
   "outputs": [],
   "source": [
    "X_train, X_test, y_train, y_test = train_test_split(X_mat, y, test_size=.2)"
   ]
  },
  {
   "cell_type": "markdown",
   "metadata": {},
   "source": [
    "### OPTIMIZATION 1: ADAM"
   ]
  },
  {
   "cell_type": "code",
   "execution_count": 32,
   "metadata": {
    "collapsed": false
   },
   "outputs": [
    {
     "name": "stdout",
     "output_type": "stream",
     "text": [
      "____________________________________________________________________________________________________\n",
      "Layer (type)                       Output Shape        Param #     Connected to                     \n",
      "====================================================================================================\n",
      "convolution2d_1 (Convolution2D)    (None, 30, 60, 5)   300         convolution2d_input_1[0][0]      \n",
      "____________________________________________________________________________________________________\n",
      "dropout_1 (Dropout)                (None, 30, 60, 5)   0           convolution2d_1[0][0]            \n",
      "____________________________________________________________________________________________________\n",
      "convolution2d_2 (Convolution2D)    (None, 15, 60, 5)   4065        dropout_1[0][0]                  \n",
      "____________________________________________________________________________________________________\n",
      "maxpooling2d_1 (MaxPooling2D)      (None, 15, 30, 2)   0           convolution2d_2[0][0]            \n",
      "____________________________________________________________________________________________________\n",
      "flatten_1 (Flatten)                (None, 900)         0           maxpooling2d_1[0][0]             \n",
      "____________________________________________________________________________________________________\n",
      "dense_4 (Dense)                    (None, 512)         461312      flatten_1[0][0]                  \n",
      "____________________________________________________________________________________________________\n",
      "dropout_2 (Dropout)                (None, 512)         0           dense_4[0][0]                    \n",
      "____________________________________________________________________________________________________\n",
      "dense_5 (Dense)                    (None, 3)           1539        dropout_2[0][0]                  \n",
      "====================================================================================================\n",
      "Total params: 467216\n",
      "____________________________________________________________________________________________________\n",
      "None\n"
     ]
    }
   ],
   "source": [
    "# MODEL BUILDING\n",
    "model = Sequential()\n",
    "model.add(Convolution2D(30, 3, 3, input_shape=(1,60,5), border_mode='same', activation='relu', W_constraint=maxnorm(3)))\n",
    "model.add(Dropout(.2))\n",
    "model.add(Convolution2D(15, 3, 3, activation='relu', border_mode='same', W_constraint=maxnorm(3)))\n",
    "model.add(MaxPooling2D(pool_size=(2,2)))\n",
    "model.add(Flatten())\n",
    "model.add(Dense(512, activation='relu'))\n",
    "model.add(Dropout(.2))\n",
    "model.add(Dense(3, activation='softmax'))\n",
    "model.compile(loss='categorical_crossentropy', optimizer='adam', metrics=['accuracy'])\n",
    "print model.summary()"
   ]
  },
  {
   "cell_type": "code",
   "execution_count": 469,
   "metadata": {
    "collapsed": false
   },
   "outputs": [
    {
     "name": "stdout",
     "output_type": "stream",
     "text": [
      "Train on 1200 samples, validate on 300 samples\n",
      "Epoch 1/25\n",
      "1200/1200 [==============================] - 1s - loss: 1.2828 - acc: 0.4908 - val_loss: 0.9881 - val_acc: 0.6033\n",
      "Epoch 2/25\n",
      "1200/1200 [==============================] - 1s - loss: 0.9094 - acc: 0.5783 - val_loss: 0.9009 - val_acc: 0.5867\n",
      "Epoch 3/25\n",
      "1200/1200 [==============================] - 1s - loss: 0.8693 - acc: 0.5933 - val_loss: 0.9105 - val_acc: 0.5967\n",
      "Epoch 4/25\n",
      "1200/1200 [==============================] - 1s - loss: 0.8353 - acc: 0.6033 - val_loss: 0.9051 - val_acc: 0.6067\n",
      "Epoch 5/25\n",
      "1200/1200 [==============================] - 1s - loss: 0.7768 - acc: 0.6408 - val_loss: 0.8126 - val_acc: 0.6567\n",
      "Epoch 6/25\n",
      "1200/1200 [==============================] - 1s - loss: 0.7402 - acc: 0.6467 - val_loss: 0.8106 - val_acc: 0.6700\n",
      "Epoch 7/25\n",
      "1200/1200 [==============================] - 1s - loss: 0.6939 - acc: 0.6883 - val_loss: 0.8017 - val_acc: 0.6467\n",
      "Epoch 8/25\n",
      "1200/1200 [==============================] - 1s - loss: 0.6687 - acc: 0.6975 - val_loss: 0.7514 - val_acc: 0.7300\n",
      "Epoch 9/25\n",
      "1200/1200 [==============================] - 1s - loss: 0.6177 - acc: 0.7333 - val_loss: 0.7830 - val_acc: 0.6700\n",
      "Epoch 10/25\n",
      "1200/1200 [==============================] - 1s - loss: 0.5633 - acc: 0.7608 - val_loss: 0.7730 - val_acc: 0.6767\n",
      "Epoch 11/25\n",
      "1200/1200 [==============================] - 1s - loss: 0.5363 - acc: 0.7600 - val_loss: 0.7504 - val_acc: 0.7033\n",
      "Epoch 12/25\n",
      "1200/1200 [==============================] - 1s - loss: 0.4974 - acc: 0.7900 - val_loss: 0.7318 - val_acc: 0.6900\n",
      "Epoch 13/25\n",
      "1200/1200 [==============================] - 1s - loss: 0.4876 - acc: 0.7942 - val_loss: 0.7656 - val_acc: 0.7400\n",
      "Epoch 14/25\n",
      "1200/1200 [==============================] - 1s - loss: 0.4421 - acc: 0.8133 - val_loss: 0.8037 - val_acc: 0.7100\n",
      "Epoch 15/25\n",
      "1200/1200 [==============================] - 1s - loss: 0.4385 - acc: 0.8025 - val_loss: 0.7848 - val_acc: 0.7233\n",
      "Epoch 16/25\n",
      "1200/1200 [==============================] - 1s - loss: 0.4179 - acc: 0.7983 - val_loss: 0.8003 - val_acc: 0.7167\n",
      "Epoch 17/25\n",
      "1200/1200 [==============================] - 1s - loss: 0.3940 - acc: 0.8233 - val_loss: 0.8071 - val_acc: 0.7567\n",
      "Epoch 18/25\n",
      "1200/1200 [==============================] - 1s - loss: 0.3935 - acc: 0.8200 - val_loss: 0.8258 - val_acc: 0.7333\n",
      "Epoch 19/25\n",
      "1200/1200 [==============================] - 1s - loss: 0.3860 - acc: 0.8233 - val_loss: 0.7981 - val_acc: 0.7400\n",
      "Epoch 20/25\n",
      "1200/1200 [==============================] - 1s - loss: 0.3930 - acc: 0.8133 - val_loss: 0.8505 - val_acc: 0.7167\n",
      "Epoch 21/25\n",
      "1200/1200 [==============================] - 1s - loss: 0.3774 - acc: 0.8242 - val_loss: 0.8388 - val_acc: 0.7267\n",
      "Epoch 22/25\n",
      "1200/1200 [==============================] - 1s - loss: 0.3661 - acc: 0.8350 - val_loss: 0.8499 - val_acc: 0.7400\n",
      "Epoch 23/25\n",
      "1200/1200 [==============================] - 1s - loss: 0.3662 - acc: 0.8150 - val_loss: 0.8324 - val_acc: 0.7367\n",
      "Epoch 24/25\n",
      "1200/1200 [==============================] - 1s - loss: 0.3579 - acc: 0.8275 - val_loss: 0.8279 - val_acc: 0.7500\n",
      "Epoch 25/25\n",
      "1200/1200 [==============================] - 1s - loss: 0.3597 - acc: 0.8200 - val_loss: 0.8258 - val_acc: 0.7267\n",
      "Accuracy: 72.67%\n"
     ]
    }
   ],
   "source": [
    "# MODEL FITTING & EVALUATION\n",
    "model.fit(X_train, y_train, validation_data=(X_test, y_test), nb_epoch=25, batch_size=50, verbose=1)\n",
    "scores = model.evaluate(X_test, y_test, verbose=0)\n",
    "print 'Accuracy: %.2f%%' % (scores[1]*100)"
   ]
  },
  {
   "cell_type": "markdown",
   "metadata": {},
   "source": [
    "### OPTIMIZATION 2: SGD"
   ]
  },
  {
   "cell_type": "code",
   "execution_count": 33,
   "metadata": {
    "collapsed": true
   },
   "outputs": [],
   "source": [
    "from keras.optimizers import SGD"
   ]
  },
  {
   "cell_type": "code",
   "execution_count": 34,
   "metadata": {
    "collapsed": false
   },
   "outputs": [
    {
     "name": "stdout",
     "output_type": "stream",
     "text": [
      "____________________________________________________________________________________________________\n",
      "Layer (type)                       Output Shape        Param #     Connected to                     \n",
      "====================================================================================================\n",
      "convolution2d_3 (Convolution2D)    (None, 30, 60, 5)   300         convolution2d_input_2[0][0]      \n",
      "____________________________________________________________________________________________________\n",
      "dropout_3 (Dropout)                (None, 30, 60, 5)   0           convolution2d_3[0][0]            \n",
      "____________________________________________________________________________________________________\n",
      "convolution2d_4 (Convolution2D)    (None, 15, 60, 5)   4065        dropout_3[0][0]                  \n",
      "____________________________________________________________________________________________________\n",
      "maxpooling2d_2 (MaxPooling2D)      (None, 15, 30, 2)   0           convolution2d_4[0][0]            \n",
      "____________________________________________________________________________________________________\n",
      "flatten_2 (Flatten)                (None, 900)         0           maxpooling2d_2[0][0]             \n",
      "____________________________________________________________________________________________________\n",
      "dense_6 (Dense)                    (None, 512)         461312      flatten_2[0][0]                  \n",
      "____________________________________________________________________________________________________\n",
      "dropout_4 (Dropout)                (None, 512)         0           dense_6[0][0]                    \n",
      "____________________________________________________________________________________________________\n",
      "dense_7 (Dense)                    (None, 3)           1539        dropout_4[0][0]                  \n",
      "====================================================================================================\n",
      "Total params: 467216\n",
      "____________________________________________________________________________________________________\n",
      "None\n"
     ]
    }
   ],
   "source": [
    "# MODEL BUILDING\n",
    "model = Sequential()\n",
    "model.add(Convolution2D(30, 3, 3, input_shape=(1,60,5), border_mode='same', activation='relu', W_constraint=maxnorm(3)))\n",
    "model.add(Dropout(.2))\n",
    "model.add(Convolution2D(15, 3, 3, activation='relu', border_mode='same', W_constraint=maxnorm(3)))\n",
    "model.add(MaxPooling2D(pool_size=(2,2)))\n",
    "model.add(Flatten())\n",
    "model.add(Dense(512, activation='relu'))\n",
    "model.add(Dropout(.2))\n",
    "model.add(Dense(3, activation='softmax'))\n",
    "epochs = 25\n",
    "lrate = .01\n",
    "decay = lrate / epochs\n",
    "sgd = SGD(lr=lrate, momentum=.9, decay=decay, nesterov=False)\n",
    "model.compile(loss='categorical_crossentropy', optimizer=sgd, metrics=['accuracy'])\n",
    "print model.summary()"
   ]
  },
  {
   "cell_type": "code",
   "execution_count": 466,
   "metadata": {
    "collapsed": false
   },
   "outputs": [
    {
     "name": "stdout",
     "output_type": "stream",
     "text": [
      "Train on 1200 samples, validate on 300 samples\n",
      "Epoch 1/25\n",
      "1200/1200 [==============================] - 1s - loss: 1.2144 - acc: 0.4817 - val_loss: 0.9562 - val_acc: 0.5733\n",
      "Epoch 2/25\n",
      "1200/1200 [==============================] - 1s - loss: 0.9364 - acc: 0.5742 - val_loss: 0.9117 - val_acc: 0.6033\n",
      "Epoch 3/25\n",
      "1200/1200 [==============================] - 1s - loss: 0.9162 - acc: 0.5675 - val_loss: 0.8962 - val_acc: 0.6200\n",
      "Epoch 4/25\n",
      "1200/1200 [==============================] - 1s - loss: 0.8613 - acc: 0.6025 - val_loss: 0.8552 - val_acc: 0.6200\n",
      "Epoch 5/25\n",
      "1200/1200 [==============================] - 1s - loss: 0.8419 - acc: 0.6083 - val_loss: 0.8855 - val_acc: 0.6000\n",
      "Epoch 6/25\n",
      "1200/1200 [==============================] - 1s - loss: 0.8087 - acc: 0.6183 - val_loss: 0.8358 - val_acc: 0.6233\n",
      "Epoch 7/25\n",
      "1200/1200 [==============================] - 1s - loss: 0.7817 - acc: 0.6250 - val_loss: 0.8298 - val_acc: 0.6333\n",
      "Epoch 8/25\n",
      "1200/1200 [==============================] - 1s - loss: 0.7292 - acc: 0.6617 - val_loss: 0.8646 - val_acc: 0.5933\n",
      "Epoch 9/25\n",
      "1200/1200 [==============================] - 1s - loss: 0.7149 - acc: 0.6625 - val_loss: 0.8282 - val_acc: 0.6667\n",
      "Epoch 10/25\n",
      "1200/1200 [==============================] - 1s - loss: 0.6874 - acc: 0.6833 - val_loss: 0.7935 - val_acc: 0.6700\n",
      "Epoch 11/25\n",
      "1200/1200 [==============================] - 1s - loss: 0.6612 - acc: 0.6992 - val_loss: 0.7768 - val_acc: 0.6700\n",
      "Epoch 12/25\n",
      "1200/1200 [==============================] - 1s - loss: 0.6264 - acc: 0.7275 - val_loss: 0.7482 - val_acc: 0.7133\n",
      "Epoch 13/25\n",
      "1200/1200 [==============================] - 1s - loss: 0.5824 - acc: 0.7417 - val_loss: 0.7548 - val_acc: 0.7067\n",
      "Epoch 14/25\n",
      "1200/1200 [==============================] - 1s - loss: 0.5559 - acc: 0.7633 - val_loss: 0.7583 - val_acc: 0.7167\n",
      "Epoch 15/25\n",
      "1200/1200 [==============================] - 1s - loss: 0.5416 - acc: 0.7592 - val_loss: 0.7752 - val_acc: 0.7267\n",
      "Epoch 16/25\n",
      "1200/1200 [==============================] - 1s - loss: 0.5273 - acc: 0.7683 - val_loss: 0.7548 - val_acc: 0.7267\n",
      "Epoch 17/25\n",
      "1200/1200 [==============================] - 1s - loss: 0.5080 - acc: 0.7800 - val_loss: 0.7620 - val_acc: 0.7333\n",
      "Epoch 18/25\n",
      "1200/1200 [==============================] - 1s - loss: 0.4749 - acc: 0.8000 - val_loss: 0.7543 - val_acc: 0.7367\n",
      "Epoch 19/25\n",
      "1200/1200 [==============================] - 1s - loss: 0.4649 - acc: 0.7950 - val_loss: 0.7731 - val_acc: 0.7500\n",
      "Epoch 20/25\n",
      "1200/1200 [==============================] - 1s - loss: 0.4567 - acc: 0.7975 - val_loss: 0.7758 - val_acc: 0.7267\n",
      "Epoch 21/25\n",
      "1200/1200 [==============================] - 1s - loss: 0.4372 - acc: 0.8050 - val_loss: 0.8010 - val_acc: 0.7333\n",
      "Epoch 22/25\n",
      "1200/1200 [==============================] - 1s - loss: 0.4462 - acc: 0.8025 - val_loss: 0.8513 - val_acc: 0.7200\n",
      "Epoch 23/25\n",
      "1200/1200 [==============================] - 1s - loss: 0.4034 - acc: 0.8192 - val_loss: 0.8216 - val_acc: 0.7133\n",
      "Epoch 24/25\n",
      "1200/1200 [==============================] - 1s - loss: 0.3963 - acc: 0.8258 - val_loss: 0.8384 - val_acc: 0.7100\n",
      "Epoch 25/25\n",
      "1200/1200 [==============================] - 1s - loss: 0.4055 - acc: 0.8167 - val_loss: 0.8219 - val_acc: 0.7433\n",
      "Accuracy: 74.33%\n"
     ]
    }
   ],
   "source": [
    "# MODEL FITTING & EVALUATION\n",
    "model.fit(X_train, y_train, validation_data=(X_test, y_test), nb_epoch=epochs, batch_size=50, verbose=1)\n",
    "scores = model.evaluate(X_test, y_test, verbose=0)\n",
    "print 'Accuracy: %.2f%%' % (scores[1]*100)"
   ]
  },
  {
   "cell_type": "markdown",
   "metadata": {},
   "source": [
    "### ACCURACY & CONVERGENCE"
   ]
  },
  {
   "cell_type": "code",
   "execution_count": 40,
   "metadata": {
    "collapsed": false
   },
   "outputs": [
    {
     "name": "stdout",
     "output_type": "stream",
     "text": [
      "Accuracy: 72.67%\n"
     ]
    },
    {
     "data": {
      "image/png": "[encoded data removed]",
      "text/plain": [
       "<matplotlib.figure.Figure at 0x1264f3a50>"
      ]
     },
     "metadata": {},
     "output_type": "display_data"
    }
   ],
   "source": [
    "# ADAM OPTIMIZATION\n",
    "model = Sequential()\n",
    "model.add(Convolution2D(30, 3, 3, input_shape=(1,60,5), border_mode='same', activation='relu', W_constraint=maxnorm(3)))\n",
    "model.add(Dropout(.2))\n",
    "model.add(Convolution2D(15, 3, 3, activation='relu', border_mode='same', W_constraint=maxnorm(3)))\n",
    "model.add(MaxPooling2D(pool_size=(2,2)))\n",
    "model.add(Flatten())\n",
    "model.add(Dense(512, activation='relu'))\n",
    "model.add(Dropout(.2))\n",
    "model.add(Dense(3, activation='softmax'))\n",
    "model.compile(loss='categorical_crossentropy', optimizer='adam', metrics=['accuracy'])\n",
    "history = model.fit(X_train, y_train, validation_data=(X_test, y_test), nb_epoch=25, batch_size=50, verbose=0)\n",
    "scores = model.evaluate(X_test, y_test, verbose=0)\n",
    "print 'Accuracy: %.2f%%' % (scores[1]*100)\n",
    "plt.plot(history.history['acc'])\n",
    "plt.plot(history.history['val_acc'])\n",
    "plt.title('Model Accuray')\n",
    "plt.ylabel('Accuracy')\n",
    "plt.xlabel('Epoch')\n",
    "plt.legend(['train', 'test'], loc='upper left')\n",
    "plt.show()"
   ]
  },
  {
   "cell_type": "code",
   "execution_count": 41,
   "metadata": {
    "collapsed": false
   },
   "outputs": [
    {
     "data": {
      "image/png": "[encoded data removed]",
      "text/plain": [
       "<matplotlib.figure.Figure at 0x123c3bad0>"
      ]
     },
     "metadata": {},
     "output_type": "display_data"
    }
   ],
   "source": [
    "plt.plot(history.history['loss'])\n",
    "plt.plot(history.history['val_loss'])\n",
    "plt.title('Error Convergence')\n",
    "plt.ylabel('Error')\n",
    "plt.xlabel('Epoch')\n",
    "plt.legend(['train', 'test'], loc='upper left')\n",
    "plt.show()"
   ]
  },
  {
   "cell_type": "code",
   "execution_count": 36,
   "metadata": {
    "collapsed": false
   },
   "outputs": [
    {
     "name": "stdout",
     "output_type": "stream",
     "text": [
      "Accuracy: 72.33%\n"
     ]
    },
    {
     "data": {
      "image/png": "[encoded data removed]",
      "text/plain": [
       "<matplotlib.figure.Figure at 0x122b3fa50>"
      ]
     },
     "metadata": {},
     "output_type": "display_data"
    }
   ],
   "source": [
    "# SGD OPTIMIZATION\n",
    "model = Sequential()\n",
    "model.add(Convolution2D(30, 3, 3, input_shape=(1,60,5), border_mode='same', activation='relu', W_constraint=maxnorm(3)))\n",
    "model.add(Dropout(.2))\n",
    "model.add(Convolution2D(15, 3, 3, activation='relu', border_mode='same', W_constraint=maxnorm(3)))\n",
    "model.add(MaxPooling2D(pool_size=(2,2)))\n",
    "model.add(Flatten())\n",
    "model.add(Dense(512, activation='relu'))\n",
    "model.add(Dropout(.2))\n",
    "model.add(Dense(3, activation='softmax'))\n",
    "epochs = 25\n",
    "lrate = .01\n",
    "decay = lrate / epochs\n",
    "sgd = SGD(lr=lrate, momentum=.9, decay=decay, nesterov=False)\n",
    "model.compile(loss='categorical_crossentropy', optimizer=sgd, metrics=['accuracy'])\n",
    "history = model.fit(X_train, y_train, validation_data=(X_test, y_test), nb_epoch=epochs, batch_size=50, verbose=0)\n",
    "scores = model.evaluate(X_test, y_test, verbose=0)\n",
    "print 'Accuracy: %.2f%%' % (scores[1]*100)\n",
    "plt.plot(history.history['acc'])\n",
    "plt.plot(history.history['val_acc'])\n",
    "plt.title('Model Accuray')\n",
    "plt.ylabel('Accuracy')\n",
    "plt.xlabel('Epoch')\n",
    "plt.legend(['train', 'test'], loc='upper left')\n",
    "plt.show()"
   ]
  },
  {
   "cell_type": "code",
   "execution_count": 37,
   "metadata": {
    "collapsed": false
   },
   "outputs": [
    {
     "data": {
      "image/png": "[encoded data removed]",
      "text/plain": [
       "<matplotlib.figure.Figure at 0x123eb0290>"
      ]
     },
     "metadata": {},
     "output_type": "display_data"
    }
   ],
   "source": [
    "plt.plot(history.history['loss'])\n",
    "plt.plot(history.history['val_loss'])\n",
    "plt.title('Error Convergence')\n",
    "plt.ylabel('Error')\n",
    "plt.xlabel('Epoch')\n",
    "plt.legend(['train', 'test'], loc='upper left')\n",
    "plt.show()"
   ]
  },
  {
   "cell_type": "markdown",
   "metadata": {
    "collapsed": true
   },
   "source": [
    "## 5 x 60 x 1 DIM CNN EXPERIMENT"
   ]
  },
  {
   "cell_type": "code",
   "execution_count": 205,
   "metadata": {
    "collapsed": true
   },
   "outputs": [],
   "source": [
    "import numpy as np\n",
    "from keras.datasets import cifar10\n",
    "from keras.models import Sequential\n",
    "from keras.layers import Dense, Dropout, Flatten\n",
    "from keras.constraints import maxnorm\n",
    "from keras.optimizers import SGD\n",
    "from keras.layers.convolutional import Convolution2D, MaxPooling2D\n",
    "from keras.utils import np_utils\n",
    "from sklearn.cross_validation import train_test_split"
   ]
  },
  {
   "cell_type": "code",
   "execution_count": 206,
   "metadata": {
    "collapsed": false
   },
   "outputs": [
    {
     "name": "stdout",
     "output_type": "stream",
     "text": [
      "CPU times: user 543 ms, sys: 18.6 ms, total: 562 ms\n",
      "Wall time: 238 ms\n"
     ]
    }
   ],
   "source": [
    "%%time\n",
    "# WORD2VEC\n",
    "model = Word2Vec(X, size=5, window=4) # words -> 5 vecs."
   ]
  },
  {
   "cell_type": "code",
   "execution_count": 207,
   "metadata": {
    "collapsed": false
   },
   "outputs": [
    {
     "name": "stdout",
     "output_type": "stream",
     "text": [
      "Dimensions of EACH Sentence-Matrix: (1, 60, 5)\n",
      "Dimensions of ENTIRE Dataset: (1500, 1, 60, 5)\n"
     ]
    }
   ],
   "source": [
    "# SENTENCES -> MATRICES \n",
    "#  - each word is a row of 5D vector.\n",
    "#  - normalization size: 60.\n",
    "X_mat = [[model[word] for word in sent if word in model.vocab] for sent in X]\n",
    "padding = np.array([0.,0.,0.,0.,0.], dtype='float32')\n",
    "for i in range(len(X_mat)):\n",
    "    if len(X_mat[i]) > 60:\n",
    "        X_mat[i] = X_mat[i][:60]\n",
    "    else: \n",
    "        X_mat[i] += [padding for _ in range(60-len(X_mat[i]))]\n",
    "X_mat = map(np.array, X_mat) # to np.array, integrate individual flaot32 objs into 1 matrix.\n",
    "X_mat = np.array(X_mat)\n",
    "X_mat = X_mat.reshape(X_mat.shape[0], 1, 60, 5)\n",
    "print 'Dimensions of EACH Sentence-Matrix: (%d, %d, %d)' % X_mat[0].shape\n",
    "print 'Dimensions of ENTIRE Dataset: (%d, %d, %d, %d)' % X_mat.shape"
   ]
  },
  {
   "cell_type": "code",
   "execution_count": 208,
   "metadata": {
    "collapsed": false
   },
   "outputs": [],
   "source": [
    "# SENT --JOSH_TRANSFORMATION--> SENT\n",
    "def transform(sent):\n",
    "    return np.array([ [ [w[i]] for w in sent ] for i in range(sent.shape[1]) ])\n",
    "X_mat5CH = np.array([ transform(sent[0]) for sent in X_mat ]) # 5 channel."
   ]
  },
  {
   "cell_type": "code",
   "execution_count": 209,
   "metadata": {
    "collapsed": false
   },
   "outputs": [
    {
     "name": "stdout",
     "output_type": "stream",
     "text": [
      "(1500, 5, 60, 1)\n",
      "(5, 60, 1)\n"
     ]
    }
   ],
   "source": [
    "X_train, X_test, y_train, y_test = train_test_split(X_mat5CH, y, test_size=.2)\n",
    "print X_mat5CH.shape\n",
    "print X_train[0].shape"
   ]
  },
  {
   "cell_type": "markdown",
   "metadata": {},
   "source": [
    "### OPTIMIZATION 1: ADAM\n",
    "* **NO DIFFERENCE BETWEEN ADAM & SGD, FOR MORE PARAMS TRIALS SEE \"OPTIMIZATION 2: SGD\"**"
   ]
  },
  {
   "cell_type": "code",
   "execution_count": 211,
   "metadata": {
    "collapsed": false
   },
   "outputs": [
    {
     "name": "stdout",
     "output_type": "stream",
     "text": [
      "____________________________________________________________________________________________________\n",
      "Layer (type)                       Output Shape        Param #     Connected to                     \n",
      "====================================================================================================\n",
      "convolution2d_27 (Convolution2D)   (None, 30, 60, 1)   180         convolution2d_input_14[0][0]     \n",
      "____________________________________________________________________________________________________\n",
      "dropout_19 (Dropout)               (None, 30, 60, 1)   0           convolution2d_27[0][0]           \n",
      "____________________________________________________________________________________________________\n",
      "convolution2d_28 (Convolution2D)   (None, 15, 60, 1)   465         dropout_19[0][0]                 \n",
      "____________________________________________________________________________________________________\n",
      "maxpooling2d_12 (MaxPooling2D)     (None, 15, 30, 1)   0           convolution2d_28[0][0]           \n",
      "____________________________________________________________________________________________________\n",
      "flatten_13 (Flatten)               (None, 450)         0           maxpooling2d_12[0][0]            \n",
      "____________________________________________________________________________________________________\n",
      "dense_18 (Dense)                   (None, 512)         230912      flatten_13[0][0]                 \n",
      "____________________________________________________________________________________________________\n",
      "dropout_20 (Dropout)               (None, 512)         0           dense_18[0][0]                   \n",
      "____________________________________________________________________________________________________\n",
      "dense_19 (Dense)                   (None, 3)           1539        dropout_20[0][0]                 \n",
      "====================================================================================================\n",
      "Total params: 233096\n",
      "____________________________________________________________________________________________________\n",
      "None\n",
      "CPU times: user 509 ms, sys: 13.9 ms, total: 523 ms\n",
      "Wall time: 520 ms\n"
     ]
    }
   ],
   "source": [
    "%%time\n",
    "# MODEL BUILDING\n",
    "model = Sequential()\n",
    "model.add(Convolution2D(30, 1, 1, input_shape=(5,60,1), border_mode='same', activation='relu', W_constraint=maxnorm(3)))\n",
    "model.add(Dropout(.2))\n",
    "model.add(Convolution2D(15, 1, 1, activation='relu', border_mode='same', W_constraint=maxnorm(3)))\n",
    "model.add(MaxPooling2D(pool_size=(2,1))) \n",
    "model.add(Flatten())\n",
    "model.add(Dense(512, activation='relu'))\n",
    "model.add(Dropout(.2))\n",
    "model.add(Dense(3, activation='softmax'))\n",
    "model.compile(loss='categorical_crossentropy', optimizer='adam', metrics=['accuracy'])\n",
    "print model.summary()"
   ]
  },
  {
   "cell_type": "code",
   "execution_count": 213,
   "metadata": {
    "collapsed": false
   },
   "outputs": [
    {
     "name": "stdout",
     "output_type": "stream",
     "text": [
      "Train on 1200 samples, validate on 300 samples\n",
      "Epoch 1/25\n",
      "1200/1200 [==============================] - 0s - loss: 0.3704 - acc: 0.8317 - val_loss: 0.7789 - val_acc: 0.7500\n",
      "Epoch 2/25\n",
      "1200/1200 [==============================] - 0s - loss: 0.3808 - acc: 0.8158 - val_loss: 0.7704 - val_acc: 0.7567\n",
      "Epoch 3/25\n",
      "1200/1200 [==============================] - 0s - loss: 0.3779 - acc: 0.8233 - val_loss: 0.7396 - val_acc: 0.7533\n",
      "Epoch 4/25\n",
      "1200/1200 [==============================] - 0s - loss: 0.3528 - acc: 0.8358 - val_loss: 0.7552 - val_acc: 0.7467\n",
      "Epoch 5/25\n",
      "1200/1200 [==============================] - 0s - loss: 0.3567 - acc: 0.8275 - val_loss: 0.7779 - val_acc: 0.7400\n",
      "Epoch 6/25\n",
      "1200/1200 [==============================] - 0s - loss: 0.3361 - acc: 0.8400 - val_loss: 0.7789 - val_acc: 0.7533\n",
      "Epoch 7/25\n",
      "1200/1200 [==============================] - 0s - loss: 0.3543 - acc: 0.8158 - val_loss: 0.7939 - val_acc: 0.7533\n",
      "Epoch 8/25\n",
      "1200/1200 [==============================] - 0s - loss: 0.3626 - acc: 0.8200 - val_loss: 0.8037 - val_acc: 0.7567\n",
      "Epoch 9/25\n",
      "1200/1200 [==============================] - 0s - loss: 0.3646 - acc: 0.8275 - val_loss: 0.7955 - val_acc: 0.7400\n",
      "Epoch 10/25\n",
      "1200/1200 [==============================] - 0s - loss: 0.3398 - acc: 0.8192 - val_loss: 0.7790 - val_acc: 0.7533\n",
      "Epoch 11/25\n",
      "1200/1200 [==============================] - 0s - loss: 0.3419 - acc: 0.8342 - val_loss: 0.8069 - val_acc: 0.7467\n",
      "Epoch 12/25\n",
      "1200/1200 [==============================] - 0s - loss: 0.3297 - acc: 0.8350 - val_loss: 0.7977 - val_acc: 0.7467\n",
      "Epoch 13/25\n",
      "1200/1200 [==============================] - 0s - loss: 0.3405 - acc: 0.8258 - val_loss: 0.8103 - val_acc: 0.7533\n",
      "Epoch 14/25\n",
      "1200/1200 [==============================] - 0s - loss: 0.3326 - acc: 0.8292 - val_loss: 0.8345 - val_acc: 0.7600\n",
      "Epoch 15/25\n",
      "1200/1200 [==============================] - 0s - loss: 0.3356 - acc: 0.8308 - val_loss: 0.8415 - val_acc: 0.7433\n",
      "Epoch 16/25\n",
      "1200/1200 [==============================] - 0s - loss: 0.3234 - acc: 0.8408 - val_loss: 0.8161 - val_acc: 0.7467\n",
      "Epoch 17/25\n",
      "1200/1200 [==============================] - 0s - loss: 0.3229 - acc: 0.8408 - val_loss: 0.8611 - val_acc: 0.7333\n",
      "Epoch 18/25\n",
      "1200/1200 [==============================] - 0s - loss: 0.3303 - acc: 0.8350 - val_loss: 0.8517 - val_acc: 0.7567\n",
      "Epoch 19/25\n",
      "1200/1200 [==============================] - 0s - loss: 0.3102 - acc: 0.8417 - val_loss: 0.8441 - val_acc: 0.7667\n",
      "Epoch 20/25\n",
      "1200/1200 [==============================] - 0s - loss: 0.3064 - acc: 0.8383 - val_loss: 0.8491 - val_acc: 0.7467\n",
      "Epoch 21/25\n",
      "1200/1200 [==============================] - 0s - loss: 0.3265 - acc: 0.8250 - val_loss: 0.8577 - val_acc: 0.7533\n",
      "Epoch 22/25\n",
      "1200/1200 [==============================] - 0s - loss: 0.3233 - acc: 0.8342 - val_loss: 0.8576 - val_acc: 0.7533\n",
      "Epoch 23/25\n",
      "1200/1200 [==============================] - 0s - loss: 0.3223 - acc: 0.8358 - val_loss: 0.8520 - val_acc: 0.7567\n",
      "Epoch 24/25\n",
      "1200/1200 [==============================] - 0s - loss: 0.3210 - acc: 0.8283 - val_loss: 0.8411 - val_acc: 0.7600\n",
      "Epoch 25/25\n",
      "1200/1200 [==============================] - 0s - loss: 0.3145 - acc: 0.8308 - val_loss: 0.8429 - val_acc: 0.7500\n",
      "Accuracy: 75.00%\n",
      "CPU times: user 10.2 s, sys: 702 ms, total: 10.9 s\n",
      "Wall time: 8.28 s\n"
     ]
    }
   ],
   "source": [
    "%%time\n",
    "# MODEL FITTING & EVALUATION\n",
    "model.fit(X_train, y_train, validation_data=(X_test, y_test), nb_epoch=25, batch_size=50, verbose=1)\n",
    "scores = model.evaluate(X_test, y_test, verbose=0)\n",
    "print 'Accuracy: %.2f%%' % (scores[1]*100)"
   ]
  },
  {
   "cell_type": "code",
   "execution_count": 214,
   "metadata": {
    "collapsed": false
   },
   "outputs": [
    {
     "name": "stdout",
     "output_type": "stream",
     "text": [
      "Accuracy: 72.67%\n"
     ]
    },
    {
     "data": {
      "image/png": "[encoded data removed]",
      "text/plain": [
       "<matplotlib.figure.Figure at 0x12e23fe90>"
      ]
     },
     "metadata": {},
     "output_type": "display_data"
    },
    {
     "name": "stdout",
     "output_type": "stream",
     "text": [
      "CPU times: user 11.2 s, sys: 398 ms, total: 11.6 s\n",
      "Wall time: 9.83 s\n"
     ]
    }
   ],
   "source": [
    "%%time\n",
    "# ACCURACY CHECKING\n",
    "model = Sequential()\n",
    "model.add(Convolution2D(30, 1, 1, input_shape=(5,60,1), border_mode='same', activation='relu', W_constraint=maxnorm(3)))\n",
    "model.add(Dropout(.2))\n",
    "model.add(Convolution2D(15, 1, 1, activation='relu', border_mode='same', W_constraint=maxnorm(3)))\n",
    "model.add(MaxPooling2D(pool_size=(2,1))) \n",
    "model.add(Flatten())\n",
    "model.add(Dense(512, activation='relu'))\n",
    "model.add(Dropout(.2))\n",
    "model.add(Dense(3, activation='softmax'))\n",
    "model.compile(loss='categorical_crossentropy', optimizer='adam', metrics=['accuracy'])\n",
    "history = model.fit(X_train, y_train, validation_data=(X_test, y_test), nb_epoch=25, batch_size=50, verbose=0)\n",
    "scores = model.evaluate(X_test, y_test, verbose=0)\n",
    "print 'Accuracy: %.2f%%' % (scores[1]*100)\n",
    "plt.plot(history.history['acc'])\n",
    "plt.plot(history.history['val_acc'])\n",
    "plt.title('Model Accuray')\n",
    "plt.ylabel('Accuracy')\n",
    "plt.xlabel('Epoch')\n",
    "plt.legend(['train', 'test'], loc='upper left')\n",
    "plt.show()"
   ]
  },
  {
   "cell_type": "code",
   "execution_count": 215,
   "metadata": {
    "collapsed": false
   },
   "outputs": [
    {
     "data": {
      "image/png": "[encoded data removed]",
      "text/plain": [
       "<matplotlib.figure.Figure at 0x12e33f090>"
      ]
     },
     "metadata": {},
     "output_type": "display_data"
    }
   ],
   "source": [
    "# CONVERGENCE CHECKING\n",
    "plt.plot(history.history['loss'])\n",
    "plt.plot(history.history['val_loss'])\n",
    "plt.title('Error Convergence')\n",
    "plt.ylabel('Error')\n",
    "plt.xlabel('Epoch')\n",
    "plt.legend(['train', 'test'], loc='upper left')\n",
    "plt.show()"
   ]
  },
  {
   "cell_type": "markdown",
   "metadata": {},
   "source": [
    "### OPTIMIZATION 2: SGD"
   ]
  },
  {
   "cell_type": "markdown",
   "metadata": {},
   "source": [
    "#### REDNECK'S GRIDSEARCH 1: HAMMERING ON FNN\n",
    "* **WIDE FNN**\n",
    "    * FNN = 128->3\n",
    "        * 50 epochs: ~75%\n",
    "        * 100 epochs: ~74%\n",
    "        * 200 epochs: ~75%\n",
    "    * FNN = 512->3\n",
    "        * 25 epochs: ~73%\n",
    "        * 100 epochs: ~74%\n",
    "        * 500 epochs: ~74%\n",
    "* **DEEP FNN**\n",
    "    * FNN = 50->50->3\n",
    "        * 50 epochs: ~75%\n",
    "        * 100 epochs: ~74%\n",
    "        * 200 epochs: ~74%\n",
    "    * FNN = 50->50->50->50->3\n",
    "        * 200 epochs: ~75%\n",
    "* **SUPER BIG-ASS FNN**\n",
    "    * FNN = 500->500->500->500->3\n",
    "        * 50 epochs: ~75"
   ]
  },
  {
   "cell_type": "markdown",
   "metadata": {},
   "source": [
    "#### REDNECK'S GRIDSEARCH 2: CHISELING AWAY AT CNN\n",
    "* **FMAP (DENSE = 100->3)**\n",
    "    * 30-15: ~74% in previous tests (50, 200 epochs)\n",
    "    * 100-50: ~74% (50 epochs)"
   ]
  },
  {
   "cell_type": "markdown",
   "metadata": {},
   "source": [
    "**CONCLUSION**: LOST CAUSE."
   ]
  },
  {
   "cell_type": "code",
   "execution_count": 237,
   "metadata": {
    "collapsed": false
   },
   "outputs": [
    {
     "name": "stdout",
     "output_type": "stream",
     "text": [
      "Train on 1200 samples, validate on 300 samples\n",
      "Epoch 1/50\n",
      "1200/1200 [==============================] - 1s - loss: 1.0265 - acc: 0.5108 - val_loss: 0.8827 - val_acc: 0.6133\n",
      "Epoch 2/50\n",
      "1200/1200 [==============================] - 1s - loss: 0.8864 - acc: 0.5808 - val_loss: 0.8124 - val_acc: 0.6267\n",
      "Epoch 3/50\n",
      "1200/1200 [==============================] - 1s - loss: 0.8334 - acc: 0.6033 - val_loss: 0.7858 - val_acc: 0.6367\n",
      "Epoch 4/50\n",
      "1200/1200 [==============================] - 1s - loss: 0.7733 - acc: 0.6433 - val_loss: 0.7642 - val_acc: 0.6567\n",
      "Epoch 5/50\n",
      "1200/1200 [==============================] - 1s - loss: 0.7301 - acc: 0.6875 - val_loss: 0.7236 - val_acc: 0.6600\n",
      "Epoch 6/50\n",
      "1200/1200 [==============================] - 1s - loss: 0.6700 - acc: 0.7125 - val_loss: 0.7461 - val_acc: 0.6700\n",
      "Epoch 7/50\n",
      "1200/1200 [==============================] - 1s - loss: 0.6407 - acc: 0.7300 - val_loss: 0.6875 - val_acc: 0.6800\n",
      "Epoch 8/50\n",
      "1200/1200 [==============================] - 1s - loss: 0.5946 - acc: 0.7475 - val_loss: 0.6841 - val_acc: 0.7067\n",
      "Epoch 9/50\n",
      "1200/1200 [==============================] - 1s - loss: 0.5396 - acc: 0.7775 - val_loss: 0.6630 - val_acc: 0.7033\n",
      "Epoch 10/50\n",
      "1200/1200 [==============================] - 1s - loss: 0.5369 - acc: 0.7750 - val_loss: 0.6758 - val_acc: 0.7167\n",
      "Epoch 11/50\n",
      "1200/1200 [==============================] - 1s - loss: 0.4989 - acc: 0.7883 - val_loss: 0.6488 - val_acc: 0.7400\n",
      "Epoch 12/50\n",
      "1200/1200 [==============================] - 1s - loss: 0.4798 - acc: 0.8042 - val_loss: 0.6538 - val_acc: 0.7367\n",
      "Epoch 13/50\n",
      "1200/1200 [==============================] - 1s - loss: 0.4725 - acc: 0.8050 - val_loss: 0.7192 - val_acc: 0.7367\n",
      "Epoch 14/50\n",
      "1200/1200 [==============================] - 1s - loss: 0.4926 - acc: 0.7875 - val_loss: 0.6616 - val_acc: 0.7233\n",
      "Epoch 15/50\n",
      "1200/1200 [==============================] - 1s - loss: 0.4224 - acc: 0.8275 - val_loss: 0.6507 - val_acc: 0.7633\n",
      "Epoch 16/50\n",
      "1200/1200 [==============================] - 1s - loss: 0.4048 - acc: 0.8117 - val_loss: 0.6781 - val_acc: 0.7500\n",
      "Epoch 17/50\n",
      "1200/1200 [==============================] - 1s - loss: 0.3900 - acc: 0.8092 - val_loss: 0.6763 - val_acc: 0.7500\n",
      "Epoch 18/50\n",
      "1200/1200 [==============================] - 1s - loss: 0.3872 - acc: 0.8175 - val_loss: 0.6641 - val_acc: 0.7633\n",
      "Epoch 19/50\n",
      "1200/1200 [==============================] - 1s - loss: 0.3777 - acc: 0.8250 - val_loss: 0.6618 - val_acc: 0.7633\n",
      "Epoch 20/50\n",
      "1200/1200 [==============================] - 1s - loss: 0.3721 - acc: 0.8258 - val_loss: 0.6728 - val_acc: 0.7367\n",
      "Epoch 21/50\n",
      "1200/1200 [==============================] - 1s - loss: 0.3728 - acc: 0.8250 - val_loss: 0.6963 - val_acc: 0.7533\n",
      "Epoch 22/50\n",
      "1200/1200 [==============================] - 1s - loss: 0.3624 - acc: 0.8275 - val_loss: 0.7198 - val_acc: 0.7533\n",
      "Epoch 23/50\n",
      "1200/1200 [==============================] - 1s - loss: 0.3418 - acc: 0.8367 - val_loss: 0.7036 - val_acc: 0.7500\n",
      "Epoch 24/50\n",
      "1200/1200 [==============================] - 1s - loss: 0.3565 - acc: 0.8325 - val_loss: 0.7009 - val_acc: 0.7467\n",
      "Epoch 25/50\n",
      "1200/1200 [==============================] - 1s - loss: 0.3389 - acc: 0.8308 - val_loss: 0.7336 - val_acc: 0.7467\n",
      "Epoch 26/50\n",
      "1200/1200 [==============================] - 1s - loss: 0.3661 - acc: 0.8258 - val_loss: 0.7036 - val_acc: 0.7600\n",
      "Epoch 27/50\n",
      "1200/1200 [==============================] - 1s - loss: 0.3480 - acc: 0.8283 - val_loss: 0.7206 - val_acc: 0.7567\n",
      "Epoch 28/50\n",
      "1200/1200 [==============================] - 1s - loss: 0.3329 - acc: 0.8308 - val_loss: 0.7612 - val_acc: 0.7533\n",
      "Epoch 29/50\n",
      "1200/1200 [==============================] - 1s - loss: 0.3344 - acc: 0.8333 - val_loss: 0.7550 - val_acc: 0.7467\n",
      "Epoch 30/50\n",
      "1200/1200 [==============================] - 1s - loss: 0.3240 - acc: 0.8417 - val_loss: 0.7532 - val_acc: 0.7633\n",
      "Epoch 31/50\n",
      "1200/1200 [==============================] - 1s - loss: 0.3349 - acc: 0.8308 - val_loss: 0.7381 - val_acc: 0.7567\n",
      "Epoch 32/50\n",
      "1200/1200 [==============================] - 1s - loss: 0.3113 - acc: 0.8392 - val_loss: 0.8093 - val_acc: 0.7400\n",
      "Epoch 33/50\n",
      "1200/1200 [==============================] - 1s - loss: 0.3112 - acc: 0.8342 - val_loss: 0.7800 - val_acc: 0.7467\n",
      "Epoch 34/50\n",
      "1200/1200 [==============================] - 1s - loss: 0.3130 - acc: 0.8325 - val_loss: 0.7753 - val_acc: 0.7333\n",
      "Epoch 35/50\n",
      "1200/1200 [==============================] - 1s - loss: 0.3045 - acc: 0.8367 - val_loss: 0.7929 - val_acc: 0.7367\n",
      "Epoch 36/50\n",
      "1200/1200 [==============================] - 1s - loss: 0.3304 - acc: 0.8192 - val_loss: 0.7977 - val_acc: 0.7500\n",
      "Epoch 37/50\n",
      "1200/1200 [==============================] - 1s - loss: 0.3250 - acc: 0.8333 - val_loss: 0.7523 - val_acc: 0.7467\n",
      "Epoch 38/50\n",
      "1200/1200 [==============================] - 1s - loss: 0.3154 - acc: 0.8392 - val_loss: 0.7764 - val_acc: 0.7467\n",
      "Epoch 39/50\n",
      "1200/1200 [==============================] - 1s - loss: 0.3206 - acc: 0.8258 - val_loss: 0.7946 - val_acc: 0.7400\n",
      "Epoch 40/50\n",
      "1200/1200 [==============================] - 1s - loss: 0.3179 - acc: 0.8392 - val_loss: 0.7913 - val_acc: 0.7433\n",
      "Epoch 41/50\n",
      "1200/1200 [==============================] - 1s - loss: 0.3075 - acc: 0.8267 - val_loss: 0.7763 - val_acc: 0.7533\n",
      "Epoch 42/50\n",
      "1200/1200 [==============================] - 1s - loss: 0.3040 - acc: 0.8425 - val_loss: 0.7943 - val_acc: 0.7567\n",
      "Epoch 43/50\n",
      "1200/1200 [==============================] - 1s - loss: 0.3065 - acc: 0.8383 - val_loss: 0.7740 - val_acc: 0.7633\n",
      "Epoch 44/50\n",
      "1200/1200 [==============================] - 1s - loss: 0.2963 - acc: 0.8408 - val_loss: 0.7949 - val_acc: 0.7633\n",
      "Epoch 45/50\n",
      "1200/1200 [==============================] - 1s - loss: 0.2966 - acc: 0.8342 - val_loss: 0.8176 - val_acc: 0.7400\n",
      "Epoch 46/50\n",
      "1200/1200 [==============================] - 1s - loss: 0.2921 - acc: 0.8342 - val_loss: 0.8423 - val_acc: 0.7433\n",
      "Epoch 47/50\n",
      "1200/1200 [==============================] - 1s - loss: 0.2986 - acc: 0.8408 - val_loss: 0.8232 - val_acc: 0.7533\n",
      "Epoch 48/50\n",
      "1200/1200 [==============================] - 1s - loss: 0.2862 - acc: 0.8458 - val_loss: 0.7988 - val_acc: 0.7567\n",
      "Epoch 49/50\n",
      "1200/1200 [==============================] - 1s - loss: 0.2919 - acc: 0.8442 - val_loss: 0.8413 - val_acc: 0.7467\n",
      "Epoch 50/50\n",
      "1200/1200 [==============================] - 1s - loss: 0.2919 - acc: 0.8325 - val_loss: 0.8055 - val_acc: 0.7533\n",
      "Accuracy: 75.33%\n"
     ]
    },
    {
     "data": {
      "image/png": "[encoded data removed]",
      "text/plain": [
       "<matplotlib.figure.Figure at 0x12ddfa310>"
      ]
     },
     "metadata": {},
     "output_type": "display_data"
    },
    {
     "name": "stdout",
     "output_type": "stream",
     "text": [
      "CPU times: user 1min 8s, sys: 5.07 s, total: 1min 13s\n",
      "Wall time: 1min 5s\n"
     ]
    }
   ],
   "source": [
    "%%time\n",
    "# MODEL BUILDING & RUNNING & ACCURACY CHECKING\n",
    "model = Sequential()\n",
    "model.add(Convolution2D(100, 5, 1, input_shape=(5,60,1), border_mode='same', activation='relu'))\n",
    "model.add(Dropout(.2))\n",
    "model.add(Convolution2D(50, 5, 1, activation='relu', border_mode='same'))\n",
    "model.add(MaxPooling2D(pool_size=(2,1))) \n",
    "model.add(Flatten())\n",
    "model.add(Dense(100, activation='relu'))\n",
    "# model.add(Dense(500, activation='relu'))\n",
    "# model.add(Dense(500, activation='relu'))\n",
    "# model.add(Dense(500, activation='relu'))\n",
    "# model.add(Dropout(.2))\n",
    "model.add(Dense(3, activation='softmax'))\n",
    "epochs = 50\n",
    "lrate = .01\n",
    "decay = lrate / epochs\n",
    "sgd = SGD(lr=lrate, momentum=.9, decay=decay, nesterov=False)\n",
    "model.compile(loss='categorical_crossentropy', optimizer=sgd, metrics=['accuracy'])\n",
    "history = model.fit(X_train, y_train, validation_data=(X_test, y_test), nb_epoch=epochs, batch_size=50, verbose=1)\n",
    "scores = model.evaluate(X_test, y_test, verbose=0)\n",
    "print 'Accuracy: %.2f%%' % (scores[1]*100)\n",
    "plt.plot(history.history['acc'])\n",
    "plt.plot(history.history['val_acc'])\n",
    "plt.title('Model Accuray')\n",
    "plt.ylabel('Accuracy')\n",
    "plt.xlabel('Epoch')\n",
    "plt.legend(['train', 'test'], loc='upper left')\n",
    "plt.show()"
   ]
  },
  {
   "cell_type": "code",
   "execution_count": 238,
   "metadata": {
    "collapsed": false
   },
   "outputs": [
    {
     "data": {
      "image/png": "[encoded data removed]",
      "text/plain": [
       "<matplotlib.figure.Figure at 0x130086d50>"
      ]
     },
     "metadata": {},
     "output_type": "display_data"
    }
   ],
   "source": [
    "# CONVERGENCE CHECKING\n",
    "plt.plot(history.history['loss'])\n",
    "plt.plot(history.history['val_loss'])\n",
    "plt.title('Error Convergence')\n",
    "plt.ylabel('Error')\n",
    "plt.xlabel('Epoch')\n",
    "plt.legend(['train', 'test'], loc='upper left')\n",
    "plt.show()"
   ]
  },
  {
   "cell_type": "markdown",
   "metadata": {
    "collapsed": true
   },
   "source": [
    "# GOOD DATASET: MSR SPAM COLLECTION"
   ]
  },
  {
   "cell_type": "markdown",
   "metadata": {},
   "source": [
    "### DATA PREPARATION"
   ]
  },
  {
   "cell_type": "code",
   "execution_count": 260,
   "metadata": {
    "collapsed": false
   },
   "outputs": [],
   "source": [
    "import numpy as np\n",
    "import pandas as pd\n",
    "import matplotlib.pyplot as plt\n",
    "%matplotlib inline"
   ]
  },
  {
   "cell_type": "code",
   "execution_count": 422,
   "metadata": {
    "collapsed": false
   },
   "outputs": [],
   "source": [
    "from keras.models import Sequential\n",
    "from keras.layers import Dense, Dropout, Flatten\n",
    "from keras.constraints import maxnorm\n",
    "from keras.optimizers import SGD\n",
    "from keras.layers.convolutional import Convolution2D, MaxPooling2D\n",
    "from keras.utils import np_utils\n",
    "from keras.preprocessing import sequence\n",
    "from sklearn.cross_validation import train_test_split"
   ]
  },
  {
   "cell_type": "code",
   "execution_count": 423,
   "metadata": {
    "collapsed": true
   },
   "outputs": [],
   "source": [
    "from gensim.models import Word2Vec"
   ]
  },
  {
   "cell_type": "code",
   "execution_count": 424,
   "metadata": {
    "collapsed": false
   },
   "outputs": [],
   "source": [
    "# LOAD DATA\n",
    "data = pd.read_csv('/Users/jacobsw/Desktop/IMPLEMENTATION_CAMP/CODE/OJO/SPAM_INTEREST_TASKS/DATA/SMSSpamCollection',\n",
    "                   delimiter='\\t', header=None)"
   ]
  },
  {
   "cell_type": "code",
   "execution_count": 425,
   "metadata": {
    "collapsed": false
   },
   "outputs": [],
   "source": [
    "X, y = data[1], data[0]"
   ]
  },
  {
   "cell_type": "code",
   "execution_count": 426,
   "metadata": {
    "collapsed": false
   },
   "outputs": [],
   "source": [
    "def sent_clean(sent):\n",
    "    sent = nltk.word_tokenize(sent.decode('ascii','ignore')) # still unicode.\n",
    "    sent = [str(PorterStemmer().stem(word.lower())) for word in sent]\n",
    "    return sent"
   ]
  },
  {
   "cell_type": "code",
   "execution_count": 427,
   "metadata": {
    "collapsed": false
   },
   "outputs": [],
   "source": [
    "X = map(sent_clean, X) # X: tokenized, lowercased, lemmatized."
   ]
  },
  {
   "cell_type": "code",
   "execution_count": 428,
   "metadata": {
    "collapsed": false
   },
   "outputs": [],
   "source": [
    "y = [1 if label=='ham' else 0 for label in y] # y: 0, 1 labels."
   ]
  },
  {
   "cell_type": "code",
   "execution_count": 429,
   "metadata": {
    "collapsed": false
   },
   "outputs": [
    {
     "name": "stdout",
     "output_type": "stream",
     "text": [
      "Average Sentence Length: 15\n"
     ]
    },
    {
     "data": {
      "image/png": "[encoded data removed]",
      "text/plain": [
       "<matplotlib.figure.Figure at 0x12f9c9a50>"
      ]
     },
     "metadata": {},
     "output_type": "display_data"
    }
   ],
   "source": [
    "sentLens = map(len, X)\n",
    "meanLens = np.median(sentLens)\n",
    "print 'Average Sentence Length: %d' % meanLens\n",
    "plt.hist(sentLens)\n",
    "plt.title('Sentence Length Distribution')\n",
    "plt.xlabel('Sentence Length')\n",
    "plt.ylabel('Length Frequency')\n",
    "plt.show()"
   ]
  },
  {
   "cell_type": "code",
   "execution_count": 466,
   "metadata": {
    "collapsed": false
   },
   "outputs": [],
   "source": [
    "# WORD -> VECTOR\n",
    "def vectorize(model, sent): # sent -> list word vector in model.\n",
    "    return [model[word] for word in sent if word in model.vocab]"
   ]
  },
  {
   "cell_type": "code",
   "execution_count": 467,
   "metadata": {
    "collapsed": false
   },
   "outputs": [
    {
     "name": "stdout",
     "output_type": "stream",
     "text": [
      "CPU times: user 558 ms, sys: 32.8 ms, total: 591 ms\n",
      "Wall time: 258 ms\n"
     ]
    }
   ],
   "source": [
    "%%time\n",
    "# WORD2VEC\n",
    "w2v = Word2Vec(X, size=5, window=4)"
   ]
  },
  {
   "cell_type": "code",
   "execution_count": 468,
   "metadata": {
    "collapsed": true
   },
   "outputs": [],
   "source": [
    "####################\n",
    "##### MLP CELL ##### \n",
    "####################\n",
    "X_vec = [vectorize(w2v,sent) for sent in X]\n",
    "# # INPUT SIZE UNIFORMIZATION\n",
    "# # FLATTENING\n",
    "# def flatten(sents):\n",
    "#     return [word for sent in sents for word in sent]\n",
    "# padding = np.array([0.,0.,0.,0.,0.], dtype='float32')\n",
    "# for i in range(len(X_vec)):\n",
    "#     if len(X_vec[i]) > 15:\n",
    "#         X_vec[i] = X_vec[i][:15]\n",
    "#     else: \n",
    "#         X_vec[i] += [padding for _ in range(15-len(X_vec[i]))]\n",
    "# X_vec = map(np.array, X_vec) # to np.array, so that .shape attribute is available.\n",
    "# X_vec = map(flatten, X_vec)"
   ]
  },
  {
   "cell_type": "code",
   "execution_count": 469,
   "metadata": {
    "collapsed": false
   },
   "outputs": [
    {
     "name": "stdout",
     "output_type": "stream",
     "text": [
      "Dimensions of EACH Sentence-Matrix: (1, 15, 5)\n",
      "Dimensions of ENTIRE Dataset: (5572, 1, 15, 5)\n"
     ]
    }
   ],
   "source": [
    "X_mat = [[w2v[word] for word in sent if word in w2v.vocab] for sent in X]\n",
    "padding = np.array([0.,0.,0.,0.,0.], dtype='float32')\n",
    "for i in range(len(X_mat)):\n",
    "    if len(X_mat[i]) > 15:\n",
    "        X_mat[i] = X_mat[i][:15]\n",
    "    else: \n",
    "        X_mat[i] += [padding for _ in range(15-len(X_mat[i]))]\n",
    "X_mat = map(np.array, X_mat) # to np.array, integrate individual flaot32 objs into 1 matrix.\n",
    "X_mat = np.array(X_mat)\n",
    "X_mat = X_mat.reshape(X_mat.shape[0], 1, 15, 5)\n",
    "print 'Dimensions of EACH Sentence-Matrix: (%d, %d, %d)' % X_mat[0].shape\n",
    "print 'Dimensions of ENTIRE Dataset: (%d, %d, %d, %d)' % X_mat.shape"
   ]
  },
  {
   "cell_type": "markdown",
   "metadata": {},
   "source": [
    "### A. NON-JOSH METHOD\n",
    "* **TRAIN PERFORMANCE**\n",
    "    * Near perfect after 50 epochs (~86% -> ~99%).\n",
    "* **TEST PERFORMANCE**\n",
    "    * First 50 epoch: ~93% -> ~95%\n",
    "    * 50-200 epoch: Flat."
   ]
  },
  {
   "cell_type": "code",
   "execution_count": 470,
   "metadata": {
    "collapsed": false
   },
   "outputs": [],
   "source": [
    "X_train, X_test, y_train, y_test = train_test_split(X_mat, y, test_size=.2)"
   ]
  },
  {
   "cell_type": "code",
   "execution_count": 471,
   "metadata": {
    "collapsed": false
   },
   "outputs": [
    {
     "name": "stdout",
     "output_type": "stream",
     "text": [
      "____________________________________________________________________________________________________\n",
      "Layer (type)                       Output Shape        Param #     Connected to                     \n",
      "====================================================================================================\n",
      "convolution2d_89 (Convolution2D)   (None, 30, 15, 5)   300         convolution2d_input_45[0][0]     \n",
      "____________________________________________________________________________________________________\n",
      "dropout_66 (Dropout)               (None, 30, 15, 5)   0           convolution2d_89[0][0]           \n",
      "____________________________________________________________________________________________________\n",
      "convolution2d_90 (Convolution2D)   (None, 15, 15, 5)   4065        dropout_66[0][0]                 \n",
      "____________________________________________________________________________________________________\n",
      "maxpooling2d_43 (MaxPooling2D)     (None, 15, 7, 2)    0           convolution2d_90[0][0]           \n",
      "____________________________________________________________________________________________________\n",
      "flatten_44 (Flatten)               (None, 210)         0           maxpooling2d_43[0][0]            \n",
      "____________________________________________________________________________________________________\n",
      "dense_93 (Dense)                   (None, 512)         108032      flatten_44[0][0]                 \n",
      "____________________________________________________________________________________________________\n",
      "dropout_67 (Dropout)               (None, 512)         0           dense_93[0][0]                   \n",
      "____________________________________________________________________________________________________\n",
      "dense_94 (Dense)                   (None, 1)           513         dropout_67[0][0]                 \n",
      "====================================================================================================\n",
      "Total params: 112910\n",
      "____________________________________________________________________________________________________\n",
      "None\n"
     ]
    }
   ],
   "source": [
    "# MODEL BUILDING\n",
    "model = Sequential()\n",
    "model.add(Convolution2D(30, 3, 3, input_shape=(1,15,5), border_mode='same', activation='relu', W_constraint=maxnorm(3)))\n",
    "model.add(Dropout(.2))\n",
    "model.add(Convolution2D(15, 3, 3, activation='relu', border_mode='same', W_constraint=maxnorm(3)))\n",
    "model.add(MaxPooling2D(pool_size=(2,2)))\n",
    "model.add(Flatten())\n",
    "model.add(Dense(512, activation='relu'))\n",
    "model.add(Dropout(.2))\n",
    "model.add(Dense(1, activation='sigmoid'))\n",
    "epochs = 200\n",
    "lrate = .01\n",
    "decay = lrate / epochs\n",
    "sgd = SGD(lr=lrate, momentum=.9, decay=decay, nesterov=False)\n",
    "model.compile(loss='binary_crossentropy', optimizer=sgd, metrics=['accuracy'])\n",
    "print model.summary()"
   ]
  },
  {
   "cell_type": "code",
   "execution_count": 472,
   "metadata": {
    "collapsed": false
   },
   "outputs": [
    {
     "name": "stdout",
     "output_type": "stream",
     "text": [
      "Train on 4457 samples, validate on 1115 samples\n",
      "Epoch 1/200\n",
      "4457/4457 [==============================] - 1s - loss: 0.3583 - acc: 0.8678 - val_loss: 0.1907 - val_acc: 0.9327\n",
      "Epoch 2/200\n",
      "4457/4457 [==============================] - 1s - loss: 0.2095 - acc: 0.9224 - val_loss: 0.1746 - val_acc: 0.9417\n",
      "Epoch 3/200\n",
      "4457/4457 [==============================] - 1s - loss: 0.1790 - acc: 0.9396 - val_loss: 0.1426 - val_acc: 0.9462\n",
      "Epoch 4/200\n",
      "4457/4457 [==============================] - 1s - loss: 0.1612 - acc: 0.9426 - val_loss: 0.1344 - val_acc: 0.9489\n",
      "Epoch 5/200\n",
      "4457/4457 [==============================] - 1s - loss: 0.1541 - acc: 0.9464 - val_loss: 0.1289 - val_acc: 0.9543\n",
      "Epoch 6/200\n",
      "4457/4457 [==============================] - 1s - loss: 0.1566 - acc: 0.9450 - val_loss: 0.1571 - val_acc: 0.9516\n",
      "Epoch 7/200\n",
      "4457/4457 [==============================] - 1s - loss: 0.1427 - acc: 0.9488 - val_loss: 0.1344 - val_acc: 0.9587\n",
      "Epoch 8/200\n",
      "4457/4457 [==============================] - 1s - loss: 0.1361 - acc: 0.9538 - val_loss: 0.1358 - val_acc: 0.9552\n",
      "Epoch 9/200\n",
      "4457/4457 [==============================] - 1s - loss: 0.1329 - acc: 0.9529 - val_loss: 0.1570 - val_acc: 0.9444\n",
      "Epoch 10/200\n",
      "4457/4457 [==============================] - 1s - loss: 0.1343 - acc: 0.9524 - val_loss: 0.1054 - val_acc: 0.9632\n",
      "Epoch 11/200\n",
      "4457/4457 [==============================] - 1s - loss: 0.1279 - acc: 0.9542 - val_loss: 0.1068 - val_acc: 0.9596\n",
      "Epoch 12/200\n",
      "4457/4457 [==============================] - 1s - loss: 0.1271 - acc: 0.9554 - val_loss: 0.1151 - val_acc: 0.9614\n",
      "Epoch 13/200\n",
      "4457/4457 [==============================] - 1s - loss: 0.1230 - acc: 0.9576 - val_loss: 0.1202 - val_acc: 0.9650\n",
      "Epoch 14/200\n",
      "4457/4457 [==============================] - 1s - loss: 0.1221 - acc: 0.9587 - val_loss: 0.1124 - val_acc: 0.9641\n",
      "Epoch 15/200\n",
      "4457/4457 [==============================] - 1s - loss: 0.1154 - acc: 0.9610 - val_loss: 0.1110 - val_acc: 0.9605\n",
      "Epoch 16/200\n",
      "4457/4457 [==============================] - 1s - loss: 0.1197 - acc: 0.9598 - val_loss: 0.1147 - val_acc: 0.9641\n",
      "Epoch 17/200\n",
      "4457/4457 [==============================] - 1s - loss: 0.1147 - acc: 0.9585 - val_loss: 0.1068 - val_acc: 0.9677\n",
      "Epoch 18/200\n",
      "4457/4457 [==============================] - 1s - loss: 0.1105 - acc: 0.9601 - val_loss: 0.1493 - val_acc: 0.9480\n",
      "Epoch 19/200\n",
      "4457/4457 [==============================] - 1s - loss: 0.1104 - acc: 0.9616 - val_loss: 0.1214 - val_acc: 0.9587\n",
      "Epoch 20/200\n",
      "4457/4457 [==============================] - 1s - loss: 0.1097 - acc: 0.9596 - val_loss: 0.0967 - val_acc: 0.9641\n",
      "Epoch 21/200\n",
      "4457/4457 [==============================] - 1s - loss: 0.1028 - acc: 0.9648 - val_loss: 0.1067 - val_acc: 0.9605\n",
      "Epoch 22/200\n",
      "4457/4457 [==============================] - 1s - loss: 0.1055 - acc: 0.9641 - val_loss: 0.0978 - val_acc: 0.9695\n",
      "Epoch 23/200\n",
      "4457/4457 [==============================] - 1s - loss: 0.1007 - acc: 0.9681 - val_loss: 0.1456 - val_acc: 0.9516\n",
      "Epoch 24/200\n",
      "4457/4457 [==============================] - 1s - loss: 0.1014 - acc: 0.9632 - val_loss: 0.1065 - val_acc: 0.9677\n",
      "Epoch 25/200\n",
      "4457/4457 [==============================] - 1s - loss: 0.1100 - acc: 0.9605 - val_loss: 0.1037 - val_acc: 0.9686\n",
      "Epoch 26/200\n",
      "4457/4457 [==============================] - 1s - loss: 0.0967 - acc: 0.9650 - val_loss: 0.1064 - val_acc: 0.9596\n",
      "Epoch 27/200\n",
      "4457/4457 [==============================] - 1s - loss: 0.0934 - acc: 0.9684 - val_loss: 0.1364 - val_acc: 0.9561\n",
      "Epoch 28/200\n",
      "4457/4457 [==============================] - 1s - loss: 0.1009 - acc: 0.9630 - val_loss: 0.0982 - val_acc: 0.9677\n",
      "Epoch 29/200\n",
      "4457/4457 [==============================] - 2s - loss: 0.0922 - acc: 0.9699 - val_loss: 0.1146 - val_acc: 0.9713\n",
      "Epoch 30/200\n",
      "4457/4457 [==============================] - 2s - loss: 0.0836 - acc: 0.9720 - val_loss: 0.1182 - val_acc: 0.9686\n",
      "Epoch 31/200\n",
      "4457/4457 [==============================] - 1s - loss: 0.0852 - acc: 0.9724 - val_loss: 0.0913 - val_acc: 0.9695\n",
      "Epoch 32/200\n",
      "4457/4457 [==============================] - 1s - loss: 0.0810 - acc: 0.9744 - val_loss: 0.0923 - val_acc: 0.9704\n",
      "Epoch 33/200\n",
      "4457/4457 [==============================] - 1s - loss: 0.0815 - acc: 0.9720 - val_loss: 0.0915 - val_acc: 0.9704\n",
      "Epoch 34/200\n",
      "4457/4457 [==============================] - 1s - loss: 0.0829 - acc: 0.9711 - val_loss: 0.0991 - val_acc: 0.9677\n",
      "Epoch 35/200\n",
      "4457/4457 [==============================] - 1s - loss: 0.0781 - acc: 0.9740 - val_loss: 0.0973 - val_acc: 0.9713\n",
      "Epoch 36/200\n",
      "4457/4457 [==============================] - 1s - loss: 0.0808 - acc: 0.9742 - val_loss: 0.0955 - val_acc: 0.9686\n",
      "Epoch 37/200\n",
      "4457/4457 [==============================] - 1s - loss: 0.0722 - acc: 0.9755 - val_loss: 0.0925 - val_acc: 0.9731\n",
      "Epoch 38/200\n",
      "4457/4457 [==============================] - 1s - loss: 0.0732 - acc: 0.9762 - val_loss: 0.0957 - val_acc: 0.9722\n",
      "Epoch 39/200\n",
      "4457/4457 [==============================] - 1s - loss: 0.0751 - acc: 0.9731 - val_loss: 0.1006 - val_acc: 0.9722\n",
      "Epoch 40/200\n",
      "4457/4457 [==============================] - 1s - loss: 0.0667 - acc: 0.9762 - val_loss: 0.0920 - val_acc: 0.9722\n",
      "Epoch 41/200\n",
      "4457/4457 [==============================] - 1s - loss: 0.0717 - acc: 0.9735 - val_loss: 0.0909 - val_acc: 0.9722\n",
      "Epoch 42/200\n",
      "4457/4457 [==============================] - 2s - loss: 0.0693 - acc: 0.9785 - val_loss: 0.0890 - val_acc: 0.9713\n",
      "Epoch 43/200\n",
      "4457/4457 [==============================] - 1s - loss: 0.0668 - acc: 0.9776 - val_loss: 0.1000 - val_acc: 0.9731\n",
      "Epoch 44/200\n",
      "4457/4457 [==============================] - 1s - loss: 0.0675 - acc: 0.9773 - val_loss: 0.0950 - val_acc: 0.9722\n",
      "Epoch 45/200\n",
      "4457/4457 [==============================] - 1s - loss: 0.0615 - acc: 0.9800 - val_loss: 0.0937 - val_acc: 0.9722\n",
      "Epoch 46/200\n",
      "4457/4457 [==============================] - 1s - loss: 0.0584 - acc: 0.9818 - val_loss: 0.0910 - val_acc: 0.9695\n",
      "Epoch 47/200\n",
      "4457/4457 [==============================] - 1s - loss: 0.0600 - acc: 0.9812 - val_loss: 0.0916 - val_acc: 0.9713\n",
      "Epoch 48/200\n",
      "4457/4457 [==============================] - 1s - loss: 0.0562 - acc: 0.9827 - val_loss: 0.0956 - val_acc: 0.9713\n",
      "Epoch 49/200\n",
      "4457/4457 [==============================] - 2s - loss: 0.0549 - acc: 0.9805 - val_loss: 0.1017 - val_acc: 0.9722\n",
      "Epoch 50/200\n",
      "4457/4457 [==============================] - 1s - loss: 0.0545 - acc: 0.9827 - val_loss: 0.1042 - val_acc: 0.9686\n",
      "Epoch 51/200\n",
      "4457/4457 [==============================] - 1s - loss: 0.0523 - acc: 0.9838 - val_loss: 0.0904 - val_acc: 0.9713\n",
      "Epoch 52/200\n",
      "4457/4457 [==============================] - 1s - loss: 0.0506 - acc: 0.9814 - val_loss: 0.0985 - val_acc: 0.9731\n",
      "Epoch 53/200\n",
      "4457/4457 [==============================] - 1s - loss: 0.0463 - acc: 0.9834 - val_loss: 0.0950 - val_acc: 0.9695\n",
      "Epoch 54/200\n",
      "4457/4457 [==============================] - 1s - loss: 0.0481 - acc: 0.9841 - val_loss: 0.0942 - val_acc: 0.9686\n",
      "Epoch 55/200\n",
      "4457/4457 [==============================] - 2s - loss: 0.0483 - acc: 0.9832 - val_loss: 0.1006 - val_acc: 0.9686\n",
      "Epoch 56/200\n",
      "4457/4457 [==============================] - 1s - loss: 0.0443 - acc: 0.9845 - val_loss: 0.0917 - val_acc: 0.9704\n",
      "Epoch 57/200\n",
      "4457/4457 [==============================] - 1s - loss: 0.0414 - acc: 0.9868 - val_loss: 0.0937 - val_acc: 0.9695\n",
      "Epoch 58/200\n",
      "4457/4457 [==============================] - 1s - loss: 0.0388 - acc: 0.9872 - val_loss: 0.0966 - val_acc: 0.9695\n",
      "Epoch 59/200\n",
      "4457/4457 [==============================] - 2s - loss: 0.0445 - acc: 0.9825 - val_loss: 0.0956 - val_acc: 0.9713\n",
      "Epoch 60/200\n",
      "4457/4457 [==============================] - 1s - loss: 0.0384 - acc: 0.9856 - val_loss: 0.1005 - val_acc: 0.9695\n",
      "Epoch 61/200\n",
      "4457/4457 [==============================] - 2s - loss: 0.0431 - acc: 0.9847 - val_loss: 0.0915 - val_acc: 0.9704\n",
      "Epoch 62/200\n",
      "4457/4457 [==============================] - 2s - loss: 0.0368 - acc: 0.9888 - val_loss: 0.0940 - val_acc: 0.9704\n",
      "Epoch 63/200\n",
      "4457/4457 [==============================] - 2s - loss: 0.0387 - acc: 0.9868 - val_loss: 0.1019 - val_acc: 0.9686\n",
      "Epoch 64/200\n",
      "4457/4457 [==============================] - 2s - loss: 0.0351 - acc: 0.9890 - val_loss: 0.0945 - val_acc: 0.9740\n",
      "Epoch 65/200\n",
      "4457/4457 [==============================] - 2s - loss: 0.0328 - acc: 0.9879 - val_loss: 0.0954 - val_acc: 0.9722\n",
      "Epoch 66/200\n",
      "4457/4457 [==============================] - 2s - loss: 0.0315 - acc: 0.9892 - val_loss: 0.0960 - val_acc: 0.9731\n",
      "Epoch 67/200\n",
      "4457/4457 [==============================] - 1s - loss: 0.0280 - acc: 0.9912 - val_loss: 0.0998 - val_acc: 0.9713\n",
      "Epoch 68/200\n",
      "4457/4457 [==============================] - 2s - loss: 0.0282 - acc: 0.9904 - val_loss: 0.0937 - val_acc: 0.9731\n",
      "Epoch 69/200\n",
      "4457/4457 [==============================] - 1s - loss: 0.0292 - acc: 0.9901 - val_loss: 0.0957 - val_acc: 0.9713\n",
      "Epoch 70/200\n",
      "4457/4457 [==============================] - 2s - loss: 0.0285 - acc: 0.9899 - val_loss: 0.1040 - val_acc: 0.9686\n",
      "Epoch 71/200\n",
      "4457/4457 [==============================] - 1s - loss: 0.0298 - acc: 0.9895 - val_loss: 0.1076 - val_acc: 0.9686\n",
      "Epoch 72/200\n",
      "4457/4457 [==============================] - 1s - loss: 0.0266 - acc: 0.9921 - val_loss: 0.1033 - val_acc: 0.9686\n",
      "Epoch 73/200\n",
      "4457/4457 [==============================] - 1s - loss: 0.0252 - acc: 0.9921 - val_loss: 0.1089 - val_acc: 0.9677\n",
      "Epoch 74/200\n",
      "4457/4457 [==============================] - 1s - loss: 0.0234 - acc: 0.9935 - val_loss: 0.1022 - val_acc: 0.9704\n",
      "Epoch 75/200\n",
      "4457/4457 [==============================] - 1s - loss: 0.0251 - acc: 0.9917 - val_loss: 0.1067 - val_acc: 0.9704\n",
      "Epoch 76/200\n",
      "4457/4457 [==============================] - 1s - loss: 0.0230 - acc: 0.9921 - val_loss: 0.1082 - val_acc: 0.9695\n",
      "Epoch 77/200\n",
      "4457/4457 [==============================] - 1s - loss: 0.0192 - acc: 0.9928 - val_loss: 0.1094 - val_acc: 0.9713\n",
      "Epoch 78/200\n",
      "4457/4457 [==============================] - 1s - loss: 0.0196 - acc: 0.9935 - val_loss: 0.1075 - val_acc: 0.9668\n",
      "Epoch 79/200\n",
      "4457/4457 [==============================] - 1s - loss: 0.0238 - acc: 0.9917 - val_loss: 0.1190 - val_acc: 0.9659\n",
      "Epoch 80/200\n",
      "4457/4457 [==============================] - 1s - loss: 0.0223 - acc: 0.9924 - val_loss: 0.1143 - val_acc: 0.9650\n",
      "Epoch 81/200\n",
      "4457/4457 [==============================] - 1s - loss: 0.0202 - acc: 0.9930 - val_loss: 0.1164 - val_acc: 0.9668\n",
      "Epoch 82/200\n",
      "4457/4457 [==============================] - 1s - loss: 0.0207 - acc: 0.9928 - val_loss: 0.1223 - val_acc: 0.9695\n",
      "Epoch 83/200\n",
      "4457/4457 [==============================] - 1s - loss: 0.0261 - acc: 0.9915 - val_loss: 0.1161 - val_acc: 0.9722\n",
      "Epoch 84/200\n",
      "4457/4457 [==============================] - 2s - loss: 0.0158 - acc: 0.9946 - val_loss: 0.1137 - val_acc: 0.9677\n",
      "Epoch 85/200\n",
      "4457/4457 [==============================] - 2s - loss: 0.0169 - acc: 0.9948 - val_loss: 0.1121 - val_acc: 0.9704\n",
      "Epoch 86/200\n",
      "4457/4457 [==============================] - 1s - loss: 0.0194 - acc: 0.9933 - val_loss: 0.1273 - val_acc: 0.9695\n",
      "Epoch 87/200\n",
      "4457/4457 [==============================] - 1s - loss: 0.0143 - acc: 0.9957 - val_loss: 0.1175 - val_acc: 0.9668\n",
      "Epoch 88/200\n",
      "4457/4457 [==============================] - 1s - loss: 0.0141 - acc: 0.9962 - val_loss: 0.1227 - val_acc: 0.9695\n",
      "Epoch 89/200\n",
      "4457/4457 [==============================] - 1s - loss: 0.0151 - acc: 0.9951 - val_loss: 0.1238 - val_acc: 0.9695\n",
      "Epoch 90/200\n",
      "4457/4457 [==============================] - 1s - loss: 0.0118 - acc: 0.9964 - val_loss: 0.1255 - val_acc: 0.9695\n",
      "Epoch 91/200\n",
      "4457/4457 [==============================] - 1s - loss: 0.0173 - acc: 0.9955 - val_loss: 0.1206 - val_acc: 0.9668\n",
      "Epoch 92/200\n",
      "4457/4457 [==============================] - 1s - loss: 0.0139 - acc: 0.9951 - val_loss: 0.1279 - val_acc: 0.9668\n",
      "Epoch 93/200\n",
      "4457/4457 [==============================] - 1s - loss: 0.0129 - acc: 0.9957 - val_loss: 0.1286 - val_acc: 0.9695\n",
      "Epoch 94/200\n",
      "4457/4457 [==============================] - 1s - loss: 0.0112 - acc: 0.9975 - val_loss: 0.1316 - val_acc: 0.9677\n",
      "Epoch 95/200\n",
      "4457/4457 [==============================] - 1s - loss: 0.0130 - acc: 0.9971 - val_loss: 0.1358 - val_acc: 0.9686\n",
      "Epoch 96/200\n",
      "4457/4457 [==============================] - 1s - loss: 0.0158 - acc: 0.9955 - val_loss: 0.1282 - val_acc: 0.9686\n",
      "Epoch 97/200\n",
      "4457/4457 [==============================] - 1s - loss: 0.0161 - acc: 0.9953 - val_loss: 0.1272 - val_acc: 0.9695\n",
      "Epoch 98/200\n",
      "4457/4457 [==============================] - 1s - loss: 0.0159 - acc: 0.9951 - val_loss: 0.1268 - val_acc: 0.9668\n",
      "Epoch 99/200\n",
      "4457/4457 [==============================] - 1s - loss: 0.0158 - acc: 0.9955 - val_loss: 0.1250 - val_acc: 0.9677\n",
      "Epoch 100/200\n",
      "4457/4457 [==============================] - 1s - loss: 0.0137 - acc: 0.9957 - val_loss: 0.1226 - val_acc: 0.9695\n",
      "Epoch 101/200\n",
      "4457/4457 [==============================] - 1s - loss: 0.0129 - acc: 0.9962 - val_loss: 0.1256 - val_acc: 0.9677\n",
      "Epoch 102/200\n",
      "4457/4457 [==============================] - 1s - loss: 0.0115 - acc: 0.9969 - val_loss: 0.1260 - val_acc: 0.9695\n",
      "Epoch 103/200\n",
      "4457/4457 [==============================] - 1s - loss: 0.0118 - acc: 0.9964 - val_loss: 0.1461 - val_acc: 0.9650\n",
      "Epoch 104/200\n",
      "4457/4457 [==============================] - 1s - loss: 0.0112 - acc: 0.9971 - val_loss: 0.1408 - val_acc: 0.9686\n",
      "Epoch 105/200\n",
      "4457/4457 [==============================] - 1s - loss: 0.0109 - acc: 0.9966 - val_loss: 0.1253 - val_acc: 0.9695\n",
      "Epoch 106/200\n",
      "4457/4457 [==============================] - 1s - loss: 0.0136 - acc: 0.9960 - val_loss: 0.1248 - val_acc: 0.9695\n",
      "Epoch 107/200\n",
      "4457/4457 [==============================] - 1s - loss: 0.0130 - acc: 0.9955 - val_loss: 0.1282 - val_acc: 0.9713\n",
      "Epoch 108/200\n",
      "4457/4457 [==============================] - 1s - loss: 0.0122 - acc: 0.9962 - val_loss: 0.1237 - val_acc: 0.9704\n",
      "Epoch 109/200\n",
      "4457/4457 [==============================] - 2s - loss: 0.0138 - acc: 0.9953 - val_loss: 0.1226 - val_acc: 0.9704\n",
      "Epoch 110/200\n",
      "4457/4457 [==============================] - 1s - loss: 0.0208 - acc: 0.9910 - val_loss: 0.1274 - val_acc: 0.9650\n",
      "Epoch 111/200\n",
      "4457/4457 [==============================] - 2s - loss: 0.0118 - acc: 0.9966 - val_loss: 0.1209 - val_acc: 0.9686\n",
      "Epoch 112/200\n",
      "4457/4457 [==============================] - 1s - loss: 0.0108 - acc: 0.9957 - val_loss: 0.1302 - val_acc: 0.9650\n",
      "Epoch 113/200\n",
      "4457/4457 [==============================] - 1s - loss: 0.0116 - acc: 0.9962 - val_loss: 0.1352 - val_acc: 0.9686\n",
      "Epoch 114/200\n",
      "4457/4457 [==============================] - 1s - loss: 0.0091 - acc: 0.9975 - val_loss: 0.1605 - val_acc: 0.9659\n",
      "Epoch 115/200\n",
      "4457/4457 [==============================] - 2s - loss: 0.0110 - acc: 0.9962 - val_loss: 0.1385 - val_acc: 0.9650\n",
      "Epoch 116/200\n",
      "4457/4457 [==============================] - 1s - loss: 0.0087 - acc: 0.9978 - val_loss: 0.1346 - val_acc: 0.9668\n",
      "Epoch 117/200\n",
      "4457/4457 [==============================] - 1s - loss: 0.0092 - acc: 0.9980 - val_loss: 0.1440 - val_acc: 0.9686\n",
      "Epoch 118/200\n",
      "4457/4457 [==============================] - 1s - loss: 0.0079 - acc: 0.9978 - val_loss: 0.1372 - val_acc: 0.9677\n",
      "Epoch 119/200\n",
      "4457/4457 [==============================] - 1s - loss: 0.0095 - acc: 0.9969 - val_loss: 0.1511 - val_acc: 0.9668\n",
      "Epoch 120/200\n",
      "4457/4457 [==============================] - 1s - loss: 0.0093 - acc: 0.9978 - val_loss: 0.1411 - val_acc: 0.9659\n",
      "Epoch 121/200\n",
      "4457/4457 [==============================] - 1s - loss: 0.0066 - acc: 0.9987 - val_loss: 0.1541 - val_acc: 0.9659\n",
      "Epoch 122/200\n",
      "4457/4457 [==============================] - 1s - loss: 0.0092 - acc: 0.9973 - val_loss: 0.1425 - val_acc: 0.9659\n",
      "Epoch 123/200\n",
      "4457/4457 [==============================] - 1s - loss: 0.0087 - acc: 0.9966 - val_loss: 0.1414 - val_acc: 0.9686\n",
      "Epoch 124/200\n",
      "4457/4457 [==============================] - 1s - loss: 0.0095 - acc: 0.9971 - val_loss: 0.1361 - val_acc: 0.9722\n",
      "Epoch 125/200\n",
      "4457/4457 [==============================] - 1s - loss: 0.0086 - acc: 0.9973 - val_loss: 0.1455 - val_acc: 0.9650\n",
      "Epoch 126/200\n",
      "4457/4457 [==============================] - 1s - loss: 0.0091 - acc: 0.9971 - val_loss: 0.1461 - val_acc: 0.9677\n",
      "Epoch 127/200\n",
      "4457/4457 [==============================] - 2s - loss: 0.0088 - acc: 0.9975 - val_loss: 0.1427 - val_acc: 0.9686\n",
      "Epoch 128/200\n",
      "4457/4457 [==============================] - 1s - loss: 0.0076 - acc: 0.9982 - val_loss: 0.1376 - val_acc: 0.9713\n",
      "Epoch 129/200\n",
      "4457/4457 [==============================] - 1s - loss: 0.0100 - acc: 0.9960 - val_loss: 0.1434 - val_acc: 0.9668\n",
      "Epoch 130/200\n",
      "4457/4457 [==============================] - 1s - loss: 0.0053 - acc: 0.9991 - val_loss: 0.1473 - val_acc: 0.9659\n",
      "Epoch 131/200\n",
      "4457/4457 [==============================] - 1s - loss: 0.0082 - acc: 0.9978 - val_loss: 0.1413 - val_acc: 0.9677\n",
      "Epoch 132/200\n",
      "4457/4457 [==============================] - 1s - loss: 0.0068 - acc: 0.9984 - val_loss: 0.1383 - val_acc: 0.9686\n",
      "Epoch 133/200\n",
      "4457/4457 [==============================] - 1s - loss: 0.0079 - acc: 0.9978 - val_loss: 0.1423 - val_acc: 0.9686\n",
      "Epoch 134/200\n",
      "4457/4457 [==============================] - 1s - loss: 0.0061 - acc: 0.9987 - val_loss: 0.1405 - val_acc: 0.9713\n",
      "Epoch 135/200\n",
      "4457/4457 [==============================] - 1s - loss: 0.0082 - acc: 0.9969 - val_loss: 0.1391 - val_acc: 0.9686\n",
      "Epoch 136/200\n",
      "4457/4457 [==============================] - 1s - loss: 0.0075 - acc: 0.9989 - val_loss: 0.1419 - val_acc: 0.9686\n",
      "Epoch 137/200\n",
      "4457/4457 [==============================] - 1s - loss: 0.0077 - acc: 0.9978 - val_loss: 0.1441 - val_acc: 0.9686\n",
      "Epoch 138/200\n",
      "4457/4457 [==============================] - 1s - loss: 0.0054 - acc: 0.9987 - val_loss: 0.1383 - val_acc: 0.9695\n",
      "Epoch 139/200\n",
      "4457/4457 [==============================] - 1s - loss: 0.0075 - acc: 0.9971 - val_loss: 0.1422 - val_acc: 0.9668\n",
      "Epoch 140/200\n",
      "4457/4457 [==============================] - 1s - loss: 0.0045 - acc: 0.9989 - val_loss: 0.1441 - val_acc: 0.9686\n",
      "Epoch 141/200\n",
      "4457/4457 [==============================] - 1s - loss: 0.0070 - acc: 0.9973 - val_loss: 0.1850 - val_acc: 0.9650\n",
      "Epoch 142/200\n",
      "4457/4457 [==============================] - 1s - loss: 0.0088 - acc: 0.9975 - val_loss: 0.1467 - val_acc: 0.9686\n",
      "Epoch 143/200\n",
      "4457/4457 [==============================] - 2s - loss: 0.0060 - acc: 0.9978 - val_loss: 0.1481 - val_acc: 0.9686\n",
      "Epoch 144/200\n",
      "4457/4457 [==============================] - 2s - loss: 0.0066 - acc: 0.9980 - val_loss: 0.1434 - val_acc: 0.9677\n",
      "Epoch 145/200\n",
      "4457/4457 [==============================] - 1s - loss: 0.0070 - acc: 0.9978 - val_loss: 0.1583 - val_acc: 0.9668\n",
      "Epoch 146/200\n",
      "4457/4457 [==============================] - 1s - loss: 0.0068 - acc: 0.9978 - val_loss: 0.1476 - val_acc: 0.9713\n",
      "Epoch 147/200\n",
      "4457/4457 [==============================] - 1s - loss: 0.0071 - acc: 0.9975 - val_loss: 0.1426 - val_acc: 0.9695\n",
      "Epoch 148/200\n",
      "4457/4457 [==============================] - 2s - loss: 0.0062 - acc: 0.9984 - val_loss: 0.1500 - val_acc: 0.9686\n",
      "Epoch 149/200\n",
      "4457/4457 [==============================] - 1s - loss: 0.0083 - acc: 0.9969 - val_loss: 0.1664 - val_acc: 0.9695\n",
      "Epoch 150/200\n",
      "4457/4457 [==============================] - 1s - loss: 0.0065 - acc: 0.9982 - val_loss: 0.1604 - val_acc: 0.9686\n",
      "Epoch 151/200\n",
      "4457/4457 [==============================] - 1s - loss: 0.0046 - acc: 0.9987 - val_loss: 0.1424 - val_acc: 0.9668\n",
      "Epoch 152/200\n",
      "4457/4457 [==============================] - 1s - loss: 0.0050 - acc: 0.9987 - val_loss: 0.1577 - val_acc: 0.9686\n",
      "Epoch 153/200\n",
      "4457/4457 [==============================] - 1s - loss: 0.0082 - acc: 0.9973 - val_loss: 0.1694 - val_acc: 0.9659\n",
      "Epoch 154/200\n",
      "4457/4457 [==============================] - 1s - loss: 0.0048 - acc: 0.9991 - val_loss: 0.1504 - val_acc: 0.9704\n",
      "Epoch 155/200\n",
      "4457/4457 [==============================] - 1s - loss: 0.0069 - acc: 0.9980 - val_loss: 0.1498 - val_acc: 0.9704\n",
      "Epoch 156/200\n",
      "4457/4457 [==============================] - 1s - loss: 0.0051 - acc: 0.9987 - val_loss: 0.1544 - val_acc: 0.9695\n",
      "Epoch 157/200\n",
      "4457/4457 [==============================] - 2s - loss: 0.0049 - acc: 0.9989 - val_loss: 0.1549 - val_acc: 0.9686\n",
      "Epoch 158/200\n",
      "4457/4457 [==============================] - 1s - loss: 0.0054 - acc: 0.9982 - val_loss: 0.1521 - val_acc: 0.9695\n",
      "Epoch 159/200\n",
      "4457/4457 [==============================] - 2s - loss: 0.0047 - acc: 0.9984 - val_loss: 0.1569 - val_acc: 0.9686\n",
      "Epoch 160/200\n",
      "4457/4457 [==============================] - 1s - loss: 0.0078 - acc: 0.9978 - val_loss: 0.1404 - val_acc: 0.9722\n",
      "Epoch 161/200\n",
      "4457/4457 [==============================] - 1s - loss: 0.0058 - acc: 0.9982 - val_loss: 0.1498 - val_acc: 0.9686\n",
      "Epoch 162/200\n",
      "4457/4457 [==============================] - 1s - loss: 0.0049 - acc: 0.9987 - val_loss: 0.1486 - val_acc: 0.9686\n",
      "Epoch 163/200\n",
      "4457/4457 [==============================] - 1s - loss: 0.0051 - acc: 0.9991 - val_loss: 0.1459 - val_acc: 0.9695\n",
      "Epoch 164/200\n",
      "4457/4457 [==============================] - 1s - loss: 0.0051 - acc: 0.9987 - val_loss: 0.1455 - val_acc: 0.9713\n",
      "Epoch 165/200\n",
      "4457/4457 [==============================] - 1s - loss: 0.0047 - acc: 0.9991 - val_loss: 0.1468 - val_acc: 0.9695\n",
      "Epoch 166/200\n",
      "4457/4457 [==============================] - 2s - loss: 0.0067 - acc: 0.9980 - val_loss: 0.1461 - val_acc: 0.9722\n",
      "Epoch 167/200\n",
      "4457/4457 [==============================] - 2s - loss: 0.0049 - acc: 0.9982 - val_loss: 0.1599 - val_acc: 0.9668\n",
      "Epoch 168/200\n",
      "4457/4457 [==============================] - 1s - loss: 0.0045 - acc: 0.9987 - val_loss: 0.1514 - val_acc: 0.9677\n",
      "Epoch 169/200\n",
      "4457/4457 [==============================] - 1s - loss: 0.0044 - acc: 0.9987 - val_loss: 0.1484 - val_acc: 0.9713\n",
      "Epoch 170/200\n",
      "4457/4457 [==============================] - 1s - loss: 0.0042 - acc: 0.9989 - val_loss: 0.1487 - val_acc: 0.9686\n",
      "Epoch 171/200\n",
      "4457/4457 [==============================] - 1s - loss: 0.0072 - acc: 0.9982 - val_loss: 0.1569 - val_acc: 0.9668\n",
      "Epoch 172/200\n",
      "4457/4457 [==============================] - 1s - loss: 0.0050 - acc: 0.9982 - val_loss: 0.1510 - val_acc: 0.9668\n",
      "Epoch 173/200\n",
      "4457/4457 [==============================] - 1s - loss: 0.0043 - acc: 0.9987 - val_loss: 0.1551 - val_acc: 0.9677\n",
      "Epoch 174/200\n",
      "4457/4457 [==============================] - 1s - loss: 0.0039 - acc: 0.9991 - val_loss: 0.1640 - val_acc: 0.9677\n",
      "Epoch 175/200\n",
      "4457/4457 [==============================] - 1s - loss: 0.0036 - acc: 0.9989 - val_loss: 0.1631 - val_acc: 0.9686\n",
      "Epoch 176/200\n",
      "4457/4457 [==============================] - 1s - loss: 0.0032 - acc: 0.9991 - val_loss: 0.1587 - val_acc: 0.9668\n",
      "Epoch 177/200\n",
      "4457/4457 [==============================] - 1s - loss: 0.0048 - acc: 0.9987 - val_loss: 0.1592 - val_acc: 0.9677\n",
      "Epoch 178/200\n",
      "4457/4457 [==============================] - 1s - loss: 0.0048 - acc: 0.9987 - val_loss: 0.1617 - val_acc: 0.9686\n",
      "Epoch 179/200\n",
      "4457/4457 [==============================] - 1s - loss: 0.0047 - acc: 0.9989 - val_loss: 0.1652 - val_acc: 0.9677\n",
      "Epoch 180/200\n",
      "4457/4457 [==============================] - 1s - loss: 0.0043 - acc: 0.9984 - val_loss: 0.1545 - val_acc: 0.9686\n",
      "Epoch 181/200\n",
      "4457/4457 [==============================] - 1s - loss: 0.0035 - acc: 0.9991 - val_loss: 0.1519 - val_acc: 0.9695\n",
      "Epoch 182/200\n",
      "4457/4457 [==============================] - 1s - loss: 0.0042 - acc: 0.9987 - val_loss: 0.1620 - val_acc: 0.9668\n",
      "Epoch 183/200\n",
      "4457/4457 [==============================] - 1s - loss: 0.0057 - acc: 0.9984 - val_loss: 0.1592 - val_acc: 0.9668\n",
      "Epoch 184/200\n",
      "4457/4457 [==============================] - 1s - loss: 0.0063 - acc: 0.9978 - val_loss: 0.1574 - val_acc: 0.9686\n",
      "Epoch 185/200\n",
      "4457/4457 [==============================] - 1s - loss: 0.0036 - acc: 0.9989 - val_loss: 0.1597 - val_acc: 0.9686\n",
      "Epoch 186/200\n",
      "4457/4457 [==============================] - 2s - loss: 0.0035 - acc: 0.9993 - val_loss: 0.1632 - val_acc: 0.9659\n",
      "Epoch 187/200\n",
      "4457/4457 [==============================] - 1s - loss: 0.0036 - acc: 0.9989 - val_loss: 0.1602 - val_acc: 0.9677\n",
      "Epoch 188/200\n",
      "4457/4457 [==============================] - 1s - loss: 0.0047 - acc: 0.9984 - val_loss: 0.1810 - val_acc: 0.9677\n",
      "Epoch 189/200\n",
      "4457/4457 [==============================] - 1s - loss: 0.0041 - acc: 0.9991 - val_loss: 0.1622 - val_acc: 0.9650\n",
      "Epoch 190/200\n",
      "4457/4457 [==============================] - 1s - loss: 0.0038 - acc: 0.9993 - val_loss: 0.1616 - val_acc: 0.9659\n",
      "Epoch 191/200\n",
      "4457/4457 [==============================] - 2s - loss: 0.0029 - acc: 0.9993 - val_loss: 0.1734 - val_acc: 0.9686\n",
      "Epoch 192/200\n",
      "4457/4457 [==============================] - 2s - loss: 0.0047 - acc: 0.9984 - val_loss: 0.1772 - val_acc: 0.9677\n",
      "Epoch 193/200\n",
      "4457/4457 [==============================] - 2s - loss: 0.0031 - acc: 0.9991 - val_loss: 0.1688 - val_acc: 0.9686\n",
      "Epoch 194/200\n",
      "4457/4457 [==============================] - 2s - loss: 0.0054 - acc: 0.9982 - val_loss: 0.1642 - val_acc: 0.9704\n",
      "Epoch 195/200\n",
      "4457/4457 [==============================] - 1s - loss: 0.0042 - acc: 0.9989 - val_loss: 0.1631 - val_acc: 0.9686\n",
      "Epoch 196/200\n",
      "4457/4457 [==============================] - 1s - loss: 0.0042 - acc: 0.9989 - val_loss: 0.1748 - val_acc: 0.9668\n",
      "Epoch 197/200\n",
      "4457/4457 [==============================] - 1s - loss: 0.0039 - acc: 0.9987 - val_loss: 0.1710 - val_acc: 0.9668\n",
      "Epoch 198/200\n",
      "4457/4457 [==============================] - 2s - loss: 0.0039 - acc: 0.9989 - val_loss: 0.1673 - val_acc: 0.9686\n",
      "Epoch 199/200\n",
      "4457/4457 [==============================] - 2s - loss: 0.0060 - acc: 0.9982 - val_loss: 0.1771 - val_acc: 0.9650\n",
      "Epoch 200/200\n",
      "4457/4457 [==============================] - 1s - loss: 0.0050 - acc: 0.9984 - val_loss: 0.1593 - val_acc: 0.9686\n",
      "Accuracy: 96.86%\n"
     ]
    },
    {
     "data": {
      "image/png": "[encoded data removed]",
      "text/plain": [
       "<matplotlib.figure.Figure at 0x12cd0b3d0>"
      ]
     },
     "metadata": {},
     "output_type": "display_data"
    }
   ],
   "source": [
    "# MODEL FITTING & ACCURACY EVALUATION\n",
    "history = model.fit(X_train, y_train, validation_data=(X_test, y_test), nb_epoch=epochs, batch_size=50, verbose=1)\n",
    "scores = model.evaluate(X_test, y_test, verbose=0)\n",
    "print 'Accuracy: %.2f%%' % (scores[1]*100)\n",
    "plt.plot(history.history['acc'])\n",
    "plt.plot(history.history['val_acc'])\n",
    "plt.title('Model Accuray')\n",
    "plt.ylabel('Accuracy')\n",
    "plt.xlabel('Epoch')\n",
    "plt.legend(['train', 'test'], loc='upper left')\n",
    "plt.show()"
   ]
  },
  {
   "cell_type": "code",
   "execution_count": 473,
   "metadata": {
    "collapsed": false
   },
   "outputs": [
    {
     "data": {
      "image/png": "[encoded data removed]",
      "text/plain": [
       "<matplotlib.figure.Figure at 0x11cbaefd0>"
      ]
     },
     "metadata": {},
     "output_type": "display_data"
    }
   ],
   "source": [
    "# ERROR CONVERGENCE\n",
    "plt.plot(history.history['loss'])\n",
    "plt.plot(history.history['val_loss'])\n",
    "plt.title('Error Convergence')\n",
    "plt.ylabel('Error')\n",
    "plt.xlabel('Epoch')\n",
    "plt.legend(['train', 'test'], loc='upper left')\n",
    "plt.show()"
   ]
  },
  {
   "cell_type": "markdown",
   "metadata": {},
   "source": [
    "### B. JOSH METHOD\n",
    "* **TRAIN PERFORMANCE**\n",
    "    * Near perfect after 50 epochs (~88% -> ~99%).\n",
    "* **TEST PERFORMANCE**\n",
    "    * First 50 epoch: ~92% -> ~96%\n",
    "    * 50-200 epoch: Flat."
   ]
  },
  {
   "cell_type": "code",
   "execution_count": 480,
   "metadata": {
    "collapsed": false
   },
   "outputs": [
    {
     "name": "stdout",
     "output_type": "stream",
     "text": [
      "(5572, 5, 15, 1)\n",
      "(5, 15, 1)\n"
     ]
    }
   ],
   "source": [
    "# SENT --JOSH_TRANSFORMATION--> SENT\n",
    "def transform(sent):\n",
    "    return np.array([ [ [w[i]] for w in sent ] for i in range(sent.shape[1]) ])\n",
    "X_mat5CH = np.array([ transform(sent[0]) for sent in X_mat ]) # 5 channel.\n",
    "X_train, X_test, y_train, y_test = train_test_split(X_mat5CH, y, test_size=.2)\n",
    "print X_mat5CH.shape\n",
    "print X_train[0].shape"
   ]
  },
  {
   "cell_type": "code",
   "execution_count": 481,
   "metadata": {
    "collapsed": false
   },
   "outputs": [
    {
     "name": "stdout",
     "output_type": "stream",
     "text": [
      "Train on 4457 samples, validate on 1115 samples\n",
      "Epoch 1/200\n",
      "4457/4457 [==============================] - 0s - loss: 0.3227 - acc: 0.8777 - val_loss: 0.2312 - val_acc: 0.9103\n",
      "Epoch 2/200\n",
      "4457/4457 [==============================] - 0s - loss: 0.2153 - acc: 0.9217 - val_loss: 0.2645 - val_acc: 0.8960\n",
      "Epoch 3/200\n",
      "4457/4457 [==============================] - 0s - loss: 0.1825 - acc: 0.9322 - val_loss: 0.1953 - val_acc: 0.9166\n",
      "Epoch 4/200\n",
      "4457/4457 [==============================] - 0s - loss: 0.1651 - acc: 0.9387 - val_loss: 0.1236 - val_acc: 0.9543\n",
      "Epoch 5/200\n",
      "4457/4457 [==============================] - 0s - loss: 0.1571 - acc: 0.9448 - val_loss: 0.1260 - val_acc: 0.9543\n",
      "Epoch 6/200\n",
      "4457/4457 [==============================] - 0s - loss: 0.1485 - acc: 0.9441 - val_loss: 0.1328 - val_acc: 0.9525\n",
      "Epoch 7/200\n",
      "4457/4457 [==============================] - 0s - loss: 0.1331 - acc: 0.9497 - val_loss: 0.1253 - val_acc: 0.9587\n",
      "Epoch 8/200\n",
      "4457/4457 [==============================] - 0s - loss: 0.1287 - acc: 0.9511 - val_loss: 0.1153 - val_acc: 0.9596\n",
      "Epoch 9/200\n",
      "4457/4457 [==============================] - 0s - loss: 0.1320 - acc: 0.9542 - val_loss: 0.1098 - val_acc: 0.9578\n",
      "Epoch 10/200\n",
      "4457/4457 [==============================] - 0s - loss: 0.1364 - acc: 0.9506 - val_loss: 0.1124 - val_acc: 0.9614\n",
      "Epoch 11/200\n",
      "4457/4457 [==============================] - 0s - loss: 0.1251 - acc: 0.9538 - val_loss: 0.1065 - val_acc: 0.9641\n",
      "Epoch 12/200\n",
      "4457/4457 [==============================] - 0s - loss: 0.1344 - acc: 0.9488 - val_loss: 0.1144 - val_acc: 0.9668\n",
      "Epoch 13/200\n",
      "4457/4457 [==============================] - 0s - loss: 0.1178 - acc: 0.9554 - val_loss: 0.1063 - val_acc: 0.9641\n",
      "Epoch 14/200\n",
      "4457/4457 [==============================] - 0s - loss: 0.1258 - acc: 0.9542 - val_loss: 0.1220 - val_acc: 0.9534\n",
      "Epoch 15/200\n",
      "4457/4457 [==============================] - 0s - loss: 0.1190 - acc: 0.9594 - val_loss: 0.1063 - val_acc: 0.9614\n",
      "Epoch 16/200\n",
      "4457/4457 [==============================] - 0s - loss: 0.1112 - acc: 0.9594 - val_loss: 0.1074 - val_acc: 0.9641\n",
      "Epoch 17/200\n",
      "4457/4457 [==============================] - 0s - loss: 0.1137 - acc: 0.9612 - val_loss: 0.1064 - val_acc: 0.9641\n",
      "Epoch 18/200\n",
      "4457/4457 [==============================] - 0s - loss: 0.1171 - acc: 0.9569 - val_loss: 0.1071 - val_acc: 0.9641\n",
      "Epoch 19/200\n",
      "4457/4457 [==============================] - 0s - loss: 0.1165 - acc: 0.9587 - val_loss: 0.1202 - val_acc: 0.9578\n",
      "Epoch 20/200\n",
      "4457/4457 [==============================] - 0s - loss: 0.1148 - acc: 0.9589 - val_loss: 0.1160 - val_acc: 0.9587\n",
      "Epoch 21/200\n",
      "4457/4457 [==============================] - 0s - loss: 0.1085 - acc: 0.9605 - val_loss: 0.1231 - val_acc: 0.9543\n",
      "Epoch 22/200\n",
      "4457/4457 [==============================] - 0s - loss: 0.1067 - acc: 0.9580 - val_loss: 0.1042 - val_acc: 0.9632\n",
      "Epoch 23/200\n",
      "4457/4457 [==============================] - 0s - loss: 0.1067 - acc: 0.9641 - val_loss: 0.1178 - val_acc: 0.9596\n",
      "Epoch 24/200\n",
      "4457/4457 [==============================] - 0s - loss: 0.1028 - acc: 0.9643 - val_loss: 0.1036 - val_acc: 0.9677\n",
      "Epoch 25/200\n",
      "4457/4457 [==============================] - 0s - loss: 0.1021 - acc: 0.9628 - val_loss: 0.1052 - val_acc: 0.9650\n",
      "Epoch 26/200\n",
      "4457/4457 [==============================] - 0s - loss: 0.1053 - acc: 0.9614 - val_loss: 0.1305 - val_acc: 0.9480\n",
      "Epoch 27/200\n",
      "4457/4457 [==============================] - 0s - loss: 0.1024 - acc: 0.9625 - val_loss: 0.1067 - val_acc: 0.9632\n",
      "Epoch 28/200\n",
      "4457/4457 [==============================] - 0s - loss: 0.0958 - acc: 0.9702 - val_loss: 0.1031 - val_acc: 0.9641\n",
      "Epoch 29/200\n",
      "4457/4457 [==============================] - 0s - loss: 0.0947 - acc: 0.9675 - val_loss: 0.1062 - val_acc: 0.9596\n",
      "Epoch 30/200\n",
      "4457/4457 [==============================] - 0s - loss: 0.1017 - acc: 0.9663 - val_loss: 0.1046 - val_acc: 0.9650\n",
      "Epoch 31/200\n",
      "4457/4457 [==============================] - 0s - loss: 0.0967 - acc: 0.9650 - val_loss: 0.1049 - val_acc: 0.9623\n",
      "Epoch 32/200\n",
      "4457/4457 [==============================] - 0s - loss: 0.0971 - acc: 0.9643 - val_loss: 0.1173 - val_acc: 0.9570\n",
      "Epoch 33/200\n",
      "4457/4457 [==============================] - 0s - loss: 0.0908 - acc: 0.9695 - val_loss: 0.1049 - val_acc: 0.9668\n",
      "Epoch 34/200\n",
      "4457/4457 [==============================] - 0s - loss: 0.0926 - acc: 0.9686 - val_loss: 0.1060 - val_acc: 0.9668\n",
      "Epoch 35/200\n",
      "4457/4457 [==============================] - 0s - loss: 0.0971 - acc: 0.9657 - val_loss: 0.1093 - val_acc: 0.9650\n",
      "Epoch 36/200\n",
      "4457/4457 [==============================] - 0s - loss: 0.0926 - acc: 0.9672 - val_loss: 0.1102 - val_acc: 0.9623\n",
      "Epoch 37/200\n",
      "4457/4457 [==============================] - 0s - loss: 0.0925 - acc: 0.9677 - val_loss: 0.1069 - val_acc: 0.9632\n",
      "Epoch 38/200\n",
      "4457/4457 [==============================] - 0s - loss: 0.0924 - acc: 0.9670 - val_loss: 0.1082 - val_acc: 0.9623\n",
      "Epoch 39/200\n",
      "4457/4457 [==============================] - 0s - loss: 0.0905 - acc: 0.9684 - val_loss: 0.1143 - val_acc: 0.9552\n",
      "Epoch 40/200\n",
      "4457/4457 [==============================] - 0s - loss: 0.0840 - acc: 0.9713 - val_loss: 0.1131 - val_acc: 0.9596\n",
      "Epoch 41/200\n",
      "4457/4457 [==============================] - 0s - loss: 0.0882 - acc: 0.9699 - val_loss: 0.1060 - val_acc: 0.9641\n",
      "Epoch 42/200\n",
      "4457/4457 [==============================] - 0s - loss: 0.0852 - acc: 0.9713 - val_loss: 0.1110 - val_acc: 0.9614\n",
      "Epoch 43/200\n",
      "4457/4457 [==============================] - 0s - loss: 0.0798 - acc: 0.9735 - val_loss: 0.1209 - val_acc: 0.9587\n",
      "Epoch 44/200\n",
      "4457/4457 [==============================] - 0s - loss: 0.0806 - acc: 0.9735 - val_loss: 0.1053 - val_acc: 0.9632\n",
      "Epoch 45/200\n",
      "4457/4457 [==============================] - 0s - loss: 0.0767 - acc: 0.9753 - val_loss: 0.1063 - val_acc: 0.9641\n",
      "Epoch 46/200\n",
      "4457/4457 [==============================] - 0s - loss: 0.0777 - acc: 0.9706 - val_loss: 0.1104 - val_acc: 0.9641\n",
      "Epoch 47/200\n",
      "4457/4457 [==============================] - 0s - loss: 0.0784 - acc: 0.9713 - val_loss: 0.1076 - val_acc: 0.9641\n",
      "Epoch 48/200\n",
      "4457/4457 [==============================] - 0s - loss: 0.0723 - acc: 0.9735 - val_loss: 0.1127 - val_acc: 0.9614\n",
      "Epoch 49/200\n",
      "4457/4457 [==============================] - 0s - loss: 0.0728 - acc: 0.9731 - val_loss: 0.1116 - val_acc: 0.9632\n",
      "Epoch 50/200\n",
      "4457/4457 [==============================] - 0s - loss: 0.0726 - acc: 0.9769 - val_loss: 0.1161 - val_acc: 0.9596\n",
      "Epoch 51/200\n",
      "4457/4457 [==============================] - 0s - loss: 0.0726 - acc: 0.9749 - val_loss: 0.1134 - val_acc: 0.9650\n",
      "Epoch 52/200\n",
      "4457/4457 [==============================] - 0s - loss: 0.0741 - acc: 0.9731 - val_loss: 0.1102 - val_acc: 0.9641\n",
      "Epoch 53/200\n",
      "4457/4457 [==============================] - 0s - loss: 0.0690 - acc: 0.9764 - val_loss: 0.1152 - val_acc: 0.9623\n",
      "Epoch 54/200\n",
      "4457/4457 [==============================] - 0s - loss: 0.0689 - acc: 0.9773 - val_loss: 0.1329 - val_acc: 0.9570\n",
      "Epoch 55/200\n",
      "4457/4457 [==============================] - 0s - loss: 0.0677 - acc: 0.9773 - val_loss: 0.1128 - val_acc: 0.9668\n",
      "Epoch 56/200\n",
      "4457/4457 [==============================] - 0s - loss: 0.0639 - acc: 0.9769 - val_loss: 0.1132 - val_acc: 0.9650\n",
      "Epoch 57/200\n",
      "4457/4457 [==============================] - 0s - loss: 0.0639 - acc: 0.9780 - val_loss: 0.1158 - val_acc: 0.9641\n",
      "Epoch 58/200\n",
      "4457/4457 [==============================] - 0s - loss: 0.0611 - acc: 0.9787 - val_loss: 0.1163 - val_acc: 0.9632\n",
      "Epoch 59/200\n",
      "4457/4457 [==============================] - 0s - loss: 0.0625 - acc: 0.9755 - val_loss: 0.1195 - val_acc: 0.9641\n",
      "Epoch 60/200\n",
      "4457/4457 [==============================] - 0s - loss: 0.0571 - acc: 0.9803 - val_loss: 0.1233 - val_acc: 0.9614\n",
      "Epoch 61/200\n",
      "4457/4457 [==============================] - 0s - loss: 0.0561 - acc: 0.9791 - val_loss: 0.1184 - val_acc: 0.9659\n",
      "Epoch 62/200\n",
      "4457/4457 [==============================] - 0s - loss: 0.0580 - acc: 0.9803 - val_loss: 0.1275 - val_acc: 0.9596\n",
      "Epoch 63/200\n",
      "4457/4457 [==============================] - 0s - loss: 0.0571 - acc: 0.9812 - val_loss: 0.1173 - val_acc: 0.9650\n",
      "Epoch 64/200\n",
      "4457/4457 [==============================] - 0s - loss: 0.0570 - acc: 0.9796 - val_loss: 0.1172 - val_acc: 0.9641\n",
      "Epoch 65/200\n",
      "4457/4457 [==============================] - 0s - loss: 0.0573 - acc: 0.9776 - val_loss: 0.1252 - val_acc: 0.9596\n",
      "Epoch 66/200\n",
      "4457/4457 [==============================] - 0s - loss: 0.0516 - acc: 0.9829 - val_loss: 0.1231 - val_acc: 0.9641\n",
      "Epoch 67/200\n",
      "4457/4457 [==============================] - 0s - loss: 0.0528 - acc: 0.9821 - val_loss: 0.1241 - val_acc: 0.9632\n",
      "Epoch 68/200\n",
      "4457/4457 [==============================] - 0s - loss: 0.0566 - acc: 0.9798 - val_loss: 0.1265 - val_acc: 0.9623\n",
      "Epoch 69/200\n",
      "4457/4457 [==============================] - 0s - loss: 0.0659 - acc: 0.9769 - val_loss: 0.1213 - val_acc: 0.9650\n",
      "Epoch 70/200\n",
      "4457/4457 [==============================] - 0s - loss: 0.0557 - acc: 0.9796 - val_loss: 0.1201 - val_acc: 0.9632\n",
      "Epoch 71/200\n",
      "4457/4457 [==============================] - 0s - loss: 0.0637 - acc: 0.9789 - val_loss: 0.1181 - val_acc: 0.9623\n",
      "Epoch 72/200\n",
      "4457/4457 [==============================] - 0s - loss: 0.0523 - acc: 0.9821 - val_loss: 0.1214 - val_acc: 0.9623\n",
      "Epoch 73/200\n",
      "4457/4457 [==============================] - 0s - loss: 0.0486 - acc: 0.9827 - val_loss: 0.1381 - val_acc: 0.9596\n",
      "Epoch 74/200\n",
      "4457/4457 [==============================] - 0s - loss: 0.0507 - acc: 0.9816 - val_loss: 0.1372 - val_acc: 0.9605\n",
      "Epoch 75/200\n",
      "4457/4457 [==============================] - 0s - loss: 0.0455 - acc: 0.9841 - val_loss: 0.1146 - val_acc: 0.9623\n",
      "Epoch 76/200\n",
      "4457/4457 [==============================] - 0s - loss: 0.0448 - acc: 0.9845 - val_loss: 0.1259 - val_acc: 0.9587\n",
      "Epoch 77/200\n",
      "4457/4457 [==============================] - 0s - loss: 0.0475 - acc: 0.9836 - val_loss: 0.1357 - val_acc: 0.9552\n",
      "Epoch 78/200\n",
      "4457/4457 [==============================] - 0s - loss: 0.0403 - acc: 0.9881 - val_loss: 0.1212 - val_acc: 0.9650\n",
      "Epoch 79/200\n",
      "4457/4457 [==============================] - 0s - loss: 0.0434 - acc: 0.9838 - val_loss: 0.1374 - val_acc: 0.9605\n",
      "Epoch 80/200\n",
      "4457/4457 [==============================] - 0s - loss: 0.0378 - acc: 0.9874 - val_loss: 0.1293 - val_acc: 0.9641\n",
      "Epoch 81/200\n",
      "4457/4457 [==============================] - 0s - loss: 0.0395 - acc: 0.9870 - val_loss: 0.1294 - val_acc: 0.9623\n",
      "Epoch 82/200\n",
      "4457/4457 [==============================] - 0s - loss: 0.0401 - acc: 0.9868 - val_loss: 0.1395 - val_acc: 0.9596\n",
      "Epoch 83/200\n",
      "4457/4457 [==============================] - 0s - loss: 0.0433 - acc: 0.9834 - val_loss: 0.1313 - val_acc: 0.9632\n",
      "Epoch 84/200\n",
      "4457/4457 [==============================] - 0s - loss: 0.0411 - acc: 0.9863 - val_loss: 0.1287 - val_acc: 0.9587\n",
      "Epoch 85/200\n",
      "4457/4457 [==============================] - 0s - loss: 0.0374 - acc: 0.9895 - val_loss: 0.1388 - val_acc: 0.9641\n",
      "Epoch 86/200\n",
      "4457/4457 [==============================] - 0s - loss: 0.0346 - acc: 0.9892 - val_loss: 0.1390 - val_acc: 0.9623\n",
      "Epoch 87/200\n",
      "4457/4457 [==============================] - 0s - loss: 0.0367 - acc: 0.9881 - val_loss: 0.1362 - val_acc: 0.9623\n",
      "Epoch 88/200\n",
      "4457/4457 [==============================] - 0s - loss: 0.0391 - acc: 0.9881 - val_loss: 0.1436 - val_acc: 0.9605\n",
      "Epoch 89/200\n",
      "4457/4457 [==============================] - 0s - loss: 0.0373 - acc: 0.9863 - val_loss: 0.1697 - val_acc: 0.9552\n",
      "Epoch 90/200\n",
      "4457/4457 [==============================] - 0s - loss: 0.0632 - acc: 0.9778 - val_loss: 0.1286 - val_acc: 0.9641\n",
      "Epoch 91/200\n",
      "4457/4457 [==============================] - 0s - loss: 0.0359 - acc: 0.9879 - val_loss: 0.1352 - val_acc: 0.9605\n",
      "Epoch 92/200\n",
      "4457/4457 [==============================] - 0s - loss: 0.0342 - acc: 0.9881 - val_loss: 0.1349 - val_acc: 0.9623\n",
      "Epoch 93/200\n",
      "4457/4457 [==============================] - 0s - loss: 0.0342 - acc: 0.9895 - val_loss: 0.1345 - val_acc: 0.9623\n",
      "Epoch 94/200\n",
      "4457/4457 [==============================] - 0s - loss: 0.0312 - acc: 0.9895 - val_loss: 0.1416 - val_acc: 0.9623\n",
      "Epoch 95/200\n",
      "4457/4457 [==============================] - 0s - loss: 0.0329 - acc: 0.9890 - val_loss: 0.1356 - val_acc: 0.9623\n",
      "Epoch 96/200\n",
      "4457/4457 [==============================] - 0s - loss: 0.0326 - acc: 0.9890 - val_loss: 0.1416 - val_acc: 0.9623\n",
      "Epoch 97/200\n",
      "4457/4457 [==============================] - 0s - loss: 0.0311 - acc: 0.9890 - val_loss: 0.1542 - val_acc: 0.9614\n",
      "Epoch 98/200\n",
      "4457/4457 [==============================] - 0s - loss: 0.0324 - acc: 0.9881 - val_loss: 0.1404 - val_acc: 0.9623\n",
      "Epoch 99/200\n",
      "4457/4457 [==============================] - 0s - loss: 0.0318 - acc: 0.9883 - val_loss: 0.1493 - val_acc: 0.9552\n",
      "Epoch 100/200\n",
      "4457/4457 [==============================] - 0s - loss: 0.0277 - acc: 0.9910 - val_loss: 0.1443 - val_acc: 0.9605\n",
      "Epoch 101/200\n",
      "4457/4457 [==============================] - 0s - loss: 0.0250 - acc: 0.9924 - val_loss: 0.1598 - val_acc: 0.9614\n",
      "Epoch 102/200\n",
      "4457/4457 [==============================] - 0s - loss: 0.0257 - acc: 0.9924 - val_loss: 0.1444 - val_acc: 0.9623\n",
      "Epoch 103/200\n",
      "4457/4457 [==============================] - 0s - loss: 0.0246 - acc: 0.9924 - val_loss: 0.1523 - val_acc: 0.9632\n",
      "Epoch 104/200\n",
      "4457/4457 [==============================] - 0s - loss: 0.0247 - acc: 0.9917 - val_loss: 0.1539 - val_acc: 0.9614\n",
      "Epoch 105/200\n",
      "4457/4457 [==============================] - 0s - loss: 0.0244 - acc: 0.9915 - val_loss: 0.1465 - val_acc: 0.9632\n",
      "Epoch 106/200\n",
      "4457/4457 [==============================] - 0s - loss: 0.0253 - acc: 0.9917 - val_loss: 0.1540 - val_acc: 0.9605\n",
      "Epoch 107/200\n",
      "4457/4457 [==============================] - 0s - loss: 0.0243 - acc: 0.9926 - val_loss: 0.1558 - val_acc: 0.9614\n",
      "Epoch 108/200\n",
      "4457/4457 [==============================] - 0s - loss: 0.0261 - acc: 0.9926 - val_loss: 0.1486 - val_acc: 0.9614\n",
      "Epoch 109/200\n",
      "4457/4457 [==============================] - 0s - loss: 0.0265 - acc: 0.9921 - val_loss: 0.1503 - val_acc: 0.9641\n",
      "Epoch 110/200\n",
      "4457/4457 [==============================] - 0s - loss: 0.0273 - acc: 0.9908 - val_loss: 0.1561 - val_acc: 0.9596\n",
      "Epoch 111/200\n",
      "4457/4457 [==============================] - 0s - loss: 0.0222 - acc: 0.9917 - val_loss: 0.1447 - val_acc: 0.9614\n",
      "Epoch 112/200\n",
      "4457/4457 [==============================] - 0s - loss: 0.0211 - acc: 0.9924 - val_loss: 0.1512 - val_acc: 0.9605\n",
      "Epoch 113/200\n",
      "4457/4457 [==============================] - 0s - loss: 0.0239 - acc: 0.9930 - val_loss: 0.1460 - val_acc: 0.9623\n",
      "Epoch 114/200\n",
      "4457/4457 [==============================] - 0s - loss: 0.0196 - acc: 0.9937 - val_loss: 0.1483 - val_acc: 0.9623\n",
      "Epoch 115/200\n",
      "4457/4457 [==============================] - 0s - loss: 0.0208 - acc: 0.9937 - val_loss: 0.1495 - val_acc: 0.9632\n",
      "Epoch 116/200\n",
      "4457/4457 [==============================] - 0s - loss: 0.0258 - acc: 0.9910 - val_loss: 0.1569 - val_acc: 0.9614\n",
      "Epoch 117/200\n",
      "4457/4457 [==============================] - 0s - loss: 0.0220 - acc: 0.9933 - val_loss: 0.1639 - val_acc: 0.9605\n",
      "Epoch 118/200\n",
      "4457/4457 [==============================] - 0s - loss: 0.0207 - acc: 0.9937 - val_loss: 0.1584 - val_acc: 0.9614\n",
      "Epoch 119/200\n",
      "4457/4457 [==============================] - 0s - loss: 0.0201 - acc: 0.9946 - val_loss: 0.1548 - val_acc: 0.9623\n",
      "Epoch 120/200\n",
      "4457/4457 [==============================] - 0s - loss: 0.0185 - acc: 0.9935 - val_loss: 0.1544 - val_acc: 0.9614\n",
      "Epoch 121/200\n",
      "4457/4457 [==============================] - 0s - loss: 0.0167 - acc: 0.9960 - val_loss: 0.1602 - val_acc: 0.9596\n",
      "Epoch 122/200\n",
      "4457/4457 [==============================] - 0s - loss: 0.0154 - acc: 0.9966 - val_loss: 0.1568 - val_acc: 0.9605\n",
      "Epoch 123/200\n",
      "4457/4457 [==============================] - 0s - loss: 0.0212 - acc: 0.9935 - val_loss: 0.1694 - val_acc: 0.9596\n",
      "Epoch 124/200\n",
      "4457/4457 [==============================] - 0s - loss: 0.0165 - acc: 0.9955 - val_loss: 0.1659 - val_acc: 0.9587\n",
      "Epoch 125/200\n",
      "4457/4457 [==============================] - 0s - loss: 0.0173 - acc: 0.9939 - val_loss: 0.1704 - val_acc: 0.9623\n",
      "Epoch 126/200\n",
      "4457/4457 [==============================] - 0s - loss: 0.0193 - acc: 0.9937 - val_loss: 0.1614 - val_acc: 0.9659\n",
      "Epoch 127/200\n",
      "4457/4457 [==============================] - 0s - loss: 0.0179 - acc: 0.9944 - val_loss: 0.1578 - val_acc: 0.9587\n",
      "Epoch 128/200\n",
      "4457/4457 [==============================] - 0s - loss: 0.0205 - acc: 0.9939 - val_loss: 0.1677 - val_acc: 0.9596\n",
      "Epoch 129/200\n",
      "4457/4457 [==============================] - 0s - loss: 0.0200 - acc: 0.9924 - val_loss: 0.1749 - val_acc: 0.9596\n",
      "Epoch 130/200\n",
      "4457/4457 [==============================] - 0s - loss: 0.0306 - acc: 0.9892 - val_loss: 0.1762 - val_acc: 0.9543\n",
      "Epoch 131/200\n",
      "4457/4457 [==============================] - 0s - loss: 0.0141 - acc: 0.9955 - val_loss: 0.1878 - val_acc: 0.9570\n",
      "Epoch 132/200\n",
      "4457/4457 [==============================] - 0s - loss: 0.0243 - acc: 0.9915 - val_loss: 0.1676 - val_acc: 0.9659\n",
      "Epoch 133/200\n",
      "4457/4457 [==============================] - 0s - loss: 0.0134 - acc: 0.9966 - val_loss: 0.1729 - val_acc: 0.9641\n",
      "Epoch 134/200\n",
      "4457/4457 [==============================] - 0s - loss: 0.0140 - acc: 0.9957 - val_loss: 0.1775 - val_acc: 0.9605\n",
      "Epoch 135/200\n",
      "4457/4457 [==============================] - 0s - loss: 0.0155 - acc: 0.9951 - val_loss: 0.1755 - val_acc: 0.9623\n",
      "Epoch 136/200\n",
      "4457/4457 [==============================] - 0s - loss: 0.0140 - acc: 0.9955 - val_loss: 0.1788 - val_acc: 0.9561\n",
      "Epoch 137/200\n",
      "4457/4457 [==============================] - 0s - loss: 0.0131 - acc: 0.9964 - val_loss: 0.1779 - val_acc: 0.9578\n",
      "Epoch 138/200\n",
      "4457/4457 [==============================] - 0s - loss: 0.0113 - acc: 0.9971 - val_loss: 0.1872 - val_acc: 0.9605\n",
      "Epoch 139/200\n",
      "4457/4457 [==============================] - 0s - loss: 0.0141 - acc: 0.9962 - val_loss: 0.1937 - val_acc: 0.9570\n",
      "Epoch 140/200\n",
      "4457/4457 [==============================] - 0s - loss: 0.0133 - acc: 0.9951 - val_loss: 0.1850 - val_acc: 0.9596\n",
      "Epoch 141/200\n",
      "4457/4457 [==============================] - 0s - loss: 0.0106 - acc: 0.9973 - val_loss: 0.1802 - val_acc: 0.9614\n",
      "Epoch 142/200\n",
      "4457/4457 [==============================] - 0s - loss: 0.0117 - acc: 0.9975 - val_loss: 0.1819 - val_acc: 0.9623\n",
      "Epoch 143/200\n",
      "4457/4457 [==============================] - 0s - loss: 0.0096 - acc: 0.9969 - val_loss: 0.1805 - val_acc: 0.9614\n",
      "Epoch 144/200\n",
      "4457/4457 [==============================] - 0s - loss: 0.0137 - acc: 0.9951 - val_loss: 0.1862 - val_acc: 0.9632\n",
      "Epoch 145/200\n",
      "4457/4457 [==============================] - 0s - loss: 0.0137 - acc: 0.9953 - val_loss: 0.1794 - val_acc: 0.9623\n",
      "Epoch 146/200\n",
      "4457/4457 [==============================] - 0s - loss: 0.0138 - acc: 0.9960 - val_loss: 0.1813 - val_acc: 0.9552\n",
      "Epoch 147/200\n",
      "4457/4457 [==============================] - 0s - loss: 0.0181 - acc: 0.9942 - val_loss: 0.1714 - val_acc: 0.9605\n",
      "Epoch 148/200\n",
      "4457/4457 [==============================] - 0s - loss: 0.0096 - acc: 0.9980 - val_loss: 0.1902 - val_acc: 0.9596\n",
      "Epoch 149/200\n",
      "4457/4457 [==============================] - 0s - loss: 0.0110 - acc: 0.9971 - val_loss: 0.1875 - val_acc: 0.9596\n",
      "Epoch 150/200\n",
      "4457/4457 [==============================] - 0s - loss: 0.0098 - acc: 0.9973 - val_loss: 0.1904 - val_acc: 0.9578\n",
      "Epoch 151/200\n",
      "4457/4457 [==============================] - 0s - loss: 0.0202 - acc: 0.9942 - val_loss: 0.1887 - val_acc: 0.9578\n",
      "Epoch 152/200\n",
      "4457/4457 [==============================] - 0s - loss: 0.0180 - acc: 0.9944 - val_loss: 0.1906 - val_acc: 0.9596\n",
      "Epoch 153/200\n",
      "4457/4457 [==============================] - 0s - loss: 0.0151 - acc: 0.9962 - val_loss: 0.1902 - val_acc: 0.9632\n",
      "Epoch 154/200\n",
      "4457/4457 [==============================] - 0s - loss: 0.0106 - acc: 0.9978 - val_loss: 0.1839 - val_acc: 0.9641\n",
      "Epoch 155/200\n",
      "4457/4457 [==============================] - 0s - loss: 0.0111 - acc: 0.9971 - val_loss: 0.1758 - val_acc: 0.9578\n",
      "Epoch 156/200\n",
      "4457/4457 [==============================] - 0s - loss: 0.0138 - acc: 0.9962 - val_loss: 0.1862 - val_acc: 0.9641\n",
      "Epoch 157/200\n",
      "4457/4457 [==============================] - 0s - loss: 0.0116 - acc: 0.9962 - val_loss: 0.2017 - val_acc: 0.9632\n",
      "Epoch 158/200\n",
      "4457/4457 [==============================] - 0s - loss: 0.0103 - acc: 0.9969 - val_loss: 0.1886 - val_acc: 0.9632\n",
      "Epoch 159/200\n",
      "4457/4457 [==============================] - 0s - loss: 0.0131 - acc: 0.9962 - val_loss: 0.1911 - val_acc: 0.9578\n",
      "Epoch 160/200\n",
      "4457/4457 [==============================] - 0s - loss: 0.0096 - acc: 0.9969 - val_loss: 0.1889 - val_acc: 0.9605\n",
      "Epoch 161/200\n",
      "4457/4457 [==============================] - 0s - loss: 0.0133 - acc: 0.9962 - val_loss: 0.2116 - val_acc: 0.9561\n",
      "Epoch 162/200\n",
      "4457/4457 [==============================] - 0s - loss: 0.0126 - acc: 0.9971 - val_loss: 0.1867 - val_acc: 0.9587\n",
      "Epoch 163/200\n",
      "4457/4457 [==============================] - 0s - loss: 0.0139 - acc: 0.9953 - val_loss: 0.1950 - val_acc: 0.9650\n",
      "Epoch 164/200\n",
      "4457/4457 [==============================] - 0s - loss: 0.0108 - acc: 0.9975 - val_loss: 0.1894 - val_acc: 0.9614\n",
      "Epoch 165/200\n",
      "4457/4457 [==============================] - 0s - loss: 0.0119 - acc: 0.9957 - val_loss: 0.1895 - val_acc: 0.9641\n",
      "Epoch 166/200\n",
      "4457/4457 [==============================] - 0s - loss: 0.0106 - acc: 0.9969 - val_loss: 0.1839 - val_acc: 0.9605\n",
      "Epoch 167/200\n",
      "4457/4457 [==============================] - 0s - loss: 0.0115 - acc: 0.9966 - val_loss: 0.1860 - val_acc: 0.9623\n",
      "Epoch 168/200\n",
      "4457/4457 [==============================] - 0s - loss: 0.0088 - acc: 0.9975 - val_loss: 0.1925 - val_acc: 0.9632\n",
      "Epoch 169/200\n",
      "4457/4457 [==============================] - 0s - loss: 0.0113 - acc: 0.9966 - val_loss: 0.2053 - val_acc: 0.9578\n",
      "Epoch 170/200\n",
      "4457/4457 [==============================] - 0s - loss: 0.0119 - acc: 0.9960 - val_loss: 0.1831 - val_acc: 0.9605\n",
      "Epoch 171/200\n",
      "4457/4457 [==============================] - 0s - loss: 0.0083 - acc: 0.9978 - val_loss: 0.1871 - val_acc: 0.9605\n",
      "Epoch 172/200\n",
      "4457/4457 [==============================] - 0s - loss: 0.0128 - acc: 0.9964 - val_loss: 0.1885 - val_acc: 0.9650\n",
      "Epoch 173/200\n",
      "4457/4457 [==============================] - 0s - loss: 0.0125 - acc: 0.9955 - val_loss: 0.1917 - val_acc: 0.9596\n",
      "Epoch 174/200\n",
      "4457/4457 [==============================] - 0s - loss: 0.0079 - acc: 0.9975 - val_loss: 0.1961 - val_acc: 0.9614\n",
      "Epoch 175/200\n",
      "4457/4457 [==============================] - 0s - loss: 0.0088 - acc: 0.9973 - val_loss: 0.1954 - val_acc: 0.9587\n",
      "Epoch 176/200\n",
      "4457/4457 [==============================] - 0s - loss: 0.0104 - acc: 0.9971 - val_loss: 0.1905 - val_acc: 0.9623\n",
      "Epoch 177/200\n",
      "4457/4457 [==============================] - 0s - loss: 0.0088 - acc: 0.9973 - val_loss: 0.1954 - val_acc: 0.9623\n",
      "Epoch 178/200\n",
      "4457/4457 [==============================] - 0s - loss: 0.0092 - acc: 0.9966 - val_loss: 0.1958 - val_acc: 0.9587\n",
      "Epoch 179/200\n",
      "4457/4457 [==============================] - 0s - loss: 0.0100 - acc: 0.9973 - val_loss: 0.1946 - val_acc: 0.9596\n",
      "Epoch 180/200\n",
      "4457/4457 [==============================] - 0s - loss: 0.0077 - acc: 0.9978 - val_loss: 0.1937 - val_acc: 0.9614\n",
      "Epoch 181/200\n",
      "4457/4457 [==============================] - 0s - loss: 0.0140 - acc: 0.9955 - val_loss: 0.1957 - val_acc: 0.9614\n",
      "Epoch 182/200\n",
      "4457/4457 [==============================] - 0s - loss: 0.0113 - acc: 0.9969 - val_loss: 0.1978 - val_acc: 0.9623\n",
      "Epoch 183/200\n",
      "4457/4457 [==============================] - 0s - loss: 0.0088 - acc: 0.9966 - val_loss: 0.2015 - val_acc: 0.9614\n",
      "Epoch 184/200\n",
      "4457/4457 [==============================] - 0s - loss: 0.0079 - acc: 0.9975 - val_loss: 0.2020 - val_acc: 0.9614\n",
      "Epoch 185/200\n",
      "4457/4457 [==============================] - 0s - loss: 0.0111 - acc: 0.9964 - val_loss: 0.1946 - val_acc: 0.9605\n",
      "Epoch 186/200\n",
      "4457/4457 [==============================] - 0s - loss: 0.0096 - acc: 0.9971 - val_loss: 0.1970 - val_acc: 0.9552\n",
      "Epoch 187/200\n",
      "4457/4457 [==============================] - 0s - loss: 0.0064 - acc: 0.9984 - val_loss: 0.1935 - val_acc: 0.9641\n",
      "Epoch 188/200\n",
      "4457/4457 [==============================] - 0s - loss: 0.0098 - acc: 0.9953 - val_loss: 0.1933 - val_acc: 0.9641\n",
      "Epoch 189/200\n",
      "4457/4457 [==============================] - 0s - loss: 0.0096 - acc: 0.9964 - val_loss: 0.1933 - val_acc: 0.9659\n",
      "Epoch 190/200\n",
      "4457/4457 [==============================] - 0s - loss: 0.0074 - acc: 0.9975 - val_loss: 0.1929 - val_acc: 0.9632\n",
      "Epoch 191/200\n",
      "4457/4457 [==============================] - 0s - loss: 0.0092 - acc: 0.9980 - val_loss: 0.1965 - val_acc: 0.9668\n",
      "Epoch 192/200\n",
      "4457/4457 [==============================] - 0s - loss: 0.0098 - acc: 0.9966 - val_loss: 0.1880 - val_acc: 0.9668\n",
      "Epoch 193/200\n",
      "4457/4457 [==============================] - 0s - loss: 0.0077 - acc: 0.9978 - val_loss: 0.2058 - val_acc: 0.9587\n",
      "Epoch 194/200\n",
      "4457/4457 [==============================] - 0s - loss: 0.0079 - acc: 0.9975 - val_loss: 0.1925 - val_acc: 0.9623\n",
      "Epoch 195/200\n",
      "4457/4457 [==============================] - 0s - loss: 0.0092 - acc: 0.9966 - val_loss: 0.1989 - val_acc: 0.9641\n",
      "Epoch 196/200\n",
      "4457/4457 [==============================] - 0s - loss: 0.0087 - acc: 0.9975 - val_loss: 0.1916 - val_acc: 0.9605\n",
      "Epoch 197/200\n",
      "4457/4457 [==============================] - 0s - loss: 0.0064 - acc: 0.9975 - val_loss: 0.1990 - val_acc: 0.9623\n",
      "Epoch 198/200\n",
      "4457/4457 [==============================] - 0s - loss: 0.0083 - acc: 0.9980 - val_loss: 0.1941 - val_acc: 0.9605\n",
      "Epoch 199/200\n",
      "4457/4457 [==============================] - 0s - loss: 0.0065 - acc: 0.9982 - val_loss: 0.1994 - val_acc: 0.9587\n",
      "Epoch 200/200\n",
      "4457/4457 [==============================] - 0s - loss: 0.0065 - acc: 0.9980 - val_loss: 0.2023 - val_acc: 0.9632\n",
      "Accuracy: 96.32%\n"
     ]
    },
    {
     "data": {
      "image/png": "[encoded data removed]",
      "text/plain": [
       "<matplotlib.figure.Figure at 0x131ff0850>"
      ]
     },
     "metadata": {},
     "output_type": "display_data"
    }
   ],
   "source": [
    "# MODEL BUILDING & RUNNING & ACCURACY CHECKING\n",
    "model = Sequential()\n",
    "model.add(Convolution2D(30, 3, 1, input_shape=(5,15,1), border_mode='same', activation='relu'))\n",
    "model.add(Dropout(.2))\n",
    "model.add(Convolution2D(15, 3, 1, activation='relu', border_mode='same'))\n",
    "model.add(MaxPooling2D(pool_size=(2,1))) \n",
    "model.add(Flatten())\n",
    "model.add(Dense(512, activation='relu'))\n",
    "model.add(Dense(1, activation='sigmoid'))\n",
    "epochs = 200\n",
    "lrate = .01\n",
    "decay = lrate / epochs\n",
    "sgd = SGD(lr=lrate, momentum=.9, decay=decay, nesterov=False)\n",
    "model.compile(loss='binary_crossentropy', optimizer=sgd, metrics=['accuracy'])\n",
    "history = model.fit(X_train, y_train, validation_data=(X_test, y_test), nb_epoch=epochs, batch_size=50, verbose=1)\n",
    "scores = model.evaluate(X_test, y_test, verbose=0)\n",
    "print 'Accuracy: %.2f%%' % (scores[1]*100)\n",
    "plt.plot(history.history['acc'])\n",
    "plt.plot(history.history['val_acc'])\n",
    "plt.title('Model Accuray')\n",
    "plt.ylabel('Accuracy')\n",
    "plt.xlabel('Epoch')\n",
    "plt.legend(['train', 'test'], loc='upper left')\n",
    "plt.show()"
   ]
  },
  {
   "cell_type": "code",
   "execution_count": 482,
   "metadata": {
    "collapsed": false
   },
   "outputs": [
    {
     "data": {
      "image/png": "[encoded data removed]",
      "text/plain": [
       "<matplotlib.figure.Figure at 0x12e7ff490>"
      ]
     },
     "metadata": {},
     "output_type": "display_data"
    }
   ],
   "source": [
    "# ERROR CONVERGENCE\n",
    "plt.plot(history.history['loss'])\n",
    "plt.plot(history.history['val_loss'])\n",
    "plt.title('Error Convergence')\n",
    "plt.ylabel('Error')\n",
    "plt.xlabel('Epoch')\n",
    "plt.legend(['train', 'test'], loc='upper left')\n",
    "plt.show()"
   ]
  },
  {
   "cell_type": "markdown",
   "metadata": {
    "collapsed": true
   },
   "source": [
    "# CONVOLUTION1D EXPERIMENT"
   ]
  },
  {
   "cell_type": "code",
   "execution_count": 13,
   "metadata": {
    "collapsed": true
   },
   "outputs": [],
   "source": [
    "import nltk\n",
    "from nltk.stem import PorterStemmer\n",
    "import pandas as pd\n",
    "import matplotlib.pyplot as plt\n",
    "from functools import partial\n",
    "from keras.utils.np_utils import to_categorical\n",
    "%matplotlib inline"
   ]
  },
  {
   "cell_type": "code",
   "execution_count": 18,
   "metadata": {
    "collapsed": false
   },
   "outputs": [],
   "source": [
    "import numpy as np\n",
    "from keras.models import Sequential\n",
    "from keras.layers import Dense, Dropout, Flatten\n",
    "from keras.constraints import maxnorm\n",
    "from keras.optimizers import SGD\n",
    "from keras.layers.convolutional import Convolution1D, MaxPooling1D\n",
    "from keras.utils import np_utils\n",
    "from sklearn.cross_validation import train_test_split"
   ]
  },
  {
   "cell_type": "code",
   "execution_count": 5,
   "metadata": {
    "collapsed": true
   },
   "outputs": [],
   "source": [
    "from gensim.models import Word2Vec"
   ]
  },
  {
   "cell_type": "code",
   "execution_count": 9,
   "metadata": {
    "collapsed": false
   },
   "outputs": [
    {
     "data": {
      "text/html": [
       "<div>\n",
       "<table border=\"1\" class=\"dataframe\">\n",
       "  <thead>\n",
       "    <tr style=\"text-align: right;\">\n",
       "      <th></th>\n",
       "      <th>0</th>\n",
       "      <th>1</th>\n",
       "    </tr>\n",
       "  </thead>\n",
       "  <tbody>\n",
       "    <tr>\n",
       "      <th>0</th>\n",
       "      <td>She has indeed contacted me I have n't contact...</td>\n",
       "      <td>1</td>\n",
       "    </tr>\n",
       "    <tr>\n",
       "      <th>1</th>\n",
       "      <td>The round of interviews went very well . Still...</td>\n",
       "      <td>2</td>\n",
       "    </tr>\n",
       "    <tr>\n",
       "      <th>2</th>\n",
       "      <td>It looks like my first reply might not have go...</td>\n",
       "      <td>2</td>\n",
       "    </tr>\n",
       "    <tr>\n",
       "      <th>3</th>\n",
       "      <td>We will be in Austin May NUMBER for the next r...</td>\n",
       "      <td>2</td>\n",
       "    </tr>\n",
       "    <tr>\n",
       "      <th>4</th>\n",
       "      <td>- MLS # NUMBER is by far my top choice because...</td>\n",
       "      <td>2</td>\n",
       "    </tr>\n",
       "  </tbody>\n",
       "</table>\n",
       "</div>"
      ],
      "text/plain": [
       "                                                   0  1\n",
       "0  She has indeed contacted me I have n't contact...  1\n",
       "1  The round of interviews went very well . Still...  2\n",
       "2  It looks like my first reply might not have go...  2\n",
       "3  We will be in Austin May NUMBER for the next r...  2\n",
       "4  - MLS # NUMBER is by far my top choice because...  2"
      ]
     },
     "execution_count": 9,
     "metadata": {},
     "output_type": "execute_result"
    }
   ],
   "source": [
    "import os\n",
    "os.chdir('/Users/jacobsw/Desktop/IMPLEMENTATION_CAMP/CODE/OJO/SPAM_INTEREST_TASKS/DATA')\n",
    "joshdata = pd.read_excel('sentiment_josh.xlsx')\n",
    "joshdata.head()"
   ]
  },
  {
   "cell_type": "code",
   "execution_count": 10,
   "metadata": {
    "collapsed": false
   },
   "outputs": [
    {
     "name": "stdout",
     "output_type": "stream",
     "text": [
      "She has indeed contacted me I have n't contacted her back because I 'm waiting to hear more about my husband 's job opportunity . He will be flying to Austin the day after Easter to continue the interviews and after that we should know more . If you could tell her that I will gladly contact her after that set of interviews that would be great\n",
      "[ 0.  1.  0.]\n"
     ]
    }
   ],
   "source": [
    "cristinadata = pd.read_excel('sentiment_cristina.xlsx')\n",
    "jacobdata = pd.read_excel('sentiment_jacob.xlsx')\n",
    "X = np.concatenate((joshdata[0].values, cristinadata[0].values, jacobdata[0].values))\n",
    "y = np.concatenate((joshdata[1].values, cristinadata[1].values, jacobdata[1].values))\n",
    "y[618] = 1.\n",
    "y[706] = 1.\n",
    "y[1472] = 1.\n",
    "y = to_categorical(y)\n",
    "print X[0]\n",
    "print y[0]"
   ]
  },
  {
   "cell_type": "code",
   "execution_count": 14,
   "metadata": {
    "collapsed": false
   },
   "outputs": [
    {
     "name": "stdout",
     "output_type": "stream",
     "text": [
      "[u'she', u'ha', u'inde', u'contact', u'me', u'i', u'have', u\"n't\", u'contact', u'her', u'back', u'becaus', u'i', u\"'m\", u'wait', u'to', u'hear', u'more', u'about', u'my', u'husband', u\"'s\", u'job', u'opportun', u'.', u'he', u'will', u'be', u'fli', u'to', u'austin', u'the', u'day', u'after', u'easter', u'to', u'continu', u'the', u'interview', u'and', u'after', u'that', u'we', u'should', u'know', u'more', u'.', u'if', u'you', u'could', u'tell', u'her', u'that', u'i', u'will', u'gladli', u'contact', u'her', u'after', u'that', u'set', u'of', u'interview', u'that', u'would', u'be', u'great']\n",
      "[u'smtp.homecity.com', u'lolthank', u'number-a', u'6pm', u'oldest', u'hate', u'whose', u'aug', u'sorri', u'deviat']\n"
     ]
    }
   ],
   "source": [
    "def sent_clean(sent):\n",
    "    sent = nltk.word_tokenize(sent) # still unicode.\n",
    "    sent = [PorterStemmer().stem(word.lower()) for word in sent]\n",
    "    return sent\n",
    "def build_vocab(sents): # used after sent_clean operation.\n",
    "    vocab = []\n",
    "    for sent in sents:\n",
    "        vocab.extend(sent)\n",
    "    return list(set(vocab))\n",
    "X = map(sent_clean, X)\n",
    "vocab = build_vocab(X)\n",
    "print X[0]\n",
    "print vocab[:10]"
   ]
  },
  {
   "cell_type": "code",
   "execution_count": 15,
   "metadata": {
    "collapsed": false
   },
   "outputs": [
    {
     "name": "stdout",
     "output_type": "stream",
     "text": [
      "CPU times: user 551 ms, sys: 22.4 ms, total: 573 ms\n",
      "Wall time: 240 ms\n"
     ]
    }
   ],
   "source": [
    "%%time\n",
    "# WORD2VEC\n",
    "model = Word2Vec(X, size=5, window=4) # words -> 5 vecs."
   ]
  },
  {
   "cell_type": "code",
   "execution_count": 17,
   "metadata": {
    "collapsed": false
   },
   "outputs": [
    {
     "name": "stdout",
     "output_type": "stream",
     "text": [
      "Dimensions of EACH Sentence-Matrix: (60, 5)\n",
      "Dimensions of ENTIRE Dataset: (1500, 60, 5)\n"
     ]
    }
   ],
   "source": [
    "# SENTENCES -> MATRICES \n",
    "#  - each word is a row of 5D vector.\n",
    "#  - normalization size: 60.\n",
    "X_mat = [[model[word] for word in sent if word in model.vocab] for sent in X]\n",
    "padding = np.array([0.,0.,0.,0.,0.], dtype='float32')\n",
    "for i in range(len(X_mat)):\n",
    "    if len(X_mat[i]) > 60:\n",
    "        X_mat[i] = X_mat[i][:60]\n",
    "    else: \n",
    "        X_mat[i] += [padding for _ in range(60-len(X_mat[i]))]\n",
    "X_mat = map(np.array, X_mat) # to np.array, integrate individual flaot32 objs into 1 matrix.\n",
    "X_mat = np.array(X_mat)\n",
    "X_mat = X_mat.reshape(X_mat.shape[0], 60, 5)\n",
    "print 'Dimensions of EACH Sentence-Matrix: (%d, %d)' % X_mat[0].shape\n",
    "print 'Dimensions of ENTIRE Dataset: (%d, %d, %d)' % X_mat.shape"
   ]
  },
  {
   "cell_type": "code",
   "execution_count": 20,
   "metadata": {
    "collapsed": true
   },
   "outputs": [],
   "source": [
    "X_train, X_test, y_train, y_test = train_test_split(X_mat, y, test_size=.2)"
   ]
  },
  {
   "cell_type": "code",
   "execution_count": 28,
   "metadata": {
    "collapsed": false
   },
   "outputs": [
    {
     "name": "stdout",
     "output_type": "stream",
     "text": [
      "____________________________________________________________________________________________________\n",
      "Layer (type)                       Output Shape        Param #     Connected to                     \n",
      "====================================================================================================\n",
      "convolution1d_11 (Convolution1D)   (None, 60, 30)      780         convolution1d_input_7[0][0]      \n",
      "____________________________________________________________________________________________________\n",
      "dropout_6 (Dropout)                (None, 60, 30)      0           convolution1d_11[0][0]           \n",
      "____________________________________________________________________________________________________\n",
      "convolution1d_12 (Convolution1D)   (None, 60, 15)      2265        dropout_6[0][0]                  \n",
      "____________________________________________________________________________________________________\n",
      "maxpooling1d_2 (MaxPooling1D)      (None, 20, 15)      0           convolution1d_12[0][0]           \n",
      "____________________________________________________________________________________________________\n",
      "flatten_2 (Flatten)                (None, 300)         0           maxpooling1d_2[0][0]             \n",
      "____________________________________________________________________________________________________\n",
      "dense_3 (Dense)                    (None, 128)         38528       flatten_2[0][0]                  \n",
      "____________________________________________________________________________________________________\n",
      "dropout_7 (Dropout)                (None, 128)         0           dense_3[0][0]                    \n",
      "____________________________________________________________________________________________________\n",
      "dense_4 (Dense)                    (None, 3)           387         dropout_7[0][0]                  \n",
      "====================================================================================================\n",
      "Total params: 41960\n",
      "____________________________________________________________________________________________________\n",
      "None\n",
      "CPU times: user 381 ms, sys: 8.75 ms, total: 390 ms\n",
      "Wall time: 387 ms\n"
     ]
    }
   ],
   "source": [
    "%%time\n",
    "# MODEL BUILDING\n",
    "model = Sequential()\n",
    "model.add(Convolution1D(30, 5, input_shape=(60,5), border_mode='same', activation='relu', W_constraint=maxnorm(3)))\n",
    "model.add(Dropout(.2))\n",
    "model.add(Convolution1D(15, 5, activation='relu', border_mode='same', W_constraint=maxnorm(3)))\n",
    "model.add(MaxPooling1D(pool_length=3)) \n",
    "model.add(Flatten())\n",
    "model.add(Dense(128, activation='relu'))\n",
    "model.add(Dropout(.2))\n",
    "model.add(Dense(3, activation='softmax'))\n",
    "model.compile(loss='categorical_crossentropy', optimizer='adam', metrics=['accuracy'])\n",
    "print model.summary()"
   ]
  },
  {
   "cell_type": "code",
   "execution_count": 29,
   "metadata": {
    "collapsed": false
   },
   "outputs": [
    {
     "name": "stdout",
     "output_type": "stream",
     "text": [
      "Accuracy: 72.33%\n"
     ]
    },
    {
     "data": {
      "image/png": "[encoded data removed]",
      "text/plain": [
       "<matplotlib.figure.Figure at 0x1221ca310>"
      ]
     },
     "metadata": {},
     "output_type": "display_data"
    },
    {
     "name": "stdout",
     "output_type": "stream",
     "text": [
      "CPU times: user 43.6 s, sys: 2.93 s, total: 46.5 s\n",
      "Wall time: 44.7 s\n"
     ]
    }
   ],
   "source": [
    "%%time\n",
    "# MODEL FITTING & EVALUATION\n",
    "history = model.fit(X_train, y_train, validation_data=(X_test, y_test), nb_epoch=100, batch_size=50, verbose=0)\n",
    "scores = model.evaluate(X_test, y_test, verbose=0)\n",
    "print 'Accuracy: %.2f%%' % (scores[1]*100)\n",
    "plt.plot(history.history['acc'])\n",
    "plt.plot(history.history['val_acc'])\n",
    "plt.title('Model Accuray')\n",
    "plt.ylabel('Accuracy')\n",
    "plt.xlabel('Epoch')\n",
    "plt.legend(['train', 'test'], loc='upper left')\n",
    "plt.show()"
   ]
  },
  {
   "cell_type": "code",
   "execution_count": 30,
   "metadata": {
    "collapsed": false
   },
   "outputs": [
    {
     "data": {
      "image/png": "[encoded data removed]",
      "text/plain": [
       "<matplotlib.figure.Figure at 0x1221602d0>"
      ]
     },
     "metadata": {},
     "output_type": "display_data"
    }
   ],
   "source": [
    "# CONVERGENCE CHECKING\n",
    "plt.plot(history.history['loss'])\n",
    "plt.plot(history.history['val_loss'])\n",
    "plt.title('Error Convergence')\n",
    "plt.ylabel('Error')\n",
    "plt.xlabel('Epoch')\n",
    "plt.legend(['train', 'test'], loc='upper left')\n",
    "plt.show()"
   ]
  },
  {
   "cell_type": "code",
   "execution_count": null,
   "metadata": {
    "collapsed": true
   },
   "outputs": [],
   "source": []
  },
  {
   "cell_type": "code",
   "execution_count": null,
   "metadata": {
    "collapsed": true
   },
   "outputs": [],
   "source": []
  },
  {
   "cell_type": "code",
   "execution_count": null,
   "metadata": {
    "collapsed": true
   },
   "outputs": [],
   "source": []
  },
  {
   "cell_type": "code",
   "execution_count": null,
   "metadata": {
    "collapsed": true
   },
   "outputs": [],
   "source": []
  },
  {
   "cell_type": "code",
   "execution_count": null,
   "metadata": {
    "collapsed": true
   },
   "outputs": [],
   "source": []
  },
  {
   "cell_type": "code",
   "execution_count": null,
   "metadata": {
    "collapsed": true
   },
   "outputs": [],
   "source": []
  },
  {
   "cell_type": "code",
   "execution_count": null,
   "metadata": {
    "collapsed": true
   },
   "outputs": [],
   "source": []
  },
  {
   "cell_type": "code",
   "execution_count": null,
   "metadata": {
    "collapsed": true
   },
   "outputs": [],
   "source": []
  },
  {
   "cell_type": "code",
   "execution_count": null,
   "metadata": {
    "collapsed": true
   },
   "outputs": [],
   "source": []
  },
  {
   "cell_type": "code",
   "execution_count": null,
   "metadata": {
    "collapsed": true
   },
   "outputs": [],
   "source": []
  },
  {
   "cell_type": "code",
   "execution_count": null,
   "metadata": {
    "collapsed": true
   },
   "outputs": [],
   "source": []
  }
 ],
 "metadata": {
  "kernelspec": {
   "display_name": "Python 2",
   "language": "python",
   "name": "python2"
  },
  "language_info": {
   "codemirror_mode": {
    "name": "ipython",
    "version": 2
   },
   "file_extension": ".py",
   "mimetype": "text/x-python",
   "name": "python",
   "nbconvert_exporter": "python",
   "pygments_lexer": "ipython2",
   "version": "2.7.11"
  }
 },
 "nbformat": 4,
 "nbformat_minor": 0
}
