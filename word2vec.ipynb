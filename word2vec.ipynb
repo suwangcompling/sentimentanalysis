{
 "cells": [
  {
   "cell_type": "markdown",
   "metadata": {},
   "source": [
    "# GENSIM WORD2VEC EXPERIMENT"
   ]
  },
  {
   "cell_type": "markdown",
   "metadata": {},
   "source": [
    "## TRAINING DATA: BROWN CORPUS\n",
    "**NB: FOR PREPARATION, DO NOT RUN THIS SECTION FIRST**"
   ]
  },
  {
   "cell_type": "code",
   "execution_count": 38,
   "metadata": {
    "collapsed": true
   },
   "outputs": [],
   "source": [
    "from nltk.corpus import brown, stopwords\n",
    "from nltk.stem.porter import PorterStemmer"
   ]
  },
  {
   "cell_type": "code",
   "execution_count": 60,
   "metadata": {
    "collapsed": false
   },
   "outputs": [
    {
     "name": "stdout",
     "output_type": "stream",
     "text": [
      "CPU times: user 11.9 s, sys: 187 ms, total: 12.1 s\n",
      "Wall time: 12.2 s\n"
     ]
    }
   ],
   "source": [
    "%%time\n",
    "words, sents = list(brown.words()), list(brown.sents())"
   ]
  },
  {
   "cell_type": "code",
   "execution_count": 62,
   "metadata": {
    "collapsed": false
   },
   "outputs": [],
   "source": [
    "stop = stopwords.words('english')"
   ]
  },
  {
   "cell_type": "code",
   "execution_count": 63,
   "metadata": {
    "collapsed": true
   },
   "outputs": [],
   "source": [
    "def brown_clean(sents):\n",
    "    sents = [[str(word.lower()) for word in sent] for sent in sents] # unicode->string, lowercasing.\n",
    "    sents = [[word for word in sent if word not in stop] for sent in sents] # removing stopwords.\n",
    "    sents = [[PorterStemmer().stem(word) for word in sent] for sent in sents] # lemmatizing.\n",
    "    return sents\n",
    "def brown_vocab_build(words):\n",
    "    return list(set([PorterStemmer().stem(str(word.lower())) for word in words if str(word.lower()) not in stop]))"
   ]
  },
  {
   "cell_type": "code",
   "execution_count": 65,
   "metadata": {
    "collapsed": false
   },
   "outputs": [
    {
     "name": "stdout",
     "output_type": "stream",
     "text": [
      "CPU times: user 23 s, sys: 204 ms, total: 23.2 s\n",
      "Wall time: 23.2 s\n"
     ]
    }
   ],
   "source": [
    "%%time\n",
    "words = brown_vocab_build(words)\n",
    "words = [str(word) for word in words] # somehow unicode->string needs to be performed again."
   ]
  },
  {
   "cell_type": "code",
   "execution_count": 66,
   "metadata": {
    "collapsed": false
   },
   "outputs": [
    {
     "name": "stdout",
     "output_type": "stream",
     "text": [
      "CPU times: user 22.3 s, sys: 197 ms, total: 22.5 s\n",
      "Wall time: 22.5 s\n"
     ]
    }
   ],
   "source": [
    "%%time\n",
    "sents = brown_clean(sents)"
   ]
  },
  {
   "cell_type": "code",
   "execution_count": 67,
   "metadata": {
    "collapsed": false
   },
   "outputs": [
    {
     "name": "stdout",
     "output_type": "stream",
     "text": [
      "[u'fulton', u'counti', u'grand', u'juri', u'said', u'friday', u'investig', u\"atlanta'\", u'recent', u'primari', u'elect', u'produc', u'``', u'evid', u\"''\", u'irregular', u'took', u'place', u'.']\n",
      "fawn\n"
     ]
    }
   ],
   "source": [
    "print sents[0]\n",
    "print words[0]"
   ]
  },
  {
   "cell_type": "code",
   "execution_count": 74,
   "metadata": {
    "collapsed": false
   },
   "outputs": [],
   "source": []
  },
  {
   "cell_type": "markdown",
   "metadata": {},
   "source": [
    "## GENSIM WORD2VEC MODEL"
   ]
  },
  {
   "cell_type": "code",
   "execution_count": 196,
   "metadata": {
    "collapsed": true
   },
   "outputs": [],
   "source": [
    "from gensim.models import Word2Vec\n",
    "    # Word2Vec params:\n",
    "    #  - size: dimensionality of feature vectors.\n",
    "    #  - window: the maximum distance between the current and predicted word within a sentence.\n",
    "    #  - alpha: initial learning rate.\n",
    "    #  - seed: seed for random number generator.\n",
    "    #  - min_count: ignore all words with total frequency lower than this.\n",
    "    #  - max_vocab_size: limit RAM during vocab building.\n",
    "    #  - sample: threshold for configuring which higher-frequency words are randomly downsampled\n",
    "    #      default=1e-3, useful range is (0, 1e-5).\n",
    "    #  - workers: use this many worker threads to train the model (i.e. faster with multicore machines)\n",
    "    #  - iter: number of iterations over corpus.\n",
    "    #  ... for the rest see https://radimrehurek.com/gensim/models/word2vec.html."
   ]
  },
  {
   "cell_type": "code",
   "execution_count": 197,
   "metadata": {
    "collapsed": false
   },
   "outputs": [],
   "source": [
    "import nltk\n",
    "import numpy as np\n",
    "import pandas as pd\n",
    "import matplotlib.pyplot as plt\n",
    "from functools import partial\n",
    "from keras.utils.np_utils import to_categorical\n",
    "%matplotlib inline"
   ]
  },
  {
   "cell_type": "code",
   "execution_count": 198,
   "metadata": {
    "collapsed": true
   },
   "outputs": [],
   "source": [
    "import os\n",
    "os.chdir('/Users/jacobsw/Desktop/IMPLEMENTATION_CAMP/CODE/OJO/SPAM_INTEREST_TASKS/DATA')"
   ]
  },
  {
   "cell_type": "code",
   "execution_count": 199,
   "metadata": {
    "collapsed": false
   },
   "outputs": [
    {
     "data": {
      "text/html": [
       "<div>\n",
       "<table border=\"1\" class=\"dataframe\">\n",
       "  <thead>\n",
       "    <tr style=\"text-align: right;\">\n",
       "      <th></th>\n",
       "      <th>0</th>\n",
       "      <th>1</th>\n",
       "    </tr>\n",
       "  </thead>\n",
       "  <tbody>\n",
       "    <tr>\n",
       "      <th>0</th>\n",
       "      <td>She has indeed contacted me I have n't contact...</td>\n",
       "      <td>1</td>\n",
       "    </tr>\n",
       "    <tr>\n",
       "      <th>1</th>\n",
       "      <td>The round of interviews went very well . Still...</td>\n",
       "      <td>2</td>\n",
       "    </tr>\n",
       "    <tr>\n",
       "      <th>2</th>\n",
       "      <td>It looks like my first reply might not have go...</td>\n",
       "      <td>2</td>\n",
       "    </tr>\n",
       "    <tr>\n",
       "      <th>3</th>\n",
       "      <td>We will be in Austin May NUMBER for the next r...</td>\n",
       "      <td>2</td>\n",
       "    </tr>\n",
       "    <tr>\n",
       "      <th>4</th>\n",
       "      <td>- MLS # NUMBER is by far my top choice because...</td>\n",
       "      <td>2</td>\n",
       "    </tr>\n",
       "  </tbody>\n",
       "</table>\n",
       "</div>"
      ],
      "text/plain": [
       "                                                   0  1\n",
       "0  She has indeed contacted me I have n't contact...  1\n",
       "1  The round of interviews went very well . Still...  2\n",
       "2  It looks like my first reply might not have go...  2\n",
       "3  We will be in Austin May NUMBER for the next r...  2\n",
       "4  - MLS # NUMBER is by far my top choice because...  2"
      ]
     },
     "execution_count": 199,
     "metadata": {},
     "output_type": "execute_result"
    }
   ],
   "source": [
    "joshdata = pd.read_excel('sentiment_josh.xlsx')\n",
    "joshdata.head()"
   ]
  },
  {
   "cell_type": "code",
   "execution_count": 200,
   "metadata": {
    "collapsed": true
   },
   "outputs": [],
   "source": [
    "cristinadata = pd.read_excel('sentiment_cristina.xlsx')\n",
    "jacobdata = pd.read_excel('sentiment_jacob.xlsx')"
   ]
  },
  {
   "cell_type": "code",
   "execution_count": 201,
   "metadata": {
    "collapsed": false
   },
   "outputs": [
    {
     "name": "stdout",
     "output_type": "stream",
     "text": [
      "She has indeed contacted me I have n't contacted her back because I 'm waiting to hear more about my husband 's job opportunity . He will be flying to Austin the day after Easter to continue the interviews and after that we should know more . If you could tell her that I will gladly contact her after that set of interviews that would be great\n",
      "[ 0.  1.  0.]\n"
     ]
    }
   ],
   "source": [
    "X = np.concatenate((joshdata[0].values, cristinadata[0].values, jacobdata[0].values))\n",
    "y = np.concatenate((joshdata[1].values, cristinadata[1].values, jacobdata[1].values))\n",
    "y[618] = 1.\n",
    "y[706] = 1.\n",
    "y[1472] = 1.\n",
    "y = to_categorical(y)\n",
    "print X[0]\n",
    "print y[0]"
   ]
  },
  {
   "cell_type": "code",
   "execution_count": 202,
   "metadata": {
    "collapsed": true
   },
   "outputs": [],
   "source": [
    "def sent_clean(sent):\n",
    "    sent = nltk.word_tokenize(sent) # still unicode.\n",
    "#     sent = [word for word in sent if word not in stop] # removing stopwords.\n",
    "    sent = [PorterStemmer().stem(word.lower()) for word in sent]\n",
    "    return sent\n",
    "def build_vocab(sents): # used after sent_clean operation.\n",
    "    vocab = []\n",
    "    for sent in sents:\n",
    "        vocab.extend(sent)\n",
    "    return list(set(vocab))"
   ]
  },
  {
   "cell_type": "code",
   "execution_count": 203,
   "metadata": {
    "collapsed": false
   },
   "outputs": [],
   "source": [
    "X = map(sent_clean, X)\n",
    "vocab = build_vocab(X)"
   ]
  },
  {
   "cell_type": "code",
   "execution_count": 204,
   "metadata": {
    "collapsed": false
   },
   "outputs": [
    {
     "name": "stdout",
     "output_type": "stream",
     "text": [
      "[u'she', u'ha', u'inde', u'contact', u'me', u'i', u'have', u\"n't\", u'contact', u'her', u'back', u'becaus', u'i', u\"'m\", u'wait', u'to', u'hear', u'more', u'about', u'my', u'husband', u\"'s\", u'job', u'opportun', u'.', u'he', u'will', u'be', u'fli', u'to', u'austin', u'the', u'day', u'after', u'easter', u'to', u'continu', u'the', u'interview', u'and', u'after', u'that', u'we', u'should', u'know', u'more', u'.', u'if', u'you', u'could', u'tell', u'her', u'that', u'i', u'will', u'gladli', u'contact', u'her', u'after', u'that', u'set', u'of', u'interview', u'that', u'would', u'be', u'great']\n",
      "[u'smtp.homecity.com', u'lolthank', u'number-a', u'6pm', u'oldest', u'hate', u'whose', u'aug', u'sorri', u'deviat']\n"
     ]
    }
   ],
   "source": [
    "print X[0]\n",
    "print vocab[:10]"
   ]
  },
  {
   "cell_type": "markdown",
   "metadata": {},
   "source": [
    "### ====================== COMMON CODE ENDS HERE ======================"
   ]
  },
  {
   "cell_type": "code",
   "execution_count": 40,
   "metadata": {
    "collapsed": false
   },
   "outputs": [
    {
     "name": "stdout",
     "output_type": "stream",
     "text": [
      "CPU times: user 542 ms, sys: 22.5 ms, total: 564 ms\n",
      "Wall time: 241 ms\n"
     ]
    }
   ],
   "source": [
    "%%time\n",
    "model = Word2Vec(X, size=5, window=4) # words -> 10D vecs."
   ]
  },
  {
   "cell_type": "code",
   "execution_count": 41,
   "metadata": {
    "collapsed": false
   },
   "outputs": [],
   "source": [
    "# WORD -> VECTOR\n",
    "def vectorize(model, sent): # sent -> list word vector in model.\n",
    "    return [model[word] for word in sent if word in model.vocab]"
   ]
  },
  {
   "cell_type": "code",
   "execution_count": 42,
   "metadata": {
    "collapsed": false
   },
   "outputs": [],
   "source": [
    "X_vec = [vectorize(model,sent) for sent in X] # X_vec is now a list of lists of 10D vectors\n",
    "                                              #                 ^        ^            ^\n",
    "                                              #                 |        |            |\n",
    "                                              #               corpus   sentence     word"
   ]
  },
  {
   "cell_type": "code",
   "execution_count": null,
   "metadata": {
    "collapsed": false
   },
   "outputs": [],
   "source": []
  },
  {
   "cell_type": "markdown",
   "metadata": {},
   "source": [
    "## MODEL 1: MLP"
   ]
  },
  {
   "cell_type": "code",
   "execution_count": 23,
   "metadata": {
    "collapsed": false
   },
   "outputs": [],
   "source": [
    "from keras.models import Sequential\n",
    "from keras.layers import Dense, Flatten\n",
    "from keras.preprocessing import sequence\n",
    "from sklearn.cross_validation import train_test_split"
   ]
  },
  {
   "cell_type": "code",
   "execution_count": 24,
   "metadata": {
    "collapsed": false
   },
   "outputs": [
    {
     "name": "stdout",
     "output_type": "stream",
     "text": [
      "Average Sentence Length: 64\n"
     ]
    },
    {
     "data": {
      "image/png": "[encoded data removed]",
      "text/plain": [
       "<matplotlib.figure.Figure at 0x11dac7550>"
      ]
     },
     "metadata": {},
     "output_type": "display_data"
    }
   ],
   "source": [
    "sentLens = [len(sent) for sent in X_vec]\n",
    "meanLens = int(np.mean(sentLens))\n",
    "print 'Average Sentence Length: %d' % meanLens\n",
    "plt.hist(sentLens)\n",
    "plt.title('Sentence Length Distribution')\n",
    "plt.xlabel('Sentence Length')\n",
    "plt.ylabel('Length Frequency')\n",
    "plt.show()\n",
    "# NB: BUT WE'LL TAKE 60."
   ]
  },
  {
   "cell_type": "code",
   "execution_count": 25,
   "metadata": {
    "collapsed": false
   },
   "outputs": [],
   "source": [
    "# INPUT SIZE UNIFORMIZATION\n",
    "# FLATTENING\n",
    "def flatten(sents):\n",
    "    return [word for sent in sents for word in sent]\n",
    "padding = np.array([0.,0.,0.,0.,0.], dtype='float32')\n",
    "for i in range(len(X_vec)):\n",
    "    if len(X_vec[i]) > 60:\n",
    "        X_vec[i] = X_vec[i][:60]\n",
    "    else: \n",
    "        X_vec[i] += [padding for _ in range(60-len(X_vec[i]))]\n",
    "X_vec = map(np.array, X_vec) # to np.array, so that .shape attribute is available.\n",
    "X_vec = map(flatten, X_vec)"
   ]
  },
  {
   "cell_type": "code",
   "execution_count": 26,
   "metadata": {
    "collapsed": false
   },
   "outputs": [],
   "source": [
    "X_train, X_test, y_train, y_test = train_test_split(X_vec, y, test_size=.2)"
   ]
  },
  {
   "cell_type": "code",
   "execution_count": 27,
   "metadata": {
    "collapsed": false
   },
   "outputs": [
    {
     "name": "stdout",
     "output_type": "stream",
     "text": [
      "____________________________________________________________________________________________________\n",
      "Layer (type)                       Output Shape        Param #     Connected to                     \n",
      "====================================================================================================\n",
      "dense_1 (Dense)                    (None, 100)         30100       dense_input_1[0][0]              \n",
      "____________________________________________________________________________________________________\n",
      "dense_2 (Dense)                    (None, 50)          5050        dense_1[0][0]                    \n",
      "____________________________________________________________________________________________________\n",
      "dense_3 (Dense)                    (None, 3)           153         dense_2[0][0]                    \n",
      "====================================================================================================\n",
      "Total params: 35303\n",
      "____________________________________________________________________________________________________\n",
      "None\n"
     ]
    }
   ],
   "source": [
    "# MLP BUILDING\n",
    "model = Sequential()\n",
    "model.add(Dense(100, input_dim=300, init='normal', activation='relu'))\n",
    "model.add(Dense(50, init='normal', activation='relu'))\n",
    "model.add(Dense(3, init='normal', activation='softmax'))\n",
    "model.compile(loss='categorical_crossentropy', optimizer='adam', metrics=['accuracy'])\n",
    "print model.summary()"
   ]
  },
  {
   "cell_type": "code",
   "execution_count": 371,
   "metadata": {
    "collapsed": false
   },
   "outputs": [
    {
     "name": "stdout",
     "output_type": "stream",
     "text": [
      "CPU times: user 2 µs, sys: 1e+03 ns, total: 3 µs\n",
      "Wall time: 8.11 µs\n",
      "Train on 1200 samples, validate on 300 samples\n",
      "Epoch 1/10\n",
      "1200/1200 [==============================] - 0s - loss: 1.0032 - acc: 0.4983 - val_loss: 0.9919 - val_acc: 0.5400\n",
      "Epoch 2/10\n",
      "1200/1200 [==============================] - 0s - loss: 0.8997 - acc: 0.6100 - val_loss: 0.9454 - val_acc: 0.5567\n",
      "Epoch 3/10\n",
      "1200/1200 [==============================] - 0s - loss: 0.8362 - acc: 0.6417 - val_loss: 0.9236 - val_acc: 0.5600\n",
      "Epoch 4/10\n",
      "1200/1200 [==============================] - 0s - loss: 0.7658 - acc: 0.6617 - val_loss: 0.9161 - val_acc: 0.5900\n",
      "Epoch 5/10\n",
      "1200/1200 [==============================] - 0s - loss: 0.6986 - acc: 0.6850 - val_loss: 0.8844 - val_acc: 0.5533\n",
      "Epoch 6/10\n",
      "1200/1200 [==============================] - 0s - loss: 0.6506 - acc: 0.7117 - val_loss: 0.8613 - val_acc: 0.5767\n",
      "Epoch 7/10\n",
      "1200/1200 [==============================] - 0s - loss: 0.6137 - acc: 0.7300 - val_loss: 0.8667 - val_acc: 0.5967\n",
      "Epoch 8/10\n",
      "1200/1200 [==============================] - 0s - loss: 0.5507 - acc: 0.7608 - val_loss: 0.8487 - val_acc: 0.6300\n",
      "Epoch 9/10\n",
      "1200/1200 [==============================] - 0s - loss: 0.4933 - acc: 0.7850 - val_loss: 0.8348 - val_acc: 0.6933\n",
      "Epoch 10/10\n",
      "1200/1200 [==============================] - 0s - loss: 0.4784 - acc: 0.7825 - val_loss: 0.8124 - val_acc: 0.6667\n",
      "Accuracy: 66.67%\n"
     ]
    }
   ],
   "source": [
    "%%time\n",
    "model.fit(X_train, y_train, validation_data=(X_test, y_test), nb_epoch=10, batch_size=50, verbose=1)\n",
    "scores = model.evaluate(X_test, y_test, verbose=0)\n",
    "print 'Accuracy: %.2f%%' % (scores[1]*100)"
   ]
  },
  {
   "cell_type": "markdown",
   "metadata": {},
   "source": [
    "## MODEL 2: CNN"
   ]
  },
  {
   "cell_type": "code",
   "execution_count": 189,
   "metadata": {
    "collapsed": true
   },
   "outputs": [],
   "source": [
    "from keras.layers import Convolution2D, MaxPooling2D, Dropout\n",
    "from keras.constraints import maxnorm"
   ]
  },
  {
   "cell_type": "code",
   "execution_count": 190,
   "metadata": {
    "collapsed": false
   },
   "outputs": [
    {
     "name": "stdout",
     "output_type": "stream",
     "text": [
      "CPU times: user 546 ms, sys: 20 ms, total: 566 ms\n",
      "Wall time: 239 ms\n"
     ]
    }
   ],
   "source": [
    "%%time\n",
    "model = Word2Vec(X, size=5, window=4) # words -> 5 vecs."
   ]
  },
  {
   "cell_type": "code",
   "execution_count": 191,
   "metadata": {
    "collapsed": false
   },
   "outputs": [
    {
     "name": "stdout",
     "output_type": "stream",
     "text": [
      "Dimensions of EACH Sentence-Matrix: (1, 60, 5)\n",
      "Dimensions of ENTIRE Dataset: (1500, 1, 60, 5)\n"
     ]
    }
   ],
   "source": [
    "# SENTENCES -> MATRICES \n",
    "#  - each word is a row of 5D vector.\n",
    "#  - normalization size: 60.\n",
    "X_mat = [[model[word] for word in sent if word in model.vocab] for sent in X]\n",
    "padding = np.array([0.,0.,0.,0.,0.], dtype='float32')\n",
    "for i in range(len(X_mat)):\n",
    "    if len(X_mat[i]) > 60:\n",
    "        X_mat[i] = X_mat[i][:60]\n",
    "    else: \n",
    "        X_mat[i] += [padding for _ in range(60-len(X_mat[i]))]\n",
    "X_mat = map(np.array, X_mat) # to np.array, integrate individual flaot32 objs into 1 matrix.\n",
    "X_mat = np.array(X_mat)\n",
    "X_mat = X_mat.reshape(X_mat.shape[0], 1, 60, 5)\n",
    "print 'Dimensions of EACH Sentence-Matrix: (%d, %d, %d)' % X_mat[0].shape\n",
    "print 'Dimensions of ENTIRE Dataset: (%d, %d, %d, %d)' % X_mat.shape"
   ]
  },
  {
   "cell_type": "code",
   "execution_count": 192,
   "metadata": {
    "collapsed": true
   },
   "outputs": [],
   "source": [
    "X_train, X_test, y_train, y_test = train_test_split(X_mat, y, test_size=.2)"
   ]
  },
  {
   "cell_type": "markdown",
   "metadata": {},
   "source": [
    "### OPTIMIZATION 1: ADAM"
   ]
  },
  {
   "cell_type": "code",
   "execution_count": 32,
   "metadata": {
    "collapsed": false
   },
   "outputs": [
    {
     "name": "stdout",
     "output_type": "stream",
     "text": [
      "____________________________________________________________________________________________________\n",
      "Layer (type)                       Output Shape        Param #     Connected to                     \n",
      "====================================================================================================\n",
      "convolution2d_1 (Convolution2D)    (None, 30, 60, 5)   300         convolution2d_input_1[0][0]      \n",
      "____________________________________________________________________________________________________\n",
      "dropout_1 (Dropout)                (None, 30, 60, 5)   0           convolution2d_1[0][0]            \n",
      "____________________________________________________________________________________________________\n",
      "convolution2d_2 (Convolution2D)    (None, 15, 60, 5)   4065        dropout_1[0][0]                  \n",
      "____________________________________________________________________________________________________\n",
      "maxpooling2d_1 (MaxPooling2D)      (None, 15, 30, 2)   0           convolution2d_2[0][0]            \n",
      "____________________________________________________________________________________________________\n",
      "flatten_1 (Flatten)                (None, 900)         0           maxpooling2d_1[0][0]             \n",
      "____________________________________________________________________________________________________\n",
      "dense_4 (Dense)                    (None, 512)         461312      flatten_1[0][0]                  \n",
      "____________________________________________________________________________________________________\n",
      "dropout_2 (Dropout)                (None, 512)         0           dense_4[0][0]                    \n",
      "____________________________________________________________________________________________________\n",
      "dense_5 (Dense)                    (None, 3)           1539        dropout_2[0][0]                  \n",
      "====================================================================================================\n",
      "Total params: 467216\n",
      "____________________________________________________________________________________________________\n",
      "None\n"
     ]
    }
   ],
   "source": [
    "# MODEL BUILDING\n",
    "model = Sequential()\n",
    "model.add(Convolution2D(30, 3, 3, input_shape=(1,60,5), border_mode='same', activation='relu', W_constraint=maxnorm(3)))\n",
    "model.add(Dropout(.2))\n",
    "model.add(Convolution2D(15, 3, 3, activation='relu', border_mode='same', W_constraint=maxnorm(3)))\n",
    "model.add(MaxPooling2D(pool_size=(2,2)))\n",
    "model.add(Flatten())\n",
    "model.add(Dense(512, activation='relu'))\n",
    "model.add(Dropout(.2))\n",
    "model.add(Dense(3, activation='softmax'))\n",
    "model.compile(loss='categorical_crossentropy', optimizer='adam', metrics=['accuracy'])\n",
    "print model.summary()"
   ]
  },
  {
   "cell_type": "code",
   "execution_count": 469,
   "metadata": {
    "collapsed": false
   },
   "outputs": [
    {
     "name": "stdout",
     "output_type": "stream",
     "text": [
      "Train on 1200 samples, validate on 300 samples\n",
      "Epoch 1/25\n",
      "1200/1200 [==============================] - 1s - loss: 1.2828 - acc: 0.4908 - val_loss: 0.9881 - val_acc: 0.6033\n",
      "Epoch 2/25\n",
      "1200/1200 [==============================] - 1s - loss: 0.9094 - acc: 0.5783 - val_loss: 0.9009 - val_acc: 0.5867\n",
      "Epoch 3/25\n",
      "1200/1200 [==============================] - 1s - loss: 0.8693 - acc: 0.5933 - val_loss: 0.9105 - val_acc: 0.5967\n",
      "Epoch 4/25\n",
      "1200/1200 [==============================] - 1s - loss: 0.8353 - acc: 0.6033 - val_loss: 0.9051 - val_acc: 0.6067\n",
      "Epoch 5/25\n",
      "1200/1200 [==============================] - 1s - loss: 0.7768 - acc: 0.6408 - val_loss: 0.8126 - val_acc: 0.6567\n",
      "Epoch 6/25\n",
      "1200/1200 [==============================] - 1s - loss: 0.7402 - acc: 0.6467 - val_loss: 0.8106 - val_acc: 0.6700\n",
      "Epoch 7/25\n",
      "1200/1200 [==============================] - 1s - loss: 0.6939 - acc: 0.6883 - val_loss: 0.8017 - val_acc: 0.6467\n",
      "Epoch 8/25\n",
      "1200/1200 [==============================] - 1s - loss: 0.6687 - acc: 0.6975 - val_loss: 0.7514 - val_acc: 0.7300\n",
      "Epoch 9/25\n",
      "1200/1200 [==============================] - 1s - loss: 0.6177 - acc: 0.7333 - val_loss: 0.7830 - val_acc: 0.6700\n",
      "Epoch 10/25\n",
      "1200/1200 [==============================] - 1s - loss: 0.5633 - acc: 0.7608 - val_loss: 0.7730 - val_acc: 0.6767\n",
      "Epoch 11/25\n",
      "1200/1200 [==============================] - 1s - loss: 0.5363 - acc: 0.7600 - val_loss: 0.7504 - val_acc: 0.7033\n",
      "Epoch 12/25\n",
      "1200/1200 [==============================] - 1s - loss: 0.4974 - acc: 0.7900 - val_loss: 0.7318 - val_acc: 0.6900\n",
      "Epoch 13/25\n",
      "1200/1200 [==============================] - 1s - loss: 0.4876 - acc: 0.7942 - val_loss: 0.7656 - val_acc: 0.7400\n",
      "Epoch 14/25\n",
      "1200/1200 [==============================] - 1s - loss: 0.4421 - acc: 0.8133 - val_loss: 0.8037 - val_acc: 0.7100\n",
      "Epoch 15/25\n",
      "1200/1200 [==============================] - 1s - loss: 0.4385 - acc: 0.8025 - val_loss: 0.7848 - val_acc: 0.7233\n",
      "Epoch 16/25\n",
      "1200/1200 [==============================] - 1s - loss: 0.4179 - acc: 0.7983 - val_loss: 0.8003 - val_acc: 0.7167\n",
      "Epoch 17/25\n",
      "1200/1200 [==============================] - 1s - loss: 0.3940 - acc: 0.8233 - val_loss: 0.8071 - val_acc: 0.7567\n",
      "Epoch 18/25\n",
      "1200/1200 [==============================] - 1s - loss: 0.3935 - acc: 0.8200 - val_loss: 0.8258 - val_acc: 0.7333\n",
      "Epoch 19/25\n",
      "1200/1200 [==============================] - 1s - loss: 0.3860 - acc: 0.8233 - val_loss: 0.7981 - val_acc: 0.7400\n",
      "Epoch 20/25\n",
      "1200/1200 [==============================] - 1s - loss: 0.3930 - acc: 0.8133 - val_loss: 0.8505 - val_acc: 0.7167\n",
      "Epoch 21/25\n",
      "1200/1200 [==============================] - 1s - loss: 0.3774 - acc: 0.8242 - val_loss: 0.8388 - val_acc: 0.7267\n",
      "Epoch 22/25\n",
      "1200/1200 [==============================] - 1s - loss: 0.3661 - acc: 0.8350 - val_loss: 0.8499 - val_acc: 0.7400\n",
      "Epoch 23/25\n",
      "1200/1200 [==============================] - 1s - loss: 0.3662 - acc: 0.8150 - val_loss: 0.8324 - val_acc: 0.7367\n",
      "Epoch 24/25\n",
      "1200/1200 [==============================] - 1s - loss: 0.3579 - acc: 0.8275 - val_loss: 0.8279 - val_acc: 0.7500\n",
      "Epoch 25/25\n",
      "1200/1200 [==============================] - 1s - loss: 0.3597 - acc: 0.8200 - val_loss: 0.8258 - val_acc: 0.7267\n",
      "Accuracy: 72.67%\n"
     ]
    }
   ],
   "source": [
    "# MODEL FITTING & EVALUATION\n",
    "model.fit(X_train, y_train, validation_data=(X_test, y_test), nb_epoch=25, batch_size=50, verbose=1)\n",
    "scores = model.evaluate(X_test, y_test, verbose=0)\n",
    "print 'Accuracy: %.2f%%' % (scores[1]*100)"
   ]
  },
  {
   "cell_type": "markdown",
   "metadata": {},
   "source": [
    "### OPTIMIZATION 2: SGD"
   ]
  },
  {
   "cell_type": "code",
   "execution_count": 33,
   "metadata": {
    "collapsed": true
   },
   "outputs": [],
   "source": [
    "from keras.optimizers import SGD"
   ]
  },
  {
   "cell_type": "code",
   "execution_count": 34,
   "metadata": {
    "collapsed": false
   },
   "outputs": [
    {
     "name": "stdout",
     "output_type": "stream",
     "text": [
      "____________________________________________________________________________________________________\n",
      "Layer (type)                       Output Shape        Param #     Connected to                     \n",
      "====================================================================================================\n",
      "convolution2d_3 (Convolution2D)    (None, 30, 60, 5)   300         convolution2d_input_2[0][0]      \n",
      "____________________________________________________________________________________________________\n",
      "dropout_3 (Dropout)                (None, 30, 60, 5)   0           convolution2d_3[0][0]            \n",
      "____________________________________________________________________________________________________\n",
      "convolution2d_4 (Convolution2D)    (None, 15, 60, 5)   4065        dropout_3[0][0]                  \n",
      "____________________________________________________________________________________________________\n",
      "maxpooling2d_2 (MaxPooling2D)      (None, 15, 30, 2)   0           convolution2d_4[0][0]            \n",
      "____________________________________________________________________________________________________\n",
      "flatten_2 (Flatten)                (None, 900)         0           maxpooling2d_2[0][0]             \n",
      "____________________________________________________________________________________________________\n",
      "dense_6 (Dense)                    (None, 512)         461312      flatten_2[0][0]                  \n",
      "____________________________________________________________________________________________________\n",
      "dropout_4 (Dropout)                (None, 512)         0           dense_6[0][0]                    \n",
      "____________________________________________________________________________________________________\n",
      "dense_7 (Dense)                    (None, 3)           1539        dropout_4[0][0]                  \n",
      "====================================================================================================\n",
      "Total params: 467216\n",
      "____________________________________________________________________________________________________\n",
      "None\n"
     ]
    }
   ],
   "source": [
    "# MODEL BUILDING\n",
    "model = Sequential()\n",
    "model.add(Convolution2D(30, 3, 3, input_shape=(1,60,5), border_mode='same', activation='relu', W_constraint=maxnorm(3)))\n",
    "model.add(Dropout(.2))\n",
    "model.add(Convolution2D(15, 3, 3, activation='relu', border_mode='same', W_constraint=maxnorm(3)))\n",
    "model.add(MaxPooling2D(pool_size=(2,2)))\n",
    "model.add(Flatten())\n",
    "model.add(Dense(512, activation='relu'))\n",
    "model.add(Dropout(.2))\n",
    "model.add(Dense(3, activation='softmax'))\n",
    "epochs = 25\n",
    "lrate = .01\n",
    "decay = lrate / epochs\n",
    "sgd = SGD(lr=lrate, momentum=.9, decay=decay, nesterov=False)\n",
    "model.compile(loss='categorical_crossentropy', optimizer=sgd, metrics=['accuracy'])\n",
    "print model.summary()"
   ]
  },
  {
   "cell_type": "code",
   "execution_count": 466,
   "metadata": {
    "collapsed": false
   },
   "outputs": [
    {
     "name": "stdout",
     "output_type": "stream",
     "text": [
      "Train on 1200 samples, validate on 300 samples\n",
      "Epoch 1/25\n",
      "1200/1200 [==============================] - 1s - loss: 1.2144 - acc: 0.4817 - val_loss: 0.9562 - val_acc: 0.5733\n",
      "Epoch 2/25\n",
      "1200/1200 [==============================] - 1s - loss: 0.9364 - acc: 0.5742 - val_loss: 0.9117 - val_acc: 0.6033\n",
      "Epoch 3/25\n",
      "1200/1200 [==============================] - 1s - loss: 0.9162 - acc: 0.5675 - val_loss: 0.8962 - val_acc: 0.6200\n",
      "Epoch 4/25\n",
      "1200/1200 [==============================] - 1s - loss: 0.8613 - acc: 0.6025 - val_loss: 0.8552 - val_acc: 0.6200\n",
      "Epoch 5/25\n",
      "1200/1200 [==============================] - 1s - loss: 0.8419 - acc: 0.6083 - val_loss: 0.8855 - val_acc: 0.6000\n",
      "Epoch 6/25\n",
      "1200/1200 [==============================] - 1s - loss: 0.8087 - acc: 0.6183 - val_loss: 0.8358 - val_acc: 0.6233\n",
      "Epoch 7/25\n",
      "1200/1200 [==============================] - 1s - loss: 0.7817 - acc: 0.6250 - val_loss: 0.8298 - val_acc: 0.6333\n",
      "Epoch 8/25\n",
      "1200/1200 [==============================] - 1s - loss: 0.7292 - acc: 0.6617 - val_loss: 0.8646 - val_acc: 0.5933\n",
      "Epoch 9/25\n",
      "1200/1200 [==============================] - 1s - loss: 0.7149 - acc: 0.6625 - val_loss: 0.8282 - val_acc: 0.6667\n",
      "Epoch 10/25\n",
      "1200/1200 [==============================] - 1s - loss: 0.6874 - acc: 0.6833 - val_loss: 0.7935 - val_acc: 0.6700\n",
      "Epoch 11/25\n",
      "1200/1200 [==============================] - 1s - loss: 0.6612 - acc: 0.6992 - val_loss: 0.7768 - val_acc: 0.6700\n",
      "Epoch 12/25\n",
      "1200/1200 [==============================] - 1s - loss: 0.6264 - acc: 0.7275 - val_loss: 0.7482 - val_acc: 0.7133\n",
      "Epoch 13/25\n",
      "1200/1200 [==============================] - 1s - loss: 0.5824 - acc: 0.7417 - val_loss: 0.7548 - val_acc: 0.7067\n",
      "Epoch 14/25\n",
      "1200/1200 [==============================] - 1s - loss: 0.5559 - acc: 0.7633 - val_loss: 0.7583 - val_acc: 0.7167\n",
      "Epoch 15/25\n",
      "1200/1200 [==============================] - 1s - loss: 0.5416 - acc: 0.7592 - val_loss: 0.7752 - val_acc: 0.7267\n",
      "Epoch 16/25\n",
      "1200/1200 [==============================] - 1s - loss: 0.5273 - acc: 0.7683 - val_loss: 0.7548 - val_acc: 0.7267\n",
      "Epoch 17/25\n",
      "1200/1200 [==============================] - 1s - loss: 0.5080 - acc: 0.7800 - val_loss: 0.7620 - val_acc: 0.7333\n",
      "Epoch 18/25\n",
      "1200/1200 [==============================] - 1s - loss: 0.4749 - acc: 0.8000 - val_loss: 0.7543 - val_acc: 0.7367\n",
      "Epoch 19/25\n",
      "1200/1200 [==============================] - 1s - loss: 0.4649 - acc: 0.7950 - val_loss: 0.7731 - val_acc: 0.7500\n",
      "Epoch 20/25\n",
      "1200/1200 [==============================] - 1s - loss: 0.4567 - acc: 0.7975 - val_loss: 0.7758 - val_acc: 0.7267\n",
      "Epoch 21/25\n",
      "1200/1200 [==============================] - 1s - loss: 0.4372 - acc: 0.8050 - val_loss: 0.8010 - val_acc: 0.7333\n",
      "Epoch 22/25\n",
      "1200/1200 [==============================] - 1s - loss: 0.4462 - acc: 0.8025 - val_loss: 0.8513 - val_acc: 0.7200\n",
      "Epoch 23/25\n",
      "1200/1200 [==============================] - 1s - loss: 0.4034 - acc: 0.8192 - val_loss: 0.8216 - val_acc: 0.7133\n",
      "Epoch 24/25\n",
      "1200/1200 [==============================] - 1s - loss: 0.3963 - acc: 0.8258 - val_loss: 0.8384 - val_acc: 0.7100\n",
      "Epoch 25/25\n",
      "1200/1200 [==============================] - 1s - loss: 0.4055 - acc: 0.8167 - val_loss: 0.8219 - val_acc: 0.7433\n",
      "Accuracy: 74.33%\n"
     ]
    }
   ],
   "source": [
    "# MODEL FITTING & EVALUATION\n",
    "model.fit(X_train, y_train, validation_data=(X_test, y_test), nb_epoch=epochs, batch_size=50, verbose=1)\n",
    "scores = model.evaluate(X_test, y_test, verbose=0)\n",
    "print 'Accuracy: %.2f%%' % (scores[1]*100)"
   ]
  },
  {
   "cell_type": "markdown",
   "metadata": {},
   "source": [
    "### ACCURACY & CONVERGENCE"
   ]
  },
  {
   "cell_type": "code",
   "execution_count": 40,
   "metadata": {
    "collapsed": false
   },
   "outputs": [
    {
     "name": "stdout",
     "output_type": "stream",
     "text": [
      "Accuracy: 72.67%\n"
     ]
    },
    {
     "data": {
      "image/png": "[encoded data removed]",
      "text/plain": [
       "<matplotlib.figure.Figure at 0x1264f3a50>"
      ]
     },
     "metadata": {},
     "output_type": "display_data"
    }
   ],
   "source": [
    "# ADAM OPTIMIZATION\n",
    "model = Sequential()\n",
    "model.add(Convolution2D(30, 3, 3, input_shape=(1,60,5), border_mode='same', activation='relu', W_constraint=maxnorm(3)))\n",
    "model.add(Dropout(.2))\n",
    "model.add(Convolution2D(15, 3, 3, activation='relu', border_mode='same', W_constraint=maxnorm(3)))\n",
    "model.add(MaxPooling2D(pool_size=(2,2)))\n",
    "model.add(Flatten())\n",
    "model.add(Dense(512, activation='relu'))\n",
    "model.add(Dropout(.2))\n",
    "model.add(Dense(3, activation='softmax'))\n",
    "model.compile(loss='categorical_crossentropy', optimizer='adam', metrics=['accuracy'])\n",
    "history = model.fit(X_train, y_train, validation_data=(X_test, y_test), nb_epoch=25, batch_size=50, verbose=0)\n",
    "scores = model.evaluate(X_test, y_test, verbose=0)\n",
    "print 'Accuracy: %.2f%%' % (scores[1]*100)\n",
    "plt.plot(history.history['acc'])\n",
    "plt.plot(history.history['val_acc'])\n",
    "plt.title('Model Accuray')\n",
    "plt.ylabel('Accuracy')\n",
    "plt.xlabel('Epoch')\n",
    "plt.legend(['train', 'test'], loc='upper left')\n",
    "plt.show()"
   ]
  },
  {
   "cell_type": "code",
   "execution_count": 41,
   "metadata": {
    "collapsed": false
   },
   "outputs": [
    {
     "data": {
      "image/png": "[encoded data removed]",
      "text/plain": [
       "<matplotlib.figure.Figure at 0x123c3bad0>"
      ]
     },
     "metadata": {},
     "output_type": "display_data"
    }
   ],
   "source": [
    "plt.plot(history.history['loss'])\n",
    "plt.plot(history.history['val_loss'])\n",
    "plt.title('Error Convergence')\n",
    "plt.ylabel('Error')\n",
    "plt.xlabel('Epoch')\n",
    "plt.legend(['train', 'test'], loc='upper left')\n",
    "plt.show()"
   ]
  },
  {
   "cell_type": "code",
   "execution_count": 36,
   "metadata": {
    "collapsed": false
   },
   "outputs": [
    {
     "name": "stdout",
     "output_type": "stream",
     "text": [
      "Accuracy: 72.33%\n"
     ]
    },
    {
     "data": {
      "image/png": "[encoded data removed]",
      "text/plain": [
       "<matplotlib.figure.Figure at 0x122b3fa50>"
      ]
     },
     "metadata": {},
     "output_type": "display_data"
    }
   ],
   "source": [
    "# SGD OPTIMIZATION\n",
    "model = Sequential()\n",
    "model.add(Convolution2D(30, 3, 3, input_shape=(1,60,5), border_mode='same', activation='relu', W_constraint=maxnorm(3)))\n",
    "model.add(Dropout(.2))\n",
    "model.add(Convolution2D(15, 3, 3, activation='relu', border_mode='same', W_constraint=maxnorm(3)))\n",
    "model.add(MaxPooling2D(pool_size=(2,2)))\n",
    "model.add(Flatten())\n",
    "model.add(Dense(512, activation='relu'))\n",
    "model.add(Dropout(.2))\n",
    "model.add(Dense(3, activation='softmax'))\n",
    "epochs = 25\n",
    "lrate = .01\n",
    "decay = lrate / epochs\n",
    "sgd = SGD(lr=lrate, momentum=.9, decay=decay, nesterov=False)\n",
    "model.compile(loss='categorical_crossentropy', optimizer=sgd, metrics=['accuracy'])\n",
    "history = model.fit(X_train, y_train, validation_data=(X_test, y_test), nb_epoch=epochs, batch_size=50, verbose=0)\n",
    "scores = model.evaluate(X_test, y_test, verbose=0)\n",
    "print 'Accuracy: %.2f%%' % (scores[1]*100)\n",
    "plt.plot(history.history['acc'])\n",
    "plt.plot(history.history['val_acc'])\n",
    "plt.title('Model Accuray')\n",
    "plt.ylabel('Accuracy')\n",
    "plt.xlabel('Epoch')\n",
    "plt.legend(['train', 'test'], loc='upper left')\n",
    "plt.show()"
   ]
  },
  {
   "cell_type": "code",
   "execution_count": 37,
   "metadata": {
    "collapsed": false
   },
   "outputs": [
    {
     "data": {
      "image/png": "[encoded data removed]",
      "text/plain": [
       "<matplotlib.figure.Figure at 0x123eb0290>"
      ]
     },
     "metadata": {},
     "output_type": "display_data"
    }
   ],
   "source": [
    "plt.plot(history.history['loss'])\n",
    "plt.plot(history.history['val_loss'])\n",
    "plt.title('Error Convergence')\n",
    "plt.ylabel('Error')\n",
    "plt.xlabel('Epoch')\n",
    "plt.legend(['train', 'test'], loc='upper left')\n",
    "plt.show()"
   ]
  },
  {
   "cell_type": "markdown",
   "metadata": {
    "collapsed": true
   },
   "source": [
    "## 5 x 60 x 1 DIM CNN EXPERIMENT"
   ]
  },
  {
   "cell_type": "code",
   "execution_count": 205,
   "metadata": {
    "collapsed": true
   },
   "outputs": [],
   "source": [
    "import numpy as np\n",
    "from keras.datasets import cifar10\n",
    "from keras.models import Sequential\n",
    "from keras.layers import Dense, Dropout, Flatten\n",
    "from keras.constraints import maxnorm\n",
    "from keras.optimizers import SGD\n",
    "from keras.layers.convolutional import Convolution2D, MaxPooling2D\n",
    "from keras.utils import np_utils\n",
    "from sklearn.cross_validation import train_test_split"
   ]
  },
  {
   "cell_type": "code",
   "execution_count": 206,
   "metadata": {
    "collapsed": false
   },
   "outputs": [
    {
     "name": "stdout",
     "output_type": "stream",
     "text": [
      "CPU times: user 543 ms, sys: 18.6 ms, total: 562 ms\n",
      "Wall time: 238 ms\n"
     ]
    }
   ],
   "source": [
    "%%time\n",
    "# WORD2VEC\n",
    "model = Word2Vec(X, size=5, window=4) # words -> 5 vecs."
   ]
  },
  {
   "cell_type": "code",
   "execution_count": 207,
   "metadata": {
    "collapsed": false
   },
   "outputs": [
    {
     "name": "stdout",
     "output_type": "stream",
     "text": [
      "Dimensions of EACH Sentence-Matrix: (1, 60, 5)\n",
      "Dimensions of ENTIRE Dataset: (1500, 1, 60, 5)\n"
     ]
    }
   ],
   "source": [
    "# SENTENCES -> MATRICES \n",
    "#  - each word is a row of 5D vector.\n",
    "#  - normalization size: 60.\n",
    "X_mat = [[model[word] for word in sent if word in model.vocab] for sent in X]\n",
    "padding = np.array([0.,0.,0.,0.,0.], dtype='float32')\n",
    "for i in range(len(X_mat)):\n",
    "    if len(X_mat[i]) > 60:\n",
    "        X_mat[i] = X_mat[i][:60]\n",
    "    else: \n",
    "        X_mat[i] += [padding for _ in range(60-len(X_mat[i]))]\n",
    "X_mat = map(np.array, X_mat) # to np.array, integrate individual flaot32 objs into 1 matrix.\n",
    "X_mat = np.array(X_mat)\n",
    "X_mat = X_mat.reshape(X_mat.shape[0], 1, 60, 5)\n",
    "print 'Dimensions of EACH Sentence-Matrix: (%d, %d, %d)' % X_mat[0].shape\n",
    "print 'Dimensions of ENTIRE Dataset: (%d, %d, %d, %d)' % X_mat.shape"
   ]
  },
  {
   "cell_type": "code",
   "execution_count": 208,
   "metadata": {
    "collapsed": false
   },
   "outputs": [],
   "source": [
    "# SENT --JOSH_TRANSFORMATION--> SENT\n",
    "def transform(sent):\n",
    "    return np.array([ [ [w[i]] for w in sent ] for i in range(sent.shape[1]) ])\n",
    "X_mat5CH = np.array([ transform(sent[0]) for sent in X_mat ]) # 5 channel."
   ]
  },
  {
   "cell_type": "code",
   "execution_count": 209,
   "metadata": {
    "collapsed": false
   },
   "outputs": [
    {
     "name": "stdout",
     "output_type": "stream",
     "text": [
      "(1500, 5, 60, 1)\n",
      "(5, 60, 1)\n"
     ]
    }
   ],
   "source": [
    "X_train, X_test, y_train, y_test = train_test_split(X_mat5CH, y, test_size=.2)\n",
    "print X_mat5CH.shape\n",
    "print X_train[0].shape"
   ]
  },
  {
   "cell_type": "markdown",
   "metadata": {},
   "source": [
    "### OPTIMIZATION 1: ADAM\n",
    "* **NO DIFFERENCE BETWEEN ADAM & SGD, FOR MORE PARAMS TRIALS SEE \"OPTIMIZATION 2: SGD\"**"
   ]
  },
  {
   "cell_type": "code",
   "execution_count": 211,
   "metadata": {
    "collapsed": false
   },
   "outputs": [
    {
     "name": "stdout",
     "output_type": "stream",
     "text": [
      "____________________________________________________________________________________________________\n",
      "Layer (type)                       Output Shape        Param #     Connected to                     \n",
      "====================================================================================================\n",
      "convolution2d_27 (Convolution2D)   (None, 30, 60, 1)   180         convolution2d_input_14[0][0]     \n",
      "____________________________________________________________________________________________________\n",
      "dropout_19 (Dropout)               (None, 30, 60, 1)   0           convolution2d_27[0][0]           \n",
      "____________________________________________________________________________________________________\n",
      "convolution2d_28 (Convolution2D)   (None, 15, 60, 1)   465         dropout_19[0][0]                 \n",
      "____________________________________________________________________________________________________\n",
      "maxpooling2d_12 (MaxPooling2D)     (None, 15, 30, 1)   0           convolution2d_28[0][0]           \n",
      "____________________________________________________________________________________________________\n",
      "flatten_13 (Flatten)               (None, 450)         0           maxpooling2d_12[0][0]            \n",
      "____________________________________________________________________________________________________\n",
      "dense_18 (Dense)                   (None, 512)         230912      flatten_13[0][0]                 \n",
      "____________________________________________________________________________________________________\n",
      "dropout_20 (Dropout)               (None, 512)         0           dense_18[0][0]                   \n",
      "____________________________________________________________________________________________________\n",
      "dense_19 (Dense)                   (None, 3)           1539        dropout_20[0][0]                 \n",
      "====================================================================================================\n",
      "Total params: 233096\n",
      "____________________________________________________________________________________________________\n",
      "None\n",
      "CPU times: user 509 ms, sys: 13.9 ms, total: 523 ms\n",
      "Wall time: 520 ms\n"
     ]
    }
   ],
   "source": [
    "%%time\n",
    "# MODEL BUILDING\n",
    "model = Sequential()\n",
    "model.add(Convolution2D(30, 1, 1, input_shape=(5,60,1), border_mode='same', activation='relu', W_constraint=maxnorm(3)))\n",
    "model.add(Dropout(.2))\n",
    "model.add(Convolution2D(15, 1, 1, activation='relu', border_mode='same', W_constraint=maxnorm(3)))\n",
    "model.add(MaxPooling2D(pool_size=(2,1))) \n",
    "model.add(Flatten())\n",
    "model.add(Dense(512, activation='relu'))\n",
    "model.add(Dropout(.2))\n",
    "model.add(Dense(3, activation='softmax'))\n",
    "model.compile(loss='categorical_crossentropy', optimizer='adam', metrics=['accuracy'])\n",
    "print model.summary()"
   ]
  },
  {
   "cell_type": "code",
   "execution_count": 213,
   "metadata": {
    "collapsed": false
   },
   "outputs": [
    {
     "name": "stdout",
     "output_type": "stream",
     "text": [
      "Train on 1200 samples, validate on 300 samples\n",
      "Epoch 1/25\n",
      "1200/1200 [==============================] - 0s - loss: 0.3704 - acc: 0.8317 - val_loss: 0.7789 - val_acc: 0.7500\n",
      "Epoch 2/25\n",
      "1200/1200 [==============================] - 0s - loss: 0.3808 - acc: 0.8158 - val_loss: 0.7704 - val_acc: 0.7567\n",
      "Epoch 3/25\n",
      "1200/1200 [==============================] - 0s - loss: 0.3779 - acc: 0.8233 - val_loss: 0.7396 - val_acc: 0.7533\n",
      "Epoch 4/25\n",
      "1200/1200 [==============================] - 0s - loss: 0.3528 - acc: 0.8358 - val_loss: 0.7552 - val_acc: 0.7467\n",
      "Epoch 5/25\n",
      "1200/1200 [==============================] - 0s - loss: 0.3567 - acc: 0.8275 - val_loss: 0.7779 - val_acc: 0.7400\n",
      "Epoch 6/25\n",
      "1200/1200 [==============================] - 0s - loss: 0.3361 - acc: 0.8400 - val_loss: 0.7789 - val_acc: 0.7533\n",
      "Epoch 7/25\n",
      "1200/1200 [==============================] - 0s - loss: 0.3543 - acc: 0.8158 - val_loss: 0.7939 - val_acc: 0.7533\n",
      "Epoch 8/25\n",
      "1200/1200 [==============================] - 0s - loss: 0.3626 - acc: 0.8200 - val_loss: 0.8037 - val_acc: 0.7567\n",
      "Epoch 9/25\n",
      "1200/1200 [==============================] - 0s - loss: 0.3646 - acc: 0.8275 - val_loss: 0.7955 - val_acc: 0.7400\n",
      "Epoch 10/25\n",
      "1200/1200 [==============================] - 0s - loss: 0.3398 - acc: 0.8192 - val_loss: 0.7790 - val_acc: 0.7533\n",
      "Epoch 11/25\n",
      "1200/1200 [==============================] - 0s - loss: 0.3419 - acc: 0.8342 - val_loss: 0.8069 - val_acc: 0.7467\n",
      "Epoch 12/25\n",
      "1200/1200 [==============================] - 0s - loss: 0.3297 - acc: 0.8350 - val_loss: 0.7977 - val_acc: 0.7467\n",
      "Epoch 13/25\n",
      "1200/1200 [==============================] - 0s - loss: 0.3405 - acc: 0.8258 - val_loss: 0.8103 - val_acc: 0.7533\n",
      "Epoch 14/25\n",
      "1200/1200 [==============================] - 0s - loss: 0.3326 - acc: 0.8292 - val_loss: 0.8345 - val_acc: 0.7600\n",
      "Epoch 15/25\n",
      "1200/1200 [==============================] - 0s - loss: 0.3356 - acc: 0.8308 - val_loss: 0.8415 - val_acc: 0.7433\n",
      "Epoch 16/25\n",
      "1200/1200 [==============================] - 0s - loss: 0.3234 - acc: 0.8408 - val_loss: 0.8161 - val_acc: 0.7467\n",
      "Epoch 17/25\n",
      "1200/1200 [==============================] - 0s - loss: 0.3229 - acc: 0.8408 - val_loss: 0.8611 - val_acc: 0.7333\n",
      "Epoch 18/25\n",
      "1200/1200 [==============================] - 0s - loss: 0.3303 - acc: 0.8350 - val_loss: 0.8517 - val_acc: 0.7567\n",
      "Epoch 19/25\n",
      "1200/1200 [==============================] - 0s - loss: 0.3102 - acc: 0.8417 - val_loss: 0.8441 - val_acc: 0.7667\n",
      "Epoch 20/25\n",
      "1200/1200 [==============================] - 0s - loss: 0.3064 - acc: 0.8383 - val_loss: 0.8491 - val_acc: 0.7467\n",
      "Epoch 21/25\n",
      "1200/1200 [==============================] - 0s - loss: 0.3265 - acc: 0.8250 - val_loss: 0.8577 - val_acc: 0.7533\n",
      "Epoch 22/25\n",
      "1200/1200 [==============================] - 0s - loss: 0.3233 - acc: 0.8342 - val_loss: 0.8576 - val_acc: 0.7533\n",
      "Epoch 23/25\n",
      "1200/1200 [==============================] - 0s - loss: 0.3223 - acc: 0.8358 - val_loss: 0.8520 - val_acc: 0.7567\n",
      "Epoch 24/25\n",
      "1200/1200 [==============================] - 0s - loss: 0.3210 - acc: 0.8283 - val_loss: 0.8411 - val_acc: 0.7600\n",
      "Epoch 25/25\n",
      "1200/1200 [==============================] - 0s - loss: 0.3145 - acc: 0.8308 - val_loss: 0.8429 - val_acc: 0.7500\n",
      "Accuracy: 75.00%\n",
      "CPU times: user 10.2 s, sys: 702 ms, total: 10.9 s\n",
      "Wall time: 8.28 s\n"
     ]
    }
   ],
   "source": [
    "%%time\n",
    "# MODEL FITTING & EVALUATION\n",
    "model.fit(X_train, y_train, validation_data=(X_test, y_test), nb_epoch=25, batch_size=50, verbose=1)\n",
    "scores = model.evaluate(X_test, y_test, verbose=0)\n",
    "print 'Accuracy: %.2f%%' % (scores[1]*100)"
   ]
  },
  {
   "cell_type": "code",
   "execution_count": 214,
   "metadata": {
    "collapsed": false
   },
   "outputs": [
    {
     "name": "stdout",
     "output_type": "stream",
     "text": [
      "Accuracy: 72.67%\n"
     ]
    },
    {
     "data": {
      "image/png": "[encoded data removed]",
      "text/plain": [
       "<matplotlib.figure.Figure at 0x12e23fe90>"
      ]
     },
     "metadata": {},
     "output_type": "display_data"
    },
    {
     "name": "stdout",
     "output_type": "stream",
     "text": [
      "CPU times: user 11.2 s, sys: 398 ms, total: 11.6 s\n",
      "Wall time: 9.83 s\n"
     ]
    }
   ],
   "source": [
    "%%time\n",
    "# ACCURACY CHECKING\n",
    "model = Sequential()\n",
    "model.add(Convolution2D(30, 1, 1, input_shape=(5,60,1), border_mode='same', activation='relu', W_constraint=maxnorm(3)))\n",
    "model.add(Dropout(.2))\n",
    "model.add(Convolution2D(15, 1, 1, activation='relu', border_mode='same', W_constraint=maxnorm(3)))\n",
    "model.add(MaxPooling2D(pool_size=(2,1))) \n",
    "model.add(Flatten())\n",
    "model.add(Dense(512, activation='relu'))\n",
    "model.add(Dropout(.2))\n",
    "model.add(Dense(3, activation='softmax'))\n",
    "model.compile(loss='categorical_crossentropy', optimizer='adam', metrics=['accuracy'])\n",
    "history = model.fit(X_train, y_train, validation_data=(X_test, y_test), nb_epoch=25, batch_size=50, verbose=0)\n",
    "scores = model.evaluate(X_test, y_test, verbose=0)\n",
    "print 'Accuracy: %.2f%%' % (scores[1]*100)\n",
    "plt.plot(history.history['acc'])\n",
    "plt.plot(history.history['val_acc'])\n",
    "plt.title('Model Accuray')\n",
    "plt.ylabel('Accuracy')\n",
    "plt.xlabel('Epoch')\n",
    "plt.legend(['train', 'test'], loc='upper left')\n",
    "plt.show()"
   ]
  },
  {
   "cell_type": "code",
   "execution_count": 215,
   "metadata": {
    "collapsed": false
   },
   "outputs": [
    {
     "data": {
      "image/png": "[encoded data removed]",
      "text/plain": [
       "<matplotlib.figure.Figure at 0x12e33f090>"
      ]
     },
     "metadata": {},
     "output_type": "display_data"
    }
   ],
   "source": [
    "# CONVERGENCE CHECKING\n",
    "plt.plot(history.history['loss'])\n",
    "plt.plot(history.history['val_loss'])\n",
    "plt.title('Error Convergence')\n",
    "plt.ylabel('Error')\n",
    "plt.xlabel('Epoch')\n",
    "plt.legend(['train', 'test'], loc='upper left')\n",
    "plt.show()"
   ]
  },
  {
   "cell_type": "markdown",
   "metadata": {},
   "source": [
    "### OPTIMIZATION 2: SGD"
   ]
  },
  {
   "cell_type": "markdown",
   "metadata": {},
   "source": [
    "#### REDNECK'S GRIDSEARCH 1: HAMMERING ON FNN\n",
    "* **WIDE FNN**\n",
    "    * FNN = 128->3\n",
    "        * 50 epochs: ~75%\n",
    "        * 100 epochs: ~74%\n",
    "        * 200 epochs: ~75%\n",
    "    * FNN = 512->3\n",
    "        * 25 epochs: ~73%\n",
    "        * 100 epochs: ~74%\n",
    "        * 500 epochs: ~74%\n",
    "* **DEEP FNN**\n",
    "    * FNN = 50->50->3\n",
    "        * 50 epochs: ~75%\n",
    "        * 100 epochs: ~74%\n",
    "        * 200 epochs: ~74%\n",
    "    * FNN = 50->50->50->50->3\n",
    "        * 200 epochs: ~75%\n",
    "* **SUPER BIG-ASS FNN**\n",
    "    * FNN = 500->500->500->500->3\n",
    "        * 50 epochs: ~75"
   ]
  },
  {
   "cell_type": "markdown",
   "metadata": {},
   "source": [
    "#### REDNECK'S GRIDSEARCH 2: CHISELING AWAY AT CNN\n",
    "* **FMAP (DENSE = 100->3)**\n",
    "    * 30-15: ~74% in previous tests (50, 200 epochs)\n",
    "    * 100-50: ~74% (50 epochs)"
   ]
  },
  {
   "cell_type": "markdown",
   "metadata": {},
   "source": [
    "**CONCLUSION**: LOST CAUSE."
   ]
  },
  {
   "cell_type": "code",
   "execution_count": 235,
   "metadata": {
    "collapsed": false
   },
   "outputs": [
    {
     "name": "stdout",
     "output_type": "stream",
     "text": [
      "Train on 1200 samples, validate on 300 samples\n",
      "Epoch 1/50\n",
      "1200/1200 [==============================] - 0s - loss: 0.9881 - acc: 0.5067 - val_loss: 0.8895 - val_acc: 0.6467\n",
      "Epoch 2/50\n",
      "1200/1200 [==============================] - 0s - loss: 0.8998 - acc: 0.5725 - val_loss: 0.8266 - val_acc: 0.6467\n",
      "Epoch 3/50\n",
      "1200/1200 [==============================] - 0s - loss: 0.8601 - acc: 0.6050 - val_loss: 0.8004 - val_acc: 0.6300\n",
      "Epoch 4/50\n",
      "1200/1200 [==============================] - 0s - loss: 0.8231 - acc: 0.6108 - val_loss: 0.7846 - val_acc: 0.6367\n",
      "Epoch 5/50\n",
      "1200/1200 [==============================] - 0s - loss: 0.7839 - acc: 0.6375 - val_loss: 0.7557 - val_acc: 0.6267\n",
      "Epoch 6/50\n",
      "1200/1200 [==============================] - 0s - loss: 0.7375 - acc: 0.6683 - val_loss: 0.7511 - val_acc: 0.6600\n",
      "Epoch 7/50\n",
      "1200/1200 [==============================] - 0s - loss: 0.7059 - acc: 0.6892 - val_loss: 0.7346 - val_acc: 0.6533\n",
      "Epoch 8/50\n",
      "1200/1200 [==============================] - 0s - loss: 0.6745 - acc: 0.7058 - val_loss: 0.7226 - val_acc: 0.6733\n",
      "Epoch 9/50\n",
      "1200/1200 [==============================] - 0s - loss: 0.6419 - acc: 0.7225 - val_loss: 0.7307 - val_acc: 0.6467\n",
      "Epoch 10/50\n",
      "1200/1200 [==============================] - 0s - loss: 0.6208 - acc: 0.7350 - val_loss: 0.7133 - val_acc: 0.6800\n",
      "Epoch 11/50\n",
      "1200/1200 [==============================] - 0s - loss: 0.6014 - acc: 0.7342 - val_loss: 0.7907 - val_acc: 0.6333\n",
      "Epoch 12/50\n",
      "1200/1200 [==============================] - 0s - loss: 0.5964 - acc: 0.7492 - val_loss: 0.7290 - val_acc: 0.6700\n",
      "Epoch 13/50\n",
      "1200/1200 [==============================] - 0s - loss: 0.5476 - acc: 0.7667 - val_loss: 0.7047 - val_acc: 0.6933\n",
      "Epoch 14/50\n",
      "1200/1200 [==============================] - 0s - loss: 0.5151 - acc: 0.7825 - val_loss: 0.7112 - val_acc: 0.6967\n",
      "Epoch 15/50\n",
      "1200/1200 [==============================] - 0s - loss: 0.4920 - acc: 0.7842 - val_loss: 0.6865 - val_acc: 0.7267\n",
      "Epoch 16/50\n",
      "1200/1200 [==============================] - 0s - loss: 0.4930 - acc: 0.7933 - val_loss: 0.6912 - val_acc: 0.7167\n",
      "Epoch 17/50\n",
      "1200/1200 [==============================] - 0s - loss: 0.4640 - acc: 0.8025 - val_loss: 0.7095 - val_acc: 0.7200\n",
      "Epoch 18/50\n",
      "1200/1200 [==============================] - 0s - loss: 0.4538 - acc: 0.8083 - val_loss: 0.7223 - val_acc: 0.7267\n",
      "Epoch 19/50\n",
      "1200/1200 [==============================] - 0s - loss: 0.4301 - acc: 0.8175 - val_loss: 0.7109 - val_acc: 0.7167\n",
      "Epoch 20/50\n",
      "1200/1200 [==============================] - 0s - loss: 0.4224 - acc: 0.8142 - val_loss: 0.7245 - val_acc: 0.7300\n",
      "Epoch 21/50\n",
      "1200/1200 [==============================] - 0s - loss: 0.4186 - acc: 0.8192 - val_loss: 0.7306 - val_acc: 0.7233\n",
      "Epoch 22/50\n",
      "1200/1200 [==============================] - 0s - loss: 0.4272 - acc: 0.8183 - val_loss: 0.7202 - val_acc: 0.7267\n",
      "Epoch 23/50\n",
      "1200/1200 [==============================] - 0s - loss: 0.4011 - acc: 0.8200 - val_loss: 0.7236 - val_acc: 0.7300\n",
      "Epoch 24/50\n",
      "1200/1200 [==============================] - 0s - loss: 0.4136 - acc: 0.8117 - val_loss: 0.6837 - val_acc: 0.7467\n",
      "Epoch 25/50\n",
      "1200/1200 [==============================] - 0s - loss: 0.3875 - acc: 0.8308 - val_loss: 0.7228 - val_acc: 0.7233\n",
      "Epoch 26/50\n",
      "1200/1200 [==============================] - 0s - loss: 0.3740 - acc: 0.8233 - val_loss: 0.7535 - val_acc: 0.7533\n",
      "Epoch 27/50\n",
      "1200/1200 [==============================] - 0s - loss: 0.3719 - acc: 0.8350 - val_loss: 0.7070 - val_acc: 0.7467\n",
      "Epoch 28/50\n",
      "1200/1200 [==============================] - 0s - loss: 0.3712 - acc: 0.8142 - val_loss: 0.7587 - val_acc: 0.7100\n",
      "Epoch 29/50\n",
      "1200/1200 [==============================] - 0s - loss: 0.3698 - acc: 0.8250 - val_loss: 0.7459 - val_acc: 0.7533\n",
      "Epoch 30/50\n",
      "1200/1200 [==============================] - 0s - loss: 0.3601 - acc: 0.8375 - val_loss: 0.7820 - val_acc: 0.7333\n",
      "Epoch 31/50\n",
      "1200/1200 [==============================] - 0s - loss: 0.3491 - acc: 0.8325 - val_loss: 0.7563 - val_acc: 0.7500\n",
      "Epoch 32/50\n",
      "1200/1200 [==============================] - 0s - loss: 0.3594 - acc: 0.8267 - val_loss: 0.7707 - val_acc: 0.7267\n",
      "Epoch 33/50\n",
      "1200/1200 [==============================] - 0s - loss: 0.3629 - acc: 0.8250 - val_loss: 0.7610 - val_acc: 0.7367\n",
      "Epoch 34/50\n",
      "1200/1200 [==============================] - 0s - loss: 0.3579 - acc: 0.8225 - val_loss: 0.7439 - val_acc: 0.7533\n",
      "Epoch 35/50\n",
      "1200/1200 [==============================] - 0s - loss: 0.3510 - acc: 0.8267 - val_loss: 0.7756 - val_acc: 0.7367\n",
      "Epoch 36/50\n",
      "1200/1200 [==============================] - 0s - loss: 0.3507 - acc: 0.8325 - val_loss: 0.7534 - val_acc: 0.7300\n",
      "Epoch 37/50\n",
      "1200/1200 [==============================] - 0s - loss: 0.3562 - acc: 0.8300 - val_loss: 0.7639 - val_acc: 0.7300\n",
      "Epoch 38/50\n",
      "1200/1200 [==============================] - 0s - loss: 0.3504 - acc: 0.8300 - val_loss: 0.7653 - val_acc: 0.7433\n",
      "Epoch 39/50\n",
      "1200/1200 [==============================] - 0s - loss: 0.3265 - acc: 0.8367 - val_loss: 0.7991 - val_acc: 0.7367\n",
      "Epoch 40/50\n",
      "1200/1200 [==============================] - 0s - loss: 0.3419 - acc: 0.8275 - val_loss: 0.7984 - val_acc: 0.7433\n",
      "Epoch 41/50\n",
      "1200/1200 [==============================] - 0s - loss: 0.3315 - acc: 0.8258 - val_loss: 0.8070 - val_acc: 0.7400\n",
      "Epoch 42/50\n",
      "1200/1200 [==============================] - 0s - loss: 0.3559 - acc: 0.8158 - val_loss: 0.8122 - val_acc: 0.7300\n",
      "Epoch 43/50\n",
      "1200/1200 [==============================] - 0s - loss: 0.3439 - acc: 0.8342 - val_loss: 0.7793 - val_acc: 0.7433\n",
      "Epoch 44/50\n",
      "1200/1200 [==============================] - 0s - loss: 0.3231 - acc: 0.8342 - val_loss: 0.7777 - val_acc: 0.7367\n",
      "Epoch 45/50\n",
      "1200/1200 [==============================] - 0s - loss: 0.3203 - acc: 0.8425 - val_loss: 0.8119 - val_acc: 0.7433\n",
      "Epoch 46/50\n",
      "1200/1200 [==============================] - 0s - loss: 0.3377 - acc: 0.8375 - val_loss: 0.7650 - val_acc: 0.7500\n",
      "Epoch 47/50\n",
      "1200/1200 [==============================] - 0s - loss: 0.3205 - acc: 0.8308 - val_loss: 0.7963 - val_acc: 0.7333\n",
      "Epoch 48/50\n",
      "1200/1200 [==============================] - 0s - loss: 0.3195 - acc: 0.8258 - val_loss: 0.7976 - val_acc: 0.7267\n",
      "Epoch 49/50\n",
      "1200/1200 [==============================] - 0s - loss: 0.3119 - acc: 0.8367 - val_loss: 0.8229 - val_acc: 0.7533\n",
      "Epoch 50/50\n",
      "1200/1200 [==============================] - 0s - loss: 0.3046 - acc: 0.8442 - val_loss: 0.8280 - val_acc: 0.7333\n",
      "Accuracy: 73.33%\n"
     ]
    },
    {
     "data": {
      "image/png": "[encoded data removed]",
      "text/plain": [
       "<matplotlib.figure.Figure at 0x1331bc1d0>"
      ]
     },
     "metadata": {},
     "output_type": "display_data"
    },
    {
     "name": "stdout",
     "output_type": "stream",
     "text": [
      "CPU times: user 34.3 s, sys: 1.03 s, total: 35.4 s\n",
      "Wall time: 33.7 s\n"
     ]
    }
   ],
   "source": [
    "%%time\n",
    "# MODEL BUILDING & RUNNING & ACCURACY CHECKING\n",
    "model = Sequential()\n",
    "model.add(Convolution2D(100, 1, 1, input_shape=(5,60,1), border_mode='same', activation='relu'))\n",
    "model.add(Dropout(.2))\n",
    "model.add(Convolution2D(50, 1, 1, activation='relu', border_mode='same'))\n",
    "model.add(MaxPooling2D(pool_size=(2,1))) \n",
    "model.add(Flatten())\n",
    "model.add(Dense(100, activation='relu'))\n",
    "# model.add(Dense(500, activation='relu'))\n",
    "# model.add(Dense(500, activation='relu'))\n",
    "# model.add(Dense(500, activation='relu'))\n",
    "# model.add(Dropout(.2))\n",
    "model.add(Dense(3, activation='softmax'))\n",
    "epochs = 50\n",
    "lrate = .01\n",
    "decay = lrate / epochs\n",
    "sgd = SGD(lr=lrate, momentum=.9, decay=decay, nesterov=False)\n",
    "model.compile(loss='categorical_crossentropy', optimizer=sgd, metrics=['accuracy'])\n",
    "history = model.fit(X_train, y_train, validation_data=(X_test, y_test), nb_epoch=epochs, batch_size=50, verbose=1)\n",
    "scores = model.evaluate(X_test, y_test, verbose=0)\n",
    "print 'Accuracy: %.2f%%' % (scores[1]*100)\n",
    "plt.plot(history.history['acc'])\n",
    "plt.plot(history.history['val_acc'])\n",
    "plt.title('Model Accuray')\n",
    "plt.ylabel('Accuracy')\n",
    "plt.xlabel('Epoch')\n",
    "plt.legend(['train', 'test'], loc='upper left')\n",
    "plt.show()"
   ]
  },
  {
   "cell_type": "code",
   "execution_count": 236,
   "metadata": {
    "collapsed": false
   },
   "outputs": [
    {
     "data": {
      "image/png": "[encoded data removed]",
      "text/plain": [
       "<matplotlib.figure.Figure at 0x1333aaf90>"
      ]
     },
     "metadata": {},
     "output_type": "display_data"
    }
   ],
   "source": [
    "# CONVERGENCE CHECKING\n",
    "plt.plot(history.history['loss'])\n",
    "plt.plot(history.history['val_loss'])\n",
    "plt.title('Error Convergence')\n",
    "plt.ylabel('Error')\n",
    "plt.xlabel('Epoch')\n",
    "plt.legend(['train', 'test'], loc='upper left')\n",
    "plt.show()"
   ]
  },
  {
   "cell_type": "code",
   "execution_count": null,
   "metadata": {
    "collapsed": false
   },
   "outputs": [],
   "source": []
  },
  {
   "cell_type": "code",
   "execution_count": null,
   "metadata": {
    "collapsed": false
   },
   "outputs": [],
   "source": []
  },
  {
   "cell_type": "code",
   "execution_count": null,
   "metadata": {
    "collapsed": false
   },
   "outputs": [],
   "source": []
  },
  {
   "cell_type": "code",
   "execution_count": null,
   "metadata": {
    "collapsed": false
   },
   "outputs": [],
   "source": []
  },
  {
   "cell_type": "code",
   "execution_count": null,
   "metadata": {
    "collapsed": false
   },
   "outputs": [],
   "source": []
  },
  {
   "cell_type": "code",
   "execution_count": null,
   "metadata": {
    "collapsed": false
   },
   "outputs": [],
   "source": []
  },
  {
   "cell_type": "code",
   "execution_count": null,
   "metadata": {
    "collapsed": false
   },
   "outputs": [],
   "source": []
  },
  {
   "cell_type": "code",
   "execution_count": null,
   "metadata": {
    "collapsed": true
   },
   "outputs": [],
   "source": []
  },
  {
   "cell_type": "code",
   "execution_count": null,
   "metadata": {
    "collapsed": true
   },
   "outputs": [],
   "source": []
  },
  {
   "cell_type": "code",
   "execution_count": null,
   "metadata": {
    "collapsed": true
   },
   "outputs": [],
   "source": []
  }
 ],
 "metadata": {
  "kernelspec": {
   "display_name": "Python 2",
   "language": "python",
   "name": "python2"
  },
  "language_info": {
   "codemirror_mode": {
    "name": "ipython",
    "version": 2
   },
   "file_extension": ".py",
   "mimetype": "text/x-python",
   "name": "python",
   "nbconvert_exporter": "python",
   "pygments_lexer": "ipython2",
   "version": "2.7.11"
  }
 },
 "nbformat": 4,
 "nbformat_minor": 0
}
